{
 "metadata": {
  "name": ""
 },
 "nbformat": 3,
 "nbformat_minor": 0,
 "worksheets": [
  {
   "cells": [
    {
     "cell_type": "markdown",
     "metadata": {},
     "source": [
      "#Next steps\n",
      "\n",
      "1. Get a full solution... store or be able to reproduce the solution at each bus\n",
      "2. allow b,g to vary\n",
      "\n",
      "XXX get 'check' function working to make sure all is well there"
     ]
    },
    {
     "cell_type": "code",
     "collapsed": false,
     "input": [
      "from __future__ import print_function, division\n",
      "from itertools import product #cartesian product\n",
      "from math import sqrt, cos, sin, atan2\n",
      "from pandas import DataFrame\n",
      "from IPython.display import HTML\n",
      "from case5 import *\n",
      "from random import shuffle\n",
      "import pandas as pd"
     ],
     "language": "python",
     "metadata": {},
     "outputs": [],
     "prompt_number": 2
    },
    {
     "cell_type": "code",
     "collapsed": false,
     "input": [
      "%load_ext cythonmagic"
     ],
     "language": "python",
     "metadata": {},
     "outputs": [],
     "prompt_number": 3
    },
    {
     "cell_type": "markdown",
     "metadata": {},
     "source": [
      "I think doing as Dan described in a recent email ought to work:\n",
      "\n",
      "> In terms of the rounding trick, basically when you take the sum (or\n",
      "more appropriate, convolution) of two children, you just \"round\" the\n",
      "sum of their contributions to an entry for the parent.  If you do this\n",
      "on a percentage basis you can control the growth, e.g. if the max\n",
      "value for the parent is 100, then if a child is at 45.8 and another\n",
      "child at 11.02 then the 'sum' is at 56 or 57 (or both).\n",
      "\n",
      "So if a parent has 1000 children, consider them one at a time and build a 'cumulative cartesian product', rounding with the addition of each child. Only keep one term in the cartesian product per rounded quantity.\n",
      "\n",
      "There are subtleties here which you'll need to get right so you don't lose all precision, e.g. when adding together huge lists or terms of greatly different magnitude. It's possible that it won't matter.\n",
      "\n",
      "You should probably do a preprocessing step, where you go through each child node and assemble a list of *feasible* candidate solutions. Then move onto the cumulative cartesian product rounding step.\n",
      "\n",
      "#### In gorier detail\n",
      "\n",
      "    G0-L3\n",
      "    | \\\n",
      "    L1 L2\n",
      " \n",
      "We're considering a single enumerated voltage at $G_0$. We've enumerated 100 voltages at each load and they all give feasible flows. First consider all 10000 pairs of flows $(P_{01}, P_{02})$. Say we're approximating at the ones place. Then if $P_{01}^i+P_{02}^i = 12.6$ and $P_{01}^j+P_{02}^j = 13.2$, we'll consider them essentially equivalent and only keep one of the pairs for the next step. At this point we hopefully have something like 100 $(P_{01}, P_{02})$ pairs. Now consider the 10000 $((P_{01}, P_{02}), P_{03})$ combinations. And do the same thing.\n",
      "\n",
      "Need to check: the flows between parent and a particular child can cover quite a wide range, since we're enumerating a reasonably range of voltages. Can we reliably cut down the number of pairs in the cumulative product from 10000 to something like 100 at each step? Something that won't blow up with the number of children?\n",
      "\n",
      "Should probably randomly select which flow goes into a bucket, using the streaming lottery idea from Moat... not necessary, just shuffle once in advance.\n",
      "\n",
      "Can do even better by trimming down the 100 candidates a bit, only considering ones that are sufficiently different."
     ]
    },
    {
     "cell_type": "markdown",
     "metadata": {},
     "source": [
      "#Abstractified"
     ]
    },
    {
     "cell_type": "code",
     "collapsed": false,
     "input": [
      "%%cython\n",
      "cimport cython\n",
      "\n",
      "@cython.cdivision(True)\n",
      "cpdef long _hash(double p, int R2, double v):\n",
      "    return hash((round(p*R2), v))"
     ],
     "language": "python",
     "metadata": {},
     "outputs": [],
     "prompt_number": 4
    },
    {
     "cell_type": "code",
     "collapsed": false,
     "input": [
      "_hash(1.2,100,1.05)"
     ],
     "language": "python",
     "metadata": {},
     "outputs": [
      {
       "metadata": {},
       "output_type": "pyout",
       "prompt_number": 5,
       "text": [
        "3713880677006826306"
       ]
      }
     ],
     "prompt_number": 5
    },
    {
     "cell_type": "code",
     "collapsed": false,
     "input": [
      "r, x = .01, .1\n",
      "G, B = r/(r**2+x**2), -x/(r**2+x**2)"
     ],
     "language": "python",
     "metadata": {},
     "outputs": [],
     "prompt_number": 6
    },
    {
     "cell_type": "code",
     "collapsed": false,
     "input": [
      "def _shuffle(x, r = random.RandomState(86)):\n",
      "    r.shuffle(x)\n",
      "    return x\n",
      "def _round(x, p):\n",
      "    ''' round 'to the 1/p' place... e.g. if p=5, _round(1.12) = 1.2 and _round(1.08) = 1.0 '''\n",
      "    return round(x*p)/p\n",
      "class CumProd(object):\n",
      "    def __init__(self, v, predecessors):\n",
      "        self.predecessors = predecessors\n",
      "        self.p = sum(x[0] for x in predecessors)\n",
      "        self.v = v\n",
      "    def __hash__(self):\n",
      "        #return hash((int(round(self.p*R2)), self.v))\n",
      "        return hash((round(self.p*R2), self.v))\n",
      "        #return _hash(self.p, R2, self.v)\n",
      "    def __eq__(self, other):\n",
      "        return hash(self) == hash(other)\n",
      "    def __str__(self):\n",
      "        d = dict(bucket=[_round(self.p, R2)], p=[self.p], v=[self.v])\n",
      "        for i, child in enumerate(self.predecessors):\n",
      "            d['p%d'%i] = [child[0]]\n",
      "            d['v%d'%i] = [child[1]]\n",
      "        return str(DataFrame(d))\n",
      "    def __repr__(self):\n",
      "        return 'CumProd(%r, %r)' % (self.v, self.predecessors)\n",
      "    def copy(self):\n",
      "        return CumProd(self.v, list(self.predecessors))\n",
      "    \n",
      "class Bus(object):\n",
      "    def __init__(self, d=0, children=None, b=B, g=G):\n",
      "        self.d, self.b, self.g = d, b, g\n",
      "        self.children = [] if children is None else children\n",
      "        self.pranges = [{} for child in self.children]\n",
      "        self.candidates = set()\n",
      "        self.n = 0\n",
      "        self.f1()\n",
      "    def f1(self):\n",
      "        ''' compute candidate flows to each child '''\n",
      "        if len(self.children) == 0:\n",
      "            self.candidates = {CumProd(vm, []) for vm in VRANGE}\n",
      "        for vk in VRANGE:\n",
      "            for i, child in enumerate(self.children):\n",
      "                d = child.d\n",
      "                g, b = child.g, child.b\n",
      "                prange = _shuffle([(pk_t(g,b,vk,c.v,-(c.p+d))[0],c.v) for c in child.candidates])\n",
      "                self.pranges[i][vk] = ({_round(pkm, R1): (pkm,vm) for pkm,vm in prange}).values()\n",
      "    def f2(self):\n",
      "        ''' filters down candidate flows to one per bucket '''\n",
      "        if len(self.children) == 0:\n",
      "            self.candidates = set()\n",
      "            return\n",
      "        if len(self.children) == 1:\n",
      "            self.candidates = {CumProd(vk, prange) for vk,prange in self.pranges[0].items()}\n",
      "            return\n",
      "        for vk in VRANGE:\n",
      "            pairs = _shuffle(list(product(self.pranges[0][vk], self.pranges[1][vk])))\n",
      "            cumprods = {CumProd(vk, [b0,b1]) for b0, b1 in pairs}\n",
      "            the_rest = [x[vk] for x in self.pranges[2:]]\n",
      "            for prange in the_rest:\n",
      "                pairs = _shuffle(list(product(cumprods, prange)))\n",
      "                cumprods = set()\n",
      "                for cumprod, next_bus in pairs:\n",
      "                    self.n +=1\n",
      "                    new = cumprod.copy()\n",
      "                    new.p += next_bus[0]\n",
      "                    new.predecessors.append(next_bus)\n",
      "                    cumprods.add(new)\n",
      "            self.candidates |= cumprods\n",
      "    def pretty(self):\n",
      "        data = [None]*len(self.candidates)\n",
      "        for i, x in enumerate(self.candidates):\n",
      "            data[i] = dict(bucket=_round(x.p, R2), p=x.p, v=x.v)\n",
      "            columns = ['p','v']\n",
      "            for j, child in enumerate(x.predecessors):\n",
      "                data[i]['p%d'%j] = child[0]\n",
      "                data[i]['v%d'%j] = child[1]\n",
      "                columns += ['p%d'%j, 'v%d'%j]\n",
      "        return DataFrame(data, columns=columns)"
     ],
     "language": "python",
     "metadata": {},
     "outputs": [],
     "prompt_number": 7
    },
    {
     "cell_type": "markdown",
     "metadata": {},
     "source": [
      "#Test cases"
     ]
    },
    {
     "cell_type": "markdown",
     "metadata": {},
     "source": [
      "###5-bus case\n",
      "\n",
      "    |     G0\n",
      "    |    /  \\\n",
      "    |   L1  L2\n",
      "    |      /  \\\n",
      "    |     L3  L4"
     ]
    },
    {
     "cell_type": "code",
     "collapsed": false,
     "input": [
      "r, x = .01, .1\n",
      "g, b = r/(r**2+x**2), -x/(r**2+x**2)\n",
      "d1, d2, d3, d4 = 1.2, 1.2, 1.2, 1.2\n",
      "v1hat = 1\n",
      "p0min, p0max = 4.8, 6\n",
      "N = 21\n",
      "R1 = 200\n",
      "R2 = 100\n",
      "VRANGE = linspace(.75, 1.25, N)"
     ],
     "language": "python",
     "metadata": {},
     "outputs": [],
     "prompt_number": 8
    },
    {
     "cell_type": "code",
     "collapsed": false,
     "input": [
      "%%time\n",
      "b3, b4 = Bus(d3), Bus(d4)\n",
      "b2 = Bus(d2, [b3, b4])\n",
      "b2.f2()\n",
      "b1 = Bus(d1)\n",
      "b0 = Bus(0, [b1, b2])\n",
      "b0.f2()\n",
      "for bb in [b4,b3,b2,b1,b0]:\n",
      "    print(sum((len(prange) for prange in bb.pranges)), len(bb.candidates), bb.n)"
     ],
     "language": "python",
     "metadata": {},
     "outputs": [
      {
       "output_type": "stream",
       "stream": "stdout",
       "text": [
        "(0, 21, 0)\n",
        "(0, 21, 0)\n",
        "(42, 610, 0)\n",
        "(0, 21, 0)\n",
        "(42, 1862, 0)\n",
        "CPU times: user 1.69 s, sys: 46.2 ms, total: 1.73 s\n",
        "Wall time: 1.7 s\n"
       ]
      }
     ],
     "prompt_number": 9
    },
    {
     "cell_type": "code",
     "collapsed": false,
     "input": [
      "df = b0.pretty()\n",
      "df[df.v==1].sort(columns=['p']).head()"
     ],
     "language": "python",
     "metadata": {},
     "outputs": [
      {
       "html": [
        "<div style=\"max-height:1000px;max-width:1500px;overflow:auto;\">\n",
        "<table border=\"1\" class=\"dataframe\">\n",
        "  <thead>\n",
        "    <tr style=\"text-align: right;\">\n",
        "      <th></th>\n",
        "      <th>p</th>\n",
        "      <th>v</th>\n",
        "      <th>p0</th>\n",
        "      <th>v0</th>\n",
        "      <th>p1</th>\n",
        "      <th>v1</th>\n",
        "    </tr>\n",
        "  </thead>\n",
        "  <tbody>\n",
        "    <tr>\n",
        "      <th>581 </th>\n",
        "      <td> 4.984690</td>\n",
        "      <td> 1</td>\n",
        "      <td> 1.215174</td>\n",
        "      <td> 0.975</td>\n",
        "      <td> 3.769516</td>\n",
        "      <td> 1.050</td>\n",
        "    </tr>\n",
        "    <tr>\n",
        "      <th>1262</th>\n",
        "      <td> 4.993498</td>\n",
        "      <td> 1</td>\n",
        "      <td> 1.223982</td>\n",
        "      <td> 0.900</td>\n",
        "      <td> 3.769516</td>\n",
        "      <td> 1.050</td>\n",
        "    </tr>\n",
        "    <tr>\n",
        "      <th>376 </th>\n",
        "      <td> 5.003760</td>\n",
        "      <td> 1</td>\n",
        "      <td> 1.223982</td>\n",
        "      <td> 0.900</td>\n",
        "      <td> 3.779778</td>\n",
        "      <td> 1.150</td>\n",
        "    </tr>\n",
        "    <tr>\n",
        "      <th>1053</th>\n",
        "      <td> 5.006548</td>\n",
        "      <td> 1</td>\n",
        "      <td> 1.219775</td>\n",
        "      <td> 0.925</td>\n",
        "      <td> 3.786773</td>\n",
        "      <td> 1.075</td>\n",
        "    </tr>\n",
        "    <tr>\n",
        "      <th>156 </th>\n",
        "      <td> 5.015232</td>\n",
        "      <td> 1</td>\n",
        "      <td> 1.223982</td>\n",
        "      <td> 0.900</td>\n",
        "      <td> 3.791250</td>\n",
        "      <td> 0.925</td>\n",
        "    </tr>\n",
        "  </tbody>\n",
        "</table>\n",
        "</div>"
       ],
       "metadata": {},
       "output_type": "pyout",
       "prompt_number": 10,
       "text": [
        "             p  v        p0     v0        p1     v1\n",
        "581   4.984690  1  1.215174  0.975  3.769516  1.050\n",
        "1262  4.993498  1  1.223982  0.900  3.769516  1.050\n",
        "376   5.003760  1  1.223982  0.900  3.779778  1.150\n",
        "1053  5.006548  1  1.219775  0.925  3.786773  1.075\n",
        "156   5.015232  1  1.223982  0.900  3.791250  0.925"
       ]
      }
     ],
     "prompt_number": 10
    },
    {
     "cell_type": "markdown",
     "metadata": {},
     "source": [
      "Can we verify here that a solution (p1,v1) from b0 is actually in the candidate list for b2?... yes\n",
      "\n",
      "Can we then get the components of that candidate?... yes"
     ]
    },
    {
     "cell_type": "code",
     "collapsed": false,
     "input": [
      "c = list(sorted(b0.candidates))[0]\n",
      "print(c)"
     ],
     "language": "python",
     "metadata": {},
     "outputs": [
      {
       "output_type": "stream",
       "stream": "stdout",
       "text": [
        "   bucket         p        p0        p1     v   v0     v1\n",
        "0    5.28  5.275747  1.352813  3.922935  0.75  1.1  0.925\n"
       ]
      }
     ],
     "prompt_number": 34
    },
    {
     "cell_type": "code",
     "collapsed": false,
     "input": [
      "def check_if_in_b2(c):\n",
      "    pm = c.predecessors[1][0]\n",
      "    vm = c.v\n",
      "    vk = c.predecessors[1][1]\n",
      "    pk_2,t = pk_t(G,B,vk,vm,pm)\n",
      "    pk = -(pk_2+d2)\n",
      "    return (round(-(pk_2+d2)*R2), vk) in b2.candidates\n",
      "temp = dict(zip(b2.candidates,b2.candidates))\n",
      "def stupid(c):\n",
      "    assert check_if_in_b2(c)\n",
      "    return temp[(round(-(pk_2+d2)*R2), vk)]\n",
      "def convert1(c):\n",
      "    cp = c.predecessors\n",
      "    return dict(p0=c.p, v0=c.v, p01=cp[0][0], v1=cp[0][1], p02=cp[1][0], v2=cp[1][1])\n",
      "def convert2(c):\n",
      "    cp = c.predecessors\n",
      "    return dict(p23=cp[0][0], v3=cp[0][1], p24=cp[1][0], v4=cp[1][1])\n",
      "def stupid2(c):\n",
      "    d = convert1(c)\n",
      "    d.update(convert2(stupid(c)))\n",
      "    return d"
     ],
     "language": "python",
     "metadata": {},
     "outputs": [],
     "prompt_number": 52
    },
    {
     "cell_type": "code",
     "collapsed": false,
     "input": [
      "answers = DataFrame([stupid2(c) for c in list(sorted(b0.candidates))]).sort(columns='p0')"
     ],
     "language": "python",
     "metadata": {},
     "outputs": [],
     "prompt_number": 64
    },
    {
     "cell_type": "code",
     "collapsed": false,
     "input": [
      "print(len(answers))\n",
      "answers.head()"
     ],
     "language": "python",
     "metadata": {},
     "outputs": [
      {
       "output_type": "stream",
       "stream": "stdout",
       "text": [
        "1862\n"
       ]
      },
      {
       "html": [
        "<div style=\"max-height:1000px;max-width:1500px;overflow:auto;\">\n",
        "<table border=\"1\" class=\"dataframe\">\n",
        "  <thead>\n",
        "    <tr style=\"text-align: right;\">\n",
        "      <th></th>\n",
        "      <th>p0</th>\n",
        "      <th>p01</th>\n",
        "      <th>p02</th>\n",
        "      <th>p23</th>\n",
        "      <th>p24</th>\n",
        "      <th>v0</th>\n",
        "      <th>v1</th>\n",
        "      <th>v2</th>\n",
        "      <th>v3</th>\n",
        "      <th>v4</th>\n",
        "    </tr>\n",
        "  </thead>\n",
        "  <tbody>\n",
        "    <tr>\n",
        "      <th>1857</th>\n",
        "      <td> 4.916489</td>\n",
        "      <td> 1.209727</td>\n",
        "      <td> 3.706762</td>\n",
        "      <td> 1.217333</td>\n",
        "      <td> 1.228291</td>\n",
        "      <td> 1.250</td>\n",
        "      <td> 1.225</td>\n",
        "      <td> 1.250</td>\n",
        "      <td> 0.925</td>\n",
        "      <td> 1.025</td>\n",
        "    </tr>\n",
        "    <tr>\n",
        "      <th>1746</th>\n",
        "      <td> 4.920987</td>\n",
        "      <td> 1.210121</td>\n",
        "      <td> 3.710866</td>\n",
        "      <td> 1.217333</td>\n",
        "      <td> 1.228291</td>\n",
        "      <td> 1.225</td>\n",
        "      <td> 1.200</td>\n",
        "      <td> 1.250</td>\n",
        "      <td> 0.925</td>\n",
        "      <td> 1.025</td>\n",
        "    </tr>\n",
        "    <tr>\n",
        "      <th>1807</th>\n",
        "      <td> 4.925803</td>\n",
        "      <td> 1.209727</td>\n",
        "      <td> 3.716076</td>\n",
        "      <td> 1.217333</td>\n",
        "      <td> 1.228291</td>\n",
        "      <td> 1.250</td>\n",
        "      <td> 1.225</td>\n",
        "      <td> 1.250</td>\n",
        "      <td> 0.925</td>\n",
        "      <td> 1.025</td>\n",
        "    </tr>\n",
        "    <tr>\n",
        "      <th>1637</th>\n",
        "      <td> 4.928516</td>\n",
        "      <td> 1.212136</td>\n",
        "      <td> 3.716380</td>\n",
        "      <td> 1.217333</td>\n",
        "      <td> 1.228291</td>\n",
        "      <td> 1.200</td>\n",
        "      <td> 1.150</td>\n",
        "      <td> 1.250</td>\n",
        "      <td> 0.925</td>\n",
        "      <td> 1.025</td>\n",
        "    </tr>\n",
        "    <tr>\n",
        "      <th>1539</th>\n",
        "      <td> 4.933125</td>\n",
        "      <td> 1.210649</td>\n",
        "      <td> 3.722476</td>\n",
        "      <td> 1.217333</td>\n",
        "      <td> 1.228291</td>\n",
        "      <td> 1.175</td>\n",
        "      <td> 1.175</td>\n",
        "      <td> 1.175</td>\n",
        "      <td> 0.925</td>\n",
        "      <td> 1.025</td>\n",
        "    </tr>\n",
        "  </tbody>\n",
        "</table>\n",
        "</div>"
       ],
       "metadata": {},
       "output_type": "pyout",
       "prompt_number": 65,
       "text": [
        "            p0       p01       p02       p23       p24     v0     v1     v2  \\\n",
        "1857  4.916489  1.209727  3.706762  1.217333  1.228291  1.250  1.225  1.250   \n",
        "1746  4.920987  1.210121  3.710866  1.217333  1.228291  1.225  1.200  1.250   \n",
        "1807  4.925803  1.209727  3.716076  1.217333  1.228291  1.250  1.225  1.250   \n",
        "1637  4.928516  1.212136  3.716380  1.217333  1.228291  1.200  1.150  1.250   \n",
        "1539  4.933125  1.210649  3.722476  1.217333  1.228291  1.175  1.175  1.175   \n",
        "\n",
        "         v3     v4  \n",
        "1857  0.925  1.025  \n",
        "1746  0.925  1.025  \n",
        "1807  0.925  1.025  \n",
        "1637  0.925  1.025  \n",
        "1539  0.925  1.025  "
       ]
      }
     ],
     "prompt_number": 65
    },
    {
     "cell_type": "code",
     "collapsed": false,
     "input": [
      "x = [check_if_in_b2(c) for c in list(sorted(b0.candidates))]\n",
      "len(x), sum(x)"
     ],
     "language": "python",
     "metadata": {},
     "outputs": [],
     "prompt_number": 28
    },
    {
     "cell_type": "code",
     "collapsed": false,
     "input": [
      "df2 = b2.pretty()\n",
      "df2[df2.v == .925]"
     ],
     "language": "python",
     "metadata": {},
     "outputs": [
      {
       "html": [
        "<div style=\"max-height:1000px;max-width:1500px;overflow:auto;\">\n",
        "<table border=\"1\" class=\"dataframe\">\n",
        "  <thead>\n",
        "    <tr style=\"text-align: right;\">\n",
        "      <th></th>\n",
        "      <th>p</th>\n",
        "      <th>v</th>\n",
        "      <th>p0</th>\n",
        "      <th>v0</th>\n",
        "      <th>p1</th>\n",
        "      <th>v1</th>\n",
        "    </tr>\n",
        "  </thead>\n",
        "  <tbody>\n",
        "    <tr>\n",
        "      <th>36 </th>\n",
        "      <td> 2.570955</td>\n",
        "      <td> 0.925</td>\n",
        "      <td> 1.259626</td>\n",
        "      <td> 1.125</td>\n",
        "      <td> 1.311329</td>\n",
        "      <td> 1.225</td>\n",
        "    </tr>\n",
        "    <tr>\n",
        "      <th>61 </th>\n",
        "      <td> 2.467216</td>\n",
        "      <td> 0.925</td>\n",
        "      <td> 1.217333</td>\n",
        "      <td> 0.925</td>\n",
        "      <td> 1.249883</td>\n",
        "      <td> 1.100</td>\n",
        "    </tr>\n",
        "    <tr>\n",
        "      <th>90 </th>\n",
        "      <td> 2.445624</td>\n",
        "      <td> 0.925</td>\n",
        "      <td> 1.217333</td>\n",
        "      <td> 0.925</td>\n",
        "      <td> 1.228291</td>\n",
        "      <td> 1.025</td>\n",
        "    </tr>\n",
        "    <tr>\n",
        "      <th>155</th>\n",
        "      <td> 2.610369</td>\n",
        "      <td> 0.925</td>\n",
        "      <td> 1.327439</td>\n",
        "      <td> 1.250</td>\n",
        "      <td> 1.282931</td>\n",
        "      <td> 1.175</td>\n",
        "    </tr>\n",
        "    <tr>\n",
        "      <th>190</th>\n",
        "      <td> 2.488802</td>\n",
        "      <td> 0.925</td>\n",
        "      <td> 1.218161</td>\n",
        "      <td> 0.950</td>\n",
        "      <td> 1.270642</td>\n",
        "      <td> 1.150</td>\n",
        "    </tr>\n",
        "    <tr>\n",
        "      <th>207</th>\n",
        "      <td> 2.552741</td>\n",
        "      <td> 0.925</td>\n",
        "      <td> 1.311329</td>\n",
        "      <td> 1.225</td>\n",
        "      <td> 1.241412</td>\n",
        "      <td> 1.075</td>\n",
        "    </tr>\n",
        "    <tr>\n",
        "      <th>241</th>\n",
        "      <td> 2.598080</td>\n",
        "      <td> 0.925</td>\n",
        "      <td> 1.270642</td>\n",
        "      <td> 1.150</td>\n",
        "      <td> 1.327439</td>\n",
        "      <td> 1.250</td>\n",
        "    </tr>\n",
        "    <tr>\n",
        "      <th>270</th>\n",
        "      <td> 2.461014</td>\n",
        "      <td> 0.925</td>\n",
        "      <td> 1.234215</td>\n",
        "      <td> 1.050</td>\n",
        "      <td> 1.226799</td>\n",
        "      <td> 0.825</td>\n",
        "    </tr>\n",
        "    <tr>\n",
        "      <th>292</th>\n",
        "      <td> 2.514654</td>\n",
        "      <td> 0.925</td>\n",
        "      <td> 1.218161</td>\n",
        "      <td> 0.950</td>\n",
        "      <td> 1.296493</td>\n",
        "      <td> 1.200</td>\n",
        "    </tr>\n",
        "    <tr>\n",
        "      <th>298</th>\n",
        "      <td> 2.500264</td>\n",
        "      <td> 0.925</td>\n",
        "      <td> 1.282931</td>\n",
        "      <td> 1.175</td>\n",
        "      <td> 1.217333</td>\n",
        "      <td> 0.925</td>\n",
        "    </tr>\n",
        "    <tr>\n",
        "      <th>307</th>\n",
        "      <td> 2.623932</td>\n",
        "      <td> 0.925</td>\n",
        "      <td> 1.327439</td>\n",
        "      <td> 1.250</td>\n",
        "      <td> 1.296493</td>\n",
        "      <td> 1.200</td>\n",
        "    </tr>\n",
        "    <tr>\n",
        "      <th>328</th>\n",
        "      <td> 2.638768</td>\n",
        "      <td> 0.925</td>\n",
        "      <td> 1.327439</td>\n",
        "      <td> 1.250</td>\n",
        "      <td> 1.311329</td>\n",
        "      <td> 1.225</td>\n",
        "    </tr>\n",
        "    <tr>\n",
        "      <th>344</th>\n",
        "      <td> 2.482825</td>\n",
        "      <td> 0.925</td>\n",
        "      <td> 1.241412</td>\n",
        "      <td> 1.075</td>\n",
        "      <td> 1.241412</td>\n",
        "      <td> 1.075</td>\n",
        "    </tr>\n",
        "    <tr>\n",
        "      <th>366</th>\n",
        "      <td> 2.581971</td>\n",
        "      <td> 0.925</td>\n",
        "      <td> 1.311329</td>\n",
        "      <td> 1.225</td>\n",
        "      <td> 1.270642</td>\n",
        "      <td> 1.150</td>\n",
        "    </tr>\n",
        "    <tr>\n",
        "      <th>450</th>\n",
        "      <td> 2.517146</td>\n",
        "      <td> 0.925</td>\n",
        "      <td> 1.282931</td>\n",
        "      <td> 1.175</td>\n",
        "      <td> 1.234215</td>\n",
        "      <td> 1.050</td>\n",
        "    </tr>\n",
        "    <tr>\n",
        "      <th>475</th>\n",
        "      <td> 2.544772</td>\n",
        "      <td> 0.925</td>\n",
        "      <td> 1.327439</td>\n",
        "      <td> 1.250</td>\n",
        "      <td> 1.217333</td>\n",
        "      <td> 0.925</td>\n",
        "    </tr>\n",
        "    <tr>\n",
        "      <th>499</th>\n",
        "      <td> 2.434666</td>\n",
        "      <td> 0.925</td>\n",
        "      <td> 1.217333</td>\n",
        "      <td> 0.925</td>\n",
        "      <td> 1.217333</td>\n",
        "      <td> 0.925</td>\n",
        "    </tr>\n",
        "    <tr>\n",
        "      <th>509</th>\n",
        "      <td> 2.594260</td>\n",
        "      <td> 0.925</td>\n",
        "      <td> 1.282931</td>\n",
        "      <td> 1.175</td>\n",
        "      <td> 1.311329</td>\n",
        "      <td> 1.225</td>\n",
        "    </tr>\n",
        "    <tr>\n",
        "      <th>524</th>\n",
        "      <td> 2.654877</td>\n",
        "      <td> 0.925</td>\n",
        "      <td> 1.327439</td>\n",
        "      <td> 1.250</td>\n",
        "      <td> 1.327439</td>\n",
        "      <td> 1.250</td>\n",
        "    </tr>\n",
        "    <tr>\n",
        "      <th>550</th>\n",
        "      <td> 2.556119</td>\n",
        "      <td> 0.925</td>\n",
        "      <td> 1.259626</td>\n",
        "      <td> 1.125</td>\n",
        "      <td> 1.296493</td>\n",
        "      <td> 1.200</td>\n",
        "    </tr>\n",
        "    <tr>\n",
        "      <th>568</th>\n",
        "      <td> 2.530268</td>\n",
        "      <td> 0.925</td>\n",
        "      <td> 1.259626</td>\n",
        "      <td> 1.125</td>\n",
        "      <td> 1.270642</td>\n",
        "      <td> 1.150</td>\n",
        "    </tr>\n",
        "    <tr>\n",
        "      <th>601</th>\n",
        "      <td> 2.443148</td>\n",
        "      <td> 0.925</td>\n",
        "      <td> 1.223640</td>\n",
        "      <td> 1.000</td>\n",
        "      <td> 1.219508</td>\n",
        "      <td> 0.875</td>\n",
        "    </tr>\n",
        "  </tbody>\n",
        "</table>\n",
        "</div>"
       ],
       "metadata": {},
       "output_type": "pyout",
       "prompt_number": 19,
       "text": [
        "            p      v        p0     v0        p1     v1\n",
        "36   2.570955  0.925  1.259626  1.125  1.311329  1.225\n",
        "61   2.467216  0.925  1.217333  0.925  1.249883  1.100\n",
        "90   2.445624  0.925  1.217333  0.925  1.228291  1.025\n",
        "155  2.610369  0.925  1.327439  1.250  1.282931  1.175\n",
        "190  2.488802  0.925  1.218161  0.950  1.270642  1.150\n",
        "207  2.552741  0.925  1.311329  1.225  1.241412  1.075\n",
        "241  2.598080  0.925  1.270642  1.150  1.327439  1.250\n",
        "270  2.461014  0.925  1.234215  1.050  1.226799  0.825\n",
        "292  2.514654  0.925  1.218161  0.950  1.296493  1.200\n",
        "298  2.500264  0.925  1.282931  1.175  1.217333  0.925\n",
        "307  2.623932  0.925  1.327439  1.250  1.296493  1.200\n",
        "328  2.638768  0.925  1.327439  1.250  1.311329  1.225\n",
        "344  2.482825  0.925  1.241412  1.075  1.241412  1.075\n",
        "366  2.581971  0.925  1.311329  1.225  1.270642  1.150\n",
        "450  2.517146  0.925  1.282931  1.175  1.234215  1.050\n",
        "475  2.544772  0.925  1.327439  1.250  1.217333  0.925\n",
        "499  2.434666  0.925  1.217333  0.925  1.217333  0.925\n",
        "509  2.594260  0.925  1.282931  1.175  1.311329  1.225\n",
        "524  2.654877  0.925  1.327439  1.250  1.327439  1.250\n",
        "550  2.556119  0.925  1.259626  1.125  1.296493  1.200\n",
        "568  2.530268  0.925  1.259626  1.125  1.270642  1.150\n",
        "601  2.443148  0.925  1.223640  1.000  1.219508  0.875"
       ]
      }
     ],
     "prompt_number": 19
    },
    {
     "cell_type": "markdown",
     "metadata": {},
     "source": [
      "####Checks"
     ]
    },
    {
     "cell_type": "code",
     "collapsed": false,
     "input": [
      "c = list(sorted(b0.candidates))[0]\n",
      "print(c)"
     ],
     "language": "python",
     "metadata": {},
     "outputs": [
      {
       "output_type": "stream",
       "stream": "stdout",
       "text": [
        "   bucket         p        p0        p1      v   v0     v1\n",
        "0    5.44  5.439954  1.333989  4.105965  0.775  1.1  0.825\n"
       ]
      }
     ],
     "prompt_number": 30
    },
    {
     "cell_type": "code",
     "collapsed": false,
     "input": [
      "pm = c.predecessors[0][0]\n",
      "vm = c.v\n",
      "vk = c.predecessors[0][1]\n",
      "print(pm,vm,vk)\n",
      "pk_2,t = pk_t(G,B,vk,vm,pm)\n",
      "print(pk_2,t)"
     ],
     "language": "python",
     "metadata": {},
     "outputs": [
      {
       "output_type": "stream",
       "stream": "stdout",
       "text": [
        "1.33398866857 0.775 1.1\n",
        "-1.2 -0.186934538187\n"
       ]
      }
     ],
     "prompt_number": 38
    },
    {
     "cell_type": "code",
     "collapsed": false,
     "input": [
      "def check_b(c):\n",
      "    pm = c.predecessors[0][0]\n",
      "    vm = c.v\n",
      "    vk = c.predecessors[0][1]\n",
      "    pk_2,t = pk_t(G,B,vk,vm,pm)\n",
      "    return check(B,G, pk_2, pm, vk, vm, -t*180/pi)\n",
      "max(check_b(c) for c in sorted(b0.candidates))"
     ],
     "language": "python",
     "metadata": {},
     "outputs": [
      {
       "metadata": {},
       "output_type": "pyout",
       "prompt_number": 44,
       "text": [
        "3.4046839421839285e-14"
       ]
      }
     ],
     "prompt_number": 44
    },
    {
     "cell_type": "code",
     "collapsed": false,
     "input": [
      "def check_b(c):\n",
      "    pm = c.predecessors[1][0]\n",
      "    vm = c.v\n",
      "    vk = c.predecessors[1][1]\n",
      "    pk_2,t = pk_t(G,B,vk,vm,pm)\n",
      "    return check(B,G, pk_2, pm, vk, vm, -t*180/pi)\n",
      "max(check_b(c) for c in sorted(b2.candidates))"
     ],
     "language": "python",
     "metadata": {},
     "outputs": [
      {
       "metadata": {},
       "output_type": "pyout",
       "prompt_number": 46,
       "text": [
        "3.4046839421839285e-14"
       ]
      }
     ],
     "prompt_number": 46
    },
    {
     "cell_type": "markdown",
     "metadata": {},
     "source": [
      "###GLLL...$L_n$ case\n",
      "\n",
      "    | L1--G0--Ln\n",
      "    |    / |\\\n",
      "    |   /  | \\\n",
      "    |  L2  L3 ..."
     ]
    },
    {
     "cell_type": "code",
     "collapsed": false,
     "input": [
      "r, x = .01, .1\n",
      "G, B = r/(r**2+x**2), -x/(r**2+x**2)\n",
      "#d1, d2, d3, d4 = 1.2, 1.2, 1.2, 1.2\n",
      "v1hat = 1\n",
      "#p0min, p0max = 4.8, 6\n",
      "N = 3\n",
      "R1 = 20\n",
      "R2 = 10\n",
      "VRANGE = linspace(.75, 1.25, N)\n",
      "VRANGE = linspace(.95, 1.05, N)\n",
      "VRANGE"
     ],
     "language": "python",
     "metadata": {},
     "outputs": [
      {
       "metadata": {},
       "output_type": "pyout",
       "prompt_number": 14,
       "text": [
        "array([ 0.95,  1.  ,  1.05])"
       ]
      }
     ],
     "prompt_number": 14
    },
    {
     "cell_type": "code",
     "collapsed": false,
     "input": [
      "bs = [Bus(x) for x in [1,2,3]]\n",
      "b0 = Bus(0., bs)"
     ],
     "language": "python",
     "metadata": {},
     "outputs": [],
     "prompt_number": 15
    },
    {
     "cell_type": "code",
     "collapsed": false,
     "input": [
      "%%time\n",
      "b0.f2()\n",
      "print(len(b0.candidates), b0.n)"
     ],
     "language": "python",
     "metadata": {},
     "outputs": [
      {
       "output_type": "stream",
       "stream": "stdout",
       "text": [
        "(3, 3)\n",
        "CPU times: user 356 \u00b5s, sys: 43 \u00b5s, total: 399 \u00b5s\n",
        "Wall time: 378 \u00b5s\n"
       ]
      }
     ],
     "prompt_number": 16
    },
    {
     "cell_type": "code",
     "collapsed": true,
     "input": [
      "b0.pretty().head()"
     ],
     "language": "python",
     "metadata": {},
     "outputs": [
      {
       "html": [
        "<div style=\"max-height:1000px;max-width:1500px;overflow:auto;\">\n",
        "<table border=\"1\" class=\"dataframe\">\n",
        "  <thead>\n",
        "    <tr style=\"text-align: right;\">\n",
        "      <th></th>\n",
        "      <th>p</th>\n",
        "      <th>v</th>\n",
        "      <th>p0</th>\n",
        "      <th>v0</th>\n",
        "      <th>p1</th>\n",
        "      <th>v1</th>\n",
        "      <th>p2</th>\n",
        "      <th>v2</th>\n",
        "    </tr>\n",
        "  </thead>\n",
        "  <tbody>\n",
        "    <tr>\n",
        "      <th>0</th>\n",
        "      <td> 6.178865</td>\n",
        "      <td> 0.95</td>\n",
        "      <td> 1.022421</td>\n",
        "      <td> 1.05</td>\n",
        "      <td> 2.048714</td>\n",
        "      <td> 1.00</td>\n",
        "      <td> 3.107730</td>\n",
        "      <td> 1.00</td>\n",
        "    </tr>\n",
        "    <tr>\n",
        "      <th>1</th>\n",
        "      <td> 6.158354</td>\n",
        "      <td> 1.00</td>\n",
        "      <td> 1.013258</td>\n",
        "      <td> 1.05</td>\n",
        "      <td> 2.044225</td>\n",
        "      <td> 1.05</td>\n",
        "      <td> 3.100871</td>\n",
        "      <td> 0.95</td>\n",
        "    </tr>\n",
        "    <tr>\n",
        "      <th>2</th>\n",
        "      <td> 6.146569</td>\n",
        "      <td> 1.05</td>\n",
        "      <td> 1.018306</td>\n",
        "      <td> 0.95</td>\n",
        "      <td> 2.037662</td>\n",
        "      <td> 1.05</td>\n",
        "      <td> 3.090600</td>\n",
        "      <td> 1.00</td>\n",
        "    </tr>\n",
        "  </tbody>\n",
        "</table>\n",
        "</div>"
       ],
       "metadata": {},
       "output_type": "pyout",
       "prompt_number": 17,
       "text": [
        "          p     v        p0    v0        p1    v1        p2    v2\n",
        "0  6.178865  0.95  1.022421  1.05  2.048714  1.00  3.107730  1.00\n",
        "1  6.158354  1.00  1.013258  1.05  2.044225  1.05  3.100871  0.95\n",
        "2  6.146569  1.05  1.018306  0.95  2.037662  1.05  3.090600  1.00"
       ]
      }
     ],
     "prompt_number": 17
    },
    {
     "cell_type": "code",
     "collapsed": false,
     "input": [
      "bs[0].candidates"
     ],
     "language": "python",
     "metadata": {},
     "outputs": [
      {
       "metadata": {},
       "output_type": "pyout",
       "prompt_number": 23,
       "text": [
        "{CumProd(0.94999999999999996, []), CumProd(1.0, []), CumProd(1.05, [])}"
       ]
      }
     ],
     "prompt_number": 23
    },
    {
     "cell_type": "markdown",
     "metadata": {},
     "source": [
      "###Checks\n",
      "\n",
      "this doesn't work yet... make it work"
     ]
    },
    {
     "cell_type": "code",
     "collapsed": false,
     "input": [
      "def check_sol(x):\n",
      "    lines = all_lines(convert(x), d1=d1, d2=d2, d3=d3, d4=d4)\n",
      "    return max(check(b,g,*line) for line in lines)\n",
      "max(check_sol(x) for x in s)"
     ],
     "language": "python",
     "metadata": {},
     "outputs": []
    }
   ],
   "metadata": {}
  }
 ]
}