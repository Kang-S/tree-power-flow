{
 "metadata": {
  "language": "Julia",
  "name": "",
  "signature": "sha256:47af264393df41261064652a85d18732f70efbd91968cba853b18e5c0596653e"
 },
 "nbformat": 3,
 "nbformat_minor": 0,
 "worksheets": [
  {
   "cells": [
    {
     "cell_type": "code",
     "collapsed": false,
     "input": [
      "include(\"loadcase.jl\")\n",
      "include(\"algo.jl\")\n",
      "include(\"solution_display.jl\");"
     ],
     "language": "python",
     "metadata": {},
     "outputs": [],
     "prompt_number": 102
    },
    {
     "cell_type": "code",
     "collapsed": false,
     "input": [
      "gc()\n",
      "#root, vhat = loadcase(\"cases/case_G5L_v2.m\");\n",
      "#root = loadcase(\"cases/case_G5L_2gen.m\");\n",
      "#root = loadcase(\"cases/case5_renumber.m\");\n",
      "casefile = \"cases/case14_tree.m\"\n",
      "#root, vhat = loadcase(\"cases/case39_tree.m\");\n",
      "#root, vhat = loadcase(\"cases/case57_tree.m\")\n",
      "#root, vhat = loadcase(\"cases/case118_tree.m\");\n",
      "#root, vhat = loadcase(\"cases/case300_tree.m\");\n",
      "root, vhat = loadcase(casefile)"
     ],
     "language": "python",
     "metadata": {},
     "outputs": [
      {
       "metadata": {},
       "output_type": "pyout",
       "prompt_number": 103,
       "text": [
        "(bus1,1.06)"
       ]
      }
     ],
     "prompt_number": 103
    },
    {
     "cell_type": "code",
     "collapsed": true,
     "input": [
      "N = 21\n",
      "R1 = 5\n",
      "R2 = 10\n",
      "vmin = .8\n",
      "vmax = 1.2\n",
      "verbose=true\n",
      "tic()\n",
      "run_algo(root, N, R1, R2, vhat=vhat, verbose=verbose, vmin=vmin, vmax=vmax)\n",
      "toc()\n",
      "check_all(root)"
     ],
     "language": "python",
     "metadata": {},
     "outputs": [
      {
       "output_type": "stream",
       "stream": "stdout",
       "text": [
        " bus10"
       ]
      },
      {
       "output_type": "stream",
       "stream": "stdout",
       "text": [
        "  "
       ]
      },
      {
       "output_type": "stream",
       "stream": "stdout",
       "text": [
        "    0    21\n",
        " bus14      0    21\n",
        "  bus9    284   141\n",
        "  bus8      0    21\n",
        "  bus7    483   267\n",
        "  bus4    462   271\n",
        " bus13      0    21\n",
        " bus11      0    21\n",
        " bus12      0    21\n",
        "  bus6  "
       ]
      },
      {
       "output_type": "stream",
       "stream": "stdout",
       "text": [
        "  398   174\n",
        "  bus5  "
       ]
      },
      {
       "output_type": "stream",
       "stream": "stdout",
       "text": [
        " 1438   761\n",
        "  bus3      0    21\n",
        "  bus2     72    41\n",
        "  bus1     90    48\n",
        "elapsed time: 0.879013707 seconds\n"
       ]
      },
      {
       "metadata": {},
       "output_type": "pyout",
       "prompt_number": 104,
       "text": [
        "3.140121052069844e-9"
       ]
      }
     ],
     "prompt_number": 104
    },
    {
     "cell_type": "code",
     "collapsed": true,
     "input": [
      "candidates = sort(collect(values(root.candidates)));"
     ],
     "language": "python",
     "metadata": {},
     "outputs": [],
     "prompt_number": 104
    },
    {
     "cell_type": "code",
     "collapsed": false,
     "input": [
      "c1 = candidates[1]\n",
      "matpower_compare(casefile, c1, root, R2)"
     ],
     "language": "python",
     "metadata": {},
     "outputs": [
      {
       "output_type": "stream",
       "stream": "stdout",
       "text": [
        "  "
       ]
      },
      {
       "output_type": "stream",
       "stream": "stdout",
       "text": [
        "fbus   tbus        fp1        fp2        tp1        tp2    fv1    fv2    tv1    tv2\n",
        "     1      2       81.9       81.2      -80.4      -80.1   1.06   1.06   1.02   1.04\n",
        "     1      5      160.9      157.5     -147.3     -145.2   1.06   1.06   1.14   0.97\n",
        "     2      3       98.7       98.4      -94.2      -94.2   1.02   1.04   1.02   1.01\n",
        "     4      5     -101.6     -101.6      103.3      103.1   1.10   0.97   1.14   0.97\n",
        "     4      7       53.8       53.8      -53.8      -53.8   1.10   0.97   0.88   1.03\n",
        "     5      6       36.4       34.5      -36.4      -34.5   1.14   0.97   1.14   1.07\n",
        "     6     11        4.9        3.5       -3.5       -3.5   1.14   1.07   1.06   1.06\n",
        "     6     12        6.7        6.1       -6.1       -6.1   1.14   1.07   1.08   1.06\n",
        "     6     13       13.7       13.6      -13.5      -13.5   1.14   1.07   1.12   1.05\n",
        "     7      8        0.0        0.0       -0.0       -0.0   0.88   1.03   0.96   1.09\n",
        "     7      9       53.8       53.8      -53.8      -53.8   0.88   1.03   1.12   1.02\n",
        "     9     10        9.2        9.0       -9.0       -9.0   1.12   1.02   1.10   1.01\n",
        "     9     14       15.1       15.2      -14.9      -14.9   1.12   1.02   1.10   0.99\n"
       ]
      }
     ],
     "prompt_number": 105
    },
    {
     "cell_type": "code",
     "collapsed": false,
     "input": [
      "#pretty(root, candidates, start=1, stop=5, R2=R2)\n",
      "#pretty(root, candidates, start=length(candidates)-4, stop=length(candidates), R2=R2)"
     ],
     "language": "python",
     "metadata": {},
     "outputs": [],
     "prompt_number": 98
    },
    {
     "cell_type": "code",
     "collapsed": false,
     "input": [
      "#c1 = candidates[1]\n",
      "#print_full_solution(c1, root, R2)"
     ],
     "language": "python",
     "metadata": {},
     "outputs": [],
     "prompt_number": 79
    },
    {
     "cell_type": "code",
     "collapsed": true,
     "input": [
      "buses = Bus[]\n",
      "function DFS(bus)\n",
      "    for child in bus.children\n",
      "        DFS(child)\n",
      "    end\n",
      "    push!(buses, bus)\n",
      "end\n",
      "DFS(root)\n",
      "for (i, bus) in enumerate(buses)\n",
      "    println(i, ' ', bus)\n",
      "end"
     ],
     "language": "python",
     "metadata": {},
     "outputs": [
      {
       "output_type": "stream",
       "stream": "stdout",
       "text": [
        "1 "
       ]
      },
      {
       "output_type": "stream",
       "stream": "stdout",
       "text": [
        "bus21\n",
        "2 bus23\n",
        "3 bus22\n",
        "4 bus57\n",
        "5 bus39\n",
        "6 bus33\n",
        "7 bus32\n",
        "8 bus34\n",
        "9 bus35\n",
        "10 bus40\n",
        "11 bus36\n",
        "12 bus37\n",
        "13 bus48\n",
        "14 bus38\n",
        "15 bus44\n",
        "16 bus45\n",
        "17 bus47\n",
        "18 bus46\n",
        "19 bus14\n",
        "20 bus15\n",
        "21 bus16\n",
        "22 bus5\n",
        "23 bus20\n",
        "24 bus19\n",
        "25 bus18\n",
        "26 bus4\n",
        "27 bus3\n",
        "28 bus2\n",
        "29 bus49\n",
        "30 bus13\n",
        "31 bus50\n",
        "32 bus51\n",
        "33 bus54\n",
        "34 bus55\n",
        "35 bus56\n",
        "36 bus42\n",
        "37 bus41\n",
        "38 bus43\n",
        "39 bus11\n",
        "40 bus6\n",
        "41 bus53\n",
        "42 bus52\n",
        "43 bus31\n",
        "44 bus30\n",
        "45 bus25\n",
        "46 bus24\n",
        "47 bus26\n",
        "48 bus27\n",
        "49 bus28\n",
        "50 bus29\n",
        "51 bus7\n",
        "52 bus8\n",
        "53 bus9\n",
        "54 bus10\n",
        "55 bus12\n",
        "56 bus17\n",
        "57 bus1\n"
       ]
      }
     ],
     "prompt_number": 447
    },
    {
     "cell_type": "code",
     "collapsed": false,
     "input": [
      "function argmax(x)\n",
      "    maxsofar = x[1]\n",
      "    argmaxsofar = 1\n",
      "    for (i,y) in enumerate(x[2:end])\n",
      "        if y>maxsofar\n",
      "            maxsofar = y\n",
      "            argmaxsofar = i+1\n",
      "        end\n",
      "    end\n",
      "    argmaxsofar\n",
      "end;"
     ],
     "language": "python",
     "metadata": {},
     "outputs": [],
     "prompt_number": 460
    },
    {
     "cell_type": "code",
     "collapsed": true,
     "input": [
      "bus = buses[11]\n",
      "errs = [check_candidate(bus, c) for c in values(bus.candidates)]\n",
      "c_index = argmax(errs)\n",
      "bus, \"candidate $c_index\", errs[c_index]"
     ],
     "language": "python",
     "metadata": {},
     "outputs": [
      {
       "metadata": {},
       "output_type": "pyout",
       "prompt_number": 464,
       "text": [
        "(bus36,\"candidate 114\",1.0)"
       ]
      }
     ],
     "prompt_number": 464
    },
    {
     "cell_type": "code",
     "collapsed": false,
     "input": [
      "c = collect(values(bus.candidates))[c_index]\n",
      "println(check_candidate(bus, c))\n",
      "println(c)"
     ],
     "language": "python",
     "metadata": {},
     "outputs": [
      {
       "output_type": "stream",
       "stream": "stdout",
       "text": [
        "1.0"
       ]
      },
      {
       "output_type": "stream",
       "stream": "stdout",
       "text": [
        "\n",
        "Candidate(2,35.8575944458537,1.08,3x2 Array{Float64,2}:\n",
        " 35.8576  0.0 \n",
        "  1.08    1.08\n",
        " 35.096   0.0 )\n"
       ]
      }
     ],
     "prompt_number": 465
    },
    {
     "cell_type": "code",
     "collapsed": false,
     "input": [
      "i = 2\n",
      "g = bus.children[i].g\n",
      "b = bus.children[i].b\n",
      "vk = c.v\n",
      "pkm, vm, d = c.children[:,i];\n",
      "pm = -d;\n",
      "pkm2, t = pk_\u03b8(g=g, b=b, vk=vk, vm=vm, pm=pm)\n",
      "println(check2(g=g,b=b,pk=pkm,vk=vk,pm=pm,vm=vm,\u03b8=t))\n",
      "@printf \"%.2f %.2f %.2f %.2f %.3f\" vk vm pkm pm t"
     ],
     "language": "python",
     "metadata": {},
     "outputs": [
      {
       "output_type": "stream",
       "stream": "stdout",
       "text": [
        "(1"
       ]
      },
      {
       "output_type": "stream",
       "stream": "stdout",
       "text": [
        ".0,1.0,2.636905346047026e-5,-2.6369053026727267e-5)\n",
        "1.08 1.08 0.00 -0.00 0.000"
       ]
      }
     ],
     "prompt_number": 468
    },
    {
     "cell_type": "code",
     "collapsed": false,
     "input": [
      "g,b"
     ],
     "language": "python",
     "metadata": {},
     "outputs": [
      {
       "metadata": {},
       "output_type": "pyout",
       "prompt_number": 433,
       "text": [
        "(247.24570204554607,-3085.77969219635)"
       ]
      }
     ],
     "prompt_number": 433
    },
    {
     "cell_type": "code",
     "collapsed": false,
     "input": [
      "pk(g=g,b=b,vk=vk,vm=vm,pm=pm)"
     ],
     "language": "python",
     "metadata": {},
     "outputs": [
      {
       "metadata": {},
       "output_type": "pyout",
       "prompt_number": 434,
       "text": [
        "175.9594589056369"
       ]
      }
     ],
     "prompt_number": 434
    },
    {
     "cell_type": "code",
     "collapsed": false,
     "input": [
      "check2(g=g,b=b,vk=vk,vm=vm,pk=pkm,pm=pm,\u03b8=-t)"
     ],
     "language": "python",
     "metadata": {},
     "outputs": [
      {
       "metadata": {},
       "output_type": "pyout",
       "prompt_number": 435,
       "text": [
        "(1.146075232871605,1.0,-1204.581060365648,1380.5405192712851)"
       ]
      }
     ],
     "prompt_number": 435
    },
    {
     "cell_type": "markdown",
     "metadata": {},
     "source": [
      "<hr style='height:6px'>"
     ]
    },
    {
     "cell_type": "code",
     "collapsed": false,
     "input": [
      "#@profile run_algo(buses)\n",
      "#Profile.print()"
     ],
     "language": "python",
     "metadata": {},
     "outputs": [],
     "prompt_number": 1
    },
    {
     "cell_type": "code",
     "collapsed": false,
     "input": [
      "using IProfile"
     ],
     "language": "python",
     "metadata": {},
     "outputs": []
    },
    {
     "cell_type": "code",
     "collapsed": false,
     "input": [
      "@iprofile clear"
     ],
     "language": "python",
     "metadata": {},
     "outputs": [
      {
       "ename": "LoadError",
       "evalue": "@iprofile not defined\nat In[2]:0",
       "output_type": "pyerr",
       "traceback": [
        "@iprofile not defined\nat In[2]:0"
       ]
      }
     ],
     "prompt_number": 2
    },
    {
     "cell_type": "code",
     "collapsed": false,
     "input": [
      "@iprofile report"
     ],
     "language": "python",
     "metadata": {},
     "outputs": []
    },
    {
     "cell_type": "code",
     "collapsed": false,
     "input": [
      "@iprofile begin\n",
      "end"
     ],
     "language": "python",
     "metadata": {},
     "outputs": []
    },
    {
     "cell_type": "code",
     "collapsed": false,
     "input": [
      "gc() # garbage collection"
     ],
     "language": "python",
     "metadata": {},
     "outputs": [],
     "prompt_number": 3
    }
   ],
   "metadata": {}
  }
 ]
}