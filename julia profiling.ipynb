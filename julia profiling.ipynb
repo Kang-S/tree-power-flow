{
 "metadata": {
  "language": "Julia",
  "name": ""
 },
 "nbformat": 3,
 "nbformat_minor": 0,
 "worksheets": [
  {
   "cells": [
    {
     "cell_type": "code",
     "collapsed": false,
     "input": [
      "include(\"loadcase.jl\")\n",
      "include(\"algo.jl\")\n",
      "include(\"solution_display.jl\");"
     ],
     "language": "python",
     "metadata": {},
     "outputs": [],
     "prompt_number": 22
    },
    {
     "cell_type": "code",
     "collapsed": false,
     "input": [
      "buses = loadcase(\"case_G5L.m\");\n",
      "buses = loadcase(\"test.m\");"
     ],
     "language": "python",
     "metadata": {},
     "outputs": []
    },
    {
     "cell_type": "code",
     "collapsed": false,
     "input": [
      "gc()"
     ],
     "language": "python",
     "metadata": {},
     "outputs": [],
     "prompt_number": 1
    },
    {
     "cell_type": "code",
     "collapsed": false,
     "input": [
      "N = 21\n",
      "R1 = 5\n",
      "R2 = 10\n",
      "tic()\n",
      "run_algo(buses, N, R1, R2)\n",
      "toc()\n",
      "check_all(buses)"
     ],
     "language": "python",
     "metadata": {},
     "outputs": [
      {
       "output_type": "stream",
       "stream": "stdout",
       "text": [
        "bus14 "
       ]
      },
      {
       "output_type": "stream",
       "stream": "stdout",
       "text": [
        "21"
       ]
      },
      {
       "output_type": "stream",
       "stream": "stdout",
       "text": [
        "\n",
        "bus13 21\n",
        "bus12 21\n",
        "bus11 21\n",
        "bus10 65"
       ]
      },
      {
       "output_type": "stream",
       "stream": "stdout",
       "text": [
        "\n",
        "bus9 44\n",
        "bus8 21\n",
        "bus7 21\n",
        "bus6 256"
       ]
      },
      {
       "output_type": "stream",
       "stream": "stdout",
       "text": [
        "\n",
        "bus5 408\n",
        "bus4 89\n",
        "bus3 21\n",
        "bus2 168\n",
        "bus1 919"
       ]
      },
      {
       "output_type": "stream",
       "stream": "stdout",
       "text": [
        "\n",
        "elapsed time: 1.254461211 seconds\n"
       ]
      },
      {
       "metadata": {},
       "output_type": "pyout",
       "prompt_number": 2,
       "text": [
        "1.0"
       ]
      }
     ],
     "prompt_number": 2
    },
    {
     "cell_type": "code",
     "collapsed": false,
     "input": [
      "bus = buses[7]\n",
      "c = collect(values(bus.candidates))[9]"
     ],
     "language": "python",
     "metadata": {},
     "outputs": [
      {
       "metadata": {},
       "output_type": "pyout",
       "prompt_number": 16,
       "text": [
        "Candidate(1,0.0,1.12,3x1 Array{Float64,2}:\n",
        " 0.0 \n",
        " 1.12\n",
        " 0.0 )"
       ]
      }
     ],
     "prompt_number": 16
    },
    {
     "cell_type": "code",
     "collapsed": false,
     "input": [
      "i = 1\n",
      "child = c.children[:,i]\n",
      "g = bus.children[i].g\n",
      "b= bus.children[i].b\n",
      "vk = c.v\n",
      "pkm, vm, d = child;\n",
      "pm = -d\n",
      "pkm2, t = pk_\u03b8(g=g, b=b, vk=vk,vm=vm,pm=pm)\n",
      "check2(g=g, b=b, pk=pkm, vk=vk, pm=pm, vm=vm, \u03b8=t)"
     ],
     "language": "python",
     "metadata": {},
     "outputs": [
      {
       "metadata": {},
       "output_type": "pyout",
       "prompt_number": 27,
       "text": [
        "(1.0,1.0,1.0611420154165485e-5,-1.0611420154165485e-5)"
       ]
      }
     ],
     "prompt_number": 27
    },
    {
     "cell_type": "code",
     "collapsed": false,
     "input": [
      "cos(t), vk*(g*(vk-vm*cos(t)) + b*vm*sin(t))"
     ],
     "language": "python",
     "metadata": {},
     "outputs": [
      {
       "metadata": {},
       "output_type": "pyout",
       "prompt_number": 39,
       "text": [
        "(0.9999999999999999,1.0611420154165485e-5)"
       ]
      }
     ],
     "prompt_number": 39
    },
    {
     "cell_type": "code",
     "collapsed": false,
     "input": [
      "# note: g=0\n",
      "disc = b^2*(-pm^2+(2*g*pm+(b^2+g^2)*vk^2)*vm^2-g^2*vm^4)\n",
      "arg = (-g*pm+g^2*vm^2+disc^.5)/((b^2+g^2)*vk*vm)\n",
      "disc, arg"
     ],
     "language": "python",
     "metadata": {},
     "outputs": [
      {
       "metadata": {},
       "output_type": "pyout",
       "prompt_number": 41,
       "text": [
        "(1.6343365775281802e11,0.9999999999999999)"
       ]
      }
     ],
     "prompt_number": 41
    },
    {
     "cell_type": "code",
     "collapsed": false,
     "input": [
      "# note: g=0\n",
      "disc = b^2*(-pm^2+(b^2*vk^2)*vm^2)\n",
      "arg = (disc^.5)/(b^2*vk*vm)\n",
      "disc, arg"
     ],
     "language": "python",
     "metadata": {},
     "outputs": [
      {
       "metadata": {},
       "output_type": "pyout",
       "prompt_number": 43,
       "text": [
        "(1.6343365775281802e11,0.9999999999999999)"
       ]
      }
     ],
     "prompt_number": 43
    },
    {
     "cell_type": "markdown",
     "metadata": {},
     "source": [
      "##<p style='color:red'>CONSIDER SPECIAL CASES FOR g=0"
     ]
    },
    {
     "cell_type": "code",
     "collapsed": false,
     "input": [
      "b1 = buses[1]\n",
      "candidates = sort(collect(values(b1.candidates)))\n",
      "pretty(b1, candidates, start=1, stop=5)\n",
      "pretty(b1, candidates, start=length(candidates)-4, stop=length(candidates))"
     ],
     "language": "python",
     "metadata": {},
     "outputs": [
      {
       "output_type": "stream",
       "stream": "stdout",
       "text": [
        "  "
       ]
      },
      {
       "output_type": "stream",
       "stream": "stdout",
       "text": [
        "   p1      v1    p1_2      v2      p2    p1_5      v5      p5 \n",
        " 275.00    1.20  222.70    1.20  215.53   52.30    1.20   51.23 \n",
        " 275.06    1.20  222.70    1.20  215.53   52.36    1.20   51.29 \n",
        " 275.12    1.20  222.83    1.20  215.65   52.30    1.20   51.23 \n",
        " 275.27    1.20  222.70    1.20  215.53   52.57    1.20   51.49 \n",
        " 275.28    1.20  222.83    1.20  215.65   52.45    1.20   51.38 \n",
        "     p1      v1    p1_2      v2      p2    p1_5      v5      p5 \n",
        " 831.35    0.80  451.70    1.20  295.17  379.65    1.20  257.95 \n",
        " 831.35    0.80  451.70    1.20  295.17  379.65    1.20  257.95 \n",
        " 831.89    0.80  441.38    1.20  287.35  390.51    1.10  257.95 \n",
        " 831.89    0.80  441.38    1.20  287.35  390.51    1.10  257.95 \n",
        " 842.22    0.80  451.70    1.20  295.17  390.51    1.10  257.95 \n"
       ]
      }
     ],
     "prompt_number": 35
    },
    {
     "cell_type": "code",
     "collapsed": false,
     "input": [
      "c1 = candidates[end]\n",
      "print_full_solution(c1, b1, R2)"
     ],
     "language": "python",
     "metadata": {},
     "outputs": [
      {
       "output_type": "stream",
       "stream": "stdout",
       "text": [
        "  "
       ]
      },
      {
       "output_type": "stream",
       "stream": "stdout",
       "text": [
        "bus1 842.216   0.800\n",
        "  bus2 451.702   1.200 295.169\n",
        "  bus5 390.514   1.100 257.945\n",
        "  bus3 114.154   0.800  94.200\n",
        "  bus4 159.315   0.800 128.396\n",
        "  bus6 250.345   0.800 250.345\n",
        "  bus7   0.000   0.800   0.000\n",
        "  bus9  80.596   0.800  80.596\n",
        " bus10 106.402   1.200  45.122\n",
        " bus12  42.182   1.200   6.100\n",
        " bus13  90.562   1.200  13.500\n",
        "  bus8   0.000   1.100   0.000\n",
        " bus14  51.096   1.200  14.900\n",
        " bus11  41.622   0.800   9.000\n"
       ]
      }
     ],
     "prompt_number": 36
    },
    {
     "cell_type": "markdown",
     "metadata": {},
     "source": [
      "<hr style='height:6px'>"
     ]
    },
    {
     "cell_type": "code",
     "collapsed": false,
     "input": [
      "#@profile run_algo(buses)\n",
      "#Profile.print()"
     ],
     "language": "python",
     "metadata": {},
     "outputs": [],
     "prompt_number": 1
    },
    {
     "cell_type": "code",
     "collapsed": false,
     "input": [
      "using IProfile"
     ],
     "language": "python",
     "metadata": {},
     "outputs": []
    },
    {
     "cell_type": "code",
     "collapsed": false,
     "input": [
      "@iprofile clear"
     ],
     "language": "python",
     "metadata": {},
     "outputs": [
      {
       "ename": "LoadError",
       "evalue": "@iprofile not defined\nat In[2]:0",
       "output_type": "pyerr",
       "traceback": [
        "@iprofile not defined\nat In[2]:0"
       ]
      }
     ],
     "prompt_number": 2
    },
    {
     "cell_type": "code",
     "collapsed": false,
     "input": [
      "@iprofile report"
     ],
     "language": "python",
     "metadata": {},
     "outputs": []
    },
    {
     "cell_type": "code",
     "collapsed": false,
     "input": [
      "@iprofile begin\n",
      "end"
     ],
     "language": "python",
     "metadata": {},
     "outputs": []
    },
    {
     "cell_type": "code",
     "collapsed": false,
     "input": [
      "gc() # garbage collection"
     ],
     "language": "python",
     "metadata": {},
     "outputs": [],
     "prompt_number": 3
    }
   ],
   "metadata": {}
  }
 ]
}