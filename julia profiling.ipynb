{
 "metadata": {
  "language": "Julia",
  "name": ""
 },
 "nbformat": 3,
 "nbformat_minor": 0,
 "worksheets": [
  {
   "cells": [
    {
     "cell_type": "code",
     "collapsed": false,
     "input": [
      "include(\"loadcase.jl\")\n",
      "include(\"algo.jl\")\n",
      "include(\"solution_display.jl\");"
     ],
     "language": "python",
     "metadata": {},
     "outputs": [],
     "prompt_number": 224
    },
    {
     "cell_type": "code",
     "collapsed": false,
     "input": [
      "gc()\n",
      "#root = loadcase(\"case5_renumber.m\");\n",
      "#buses = loadcase(\"case_GLL.m\");\n",
      "#buses = loadcase(\"case_GLLL.m\");\n",
      "#buses = loadcase(\"case_G5L.m\");\n",
      "#buses = loadcase(\"case_G5L_v2.m\");\n",
      "#root = loadcase(\"cases/case14_tree.m\");\n",
      "#buses = loadcase(\"case30_tree.m\");\n",
      "root = loadcase(\"case39_tree.m\");"
     ],
     "language": "python",
     "metadata": {},
     "outputs": [],
     "prompt_number": 222
    },
    {
     "cell_type": "code",
     "collapsed": false,
     "input": [
      "N = 5\n",
      "R1 = 5.\n",
      "R2 = 10.\n",
      "vhat = 1.04\n",
      "tic()\n",
      "run_algo(root, N, R1, R2, vhat, true)\n",
      "toc();"
     ],
     "language": "python",
     "metadata": {},
     "outputs": [
      {
       "output_type": "stream",
       "stream": "stdout",
       "text": [
        " bus38"
       ]
      },
      {
       "output_type": "stream",
       "stream": "stdout",
       "text": [
        "  "
       ]
      },
      {
       "output_type": "stream",
       "stream": "stdout",
       "text": [
        "    0     5\n",
        " bus28      0     5\n",
        " bus29     44    46\n",
        " bus27      0     5\n",
        " bus26    155   125\n",
        " bus37      0     5\n",
        " bus25    310   187\n",
        " bus30      0     5\n",
        " bus39      0     5\n",
        "  bus1     16    14\n",
        "  bus2  "
       ]
      },
      {
       "output_type": "stream",
       "stream": "stdout",
       "text": [
        "  733  1089\n",
        "  bus3   2444  1558\n",
        "  bus4  "
       ]
      },
      {
       "output_type": "stream",
       "stream": "stdout",
       "text": [
        " 1972  1224\n",
        " bus32      0     5\n",
        "  bus9      0     5\n",
        "  bus8     21    11\n",
        "  bus5     47    38\n",
        "  bus7      0     5\n",
        " bus31      0     5\n",
        "  bus6    186   248\n",
        " bus11    666   392\n",
        " bus10    948   533\n",
        " bus12      0     5\n",
        " bus13   1253   748\n",
        " bus35      0     5\n",
        " bus22      5     5\n",
        " bus21     21    17\n",
        " bus36      0     5\n",
        " bus23     12     8\n",
        " bus24     27    19\n",
        " bus18      0     5\n",
        " bus17     21    21\n",
        " bus34      0     5\n",
        " bus20     21    17\n",
        " bus33      0     5\n",
        " bus19     76    59\n",
        " bus16  "
       ]
      },
      {
       "output_type": "stream",
       "stream": "stdout",
       "text": [
        "  370   353\n",
        " bus15    838   481\n",
        " bus14  "
       ]
      },
      {
       "output_type": "stream",
       "stream": "stdout",
       "text": [
        " 1184   776\n",
        "elapsed time: 3.067062786 seconds\n"
       ]
      }
     ],
     "prompt_number": 222
    },
    {
     "cell_type": "code",
     "collapsed": false,
     "input": [
      "candidates = sort(collect(values(root.candidates)))\n",
      "pretty(root, candidates, start=1, stop=5, R2=R2)\n",
      "pretty(root, candidates, start=length(candidates)-4, stop=length(candidates), R2=R2)"
     ],
     "language": "python",
     "metadata": {},
     "outputs": [
      {
       "output_type": "stream",
       "stream": "stdout",
       "text": [
        "  "
       ]
      },
      {
       "output_type": "stream",
       "stream": "stdout",
       "text": [
        "  key     p14     v14   p14_4      v4      p4  p14_13     v13     p13  p14_15     v15     p15 \n",
        "6870.00 6866.50    1.00 3583.35    1.10 3480.30  798.98    1.00  793.22 2484.18    1.20 2368.30 \n",
        "6880.00 6883.76    1.00 3577.30    1.20 3466.44  812.46    1.10  797.06 2494.00    1.20 2377.31 \n",
        "6890.00 6889.80    1.00 3583.35    1.10 3480.30  812.46    1.10  797.06 2494.00    1.20 2377.31 \n",
        "6900.00 6903.33    1.00 3577.30    1.20 3466.44  832.04    1.20  789.40 2494.00    1.20 2377.31 \n",
        "6910.00 6913.63    1.00 3583.35    1.10 3480.30  812.46    1.10  797.06 2517.82    1.00 2398.98 \n",
        "    key     p14     v14   p14_4      v4      p4  p14_13     v13     p13  p14_15     v15     p15 \n",
        "14580.00 14575.95    1.00 8148.74    1.20 7567.92 2508.58    1.20 2419.52 3918.63    0.80 3410.25 \n",
        "14590.00 14590.07    1.00 8148.74    1.20 7567.92 2522.71    0.80 2425.46 3918.63    0.80 3410.25 \n",
        "14600.00 14604.00    1.00 8148.74    1.20 7567.92 2536.63    0.80 2438.64 3918.63    0.80 3410.25 \n",
        "14620.00 14615.51    1.00 8148.74    1.20 7567.92 2522.71    0.80 2425.46 3944.07    0.80 3419.49 \n",
        "14630.00 14629.44    1.00 8148.74    1.20 7567.92 2536.63    0.80 2438.64 3944.07    0.80 3419.49 \n"
       ]
      }
     ],
     "prompt_number": 223
    },
    {
     "cell_type": "code",
     "collapsed": false,
     "input": [
      "c1 = candidates[end]\n",
      "print_full_solution(c1, root, R2)"
     ],
     "language": "python",
     "metadata": {},
     "outputs": [
      {
       "output_type": "stream",
       "stream": "stdout",
       "text": [
        " bus14"
       ]
      },
      {
       "output_type": "stream",
       "stream": "stdout",
       "text": [
        "        -  1.00 14629.44\n",
        "  bus4  8148.74  1.20  7567.92\n",
        " bus13  2536.63  0.80  2438.64\n",
        " bus15  3944.07  0.80  3419.49\n",
        "  bus3  7067.92  1.20  6330.78\n",
        " bus10  2416.56  1.20  2033.25\n",
        " bus12    22.08  1.20     8.53\n",
        " bus16  3099.49  1.20  2827.58\n",
        "  bus2  6008.78  0.80  5374.88\n",
        " bus32     0.00  1.10     0.00\n",
        " bus11  2033.25  0.80  1685.87\n",
        " bus21   409.73  0.80   339.41\n",
        " bus24   736.16  0.80   598.29\n",
        " bus17   467.06  0.80   326.52\n",
        " bus19   885.63  0.80   810.93\n",
        " bus25  4067.16  1.00  1445.23\n",
        " bus30     0.00  0.80     0.00\n",
        "  bus1  1307.72  1.00  1214.20\n",
        "  bus6  1685.87  1.20  1490.86\n",
        " bus22    65.41  1.20     0.00\n",
        " bus23   289.69  1.20   258.31\n",
        " bus18   326.52  1.20   158.00\n",
        " bus20   755.32  1.20   691.11\n",
        " bus33    55.61  1.20     0.00\n",
        " bus26  1216.77  0.90  1162.98\n",
        " bus37     4.46  0.80     0.00\n",
        " bus39  1116.60  1.00  1104.00\n",
        "  bus5  1134.92  0.80   664.17\n",
        "  bus7   346.74  0.80   233.80\n",
        " bus31     9.20  0.80     9.20\n",
        " bus35     0.00  0.90     0.00\n",
        " bus36    10.81  0.80     0.00\n",
        " bus34    11.11  1.00     0.00\n",
        " bus29   681.74  0.80   643.25\n",
        " bus27   342.24  1.20   281.00\n",
        "  bus8   664.17  1.20   556.37\n",
        " bus38    52.67  1.20     0.00\n",
        " bus28   307.09  1.20   206.00\n",
        "  bus9    34.37  0.80     6.50\n"
       ]
      }
     ],
     "prompt_number": 225
    },
    {
     "cell_type": "markdown",
     "metadata": {},
     "source": [
      "<hr style='height:6px'>"
     ]
    },
    {
     "cell_type": "code",
     "collapsed": false,
     "input": [
      "VRANGE = linspace(.8,1.2,N)\n",
      "vhat = 1.06\n",
      "sort!(VRANGE, by = x->abs(1.06-x)).'"
     ],
     "language": "python",
     "metadata": {},
     "outputs": [
      {
       "metadata": {},
       "output_type": "pyout",
       "prompt_number": 68,
       "text": [
        "1x21 Array{Float64,2}:\n",
        " 1.06  1.04  1.08  1.1  1.02  1.0  1.12  \u2026  0.9  0.88  0.86  0.84  0.82  0.8"
       ]
      }
     ],
     "prompt_number": 68
    },
    {
     "cell_type": "code",
     "collapsed": false,
     "input": [
      "#@profile run_algo(buses)\n",
      "#Profile.print()"
     ],
     "language": "python",
     "metadata": {},
     "outputs": [],
     "prompt_number": 1
    },
    {
     "cell_type": "code",
     "collapsed": false,
     "input": [
      "using IProfile"
     ],
     "language": "python",
     "metadata": {},
     "outputs": []
    },
    {
     "cell_type": "code",
     "collapsed": false,
     "input": [
      "@iprofile clear"
     ],
     "language": "python",
     "metadata": {},
     "outputs": [
      {
       "ename": "LoadError",
       "evalue": "@iprofile not defined\nat In[2]:0",
       "output_type": "pyerr",
       "traceback": [
        "@iprofile not defined\nat In[2]:0"
       ]
      }
     ],
     "prompt_number": 2
    },
    {
     "cell_type": "code",
     "collapsed": false,
     "input": [
      "@iprofile report"
     ],
     "language": "python",
     "metadata": {},
     "outputs": []
    },
    {
     "cell_type": "code",
     "collapsed": false,
     "input": [
      "@iprofile begin\n",
      "end"
     ],
     "language": "python",
     "metadata": {},
     "outputs": []
    },
    {
     "cell_type": "code",
     "collapsed": false,
     "input": [
      "gc() # garbage collection"
     ],
     "language": "python",
     "metadata": {},
     "outputs": [],
     "prompt_number": 3
    }
   ],
   "metadata": {}
  }
 ]
}