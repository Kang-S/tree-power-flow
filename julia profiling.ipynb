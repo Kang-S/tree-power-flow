{
 "metadata": {
  "language": "Julia",
  "name": ""
 },
 "nbformat": 3,
 "nbformat_minor": 0,
 "worksheets": [
  {
   "cells": [
    {
     "cell_type": "code",
     "collapsed": false,
     "input": [
      "include(\"loadcase.jl\")\n",
      "include(\"algo.jl\")\n",
      "include(\"solution_display.jl\");"
     ],
     "language": "python",
     "metadata": {},
     "outputs": [],
     "prompt_number": 404
    },
    {
     "cell_type": "code",
     "collapsed": false,
     "input": [
      "gc()\n",
      "#root = loadcase(\"cases/case_G5L_v2.m\");\n",
      "#root = loadcase(\"cases/case_G5L_2gen.m\");\n",
      "#root = loadcase(\"cases/case5_renumber.m\");\n",
      "#root = loadcase(\"cases/case14_tree.m\");\n",
      "#root = loadcase(\"cases/case39_tree.m\");\n",
      "#root = loadcase(\"cases/case57_tree.m\");\n",
      "root = loadcase(\"case118_tree.m\");"
     ],
     "language": "python",
     "metadata": {},
     "outputs": [],
     "prompt_number": 404
    },
    {
     "cell_type": "code",
     "collapsed": false,
     "input": [
      "N = 11\n",
      "R1 = 250\n",
      "R2 = 500\n",
      "vhat = .982\n",
      "vmin = .8\n",
      "vmax = 5\n",
      "verbose=false\n",
      "tic()\n",
      "run_algo(root, N, R1, R2, vhat=vhat, verbose=verbose, vmin=vmin, vmax=vmax)\n",
      "toc();"
     ],
     "language": "python",
     "metadata": {},
     "outputs": [
      {
       "output_type": "stream",
       "stream": "stdout",
       "text": [
        "elapsed time: 12"
       ]
      },
      {
       "output_type": "stream",
       "stream": "stdout",
       "text": [
        ".064639525 seconds\n"
       ]
      }
     ],
     "prompt_number": 404
    },
    {
     "cell_type": "code",
     "collapsed": false,
     "input": [
      "candidates = sort(collect(values(root.candidates)))\n",
      "pretty(root, candidates, start=1, stop=5, R2=R2)\n",
      "pretty(root, candidates, start=length(candidates)-4, stop=length(candidates), R2=R2)"
     ],
     "language": "python",
     "metadata": {},
     "outputs": [
      {
       "output_type": "stream",
       "stream": "stdout",
       "text": [
        "  "
       ]
      },
      {
       "output_type": "stream",
       "stream": "stdout",
       "text": [
        "  key     p69     v69  p69_70     v70     p70  p69_47     v47     p47  p69_49     v49     p49  p69_68     v68     p68  p69_75     v75     p75 \n",
        "9000.00 8896.07    4.58  183.53    4.58  183.02   52.62    4.16   34.00 4947.60    4.16 3723.36 3450.78    4.58 3450.78  261.54    4.58  260.08 \n",
        "9500.00 9272.04    4.58  117.95    5.00   84.00  494.17    2.48   34.00 4947.60    4.16 3723.36 3450.78    4.58 3450.78  261.54    4.58  260.08 \n",
        "10000.00 10139.50    4.58  183.53    4.58  183.02   52.62    4.16   34.00 4947.60    4.16 3723.36 4220.00    2.48 4220.00  735.75    5.00  664.53 \n",
        "10500.00 10406.15    4.58  183.53    4.58  183.02   52.62    4.16   34.00 4947.60    4.16 3723.36 4220.00    2.48 4220.00 1002.40    2.90  283.34 \n",
        "11000.00 10845.30    4.58  117.95    5.00   84.00  494.17    2.48   34.00 4947.60    4.16 3723.36 3450.78    4.58 3450.78 1834.79    4.16 1748.96 \n",
        "    key     p69     v69  p69_70     v70     p70  p69_47     v47     p47  p69_49     v49     p49  p69_68     v68     p68  p69_75     v75     p75 \n",
        "103500.00 103423.60    4.58 18387.55    5.00 13029.05  691.97    2.06   34.00 7114.61    5.00 4595.08 60186.55    5.00 60186.55 17042.92    5.00 11338.71 \n",
        "104000.00 103985.67    4.58 18387.55    5.00 13029.05 1254.04    1.12   34.00 7114.61    5.00 4595.08 60186.55    5.00 60186.55 17042.92    5.00 11338.71 \n",
        "104500.00 104417.62    4.58 18387.55    5.00 13029.05 1254.04    1.12   34.00 7114.61    5.00 4595.08 61476.22    5.00 61476.22 16185.21    5.00 11083.46 \n",
        "105000.00 104982.69    4.58 18387.55    5.00 13029.05 1254.04    1.12   34.00 7114.61    5.00 4595.08 61476.22    5.00 61476.22 16750.27    4.58 11021.26 \n",
        "105500.00 105275.33    4.58 18387.55    5.00 13029.05 1254.04    1.12   34.00 7114.61    5.00 4595.08 61476.22    5.00 61476.22 17042.92    5.00 11338.71 \n"
       ]
      }
     ],
     "prompt_number": 405
    },
    {
     "cell_type": "code",
     "collapsed": true,
     "input": [
      "c1 = candidates[1]\n",
      "print_full_solution(c1, root, R2)"
     ],
     "language": "python",
     "metadata": {},
     "outputs": [
      {
       "output_type": "stream",
       "stream": "stdout",
       "text": [
        " bus31"
       ]
      },
      {
       "output_type": "stream",
       "stream": "stdout",
       "text": [
        "        -  1.00   758.76\n",
        "  bus6   758.76  1.12   758.76\n",
        "  bus5   553.18  1.16   547.75\n",
        "  bus7   235.26  1.16   233.80\n",
        " bus11   -29.68  1.16   -31.34\n",
        "  bus8   547.75  1.08   542.16\n",
        " bus10   -31.34  1.20   -34.78\n",
        "  bus9    20.16  0.80     6.50\n",
        " bus32  -650.00  1.16  -650.00\n",
        " bus13   615.22  1.20   614.16\n",
        " bus12     8.67  1.16     8.53\n",
        " bus14   605.49  1.16   602.03\n",
        "  bus4   597.62  1.20   594.64\n",
        " bus15     4.41  1.12     3.80\n",
        "  bus3    94.64  1.12    92.77\n",
        " bus16  -316.20  1.12  -316.92\n",
        "  bus2  -229.23  1.04  -233.74\n",
        " bus21  -369.31  1.12  -370.18\n",
        " bus24     6.12  1.20     0.60\n",
        " bus17   164.05  1.20   158.12\n",
        " bus19  -446.79  1.12  -449.37\n",
        " bus25  -199.82  1.04  -204.21\n",
        " bus30  -250.00  1.08  -250.00\n",
        "  bus1   216.08  1.08   214.18\n",
        " bus22  -644.18  1.04  -650.00\n",
        " bus23  -308.00  1.20  -309.46\n",
        " bus18   158.12  1.20   158.00\n",
        " bus20   174.81  1.16   174.03\n",
        " bus33  -624.18  1.00  -632.00\n",
        " bus26   110.17  1.04   109.81\n",
        " bus37  -538.38  1.04  -540.00\n",
        " bus39   116.58  0.80   104.00\n",
        " bus35  -650.00  0.96  -650.00\n",
        " bus36  -556.96  1.04  -560.00\n",
        " bus34  -505.97  1.20  -508.00\n",
        " bus29  -315.06  0.92  -324.04\n",
        " bus27   285.87  0.96   281.00\n",
        " bus38  -823.48  0.92  -830.00\n",
        " bus28   215.95  1.04   206.00\n"
       ]
      }
     ],
     "prompt_number": 287
    },
    {
     "cell_type": "code",
     "collapsed": false,
     "input": [
      "include(\"basics.jl\");"
     ],
     "language": "python",
     "metadata": {},
     "outputs": [],
     "prompt_number": 426
    },
    {
     "cell_type": "code",
     "collapsed": true,
     "input": [
      "check_all(root)"
     ],
     "language": "python",
     "metadata": {},
     "outputs": [
      {
       "output_type": "stream",
       "stream": "stdout",
       "text": [
        "bus9\n"
       ]
      },
      {
       "output_type": "stream",
       "stream": "stdout",
       "text": [
        "bus8"
       ]
      },
      {
       "output_type": "stream",
       "stream": "stdout",
       "text": [
        "\n",
        "bus86"
       ]
      },
      {
       "output_type": "stream",
       "stream": "stdout",
       "text": [
        "\n",
        "bus110\n"
       ]
      },
      {
       "metadata": {},
       "output_type": "pyout",
       "prompt_number": 427,
       "text": [
        "1.000000002181187"
       ]
      }
     ],
     "prompt_number": 427
    },
    {
     "cell_type": "code",
     "collapsed": true,
     "input": [
      "buses = Bus[]\n",
      "function DFS(bus)\n",
      "    for child in bus.children\n",
      "        DFS(child)\n",
      "    end\n",
      "    push!(buses, bus)\n",
      "end\n",
      "DFS(root)\n",
      "for (i, bus) in enumerate(buses)\n",
      "    println(i, ' ', bus)\n",
      "end"
     ],
     "language": "python",
     "metadata": {},
     "outputs": [
      {
       "output_type": "stream",
       "stream": "stdout",
       "text": [
        "1 "
       ]
      },
      {
       "output_type": "stream",
       "stream": "stdout",
       "text": [
        "bus72\n",
        "2 bus73\n",
        "3 bus71\n",
        "4 bus70\n",
        "5 bus47\n",
        "6 bus58\n",
        "7 bus52\n",
        "8 bus51\n",
        "9 bus57\n",
        "10 bus50\n",
        "11 bus53\n",
        "12 bus54\n",
        "13 bus43\n",
        "14 bus44\n",
        "15 bus46\n",
        "16 bus45\n",
        "17 bus41\n",
        "18 bus42\n",
        "19 bus56\n",
        "20 bus55\n",
        "21 bus60\n",
        "22 bus61\n",
        "23 bus59\n",
        "24 bus63\n",
        "25 bus64\n",
        "26 bus29\n",
        "27 bus28\n",
        "28 bus115\n",
        "29 bus27\n",
        "30 bus20\n",
        "31 bus21\n",
        "32 bus22\n",
        "33 bus113\n",
        "34 bus114\n",
        "35 bus31\n",
        "36 bus32\n",
        "37 bus24\n",
        "38 bus23\n",
        "39 bus25\n",
        "40 bus26\n",
        "41 bus4\n",
        "42 bus7\n",
        "43 bus6\n",
        "44 bus13\n",
        "45 bus117\n",
        "46 bus2\n",
        "47 bus14\n",
        "48 bus12\n",
        "49 bus11\n",
        "50 bus1\n",
        "51 bus3\n",
        "52 bus5\n",
        "53 bus10\n",
        "54 bus9\n",
        "55 bus8\n",
        "56 bus15\n",
        "57 bus16\n",
        "58 bus19\n",
        "59 bus18\n",
        "60 bus17\n",
        "61 bus30\n",
        "62 bus36\n",
        "63 bus34\n",
        "64 bus39\n",
        "65 bus35\n",
        "66 bus33\n",
        "67 bus40\n",
        "68 bus37\n",
        "69 bus38\n",
        "70 bus65\n",
        "71 bus67\n",
        "72 bus62\n",
        "73 bus66\n",
        "74 bus48\n",
        "75 bus49\n",
        "76 bus79\n",
        "77 bus78\n",
        "78 bus84\n",
        "79 bus87\n",
        "80 bus86\n",
        "81 bus93\n",
        "82 bus95\n",
        "83 bus99\n",
        "84 bus107\n",
        "85 bus109\n",
        "86 bus108\n",
        "87 bus105\n",
        "88 bus104\n",
        "89 bus111\n",
        "90 bus112\n",
        "91 bus110\n",
        "92 bus103\n",
        "93 bus106\n",
        "94 bus100\n",
        "95 bus94\n",
        "96 bus91\n",
        "97 bus101\n",
        "98 bus102\n",
        "99 bus92\n",
        "100 bus88\n",
        "101 bus90\n",
        "102 bus89\n",
        "103 bus85\n",
        "104 bus83\n",
        "105 bus82\n",
        "106 bus76\n",
        "107 bus77\n",
        "108 bus97\n",
        "109 bus98\n",
        "110 bus96\n",
        "111 bus80\n",
        "112 bus81\n",
        "113 bus116\n",
        "114 bus68\n",
        "115 bus74\n",
        "116 bus118\n",
        "117 bus75\n",
        "118 bus69\n"
       ]
      }
     ],
     "prompt_number": 428
    },
    {
     "cell_type": "code",
     "collapsed": false,
     "input": [
      "function argmax(x)\n",
      "    maxsofar = x[1]\n",
      "    argmaxsofar = 1\n",
      "    for (i,y) in enumerate(x[2:end])\n",
      "        if y>maxsofar\n",
      "            maxsofar = y\n",
      "            argmaxsofar = i\n",
      "        end\n",
      "    end\n",
      "    argmaxsofar\n",
      "end;"
     ],
     "language": "python",
     "metadata": {},
     "outputs": [],
     "prompt_number": 421
    },
    {
     "cell_type": "code",
     "collapsed": true,
     "input": [
      "bus = buses[54]\n",
      "errs = [check_candidate(bus, c) for c in values(bus.candidates)]\n",
      "argmax(errs), maximum(errs)"
     ],
     "language": "python",
     "metadata": {},
     "outputs": [
      {
       "metadata": {},
       "output_type": "pyout",
       "prompt_number": 429,
       "text": [
        "(36,1.0000000013973676)"
       ]
      }
     ],
     "prompt_number": 429
    },
    {
     "cell_type": "code",
     "collapsed": false,
     "input": [
      "bus"
     ],
     "language": "python",
     "metadata": {},
     "outputs": [
      {
       "metadata": {},
       "output_type": "pyout",
       "prompt_number": 430,
       "text": [
        "bus9"
       ]
      }
     ],
     "prompt_number": 430
    },
    {
     "cell_type": "code",
     "collapsed": false,
     "input": [
      "c = collect(values(bus.candidates))[36]\n",
      "println(check_candidate(bus, c))\n",
      "println(c)"
     ],
     "language": "python",
     "metadata": {},
     "outputs": [
      {
       "output_type": "stream",
       "stream": "stdout",
       "text": [
        "2."
       ]
      },
      {
       "output_type": "stream",
       "stream": "stdout",
       "text": [
        "526121534174308e-10\n",
        "Candidate(1,175.9594589056369,2.48,3x1 Array{Float64,2}:\n",
        " 175.959\n",
        "   3.32 \n",
        "   0.0  )\n"
       ]
      }
     ],
     "prompt_number": 431
    },
    {
     "cell_type": "code",
     "collapsed": false,
     "input": [
      "i = 1\n",
      "g = bus.children[i].g\n",
      "b = bus.children[i].b\n",
      "vk = c.v\n",
      "pkm, vm, d = c.children[:,i];\n",
      "pm = -d;\n",
      "pkm2, t = pk_\u03b8(g=g, b=b, vk=vk, vm=vm, pm=pm);\n",
      "@printf \"%.2f %.2f %.2f %.2f %.3f\" vk vm pkm pm t"
     ],
     "language": "python",
     "metadata": {},
     "outputs": [
      {
       "output_type": "stream",
       "stream": "stdout",
       "text": [
        "2."
       ]
      },
      {
       "output_type": "stream",
       "stream": "stdout",
       "text": [
        "48 3.32 175.96 -0.00 -0.027"
       ]
      }
     ],
     "prompt_number": 432
    },
    {
     "cell_type": "code",
     "collapsed": false,
     "input": [
      "g,b"
     ],
     "language": "python",
     "metadata": {},
     "outputs": [
      {
       "metadata": {},
       "output_type": "pyout",
       "prompt_number": 433,
       "text": [
        "(247.24570204554607,-3085.77969219635)"
       ]
      }
     ],
     "prompt_number": 433
    },
    {
     "cell_type": "code",
     "collapsed": false,
     "input": [
      "pk(g=g,b=b,vk=vk,vm=vm,pm=pm)"
     ],
     "language": "python",
     "metadata": {},
     "outputs": [
      {
       "metadata": {},
       "output_type": "pyout",
       "prompt_number": 434,
       "text": [
        "175.9594589056369"
       ]
      }
     ],
     "prompt_number": 434
    },
    {
     "cell_type": "code",
     "collapsed": false,
     "input": [
      "check2(g=g,b=b,vk=vk,vm=vm,pk=pkm,pm=pm,\u03b8=-t)"
     ],
     "language": "python",
     "metadata": {},
     "outputs": [
      {
       "metadata": {},
       "output_type": "pyout",
       "prompt_number": 435,
       "text": [
        "(1.146075232871605,1.0,-1204.581060365648,1380.5405192712851)"
       ]
      }
     ],
     "prompt_number": 435
    },
    {
     "cell_type": "markdown",
     "metadata": {},
     "source": [
      "<hr style='height:6px'>"
     ]
    },
    {
     "cell_type": "code",
     "collapsed": false,
     "input": [
      "#@profile run_algo(buses)\n",
      "#Profile.print()"
     ],
     "language": "python",
     "metadata": {},
     "outputs": [],
     "prompt_number": 1
    },
    {
     "cell_type": "code",
     "collapsed": false,
     "input": [
      "using IProfile"
     ],
     "language": "python",
     "metadata": {},
     "outputs": []
    },
    {
     "cell_type": "code",
     "collapsed": false,
     "input": [
      "@iprofile clear"
     ],
     "language": "python",
     "metadata": {},
     "outputs": [
      {
       "ename": "LoadError",
       "evalue": "@iprofile not defined\nat In[2]:0",
       "output_type": "pyerr",
       "traceback": [
        "@iprofile not defined\nat In[2]:0"
       ]
      }
     ],
     "prompt_number": 2
    },
    {
     "cell_type": "code",
     "collapsed": false,
     "input": [
      "@iprofile report"
     ],
     "language": "python",
     "metadata": {},
     "outputs": []
    },
    {
     "cell_type": "code",
     "collapsed": false,
     "input": [
      "@iprofile begin\n",
      "end"
     ],
     "language": "python",
     "metadata": {},
     "outputs": []
    },
    {
     "cell_type": "code",
     "collapsed": false,
     "input": [
      "gc() # garbage collection"
     ],
     "language": "python",
     "metadata": {},
     "outputs": [],
     "prompt_number": 3
    }
   ],
   "metadata": {}
  }
 ]
}