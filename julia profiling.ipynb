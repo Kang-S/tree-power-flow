{
 "metadata": {
  "language": "Julia",
  "name": ""
 },
 "nbformat": 3,
 "nbformat_minor": 0,
 "worksheets": [
  {
   "cells": [
    {
     "cell_type": "code",
     "collapsed": false,
     "input": [
      "include(\"loadcase.jl\")\n",
      "include(\"algo.jl\")\n",
      "include(\"solution_display.jl\");"
     ],
     "language": "python",
     "metadata": {},
     "outputs": [],
     "prompt_number": 93
    },
    {
     "cell_type": "code",
     "collapsed": false,
     "input": [
      "gc()\n",
      "#buses = loadcase(\"case_G5L.m\");\n",
      "#buses = loadcase(\"case14_tree.m\");\n",
      "buses = loadcase(\"case30_tree.m\");"
     ],
     "language": "python",
     "metadata": {},
     "outputs": [],
     "prompt_number": 95
    },
    {
     "cell_type": "code",
     "collapsed": false,
     "input": [
      "N = 11\n",
      "R1 = 1\n",
      "R2 = 2\n",
      "vhat = 1.0\n",
      "tic()\n",
      "run_algo(buses, N, R1, R2, vhat)\n",
      "toc();"
     ],
     "language": "python",
     "metadata": {},
     "outputs": [
      {
       "output_type": "stream",
       "stream": "stdout",
       "text": [
        "bus30 "
       ]
      },
      {
       "output_type": "stream",
       "stream": "stdout",
       "text": [
        "11\n",
        "bus29 71\n",
        "bus28 11\n",
        "bus27 74\n",
        "bus26 523\n",
        "bus25 722"
       ]
      },
      {
       "output_type": "stream",
       "stream": "stdout",
       "text": [
        "\n",
        "bus24 11\n",
        "bus23 75\n",
        "bus22 311\n",
        "bus21 11\n",
        "bus20 11\n",
        "bus19 97\n",
        "bus18 475\n",
        "bus17 11\n",
        "bus16 77\n",
        "bus15 11\n",
        "bus14 1660"
       ]
      },
      {
       "output_type": "stream",
       "stream": "stdout",
       "text": [
        "\n",
        "bus13 11\n",
        "bus12 2833"
       ]
      },
      {
       "output_type": "stream",
       "stream": "stdout",
       "text": [
        "\n",
        "bus11 11\n",
        "bus10 1729"
       ]
      },
      {
       "output_type": "stream",
       "stream": "stdout",
       "text": [
        "\n",
        "bus9 2243\n",
        "bus8 937"
       ]
      },
      {
       "output_type": "stream",
       "stream": "stdout",
       "text": [
        "\n",
        "bus7 11\n",
        "bus6 2265"
       ]
      },
      {
       "output_type": "stream",
       "stream": "stdout",
       "text": [
        "\n",
        "bus5 85\n",
        "bus4 7590"
       ]
      },
      {
       "output_type": "stream",
       "stream": "stdout",
       "text": [
        "\n",
        "bus3 11\n",
        "bus2 74\n",
        "bus1 248\n",
        "elapsed time: 19.963306639 seconds\n"
       ]
      }
     ],
     "prompt_number": 95
    },
    {
     "cell_type": "code",
     "collapsed": false,
     "input": [
      "check_all(buses)"
     ],
     "language": "python",
     "metadata": {},
     "outputs": [
      {
       "metadata": {},
       "output_type": "pyout",
       "prompt_number": 96,
       "text": [
        "3.229544631722092e-8"
       ]
      }
     ],
     "prompt_number": 96
    },
    {
     "cell_type": "code",
     "collapsed": false,
     "input": [
      "b1 = buses[1]\n",
      "candidates = sort(collect(values(b1.candidates)))\n",
      "pretty(b1, candidates, start=1, stop=5)\n",
      "pretty(b1, candidates, start=length(candidates)-4, stop=length(candidates))"
     ],
     "language": "python",
     "metadata": {},
     "outputs": [
      {
       "output_type": "stream",
       "stream": "stdout",
       "text": [
        "  "
       ]
      },
      {
       "output_type": "stream",
       "stream": "stdout",
       "text": [
        "   p1      v1    p1_2      v2      p2    p1_5      v5      p5 \n",
        " 279.98    1.06  227.07    1.04  218.08   52.90    1.06   51.51 \n",
        " 281.02    1.06  227.07    1.04  218.08   53.94    1.00   52.39 \n",
        " 281.97    1.06  227.07    1.04  218.08   54.90    1.10   53.06 \n",
        " 283.38    1.06  227.44    1.02  218.50   55.94    0.96   53.80 \n",
        " 283.93    1.06  230.32    1.06  220.57   53.61    1.10   51.84 \n",
        "     p1      v1    p1_2      v2      p2    p1_5      v5      p5 \n",
        " 703.72    1.06  382.35    0.80  334.18  321.36    0.80  257.95 \n",
        " 704.83    1.06  383.47    0.80  335.16  321.36    0.80  257.95 \n",
        " 706.44    1.06  388.01    0.80  339.17  318.44    0.82  257.95 \n",
        " 706.89    1.06  385.53    0.80  336.98  321.36    0.80  257.95 \n",
        " 709.37    1.06  388.01    0.80  339.17  321.36    0.80  257.95 \n"
       ]
      }
     ],
     "prompt_number": 77
    },
    {
     "cell_type": "code",
     "collapsed": false,
     "input": [
      "c1 = candidates[14]\n",
      "print_full_solution(c1, b1, R2)"
     ],
     "language": "python",
     "metadata": {},
     "outputs": [
      {
       "output_type": "stream",
       "stream": "stdout",
       "text": [
        "  "
       ]
      },
      {
       "output_type": "stream",
       "stream": "stdout",
       "text": [
        "bus1 292.704   1.060\n",
        "  bus2 228.545   1.080 218.036\n",
        "  bus5  64.158   1.000  62.044\n",
        "  bus3  98.419   1.000  94.200\n",
        "  bus4  97.917   1.040  93.140\n",
        "  bus6  54.444   0.820  54.444\n",
        "  bus7   0.000   1.060   0.000\n",
        "  bus9  45.340   1.020  45.340\n",
        " bus10  15.969   0.840  15.287\n",
        " bus12   6.628   0.860   6.100\n",
        " bus13  20.647   0.940  13.500\n",
        "  bus8   0.000   0.840   0.000\n",
        " bus14  15.840   0.940  14.900\n",
        " bus11  11.787   0.940   9.000\n"
       ]
      }
     ],
     "prompt_number": 64
    },
    {
     "cell_type": "markdown",
     "metadata": {},
     "source": [
      "<hr style='height:6px'>"
     ]
    },
    {
     "cell_type": "code",
     "collapsed": false,
     "input": [
      "VRANGE = linspace(.8,1.2,N)\n",
      "vhat = 1.06\n",
      "sort!(VRANGE, by = x->abs(1.06-x)).'"
     ],
     "language": "python",
     "metadata": {},
     "outputs": [
      {
       "metadata": {},
       "output_type": "pyout",
       "prompt_number": 68,
       "text": [
        "1x21 Array{Float64,2}:\n",
        " 1.06  1.04  1.08  1.1  1.02  1.0  1.12  \u2026  0.9  0.88  0.86  0.84  0.82  0.8"
       ]
      }
     ],
     "prompt_number": 68
    },
    {
     "cell_type": "code",
     "collapsed": false,
     "input": [
      "#@profile run_algo(buses)\n",
      "#Profile.print()"
     ],
     "language": "python",
     "metadata": {},
     "outputs": [],
     "prompt_number": 1
    },
    {
     "cell_type": "code",
     "collapsed": false,
     "input": [
      "using IProfile"
     ],
     "language": "python",
     "metadata": {},
     "outputs": []
    },
    {
     "cell_type": "code",
     "collapsed": false,
     "input": [
      "@iprofile clear"
     ],
     "language": "python",
     "metadata": {},
     "outputs": [
      {
       "ename": "LoadError",
       "evalue": "@iprofile not defined\nat In[2]:0",
       "output_type": "pyerr",
       "traceback": [
        "@iprofile not defined\nat In[2]:0"
       ]
      }
     ],
     "prompt_number": 2
    },
    {
     "cell_type": "code",
     "collapsed": false,
     "input": [
      "@iprofile report"
     ],
     "language": "python",
     "metadata": {},
     "outputs": []
    },
    {
     "cell_type": "code",
     "collapsed": false,
     "input": [
      "@iprofile begin\n",
      "end"
     ],
     "language": "python",
     "metadata": {},
     "outputs": []
    },
    {
     "cell_type": "code",
     "collapsed": false,
     "input": [
      "gc() # garbage collection"
     ],
     "language": "python",
     "metadata": {},
     "outputs": [],
     "prompt_number": 3
    }
   ],
   "metadata": {}
  }
 ]
}