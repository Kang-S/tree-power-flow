{
 "metadata": {
  "language": "Julia",
  "name": "",
  "signature": "sha256:a6d5b2e77dc406c72aab485f457c19869cc83f9a262949cf2ed20a0da48760dd"
 },
 "nbformat": 3,
 "nbformat_minor": 0,
 "worksheets": [
  {
   "cells": [
    {
     "cell_type": "code",
     "collapsed": false,
     "input": [
      "include(\"loadcase.jl\")\n",
      "include(\"algo.jl\")\n",
      "include(\"solution_display.jl\");"
     ],
     "language": "python",
     "metadata": {},
     "outputs": [],
     "prompt_number": 278
    },
    {
     "cell_type": "code",
     "collapsed": true,
     "input": [
      "gc()\n",
      "Profile.clear()\n",
      "#root, vhat = loadcase(\"cases/case_G5L_v2.m\");\n",
      "#root = loadcase(\"cases/case_G5L_2gen.m\");\n",
      "#casefile = \"cases/case5_renumber_tree.m\"\n",
      "#casefile = \"cases/case14_tree.m\"\n",
      "#casefile = \"cases/case39_tree.m\"\n",
      "#casefile = \"cases/case57_tree.m\"\n",
      "casefile = \"cases/case118_tree.m\"\n",
      "#casefile = \"cases/case300_tree.m\"\n",
      "root, vhat = loadcase(casefile)\n",
      "println(\"root $root vhat $vhat\")\n",
      "N = 21\n",
      "R1 = 5\n",
      "R2 = 10\n",
      "vmin = .9\n",
      "vmax = 1.1\n",
      "verbose = false\n",
      "run_algo(root, N, R1, R2, vhat=vhat, verbose=verbose, vmin=vmin, vmax=vmax)\n",
      "#@profile run_algo(root, N, R1, R2, vhat=vhat, verbose=verbose, vmin=vmin, vmax=vmax)\n",
      "if check_all(root) > 1e-4 error(\"WTF\") end"
     ],
     "language": "python",
     "metadata": {},
     "outputs": [
      {
       "output_type": "stream",
       "stream": "stdout",
       "text": [
        "bus69 "
       ]
      },
      {
       "output_type": "stream",
       "stream": "stdout",
       "text": [
        "1.035\n",
        "bus83"
       ]
      },
      {
       "output_type": "stream",
       "stream": "stdout",
       "text": [
        " 0.007246873940123244\n"
       ]
      },
      {
       "ename": "LoadError",
       "evalue": "WTF\nat In[204]:21",
       "output_type": "pyerr",
       "traceback": [
        "WTF\nat In[204]:21",
        " in error at error.jl:21"
       ]
      }
     ],
     "prompt_number": 204
    },
    {
     "cell_type": "code",
     "collapsed": false,
     "input": [
      "check_all(root)"
     ],
     "language": "python",
     "metadata": {},
     "outputs": [
      {
       "metadata": {},
       "output_type": "pyout",
       "prompt_number": 279,
       "text": [
        "2.857685549805898e-9"
       ]
      }
     ],
     "prompt_number": 279
    },
    {
     "cell_type": "code",
     "collapsed": false,
     "input": [
      "run(`./visualize_graph.sh $casefile`)"
     ],
     "language": "python",
     "metadata": {},
     "outputs": [],
     "prompt_number": 158
    },
    {
     "cell_type": "code",
     "collapsed": true,
     "input": [
      "candidates = sort(collect(values(root.candidates)));"
     ],
     "language": "python",
     "metadata": {},
     "outputs": [],
     "prompt_number": 204
    },
    {
     "cell_type": "code",
     "collapsed": true,
     "input": [
      "c1 = candidates[1]\n",
      "matpower_compare(casefile, c1, root, R2)"
     ],
     "language": "python",
     "metadata": {},
     "outputs": [
      {
       "output_type": "stream",
       "stream": "stdout",
       "text": [
        "  "
       ]
      },
      {
       "output_type": "stream",
       "stream": "stdout",
       "text": [
        "fbus   tbus        fp1        fp2        tp1        tp2    fv1    fv2    tv1    tv2\n",
        "     1      2       82.0       81.2      -80.8      -80.1   1.06   1.06   1.04   1.04\n",
        "     1      5      165.2      157.5     -152.1     -145.2   1.06   1.06   1.05   0.97\n",
        "     2      3       99.1       98.4      -94.2      -94.2   1.04   1.04   1.09   1.01\n",
        "     4      5     -104.2     -101.6      107.6      103.1   1.09   0.97   1.05   0.97\n",
        "     4      7       56.4       53.8      -56.4      -53.8   1.09   0.97   0.96   1.03\n",
        "     5      6       36.9       34.5      -36.9      -34.5   1.05   0.97   1.05   1.07\n",
        "     6     11        3.5        3.5       -3.5       -3.5   1.05   1.07   1.04   1.06\n",
        "     6     12        8.5        6.1       -6.1       -6.1   1.05   1.07   0.93   1.06\n",
        "     6     13       13.7       13.6      -13.5      -13.5   1.05   1.07   1.03   1.05\n",
        "     7      8        0.0        0.0       -0.0       -0.0   0.96   1.03   0.91   1.09\n",
        "     7      9       56.4       53.8      -56.4      -53.8   0.96   1.03   0.99   1.02\n",
        "     9     10       10.3        9.0       -9.0       -9.0   0.99   1.02   1.04   1.01\n",
        "     9     14       16.6       15.2      -14.9      -14.9   0.99   1.02   1.06   0.99\n"
       ]
      }
     ],
     "prompt_number": 180
    },
    {
     "cell_type": "code",
     "collapsed": false,
     "input": [
      "pretty(root, candidates, start=1, stop=5, R2=R2)\n",
      "#pretty(root, candidates, start=length(candidates)-4, stop=length(candidates), R2=R2)"
     ],
     "language": "python",
     "metadata": {},
     "outputs": [
      {
       "output_type": "stream",
       "stream": "stdout",
       "text": [
        "  "
       ]
      },
      {
       "output_type": "stream",
       "stream": "stdout",
       "text": [
        "  key     p69     v69  p69_70     v70     p70  p69_47     v47     p47  p69_49     v49     p49  p69_68     v68     p68  p69_75     v75     p75 \n",
        " 610.00  612.90    1.03   87.29    1.01   85.14   35.30    1.06   34.00  121.92    1.09  107.26  204.84    0.94  204.84  163.55    1.09  150.60 \n",
        " 620.00  619.47    1.03   87.29    1.01   85.14   35.30    1.06   34.00  121.92    1.09  107.26  204.84    0.94  204.84  170.13    0.96  158.93 \n",
        " 630.00  627.93    1.03   87.29    1.01   85.14   35.30    1.06   34.00  121.92    1.09  107.26  204.84    0.94  204.84  178.58    0.90  164.71 \n",
        " 640.00  635.90    1.03   87.29    1.01   85.14   35.30    1.06   34.00  121.92    1.09  107.26  212.81    0.97  212.81  178.58    0.90  164.71 \n",
        " 650.00  650.97    1.03   87.29    1.01   85.14   35.30    1.06   34.00  139.28    0.93  120.86  212.81    0.97  212.81  176.28    0.91  163.09 \n"
       ]
      }
     ],
     "prompt_number": 205
    },
    {
     "cell_type": "code",
     "collapsed": false,
     "input": [
      "#c1 = candidates[1]\n",
      "#print_full_solution(c1, root, R2)"
     ],
     "language": "python",
     "metadata": {},
     "outputs": [],
     "prompt_number": 79
    },
    {
     "cell_type": "markdown",
     "metadata": {},
     "source": [
      "#Special matpower solution check"
     ]
    },
    {
     "cell_type": "code",
     "collapsed": false,
     "input": [
      "x = load_matpower_solution(casefile);"
     ],
     "language": "python",
     "metadata": {},
     "outputs": [],
     "prompt_number": 198
    },
    {
     "cell_type": "code",
     "collapsed": false,
     "input": [
      "function matpower_check(branch)\n",
      "    pkm, pm, vk, vm, g, b = branch[3:end]\n",
      "    pkm2, \u03b8 = pk_\u03b8(g=g, b=b, vk=vk,vm=vm,pm=pm)\n",
      "    check(g=g, b=b, pk=pkm, vk=vk, pm=pm, vm=vm, \u03b8=\u03b8)\n",
      "end;\n",
      "function matpower_check_all(branches)\n",
      "    maximum([matpower_check(branch) for branch in branches])\n",
      "end;"
     ],
     "language": "python",
     "metadata": {},
     "outputs": [],
     "prompt_number": 198
    },
    {
     "cell_type": "code",
     "collapsed": false,
     "input": [
      "matpower_check_all(x)"
     ],
     "language": "python",
     "metadata": {},
     "outputs": [
      {
       "metadata": {},
       "output_type": "pyout",
       "prompt_number": 199,
       "text": [
        "6.43688184425173e-5"
       ]
      }
     ],
     "prompt_number": 199
    },
    {
     "cell_type": "markdown",
     "metadata": {},
     "source": [
      "#Linear regression on potential bottlenecks to predict time"
     ]
    },
    {
     "cell_type": "code",
     "collapsed": false,
     "input": [
      "t = \"\"\"\n",
      "bus72      0     21      0    21 0.000112\n",
      " bus73      0     21      0    21 0.000118\n",
      " bus71    882    151    122    43 0.003511\n",
      " bus70    903    202    202   105 0.003416\n",
      " bus47      0     21      0    21 0.000156\n",
      " bus58      0     21      0    21 0.000143\n",
      " bus52      0     21      0    21 0.000268\n",
      " bus51    882    465    190    90 0.009336\n",
      " bus57      0     21      0    21 0.000121\n",
      " bus50    441     54     54    36 0.001800\n",
      " bus53      0     21      0    21 0.000149\n",
      " bus54    441     35     35    23 0.002339\n",
      " bus43      0     21      0    21 0.000080\n",
      " bus44    441     42     42    21 0.001535\n",
      " bus46      0     21      0    21 0.000090\n",
      " bus45    882    140    107    48 0.003704\n",
      " bus41      0     21      0    21 0.000076\n",
      " bus42    441     48     48    35 0.001542\n",
      " bus56      0     21      0    21 0.000114\n",
      " bus55      0     21      0    21 0.000077\n",
      " bus60      0     21      0    21 0.000101\n",
      " bus61    441    215    215   109 0.002602\n",
      " bus59   3171    823    460   202 0.014345\n",
      " bus63   4242    441    441   231 0.016281\n",
      " bus64   4851    496    496   254 0.013727\n",
      " bus29      0     21      0    21 0.000095\n",
      " bus28    441     50     50    31 0.001362\n",
      "bus115      0     21      0    21 0.000070\n",
      " bus27   1092    375    179    88 0.004868\n",
      " bus20      0     21      0    21 0.000072\n",
      " bus21    441     59     59    27 0.001400\n",
      " bus22    567     88     88    55 0.001789\n",
      "bus113      0     21      0    21 0.000123\n",
      "bus114      0     21      0    21 0.000072\n",
      " bus31      0     21      0    21 0.000133\n",
      " bus32   1323    313    182    55 0.005158\n",
      " bus24      0     21      0    21 0.000072\n",
      " bus23   2751   2296    461   197 0.018612\n",
      " bus25   5985   6724    812   405 0.357083\n",
      " bus26   8505    903    903   441 0.031467\n",
      "  bus4      0     21      0    21 0.000125\n",
      "  bus7      0     21      0    21 0.000114\n",
      "  bus6    441    171    171    82 0.002318\n",
      " bus13      0     21      0    21 0.000070\n",
      "bus117      0     21      0    21 0.000066\n",
      "  bus2      0     21      0    21 0.000112\n",
      " bus14      0     21      0    21 0.000067\n",
      " bus12   1323    508    222    79 0.005985\n",
      " bus11   2100   1727    497   258 0.014275\n",
      "  bus1      0     21      0    21 0.000073\n",
      "  bus3    441    128    128    62 0.001643\n",
      "  bus5   8883  26178   1621   869 0.436038\n",
      " bus10      0     21      0    21 0.000120\n",
      "  bus9    441     60     60    36 0.001656\n",
      "  bus8  19005   9898   2219  1162 0.425617\n",
      " bus15      0     21      0    21 0.000111\n",
      " bus16      0     21      0    21 0.000108\n",
      " bus19      0     21      0    21 0.000107\n",
      " bus18    441     84     84    38 0.002643\n",
      " bus17   1680    851    337   143 0.017122\n",
      " bus30  36666 149122   3945  1945 3.588930\n",
      " bus36      0     21      0    21 0.000107\n",
      " bus34    441    186    186   103 0.003094\n",
      " bus39      0     21      0    21 0.000118\n",
      " bus35      0     21      0    21 0.000107\n",
      " bus33      0     21      0    21 0.000116\n",
      " bus40      0     21      0    21 0.000115\n",
      " bus37   3927   5082    849   379 0.041412\n",
      " bus38  48804 173360   4307  2232 4.101177\n",
      " bus65  52206  38218   1965  1001 1.251625\n",
      " bus67      0     21      0    21 0.000158\n",
      " bus62      0     21      0    21 0.000103\n",
      " bus66  21903   7985   2465  1084 0.101448\n",
      " bus48      0     21      0    21 0.000139\n",
      " bus49  28077  49738   3009  1437 1.215825\n",
      " bus79      0     21      0    21 0.000146\n",
      " bus78      0     21      0    21 0.000114\n",
      " bus84      0     21      0    21 0.000106\n",
      " bus87      0     21      0    21 0.000113\n",
      " bus86    441     37     37    37 0.003725\n",
      " bus93      0     21      0    21 0.000114\n",
      " bus95      0     21      0    21 0.000079\n",
      " bus99      0     21      0    21 0.000094\n",
      "bus107      0     21      0    21 0.000116\n",
      "bus109      0     21      0    21 0.000105\n",
      "bus108    441    181    181   105 0.002115\n",
      "bus105   2646    943    427   224 0.020012\n",
      "bus104   4704    605    605   320 0.015987\n",
      "bus111      0     21      0    21 0.000135\n",
      "bus112      0     21      0    21 0.000077\n",
      "bus110    882    399    174    84 0.005060\n",
      "bus103   1764    298    298   155 0.330878\n",
      "bus106      0     21      0    21 0.000114\n",
      "bus100  10857   8990   1085   452 0.078775\n",
      " bus94   9933   8817   1739   950 0.394167\n",
      " bus91      0     21      0    21 0.000143\n",
      "bus101      0     21      0    21 0.000125\n",
      "bus102    441     56     56    24 0.002804\n",
      " bus92  21336   4936    925   451 0.070660\n",
      " bus88      0     21      0    21 0.000142\n",
      " bus90      0     21      0    21 0.000129\n",
      " bus89  10353   6560   1574   810 0.391681\n",
      " bus85  18228   4974   1296   640 0.102266\n",
      " bus83  13440   1102   1102   584 0.380710\n",
      " bus82  12264   1674   1674   882 0.044309\n",
      " bus76      0     21      0    21 0.000077\n",
      " bus77  19404  22020   1916   958 0.461079\n",
      " bus97      0     21      0    21 0.000154\n",
      " bus98      0     21      0    21 0.000118\n",
      " bus96      0     21      0    21 0.000119\n",
      " bus80  21882  16105   2834  1135 0.461584\n",
      " bus81  23835   3766   3766  1922 0.402688\n",
      "bus116      0     21      0    21 0.000115\n",
      " bus68  40803  51848   4488  2272 1.337751\n",
      " bus74      0     21      0    21 0.000157\n",
      "bus118      0     21      0    21 0.000143\n",
      " bus75    882    669    225   108 0.007403\n",
      " bus69   3943   4727    248   126 0.367441\"\"\";"
     ],
     "language": "python",
     "metadata": {},
     "outputs": [],
     "prompt_number": 160
    },
    {
     "cell_type": "code",
     "collapsed": false,
     "input": [
      "X, y = Array(Float64,118,2), Array(Float64,118,1)\n",
      "for (i,bus) in enumerate(split(t, '\\n'))\n",
      "    line = split(bus)[2:end]\n",
      "    x = map(parsefloat, line[1:2])\n",
      "    X[i,:] = x\n",
      "    y[i] = parsefloat(line[5])\n",
      "end"
     ],
     "language": "python",
     "metadata": {},
     "outputs": [],
     "prompt_number": 162
    },
    {
     "cell_type": "code",
     "collapsed": false,
     "input": [
      "X\\y"
     ],
     "language": "python",
     "metadata": {},
     "outputs": [
      {
       "metadata": {},
       "output_type": "pyout",
       "prompt_number": 163,
       "text": [
        "2x1 Array{Float64,2}:\n",
        " 5.92977e-6\n",
        " 2.20861e-5"
       ]
      }
     ],
     "prompt_number": 163
    },
    {
     "cell_type": "markdown",
     "metadata": {},
     "source": [
      "#Debugging when check > 1e-3"
     ]
    },
    {
     "cell_type": "code",
     "collapsed": false,
     "input": [
      "buses = Bus[]\n",
      "function DFS(bus)\n",
      "    for child in bus.children\n",
      "        DFS(child)\n",
      "    end\n",
      "    push!(buses, bus)\n",
      "end\n",
      "DFS(root)\n",
      "for (i, bus) in enumerate(buses)\n",
      "    println(i, ' ', bus)\n",
      "end"
     ],
     "language": "python",
     "metadata": {},
     "outputs": [
      {
       "output_type": "stream",
       "stream": "stdout",
       "text": [
        "1 "
       ]
      },
      {
       "output_type": "stream",
       "stream": "stdout",
       "text": [
        "bus72\n",
        "2 bus73\n",
        "3 bus71\n",
        "4 bus70\n",
        "5 bus47\n",
        "6 bus58\n",
        "7 bus52\n",
        "8 bus51\n",
        "9 bus57\n",
        "10 bus50\n",
        "11 bus53\n",
        "12 bus54\n",
        "13 bus43\n",
        "14 bus44\n",
        "15 bus46\n",
        "16 bus45\n",
        "17 bus41\n",
        "18 bus42\n",
        "19 bus56\n",
        "20 bus55\n",
        "21 bus60\n",
        "22 bus61\n",
        "23 bus59\n",
        "24 bus63\n",
        "25 bus64\n",
        "26 bus29\n",
        "27 bus28\n",
        "28 bus115\n",
        "29 bus27\n",
        "30 bus20\n",
        "31 bus21\n",
        "32 bus22\n",
        "33 bus113\n",
        "34 bus114\n",
        "35 bus31\n",
        "36 bus32\n",
        "37 bus24\n",
        "38 bus23\n",
        "39 bus25\n",
        "40 bus26\n",
        "41 bus4\n",
        "42 bus7\n",
        "43 bus6\n",
        "44 bus13\n",
        "45 bus117\n",
        "46 bus2\n",
        "47 bus14\n",
        "48 bus12\n",
        "49 bus11\n",
        "50 bus1\n",
        "51 bus3\n",
        "52 bus5\n",
        "53 bus10\n",
        "54 bus9\n",
        "55 bus8\n",
        "56 bus15\n",
        "57 bus16\n",
        "58 bus19\n",
        "59 bus18\n",
        "60 bus17\n",
        "61 bus30\n",
        "62 bus36\n",
        "63 bus34\n",
        "64 bus39\n",
        "65 bus35\n",
        "66 bus33\n",
        "67 bus40\n",
        "68 bus37\n",
        "69 bus38\n",
        "70 bus65\n",
        "71 bus67\n",
        "72 bus62\n",
        "73 bus66\n",
        "74 bus48\n",
        "75 bus49\n",
        "76 bus79\n",
        "77 bus78\n",
        "78 bus84\n",
        "79 bus87\n",
        "80 bus86\n",
        "81 bus93\n",
        "82 bus95\n",
        "83 bus99\n",
        "84 bus107\n",
        "85 bus109\n",
        "86 bus108\n",
        "87 bus105\n",
        "88 bus104\n",
        "89 bus111\n",
        "90 bus112\n",
        "91 bus110\n",
        "92 bus103\n",
        "93 bus106\n",
        "94 bus100\n",
        "95 bus94\n",
        "96 bus91\n",
        "97 bus101\n",
        "98 bus102\n",
        "99 bus92\n",
        "100 bus88\n",
        "101 bus90\n",
        "102 bus89\n",
        "103 bus85\n",
        "104 bus83\n",
        "105 bus82\n",
        "106 bus76\n",
        "107 bus77\n",
        "108 bus97\n",
        "109 bus98\n",
        "110 bus96\n",
        "111 bus80\n",
        "112 bus81\n",
        "113 bus116\n",
        "114 bus68\n",
        "115 bus74\n",
        "116 bus118\n",
        "117 bus75\n",
        "118 bus69\n"
       ]
      }
     ],
     "prompt_number": 209
    },
    {
     "cell_type": "code",
     "collapsed": false,
     "input": [
      "function argmax(x)\n",
      "    maxsofar = x[1]\n",
      "    argmaxsofar = 1\n",
      "    for (i,y) in enumerate(x[2:end])\n",
      "        if y>maxsofar\n",
      "            maxsofar = y\n",
      "            argmaxsofar = i+1\n",
      "        end\n",
      "    end\n",
      "    argmaxsofar\n",
      "end;"
     ],
     "language": "python",
     "metadata": {},
     "outputs": [],
     "prompt_number": 206
    },
    {
     "cell_type": "code",
     "collapsed": true,
     "input": [
      "bus = buses[105]\n",
      "errs = [check_candidate(bus, c) for c in values(bus.candidates)]\n",
      "c_index = argmax(errs)\n",
      "println(\"$bus candidate$c_index $(errs[c_index])\")"
     ],
     "language": "python",
     "metadata": {},
     "outputs": [
      {
       "output_type": "stream",
       "stream": "stdout",
       "text": [
        "bus82 candidate122 1.688994000683641e-9\n"
       ]
      }
     ],
     "prompt_number": 285
    },
    {
     "cell_type": "code",
     "collapsed": false,
     "input": [
      "c = collect(values(bus.candidates))[c_index]\n",
      "println(check_candidate(bus, c))\n",
      "println(c)"
     ],
     "language": "python",
     "metadata": {},
     "outputs": [
      {
       "output_type": "stream",
       "stream": "stdout",
       "text": [
        "1."
       ]
      },
      {
       "output_type": "stream",
       "stream": "stdout",
       "text": [
        "688994000683641e-9\n",
        "Candidate(1,0.555321574548979,0.92,3x1 Array{Float64,2}:\n",
        " 0.555322\n",
        " 0.92    \n",
        " 0.555277)\n"
       ]
      }
     ],
     "prompt_number": 286
    },
    {
     "cell_type": "code",
     "collapsed": false,
     "input": [
      "i = 1\n",
      "g = bus.children[i].g\n",
      "b = bus.children[i].b\n",
      "vk = c.v\n",
      "pkm, vm, d = c.children[:,i];\n",
      "pm = -d;\n",
      "pkm2, t = pk_\u03b8(g=g, b=b, vk=vk, vm=vm, pm=pm)\n",
      "println(check2(g=g,b=b,pk=pkm,vk=vk,pm=pm,vm=vm,\u03b8=t))\n",
      "@printf \"%.2f %.2f %.2f %.2f %.6f\" vk vm pkm pm t"
     ],
     "language": "python",
     "metadata": {},
     "outputs": [
      {
       "output_type": "stream",
       "stream": "stdout",
       "text": [
        "(1"
       ]
      },
      {
       "output_type": "stream",
       "stream": "stdout",
       "text": [
        ".6887927335163478e-9,1.688994000683641e-9,0.555321575486802,-0.555276961541935)\n",
        "0.92 0.92 0.56 -0.56 -0.000263"
       ]
      }
     ],
     "prompt_number": 292
    },
    {
     "cell_type": "code",
     "collapsed": false,
     "input": [
      "g,b"
     ],
     "language": "python",
     "metadata": {},
     "outputs": [
      {
       "metadata": {},
       "output_type": "pyout",
       "prompt_number": 288,
       "text": [
        "(762.5986228966831,-2495.4678151038784)"
       ]
      }
     ],
     "prompt_number": 288
    },
    {
     "cell_type": "code",
     "collapsed": false,
     "input": [
      "pk(g=g,b=b,vk=vk,vm=vm,pm=pm)"
     ],
     "language": "python",
     "metadata": {},
     "outputs": [
      {
       "metadata": {},
       "output_type": "pyout",
       "prompt_number": 289,
       "text": [
        "0.555321574548979"
       ]
      }
     ],
     "prompt_number": 289
    },
    {
     "cell_type": "code",
     "collapsed": false,
     "input": [
      "disc = b^2*(-pm^2+(2*g*pm+(b^2+g^2)*vk^2)*vm^2-g^2*vm^4)\n",
      "arg = (-g*pm+g^2*vm^2+disc^.5)/((b^2+g^2)*vk*vm)"
     ],
     "language": "python",
     "metadata": {},
     "outputs": [
      {
       "metadata": {},
       "output_type": "pyout",
       "prompt_number": 294,
       "text": [
        "0.99999996544038"
       ]
      }
     ],
     "prompt_number": 294
    },
    {
     "cell_type": "code",
     "collapsed": false,
     "input": [
      "acos(arg)"
     ],
     "language": "python",
     "metadata": {},
     "outputs": [
      {
       "metadata": {},
       "output_type": "pyout",
       "prompt_number": 295,
       "text": [
        "0.00026290538318440556"
       ]
      }
     ],
     "prompt_number": 295
    },
    {
     "cell_type": "code",
     "collapsed": false,
     "input": [
      "check2(g=g,b=b,vk=vk,vm=vm,pk=pkm,pm=pm,\u03b8=-t)"
     ],
     "language": "python",
     "metadata": {},
     "outputs": [
      {
       "metadata": {},
       "output_type": "pyout",
       "prompt_number": 291,
       "text": [
        "(2.000080343702573,1.9999196593745028,-0.555276961541935,0.555321575486802)"
       ]
      }
     ],
     "prompt_number": 291
    },
    {
     "cell_type": "markdown",
     "metadata": {},
     "source": [
      "<hr style='height:6px'>"
     ]
    },
    {
     "cell_type": "code",
     "collapsed": false,
     "input": [
      "#@profile run_algo(buses)\n",
      "#Profile.print()"
     ],
     "language": "python",
     "metadata": {},
     "outputs": [],
     "prompt_number": 1
    },
    {
     "cell_type": "code",
     "collapsed": false,
     "input": [
      "using IProfile"
     ],
     "language": "python",
     "metadata": {},
     "outputs": []
    },
    {
     "cell_type": "code",
     "collapsed": false,
     "input": [
      "@iprofile clear"
     ],
     "language": "python",
     "metadata": {},
     "outputs": [
      {
       "ename": "LoadError",
       "evalue": "@iprofile not defined\nat In[2]:0",
       "output_type": "pyerr",
       "traceback": [
        "@iprofile not defined\nat In[2]:0"
       ]
      }
     ],
     "prompt_number": 2
    },
    {
     "cell_type": "code",
     "collapsed": false,
     "input": [
      "@iprofile report"
     ],
     "language": "python",
     "metadata": {},
     "outputs": []
    },
    {
     "cell_type": "code",
     "collapsed": false,
     "input": [
      "@iprofile begin\n",
      "end"
     ],
     "language": "python",
     "metadata": {},
     "outputs": []
    },
    {
     "cell_type": "code",
     "collapsed": false,
     "input": [
      "gc() # garbage collection"
     ],
     "language": "python",
     "metadata": {},
     "outputs": [],
     "prompt_number": 3
    }
   ],
   "metadata": {}
  }
 ]
}