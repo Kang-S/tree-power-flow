{
 "metadata": {
  "language": "Julia",
  "name": ""
 },
 "nbformat": 3,
 "nbformat_minor": 0,
 "worksheets": [
  {
   "cells": [
    {
     "cell_type": "code",
     "collapsed": false,
     "input": [
      "include(\"loadcase.jl\")\n",
      "include(\"algo.jl\")\n",
      "include(\"solution_display.jl\");"
     ],
     "language": "python",
     "metadata": {},
     "outputs": [],
     "prompt_number": 469
    },
    {
     "cell_type": "code",
     "collapsed": false,
     "input": [
      "gc()\n",
      "#root = loadcase(\"cases/case_G5L_v2.m\");\n",
      "#root = loadcase(\"cases/case_G5L_2gen.m\");\n",
      "#root = loadcase(\"cases/case5_renumber.m\");\n",
      "#root, vhat = loadcase(\"cases/case14_tree.m\");\n",
      "#root, vhat = loadcase(\"cases/case39_tree.m\");\n",
      "#root, vhat = loadcase(\"cases/case57_tree.m\");\n",
      "root, vhat = loadcase(\"cases/case118_tree.m\");\n",
      "#root, vhat = loadcase(\"cases/case300_tree.m\");"
     ],
     "language": "python",
     "metadata": {},
     "outputs": [],
     "prompt_number": 475
    },
    {
     "cell_type": "code",
     "collapsed": false,
     "input": [
      "N = 11\n",
      "R1 = 25\n",
      "R2 = 50\n",
      "vmin = .8\n",
      "vmax = 1.6\n",
      "verbose=false\n",
      "tic()\n",
      "run_algo(root, N, R1, R2, vhat=vhat, verbose=verbose, vmin=vmin, vmax=vmax)\n",
      "toc();"
     ],
     "language": "python",
     "metadata": {},
     "outputs": [
      {
       "output_type": "stream",
       "stream": "stdout",
       "text": [
        "elapsed time: 10"
       ]
      },
      {
       "output_type": "stream",
       "stream": "stdout",
       "text": [
        ".271897957 seconds\n"
       ]
      }
     ],
     "prompt_number": 475
    },
    {
     "cell_type": "code",
     "collapsed": true,
     "input": [
      "candidates = sort(collect(values(root.candidates)));"
     ],
     "language": "python",
     "metadata": {},
     "outputs": [],
     "prompt_number": 478
    },
    {
     "cell_type": "code",
     "collapsed": false,
     "input": [
      "#pretty(root, candidates, start=1, stop=5, R2=R2)\n",
      "#pretty(root, candidates, start=length(candidates)-4, stop=length(candidates), R2=R2)"
     ],
     "language": "python",
     "metadata": {},
     "outputs": []
    },
    {
     "cell_type": "code",
     "collapsed": false,
     "input": [
      "c1 = candidates[1]\n",
      "print_full_solution(c1, root, R2)"
     ],
     "language": "python",
     "metadata": {},
     "outputs": [
      {
       "output_type": "stream",
       "stream": "stdout",
       "text": [
        " bus69"
       ]
      },
      {
       "output_type": "stream",
       "stream": "stdout",
       "text": [
        "        -  1.04   933.91\n",
        " bus70    90.95  0.88    85.15\n",
        " bus47    40.01  0.80    34.00\n",
        " bus49   316.17  1.52   215.21\n",
        " bus68   301.69  1.20   301.69\n",
        " bus75   185.09  1.04   171.69\n",
        " bus71    19.15  0.88    19.11\n",
        " bus51    76.97  1.44    74.90\n",
        " bus50    35.56  1.52    35.40\n",
        " bus54    90.86  1.44    88.07\n",
        " bus45   105.01  1.36    99.11\n",
        " bus42   142.38  1.28   133.38\n",
        " bus66  -142.80  1.44  -146.55\n",
        " bus48    24.24  1.44    20.00\n",
        " bus81   117.61  1.12   114.81\n",
        "bus116   184.08  1.20   184.00\n",
        " bus74    74.33  1.12    68.00\n",
        "bus118    50.36  1.20    33.00\n",
        " bus72    13.10  0.96    12.00\n",
        " bus73     6.00  0.88     6.00\n",
        " bus58    24.15  1.28    12.00\n",
        " bus52    33.75  1.60    18.00\n",
        " bus57    18.40  1.36    12.00\n",
        " bus53    23.07  1.44    23.00\n",
        " bus44    35.80  1.28    34.13\n",
        " bus46    10.31  1.28     9.00\n",
        " bus41    37.38  1.28    37.00\n",
        " bus65    90.89  0.80    90.89\n",
        " bus67    28.09  1.44    28.00\n",
        " bus62    87.47  1.12    77.00\n",
        " bus80   114.81  1.36   114.81\n",
        " bus43    18.13  1.28    18.00\n",
        " bus64   197.18  0.88   193.53\n",
        " bus38   284.70  0.80   273.09\n",
        " bus79    40.93  1.28    39.00\n",
        " bus77   312.98  1.36   303.16\n",
        " bus97    27.39  1.60    15.00\n",
        " bus98    39.79  1.52    34.00\n",
        " bus96    40.72  1.20    38.00\n",
        " bus63   193.53  0.88   192.69\n",
        " bus30    23.14  0.88    22.06\n",
        " bus37   249.95  1.36   249.95\n",
        " bus78    71.11  1.36    71.00\n",
        " bus82    97.98  1.36    96.27\n",
        " bus76    73.07  1.20    68.00\n",
        " bus59   192.69  1.52   192.69\n",
        " bus26  -162.92  0.80  -167.04\n",
        "  bus8   -50.64  0.96   -51.79\n",
        " bus17   235.62  0.96   235.62\n",
        " bus34    90.17  1.36    90.05\n",
        " bus39    28.67  1.28    27.00\n",
        " bus35    35.72  1.28    33.00\n",
        " bus33    24.22  1.28    23.00\n",
        " bus40    71.16  1.20    66.00\n",
        " bus83    42.27  1.44    36.42\n",
        " bus56    86.83  1.52    84.00\n",
        " bus55    64.80  1.60    63.00\n",
        " bus61   -80.94  1.52   -81.93\n",
        " bus25   146.96  1.44   146.96\n",
        "  bus5   348.01  1.60   348.01\n",
        "  bus9  -427.81  1.12  -437.96\n",
        " bus15    91.28  0.96    90.00\n",
        " bus16    26.48  1.04    25.00\n",
        " bus18   106.85  0.96   105.26\n",
        " bus36    31.05  1.36    31.00\n",
        " bus85    16.42  1.52    14.96\n",
        " bus60    78.07  1.52    78.00\n",
        " bus27   141.12  1.60   134.22\n",
        " bus23   225.84  1.60   214.41\n",
        "  bus4    39.01  1.60    39.00\n",
        "  bus6    80.45  1.52    77.91\n",
        " bus11   136.67  1.60   135.08\n",
        "  bus3    91.88  1.52    90.16\n",
        " bus10  -437.96  0.96  -450.00\n",
        " bus19    45.26  0.96    45.00\n",
        " bus84    16.04  1.60    11.00\n",
        " bus86    33.49  1.28    20.77\n",
        " bus89   -58.57  1.52   -58.93\n",
        " bus28    41.19  1.60    41.06\n",
        "bus115    22.03  1.60    22.00\n",
        " bus22    51.34  1.36    43.90\n",
        " bus32   129.08  1.44   122.64\n",
        " bus24    26.99  1.44    13.00\n",
        "  bus7    25.91  1.60    19.00\n",
        " bus13    34.11  1.60    34.00\n",
        " bus12    30.97  1.60    30.94\n",
        "  bus1    51.16  1.52    51.00\n",
        " bus87    -0.23  1.52    -4.00\n",
        " bus92   321.17  1.52   316.64\n",
        " bus88    49.71  1.44    48.00\n",
        " bus90   177.19  1.28   163.00\n",
        " bus29    24.06  1.60    24.00\n",
        " bus21    33.90  1.36    33.76\n",
        "bus113    10.00  1.60     6.00\n",
        "bus114    10.36  1.52     8.00\n",
        " bus31    43.29  1.28    36.00\n",
        "bus117    29.32  1.36    20.00\n",
        "  bus2    22.99  1.52    20.00\n",
        " bus14    16.63  1.52    14.00\n",
        " bus93    12.02  1.52    12.00\n",
        " bus94   199.72  1.44   191.24\n",
        " bus91    11.65  1.60    10.00\n",
        "bus102    28.24  1.52    28.20\n",
        " bus20    19.76  1.44    18.00\n",
        " bus95    46.16  1.36    42.00\n",
        "bus100   115.08  1.44   113.84\n",
        "bus101    23.20  1.44    22.00\n",
        " bus99    42.16  1.44    42.00\n",
        "bus104   168.63  1.04   148.44\n",
        "bus103    70.86  1.44    70.44\n",
        "bus106    47.19  1.60    43.00\n",
        "bus105   110.44  0.96   105.94\n",
        "bus110    87.44  1.52    84.86\n",
        "bus107    56.99  1.12    50.00\n",
        "bus108    17.95  0.96    17.85\n",
        "bus111   -35.87  1.52   -36.00\n",
        "bus112    81.73  1.36    68.00\n",
        "bus109    15.85  0.88     8.00\n"
       ]
      }
     ],
     "prompt_number": 479
    },
    {
     "cell_type": "code",
     "collapsed": false,
     "input": [
      "include(\"basics.jl\");"
     ],
     "language": "python",
     "metadata": {},
     "outputs": [],
     "prompt_number": 468
    },
    {
     "cell_type": "code",
     "collapsed": true,
     "input": [
      "check_all(root)"
     ],
     "language": "python",
     "metadata": {},
     "outputs": [
      {
       "metadata": {},
       "output_type": "pyout",
       "prompt_number": 480,
       "text": [
        "1.2529085324786138e-8"
       ]
      }
     ],
     "prompt_number": 480
    },
    {
     "cell_type": "code",
     "collapsed": false,
     "input": [
      "buses = Bus[]\n",
      "function DFS(bus)\n",
      "    for child in bus.children\n",
      "        DFS(child)\n",
      "    end\n",
      "    push!(buses, bus)\n",
      "end\n",
      "DFS(root)\n",
      "for (i, bus) in enumerate(buses)\n",
      "    println(i, ' ', bus)\n",
      "end"
     ],
     "language": "python",
     "metadata": {},
     "outputs": [
      {
       "output_type": "stream",
       "stream": "stdout",
       "text": [
        "1 "
       ]
      },
      {
       "output_type": "stream",
       "stream": "stdout",
       "text": [
        "bus21\n",
        "2 bus23\n",
        "3 bus22\n",
        "4 bus57\n",
        "5 bus39\n",
        "6 bus33\n",
        "7 bus32\n",
        "8 bus34\n",
        "9 bus35\n",
        "10 bus40\n",
        "11 bus36\n",
        "12 bus37\n",
        "13 bus48\n",
        "14 bus38\n",
        "15 bus44\n",
        "16 bus45\n",
        "17 bus47\n",
        "18 bus46\n",
        "19 bus14\n",
        "20 bus15\n",
        "21 bus16\n",
        "22 bus5\n",
        "23 bus20\n",
        "24 bus19\n",
        "25 bus18\n",
        "26 bus4\n",
        "27 bus3\n",
        "28 bus2\n",
        "29 bus49\n",
        "30 bus13\n",
        "31 bus50\n",
        "32 bus51\n",
        "33 bus54\n",
        "34 bus55\n",
        "35 bus56\n",
        "36 bus42\n",
        "37 bus41\n",
        "38 bus43\n",
        "39 bus11\n",
        "40 bus6\n",
        "41 bus53\n",
        "42 bus52\n",
        "43 bus31\n",
        "44 bus30\n",
        "45 bus25\n",
        "46 bus24\n",
        "47 bus26\n",
        "48 bus27\n",
        "49 bus28\n",
        "50 bus29\n",
        "51 bus7\n",
        "52 bus8\n",
        "53 bus9\n",
        "54 bus10\n",
        "55 bus12\n",
        "56 bus17\n",
        "57 bus1\n"
       ]
      }
     ],
     "prompt_number": 447
    },
    {
     "cell_type": "code",
     "collapsed": false,
     "input": [
      "function argmax(x)\n",
      "    maxsofar = x[1]\n",
      "    argmaxsofar = 1\n",
      "    for (i,y) in enumerate(x[2:end])\n",
      "        if y>maxsofar\n",
      "            maxsofar = y\n",
      "            argmaxsofar = i+1\n",
      "        end\n",
      "    end\n",
      "    argmaxsofar\n",
      "end;"
     ],
     "language": "python",
     "metadata": {},
     "outputs": [],
     "prompt_number": 460
    },
    {
     "cell_type": "code",
     "collapsed": true,
     "input": [
      "bus = buses[11]\n",
      "errs = [check_candidate(bus, c) for c in values(bus.candidates)]\n",
      "c_index = argmax(errs)\n",
      "bus, \"candidate $c_index\", errs[c_index]"
     ],
     "language": "python",
     "metadata": {},
     "outputs": [
      {
       "metadata": {},
       "output_type": "pyout",
       "prompt_number": 464,
       "text": [
        "(bus36,\"candidate 114\",1.0)"
       ]
      }
     ],
     "prompt_number": 464
    },
    {
     "cell_type": "code",
     "collapsed": false,
     "input": [
      "c = collect(values(bus.candidates))[c_index]\n",
      "println(check_candidate(bus, c))\n",
      "println(c)"
     ],
     "language": "python",
     "metadata": {},
     "outputs": [
      {
       "output_type": "stream",
       "stream": "stdout",
       "text": [
        "1.0"
       ]
      },
      {
       "output_type": "stream",
       "stream": "stdout",
       "text": [
        "\n",
        "Candidate(2,35.8575944458537,1.08,3x2 Array{Float64,2}:\n",
        " 35.8576  0.0 \n",
        "  1.08    1.08\n",
        " 35.096   0.0 )\n"
       ]
      }
     ],
     "prompt_number": 465
    },
    {
     "cell_type": "code",
     "collapsed": false,
     "input": [
      "i = 2\n",
      "g = bus.children[i].g\n",
      "b = bus.children[i].b\n",
      "vk = c.v\n",
      "pkm, vm, d = c.children[:,i];\n",
      "pm = -d;\n",
      "pkm2, t = pk_\u03b8(g=g, b=b, vk=vk, vm=vm, pm=pm)\n",
      "println(check2(g=g,b=b,pk=pkm,vk=vk,pm=pm,vm=vm,\u03b8=t))\n",
      "@printf \"%.2f %.2f %.2f %.2f %.3f\" vk vm pkm pm t"
     ],
     "language": "python",
     "metadata": {},
     "outputs": [
      {
       "output_type": "stream",
       "stream": "stdout",
       "text": [
        "(1"
       ]
      },
      {
       "output_type": "stream",
       "stream": "stdout",
       "text": [
        ".0,1.0,2.636905346047026e-5,-2.6369053026727267e-5)\n",
        "1.08 1.08 0.00 -0.00 0.000"
       ]
      }
     ],
     "prompt_number": 468
    },
    {
     "cell_type": "code",
     "collapsed": false,
     "input": [
      "g,b"
     ],
     "language": "python",
     "metadata": {},
     "outputs": [
      {
       "metadata": {},
       "output_type": "pyout",
       "prompt_number": 433,
       "text": [
        "(247.24570204554607,-3085.77969219635)"
       ]
      }
     ],
     "prompt_number": 433
    },
    {
     "cell_type": "code",
     "collapsed": false,
     "input": [
      "pk(g=g,b=b,vk=vk,vm=vm,pm=pm)"
     ],
     "language": "python",
     "metadata": {},
     "outputs": [
      {
       "metadata": {},
       "output_type": "pyout",
       "prompt_number": 434,
       "text": [
        "175.9594589056369"
       ]
      }
     ],
     "prompt_number": 434
    },
    {
     "cell_type": "code",
     "collapsed": false,
     "input": [
      "check2(g=g,b=b,vk=vk,vm=vm,pk=pkm,pm=pm,\u03b8=-t)"
     ],
     "language": "python",
     "metadata": {},
     "outputs": [
      {
       "metadata": {},
       "output_type": "pyout",
       "prompt_number": 435,
       "text": [
        "(1.146075232871605,1.0,-1204.581060365648,1380.5405192712851)"
       ]
      }
     ],
     "prompt_number": 435
    },
    {
     "cell_type": "markdown",
     "metadata": {},
     "source": [
      "<hr style='height:6px'>"
     ]
    },
    {
     "cell_type": "code",
     "collapsed": false,
     "input": [
      "#@profile run_algo(buses)\n",
      "#Profile.print()"
     ],
     "language": "python",
     "metadata": {},
     "outputs": [],
     "prompt_number": 1
    },
    {
     "cell_type": "code",
     "collapsed": false,
     "input": [
      "using IProfile"
     ],
     "language": "python",
     "metadata": {},
     "outputs": []
    },
    {
     "cell_type": "code",
     "collapsed": false,
     "input": [
      "@iprofile clear"
     ],
     "language": "python",
     "metadata": {},
     "outputs": [
      {
       "ename": "LoadError",
       "evalue": "@iprofile not defined\nat In[2]:0",
       "output_type": "pyerr",
       "traceback": [
        "@iprofile not defined\nat In[2]:0"
       ]
      }
     ],
     "prompt_number": 2
    },
    {
     "cell_type": "code",
     "collapsed": false,
     "input": [
      "@iprofile report"
     ],
     "language": "python",
     "metadata": {},
     "outputs": []
    },
    {
     "cell_type": "code",
     "collapsed": false,
     "input": [
      "@iprofile begin\n",
      "end"
     ],
     "language": "python",
     "metadata": {},
     "outputs": []
    },
    {
     "cell_type": "code",
     "collapsed": false,
     "input": [
      "gc() # garbage collection"
     ],
     "language": "python",
     "metadata": {},
     "outputs": [],
     "prompt_number": 3
    }
   ],
   "metadata": {}
  }
 ]
}