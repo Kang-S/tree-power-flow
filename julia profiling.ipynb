{
 "metadata": {
  "language": "Julia",
  "name": "",
  "signature": "sha256:9e11eb70a66d292db1df51774aad5606088c210ba7ae33322d2b53698f57c7f9"
 },
 "nbformat": 3,
 "nbformat_minor": 0,
 "worksheets": [
  {
   "cells": [
    {
     "cell_type": "code",
     "collapsed": false,
     "input": [
      "include(\"loadcase.jl\")\n",
      "include(\"algo.jl\")\n",
      "include(\"solution_display.jl\");"
     ],
     "language": "python",
     "metadata": {},
     "outputs": [],
     "prompt_number": 79
    },
    {
     "cell_type": "code",
     "collapsed": false,
     "input": [
      "gc()\n",
      "#root, vhat = loadcase(\"cases/case_G5L_v2.m\");\n",
      "#root = loadcase(\"cases/case_G5L_2gen.m\");\n",
      "#casefile = \"cases/case5_renumber_tree.m\"\n",
      "casefile = \"cases/case14_tree.m\"\n",
      "#casefile = \"cases/case39_tree.m\"\n",
      "#casefile = \"cases/case57_tree.m\"\n",
      "#casefile = \"cases/case118_tree.m\"\n",
      "#casefile = \"cases/case300_tree.m\"\n",
      "root, vhat = loadcase(casefile)"
     ],
     "language": "python",
     "metadata": {},
     "outputs": [
      {
       "metadata": {},
       "output_type": "pyout",
       "prompt_number": 80,
       "text": [
        "(bus1,1.06)"
       ]
      }
     ],
     "prompt_number": 80
    },
    {
     "cell_type": "code",
     "collapsed": true,
     "input": [
      "N = 21\n",
      "R1 = 5\n",
      "R2 = 10\n",
      "vmin = .8\n",
      "vmax = 1.2\n",
      "verbose = true\n",
      "run_algo(root, N, R1, R2, vhat=vhat, verbose=verbose, vmin=vmin, vmax=vmax)\n",
      "check_all(root)"
     ],
     "language": "python",
     "metadata": {},
     "outputs": [
      {
       "output_type": "stream",
       "stream": "stdout",
       "text": [
        " bus10      0    21   0.11\n"
       ]
      },
      {
       "output_type": "stream",
       "stream": "stdout",
       "text": [
        " bus14      0    21   0.00\n",
        "  bus9    284   141   0.07\n",
        "  bus8      0    21   0.00\n",
        "  bus7    441   233   0.01\n",
        "  bus4    420   237   0.01\n",
        " bus13      0    21   0.00\n",
        " bus11      0    21   0.00\n",
        " bus12      0    21   0.00\n",
        "  bus6    398   176   0.02"
       ]
      },
      {
       "output_type": "stream",
       "stream": "stdout",
       "text": [
        "\n",
        "  bus5   1355   720   0.33"
       ]
      },
      {
       "output_type": "stream",
       "stream": "stdout",
       "text": [
        "\n",
        "  bus3      0    21   0.00\n",
        "  bus2     72    41   0.00\n",
        "  bus1     89    49   0.04\n",
        "ALGO FINISHED in 0.60 seconds\n"
       ]
      },
      {
       "metadata": {},
       "output_type": "pyout",
       "prompt_number": 81,
       "text": [
        "7.316884875763208e-10"
       ]
      }
     ],
     "prompt_number": 81
    },
    {
     "cell_type": "code",
     "collapsed": false,
     "input": [
      "run(`./visualize_graph.sh $casefile`)"
     ],
     "language": "python",
     "metadata": {},
     "outputs": [],
     "prompt_number": 5
    },
    {
     "cell_type": "code",
     "collapsed": true,
     "input": [
      "candidates = sort(collect(values(root.candidates)));"
     ],
     "language": "python",
     "metadata": {},
     "outputs": [],
     "prompt_number": 23
    },
    {
     "cell_type": "code",
     "collapsed": true,
     "input": [
      "c1 = candidates[1]\n",
      "matpower_compare(casefile, c1, root, R2)"
     ],
     "language": "python",
     "metadata": {},
     "outputs": [
      {
       "output_type": "stream",
       "stream": "stdout",
       "text": [
        "  "
       ]
      },
      {
       "output_type": "stream",
       "stream": "stdout",
       "text": [
        "fbus   tbus        fp1        fp2        tp1        tp2    fv1    fv2    tv1    tv2\n",
        "     1      2     -201.7     -201.7      203.1      203.1   1.10   1.02   1.14   1.02\n",
        "     1     39      104.1      104.1     -104.0     -104.0   1.10   1.02   1.08   1.03\n",
        "     2      3      262.6      263.1     -261.6     -261.8   1.14   1.02   1.16   0.99\n",
        "     2     25     -215.7     -216.2      220.0      220.2   1.14   1.02   1.14   1.03\n",
        "     2     30     -250.0     -250.0      250.0      250.0   1.14   1.02   0.94   1.05\n",
        "     3      4      -60.4      -60.2       60.5       60.6   1.16   0.99   1.14   0.96\n",
        "     4     14     -560.5     -560.6      562.5      563.3   1.14   0.96   1.14   0.97\n",
        "     5      6     -531.0     -531.2      536.0      531.8   1.10   0.97   1.14   0.98\n",
        "     5      8      531.0      531.2     -529.1     -528.6   1.10   0.97   1.10   0.95\n",
        "     6      7      236.7      234.2     -233.8     -233.8   1.14   0.98   1.20   0.97\n",
        "     6     11      -80.5      -86.7       81.0       86.8   1.14   0.98   1.12   0.98\n",
        "     6     31     -692.2     -679.3      692.2      679.3   1.14   0.98   0.98   0.98\n",
        "     8      9        7.1        6.6       -6.5       -6.5   1.10   0.95   1.16   0.98\n",
        "    10     11       81.8       86.8      -81.0      -86.8   1.14   0.99   1.12   0.98\n",
        "    10     13      568.2      563.2     -566.5     -561.7   1.14   0.99   1.12   0.98\n",
        "    10     32     -650.0     -650.0      650.0      650.0   1.14   0.99   1.08   0.98\n",
        "    12     13       -8.5       -8.5        9.4        8.7   1.02   0.94   1.12   0.98\n",
        "    13     14      557.1      553.1     -554.4     -550.1   1.12   0.98   1.14   0.97\n",
        "    14     15       -8.1      -13.2        8.2       13.2   1.14   0.97   1.16   0.98\n",
        "    15     16     -328.2     -333.2      329.0      334.6   1.16   0.98   1.16   1.00\n",
        "    16     17      164.3      158.4     -158.6     -158.2   1.16   1.00   1.08   0.99\n",
        "    16     19     -452.6     -450.4      455.1      454.0   1.16   1.00   1.16   1.04\n",
        "    16     21     -369.8     -371.4      371.5      372.5   1.16   1.00   1.12   1.01\n",
        "    16     24        0.2       -0.2        1.2        0.2   1.16   1.00   1.20   1.00\n",
        "    17     18      158.6      158.2     -158.0     -158.0   1.08   0.99   1.10   0.99\n",
        "    19     20      174.1      174.9     -173.9     -174.7   1.16   1.04   1.16   0.98\n",
        "    19     33     -629.2     -628.9      632.0      632.0   1.16   1.04   1.12   1.00\n",
        "    20     34     -506.1     -505.3      508.0      508.0   1.16   0.98   1.14   1.01\n",
        "    21     22     -645.5     -646.5      650.0      650.0   1.12   1.01   1.06   1.04\n",
        "    22     35     -650.0     -650.0      650.0      650.0   1.06   1.04   1.02   1.05\n",
        "    23     24      311.4      310.9     -309.8     -308.8   1.18   1.02   1.20   1.00\n",
        "    23     36     -558.9     -558.4      560.0      560.0   1.18   1.02   1.18   1.06\n",
        "    25     26       93.4       94.1      -92.6      -93.3   1.14   1.03   1.18   0.98\n",
        "    25     37     -537.3     -538.2      540.0      540.0   1.14   1.03   1.04   1.03\n",
        "    26     27      283.9      282.3     -281.0     -281.0   1.18   0.98   1.12   0.97\n",
        "    26     29     -330.3     -327.9      335.5      334.3   1.18   0.98   1.14   1.02\n",
        "    28     29     -206.0     -206.0      206.5      206.6   1.14   1.01   1.14   1.02\n",
        "    29     38     -825.5     -824.4      830.0      830.0   1.14   1.02   1.12   1.03\n"
       ]
      }
     ],
     "prompt_number": 24
    },
    {
     "cell_type": "code",
     "collapsed": false,
     "input": [
      "#pretty(root, candidates, start=1, stop=5, R2=R2)\n",
      "#pretty(root, candidates, start=length(candidates)-4, stop=length(candidates), R2=R2)"
     ],
     "language": "python",
     "metadata": {},
     "outputs": [],
     "prompt_number": 98
    },
    {
     "cell_type": "code",
     "collapsed": false,
     "input": [
      "#c1 = candidates[1]\n",
      "#print_full_solution(c1, root, R2)"
     ],
     "language": "python",
     "metadata": {},
     "outputs": [],
     "prompt_number": 79
    },
    {
     "cell_type": "markdown",
     "metadata": {},
     "source": [
      "#Debugging when check > 1e-3"
     ]
    },
    {
     "cell_type": "code",
     "collapsed": true,
     "input": [
      "buses = Bus[]\n",
      "function DFS(bus)\n",
      "    for child in bus.children\n",
      "        DFS(child)\n",
      "    end\n",
      "    push!(buses, bus)\n",
      "end\n",
      "DFS(root)\n",
      "for (i, bus) in enumerate(buses)\n",
      "    println(i, ' ', bus)\n",
      "end"
     ],
     "language": "python",
     "metadata": {},
     "outputs": [
      {
       "output_type": "stream",
       "stream": "stdout",
       "text": [
        "1 "
       ]
      },
      {
       "output_type": "stream",
       "stream": "stdout",
       "text": [
        "bus21\n",
        "2 bus23\n",
        "3 bus22\n",
        "4 bus57\n",
        "5 bus39\n",
        "6 bus33\n",
        "7 bus32\n",
        "8 bus34\n",
        "9 bus35\n",
        "10 bus40\n",
        "11 bus36\n",
        "12 bus37\n",
        "13 bus48\n",
        "14 bus38\n",
        "15 bus44\n",
        "16 bus45\n",
        "17 bus47\n",
        "18 bus46\n",
        "19 bus14\n",
        "20 bus15\n",
        "21 bus16\n",
        "22 bus5\n",
        "23 bus20\n",
        "24 bus19\n",
        "25 bus18\n",
        "26 bus4\n",
        "27 bus3\n",
        "28 bus2\n",
        "29 bus49\n",
        "30 bus13\n",
        "31 bus50\n",
        "32 bus51\n",
        "33 bus54\n",
        "34 bus55\n",
        "35 bus56\n",
        "36 bus42\n",
        "37 bus41\n",
        "38 bus43\n",
        "39 bus11\n",
        "40 bus6\n",
        "41 bus53\n",
        "42 bus52\n",
        "43 bus31\n",
        "44 bus30\n",
        "45 bus25\n",
        "46 bus24\n",
        "47 bus26\n",
        "48 bus27\n",
        "49 bus28\n",
        "50 bus29\n",
        "51 bus7\n",
        "52 bus8\n",
        "53 bus9\n",
        "54 bus10\n",
        "55 bus12\n",
        "56 bus17\n",
        "57 bus1\n"
       ]
      }
     ],
     "prompt_number": 447
    },
    {
     "cell_type": "code",
     "collapsed": false,
     "input": [
      "function argmax(x)\n",
      "    maxsofar = x[1]\n",
      "    argmaxsofar = 1\n",
      "    for (i,y) in enumerate(x[2:end])\n",
      "        if y>maxsofar\n",
      "            maxsofar = y\n",
      "            argmaxsofar = i+1\n",
      "        end\n",
      "    end\n",
      "    argmaxsofar\n",
      "end;"
     ],
     "language": "python",
     "metadata": {},
     "outputs": [],
     "prompt_number": 460
    },
    {
     "cell_type": "code",
     "collapsed": true,
     "input": [
      "bus = buses[11]\n",
      "errs = [check_candidate(bus, c) for c in values(bus.candidates)]\n",
      "c_index = argmax(errs)\n",
      "bus, \"candidate $c_index\", errs[c_index]"
     ],
     "language": "python",
     "metadata": {},
     "outputs": [
      {
       "metadata": {},
       "output_type": "pyout",
       "prompt_number": 464,
       "text": [
        "(bus36,\"candidate 114\",1.0)"
       ]
      }
     ],
     "prompt_number": 464
    },
    {
     "cell_type": "code",
     "collapsed": false,
     "input": [
      "c = collect(values(bus.candidates))[c_index]\n",
      "println(check_candidate(bus, c))\n",
      "println(c)"
     ],
     "language": "python",
     "metadata": {},
     "outputs": [
      {
       "output_type": "stream",
       "stream": "stdout",
       "text": [
        "1.0"
       ]
      },
      {
       "output_type": "stream",
       "stream": "stdout",
       "text": [
        "\n",
        "Candidate(2,35.8575944458537,1.08,3x2 Array{Float64,2}:\n",
        " 35.8576  0.0 \n",
        "  1.08    1.08\n",
        " 35.096   0.0 )\n"
       ]
      }
     ],
     "prompt_number": 465
    },
    {
     "cell_type": "code",
     "collapsed": false,
     "input": [
      "i = 2\n",
      "g = bus.children[i].g\n",
      "b = bus.children[i].b\n",
      "vk = c.v\n",
      "pkm, vm, d = c.children[:,i];\n",
      "pm = -d;\n",
      "pkm2, t = pk_\u03b8(g=g, b=b, vk=vk, vm=vm, pm=pm)\n",
      "println(check2(g=g,b=b,pk=pkm,vk=vk,pm=pm,vm=vm,\u03b8=t))\n",
      "@printf \"%.2f %.2f %.2f %.2f %.3f\" vk vm pkm pm t"
     ],
     "language": "python",
     "metadata": {},
     "outputs": [
      {
       "output_type": "stream",
       "stream": "stdout",
       "text": [
        "(1"
       ]
      },
      {
       "output_type": "stream",
       "stream": "stdout",
       "text": [
        ".0,1.0,2.636905346047026e-5,-2.6369053026727267e-5)\n",
        "1.08 1.08 0.00 -0.00 0.000"
       ]
      }
     ],
     "prompt_number": 468
    },
    {
     "cell_type": "code",
     "collapsed": false,
     "input": [
      "g,b"
     ],
     "language": "python",
     "metadata": {},
     "outputs": [
      {
       "metadata": {},
       "output_type": "pyout",
       "prompt_number": 433,
       "text": [
        "(247.24570204554607,-3085.77969219635)"
       ]
      }
     ],
     "prompt_number": 433
    },
    {
     "cell_type": "code",
     "collapsed": false,
     "input": [
      "pk(g=g,b=b,vk=vk,vm=vm,pm=pm)"
     ],
     "language": "python",
     "metadata": {},
     "outputs": [
      {
       "metadata": {},
       "output_type": "pyout",
       "prompt_number": 434,
       "text": [
        "175.9594589056369"
       ]
      }
     ],
     "prompt_number": 434
    },
    {
     "cell_type": "code",
     "collapsed": false,
     "input": [
      "check2(g=g,b=b,vk=vk,vm=vm,pk=pkm,pm=pm,\u03b8=-t)"
     ],
     "language": "python",
     "metadata": {},
     "outputs": [
      {
       "metadata": {},
       "output_type": "pyout",
       "prompt_number": 435,
       "text": [
        "(1.146075232871605,1.0,-1204.581060365648,1380.5405192712851)"
       ]
      }
     ],
     "prompt_number": 435
    },
    {
     "cell_type": "markdown",
     "metadata": {},
     "source": [
      "<hr style='height:6px'>"
     ]
    },
    {
     "cell_type": "code",
     "collapsed": false,
     "input": [
      "#@profile run_algo(buses)\n",
      "#Profile.print()"
     ],
     "language": "python",
     "metadata": {},
     "outputs": [],
     "prompt_number": 1
    },
    {
     "cell_type": "code",
     "collapsed": false,
     "input": [
      "using IProfile"
     ],
     "language": "python",
     "metadata": {},
     "outputs": []
    },
    {
     "cell_type": "code",
     "collapsed": false,
     "input": [
      "@iprofile clear"
     ],
     "language": "python",
     "metadata": {},
     "outputs": [
      {
       "ename": "LoadError",
       "evalue": "@iprofile not defined\nat In[2]:0",
       "output_type": "pyerr",
       "traceback": [
        "@iprofile not defined\nat In[2]:0"
       ]
      }
     ],
     "prompt_number": 2
    },
    {
     "cell_type": "code",
     "collapsed": false,
     "input": [
      "@iprofile report"
     ],
     "language": "python",
     "metadata": {},
     "outputs": []
    },
    {
     "cell_type": "code",
     "collapsed": false,
     "input": [
      "@iprofile begin\n",
      "end"
     ],
     "language": "python",
     "metadata": {},
     "outputs": []
    },
    {
     "cell_type": "code",
     "collapsed": false,
     "input": [
      "gc() # garbage collection"
     ],
     "language": "python",
     "metadata": {},
     "outputs": [],
     "prompt_number": 3
    }
   ],
   "metadata": {}
  }
 ]
}