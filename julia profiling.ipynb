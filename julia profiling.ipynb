{
 "metadata": {
  "language": "Julia",
  "name": ""
 },
 "nbformat": 3,
 "nbformat_minor": 0,
 "worksheets": [
  {
   "cells": [
    {
     "cell_type": "code",
     "collapsed": false,
     "input": [
      "include(\"loadcase.jl\")\n",
      "include(\"algo.jl\")\n",
      "include(\"solution_display.jl\");"
     ],
     "language": "python",
     "metadata": {},
     "outputs": [],
     "prompt_number": 142
    },
    {
     "cell_type": "code",
     "collapsed": false,
     "input": [
      "gc()\n",
      "#buses = loadcase(\"case_GLL.m\");\n",
      "#buses = loadcase(\"case_GLLL.m\");\n",
      "#buses = loadcase(\"case_G5L.m\");\n",
      "#buses = loadcase(\"case_G5L_v2.m\");\n",
      "#buses = loadcase(\"case14_tree.m\");\n",
      "buses = loadcase(\"case30_tree.m\");"
     ],
     "language": "python",
     "metadata": {},
     "outputs": [],
     "prompt_number": 142
    },
    {
     "cell_type": "code",
     "collapsed": false,
     "input": [
      "N = 21\n",
      "R1 = 1\n",
      "R2 = 5\n",
      "vhat = 1.0\n",
      "tic()\n",
      "run_algo(buses, N, R1, R2, vhat)\n",
      "toc();"
     ],
     "language": "python",
     "metadata": {},
     "outputs": [
      {
       "output_type": "stream",
       "stream": "stdout",
       "text": [
        "bus30 "
       ]
      },
      {
       "output_type": "stream",
       "stream": "stdout",
       "text": [
        "0"
       ]
      },
      {
       "output_type": "stream",
       "stream": "stdout",
       "text": [
        " 21\n",
        "bus29 232 76\n",
        "bus28 0 21\n",
        "bus27 259 92\n",
        "bus26 1507"
       ]
      },
      {
       "output_type": "stream",
       "stream": "stdout",
       "text": [
        " 411\n",
        "bus25 2310 567\n",
        "bus24 0 21\n",
        "bus23 272 88\n",
        "bus22 951 311\n",
        "bus21 0 21\n",
        "bus20 0 21\n",
        "bus19 347 247\n",
        "bus18 2081 618\n",
        "bus17 0 21\n",
        "bus16 283 107\n",
        "bus15 0 21\n",
        "bus14 4816"
       ]
      },
      {
       "output_type": "stream",
       "stream": "stdout",
       "text": [
        " 1546\n",
        "bus13 0 21\n",
        "bus12 10241"
       ]
      },
      {
       "output_type": "stream",
       "stream": "stdout",
       "text": [
        " 2588\n",
        "bus11 0 21\n",
        "bus10 4036"
       ]
      },
      {
       "output_type": "stream",
       "stream": "stdout",
       "text": [
        " 1354\n",
        "bus9 7770"
       ]
      },
      {
       "output_type": "stream",
       "stream": "stdout",
       "text": [
        " 1785\n",
        "bus8 3324 718\n",
        "bus7 0 21\n",
        "bus6 8153"
       ]
      },
      {
       "output_type": "stream",
       "stream": "stdout",
       "text": [
        " 1774\n",
        "bus5 314 167\n",
        "bus4 24738"
       ]
      },
      {
       "output_type": "stream",
       "stream": "stdout",
       "text": [
        " 5714\n",
        "bus3 0 21\n",
        "bus2 257 88\n",
        "bus1 360"
       ]
      },
      {
       "output_type": "stream",
       "stream": "stdout",
       "text": [
        " 97\n",
        "elapsed time: 18.220869994 seconds\n"
       ]
      }
     ],
     "prompt_number": 142
    },
    {
     "cell_type": "code",
     "collapsed": false,
     "input": [
      "b1 = buses[1]\n",
      "candidates = sort(collect(values(b1.candidates)))\n",
      "pretty(b1, candidates, start=1, stop=5, R2=R2)\n",
      "pretty(b1, candidates, start=length(candidates)-4, stop=length(candidates), R2=R2)"
     ],
     "language": "python",
     "metadata": {},
     "outputs": [
      {
       "output_type": "stream",
       "stream": "stdout",
       "text": [
        "  "
       ]
      },
      {
       "output_type": "stream",
       "stream": "stdout",
       "text": [
        "  key      p1      v1    p1_2      v2      p2    p1_4      v4      p4 \n",
        " 210.00  212.37    1.00    2.40    1.00    2.40  209.97    1.00  183.13 \n",
        " 215.00  214.27    1.00    6.42    1.06    4.34  207.85    0.90  181.48 \n",
        " 220.00  217.79    1.00    3.33    0.96    2.47  214.46    0.96  186.86 \n",
        " 225.00  224.83    1.00   16.97    1.16    2.40  207.85    0.90  181.48 \n",
        " 230.00  231.43    1.00   16.97    1.16    2.40  214.46    0.96  186.86 \n",
        "    key      p1      v1    p1_2      v2      p2    p1_4      v4      p4 \n",
        " 670.00  670.14    1.00   28.03    1.20    5.06  642.11    1.14  384.17 \n",
        " 675.00  676.13    1.00   46.36    0.80   25.55  629.77    1.20  388.93 \n",
        " 680.00  682.24    1.00   40.12    0.82   23.24  642.11    1.14  384.17 \n",
        " 685.00  683.35    1.00   41.23    1.18   21.86  642.11    1.14  384.17 \n",
        " 690.00  688.47    1.00   46.36    0.80   25.55  642.11    1.14  384.17 \n"
       ]
      }
     ],
     "prompt_number": 143
    },
    {
     "cell_type": "code",
     "collapsed": false,
     "input": [
      "c1 = candidates[1]\n",
      "print_full_solution(c1, b1, R2)"
     ],
     "language": "python",
     "metadata": {},
     "outputs": [
      {
       "output_type": "stream",
       "stream": "stdout",
       "text": [
        "  "
       ]
      },
      {
       "output_type": "stream",
       "stream": "stdout",
       "text": [
        "bus1 200.605   1.000\n",
        "  bus2   2.404   1.000   2.403\n",
        "  bus4 198.201   0.880 173.797\n",
        "  bus3   2.403   1.000   2.400\n",
        "  bus5  24.060   0.840  23.360\n",
        "  bus6  50.028   0.880  49.686\n",
        "  bus8  49.891   0.920  48.301\n",
        "  bus9  49.819   1.120  49.819\n",
        "  bus7   0.560   0.880   0.000\n",
        " bus12  42.086   1.160  42.086\n",
        " bus25  18.301   0.920  18.046\n",
        " bus11   0.000   1.200   0.000\n",
        " bus10  49.819   1.120  49.819\n",
        " bus13   0.000   0.920   0.000\n",
        " bus14  30.886   1.160  30.259\n",
        " bus26  18.046   1.120  18.046\n",
        " bus16  12.956   1.120  12.911\n",
        " bus21  17.587   1.120  17.500\n",
        " bus22  13.475   1.160  12.665\n",
        " bus15   6.342   1.160   6.200\n",
        " bus18  15.717   1.120  15.370\n",
        " bus27   4.420   1.160   3.921\n",
        " bus29  13.626   1.080  13.276\n",
        " bus17   3.911   1.160   3.500\n",
        " bus23  12.665   1.120  12.254\n",
        " bus19  12.170   1.080  11.701\n",
        " bus28   3.921   1.200   3.500\n",
        " bus30  10.876   1.040  10.600\n",
        " bus24   3.554   1.160   3.200\n",
        " bus20   2.201   1.080   2.200\n"
       ]
      }
     ],
     "prompt_number": 98
    },
    {
     "cell_type": "markdown",
     "metadata": {},
     "source": [
      "<hr style='height:6px'>"
     ]
    },
    {
     "cell_type": "code",
     "collapsed": false,
     "input": [
      "VRANGE = linspace(.8,1.2,N)\n",
      "vhat = 1.06\n",
      "sort!(VRANGE, by = x->abs(1.06-x)).'"
     ],
     "language": "python",
     "metadata": {},
     "outputs": [
      {
       "metadata": {},
       "output_type": "pyout",
       "prompt_number": 68,
       "text": [
        "1x21 Array{Float64,2}:\n",
        " 1.06  1.04  1.08  1.1  1.02  1.0  1.12  \u2026  0.9  0.88  0.86  0.84  0.82  0.8"
       ]
      }
     ],
     "prompt_number": 68
    },
    {
     "cell_type": "code",
     "collapsed": false,
     "input": [
      "#@profile run_algo(buses)\n",
      "#Profile.print()"
     ],
     "language": "python",
     "metadata": {},
     "outputs": [],
     "prompt_number": 1
    },
    {
     "cell_type": "code",
     "collapsed": false,
     "input": [
      "using IProfile"
     ],
     "language": "python",
     "metadata": {},
     "outputs": []
    },
    {
     "cell_type": "code",
     "collapsed": false,
     "input": [
      "@iprofile clear"
     ],
     "language": "python",
     "metadata": {},
     "outputs": [
      {
       "ename": "LoadError",
       "evalue": "@iprofile not defined\nat In[2]:0",
       "output_type": "pyerr",
       "traceback": [
        "@iprofile not defined\nat In[2]:0"
       ]
      }
     ],
     "prompt_number": 2
    },
    {
     "cell_type": "code",
     "collapsed": false,
     "input": [
      "@iprofile report"
     ],
     "language": "python",
     "metadata": {},
     "outputs": []
    },
    {
     "cell_type": "code",
     "collapsed": false,
     "input": [
      "@iprofile begin\n",
      "end"
     ],
     "language": "python",
     "metadata": {},
     "outputs": []
    },
    {
     "cell_type": "code",
     "collapsed": false,
     "input": [
      "gc() # garbage collection"
     ],
     "language": "python",
     "metadata": {},
     "outputs": [],
     "prompt_number": 3
    }
   ],
   "metadata": {}
  }
 ]
}