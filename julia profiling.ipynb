{
 "metadata": {
  "language": "Julia",
  "name": ""
 },
 "nbformat": 3,
 "nbformat_minor": 0,
 "worksheets": [
  {
   "cells": [
    {
     "cell_type": "code",
     "collapsed": false,
     "input": [
      "include(\"loadcase.jl\")\n",
      "include(\"algo.jl\")\n",
      "include(\"solution_display.jl\");"
     ],
     "language": "python",
     "metadata": {},
     "outputs": [],
     "prompt_number": 144
    },
    {
     "cell_type": "code",
     "collapsed": false,
     "input": [
      "gc()\n",
      "#buses = loadcase(\"case_GLL.m\");\n",
      "#buses = loadcase(\"case_GLLL.m\");\n",
      "#buses = loadcase(\"case_G5L.m\");\n",
      "#buses = loadcase(\"case_G5L_v2.m\");\n",
      "#buses = loadcase(\"case14_tree.m\");\n",
      "buses = loadcase(\"case30_tree.m\");"
     ],
     "language": "python",
     "metadata": {},
     "outputs": [],
     "prompt_number": 144
    },
    {
     "cell_type": "code",
     "collapsed": false,
     "input": [
      "N = 21\n",
      "R1 = 1\n",
      "R2 = 5\n",
      "vhat = 1.0\n",
      "tic()\n",
      "run_algo(buses, N, R1, R2, vhat, true)\n",
      "toc();"
     ],
     "language": "python",
     "metadata": {},
     "outputs": [
      {
       "output_type": "stream",
       "stream": "stdout",
       "text": [
        " bus30"
       ]
      },
      {
       "output_type": "stream",
       "stream": "stdout",
       "text": [
        "      0    21\n",
        " bus29    232    76\n",
        " bus28      0    21\n",
        " bus27    259    92\n",
        " bus26  "
       ]
      },
      {
       "output_type": "stream",
       "stream": "stdout",
       "text": [
        " 1512   412\n",
        " bus25   2331   588\n",
        " bus24      0    21\n",
        " bus23    272    88\n",
        " bus22    940   311\n",
        " bus21      0    21\n",
        " bus20      0    21\n",
        " bus19    347   247\n",
        " bus18   2080   618\n",
        " bus17      0    21\n",
        " bus16    283   107\n",
        " bus15      0    21\n",
        " bus14  "
       ]
      },
      {
       "output_type": "stream",
       "stream": "stdout",
       "text": [
        " 4803  1549\n",
        " bus13      0    21\n",
        " bus12  "
       ]
      },
      {
       "output_type": "stream",
       "stream": "stdout",
       "text": [
        "10267  2657\n",
        " bus11      0    21\n",
        " bus10  "
       ]
      },
      {
       "output_type": "stream",
       "stream": "stdout",
       "text": [
        " 4042  1360\n",
        "  bus9  "
       ]
      },
      {
       "output_type": "stream",
       "stream": "stdout",
       "text": [
        " 7812  1785\n",
        "  bus8   3406   718\n",
        "  bus7      0    21\n",
        "  bus6  "
       ]
      },
      {
       "output_type": "stream",
       "stream": "stdout",
       "text": [
        " 8089  1782\n",
        "  bus5    314   167\n",
        "  bus4  "
       ]
      },
      {
       "output_type": "stream",
       "stream": "stdout",
       "text": [
        "24799  5730\n",
        "  bus3      0    21\n",
        "  bus2    257    88\n",
        "  bus1    350    99\n",
        "elapsed time: 21.086786703 seconds\n"
       ]
      }
     ],
     "prompt_number": 144
    },
    {
     "cell_type": "code",
     "collapsed": false,
     "input": [
      "b1 = buses[1]\n",
      "candidates = sort(collect(values(b1.candidates)))\n",
      "pretty(b1, candidates, start=1, stop=5, R2=R2)\n",
      "pretty(b1, candidates, start=length(candidates)-4, stop=length(candidates), R2=R2)"
     ],
     "language": "python",
     "metadata": {},
     "outputs": [
      {
       "output_type": "stream",
       "stream": "stdout",
       "text": [
        "  "
       ]
      },
      {
       "output_type": "stream",
       "stream": "stdout",
       "text": [
        "  key      p1      v1    p1_2      v2      p2    p1_4      v4      p4 \n",
        " 210.00  212.37    1.00    2.40    1.00    2.40  209.97    1.00  183.13 \n",
        " 215.00  214.27    1.00    6.42    1.06    4.34  207.85    0.90  181.48 \n",
        " 220.00  217.79    1.00    3.33    0.96    2.47  214.46    0.96  186.86 \n",
        " 225.00  224.83    1.00   16.97    1.16    2.40  207.85    0.90  181.48 \n",
        " 230.00  231.43    1.00   16.97    1.16    2.40  214.46    0.96  186.86 \n",
        "    key      p1      v1    p1_2      v2      p2    p1_4      v4      p4 \n",
        " 670.00  670.14    1.00   28.03    1.20    5.06  642.11    1.14  384.17 \n",
        " 675.00  676.13    1.00   46.36    0.80   25.55  629.77    1.20  388.93 \n",
        " 680.00  682.24    1.00   40.12    0.82   23.24  642.11    1.14  384.17 \n",
        " 685.00  683.35    1.00   41.23    1.18   21.86  642.11    1.14  384.17 \n",
        " 690.00  688.47    1.00   46.36    0.80   25.55  642.11    1.14  384.17 \n"
       ]
      }
     ],
     "prompt_number": 143
    },
    {
     "cell_type": "code",
     "collapsed": false,
     "input": [
      "c1 = candidates[1]\n",
      "print_full_solution(c1, b1, R2)"
     ],
     "language": "python",
     "metadata": {},
     "outputs": [
      {
       "output_type": "stream",
       "stream": "stdout",
       "text": [
        "  "
       ]
      },
      {
       "output_type": "stream",
       "stream": "stdout",
       "text": [
        "bus1 212.370   1.000\n",
        "  bus2   2.404   1.000   2.403\n",
        "  bus4 209.965   1.000 183.131\n",
        "  bus3   2.403   1.000   2.400\n",
        "  bus5  24.263   1.000  24.063\n",
        "  bus6  54.019   1.060  51.109\n",
        "  bus8  52.429   0.980  52.015\n",
        "  bus9  52.420   1.020  52.420\n",
        "  bus7   1.263   1.060   0.000\n",
        " bus12  43.509   1.180  43.509\n",
        " bus25  22.015   0.940  21.601\n",
        " bus11   0.000   1.100   0.000\n",
        " bus10  52.420   1.100  52.420\n",
        " bus13   0.000   0.800   0.000\n",
        " bus14  32.309   1.160  31.784\n",
        " bus26  21.601   0.920  21.601\n",
        " bus16  14.351   1.120  14.036\n",
        " bus21  17.953   1.120  17.500\n",
        " bus22  14.315   1.100  14.172\n",
        " bus15   6.342   1.160   6.200\n",
        " bus18  17.241   1.140  16.995\n",
        " bus27   5.327   0.880   5.008\n",
        " bus29  16.274   1.020  13.510\n",
        " bus17   5.036   1.200   3.500\n",
        " bus23  14.172   1.120  13.532\n",
        " bus19  13.795   1.080  12.718\n",
        " bus28   5.008   0.960   3.500\n",
        " bus30  11.110   1.040  10.600\n",
        " bus24   4.832   1.020   3.200\n",
        " bus20   3.218   1.120   2.200\n"
       ]
      }
     ],
     "prompt_number": 144
    },
    {
     "cell_type": "markdown",
     "metadata": {},
     "source": [
      "<hr style='height:6px'>"
     ]
    },
    {
     "cell_type": "code",
     "collapsed": false,
     "input": [
      "VRANGE = linspace(.8,1.2,N)\n",
      "vhat = 1.06\n",
      "sort!(VRANGE, by = x->abs(1.06-x)).'"
     ],
     "language": "python",
     "metadata": {},
     "outputs": [
      {
       "metadata": {},
       "output_type": "pyout",
       "prompt_number": 68,
       "text": [
        "1x21 Array{Float64,2}:\n",
        " 1.06  1.04  1.08  1.1  1.02  1.0  1.12  \u2026  0.9  0.88  0.86  0.84  0.82  0.8"
       ]
      }
     ],
     "prompt_number": 68
    },
    {
     "cell_type": "code",
     "collapsed": false,
     "input": [
      "#@profile run_algo(buses)\n",
      "#Profile.print()"
     ],
     "language": "python",
     "metadata": {},
     "outputs": [],
     "prompt_number": 1
    },
    {
     "cell_type": "code",
     "collapsed": false,
     "input": [
      "using IProfile"
     ],
     "language": "python",
     "metadata": {},
     "outputs": []
    },
    {
     "cell_type": "code",
     "collapsed": false,
     "input": [
      "@iprofile clear"
     ],
     "language": "python",
     "metadata": {},
     "outputs": [
      {
       "ename": "LoadError",
       "evalue": "@iprofile not defined\nat In[2]:0",
       "output_type": "pyerr",
       "traceback": [
        "@iprofile not defined\nat In[2]:0"
       ]
      }
     ],
     "prompt_number": 2
    },
    {
     "cell_type": "code",
     "collapsed": false,
     "input": [
      "@iprofile report"
     ],
     "language": "python",
     "metadata": {},
     "outputs": []
    },
    {
     "cell_type": "code",
     "collapsed": false,
     "input": [
      "@iprofile begin\n",
      "end"
     ],
     "language": "python",
     "metadata": {},
     "outputs": []
    },
    {
     "cell_type": "code",
     "collapsed": false,
     "input": [
      "gc() # garbage collection"
     ],
     "language": "python",
     "metadata": {},
     "outputs": [],
     "prompt_number": 3
    }
   ],
   "metadata": {}
  }
 ]
}