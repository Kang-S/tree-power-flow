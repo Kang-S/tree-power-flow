{
 "metadata": {
  "language": "Julia",
  "name": ""
 },
 "nbformat": 3,
 "nbformat_minor": 0,
 "worksheets": [
  {
   "cells": [
    {
     "cell_type": "code",
     "collapsed": false,
     "input": [
      "include(\"loadcase.jl\")\n",
      "include(\"algo.jl\")\n",
      "include(\"solution_display.jl\");"
     ],
     "language": "python",
     "metadata": {},
     "outputs": [],
     "prompt_number": 169
    },
    {
     "cell_type": "code",
     "collapsed": false,
     "input": [
      "gc()\n",
      "#buses = loadcase(\"case_GLL.m\");\n",
      "#buses = loadcase(\"case_GLLL.m\");\n",
      "#buses = loadcase(\"case_G5L.m\");\n",
      "#buses = loadcase(\"case_G5L_v2.m\");\n",
      "root = loadcase(\"case14_tree.m\");\n",
      "#buses = loadcase(\"case30_tree.m\");"
     ],
     "language": "python",
     "metadata": {},
     "outputs": [],
     "prompt_number": 169
    },
    {
     "cell_type": "code",
     "collapsed": false,
     "input": [
      "N = 5\n",
      "R1 = 1\n",
      "R2 = 2\n",
      "vhat = .8\n",
      "tic()\n",
      "run_algo(root, N, R1, R2, vhat, true)\n",
      "toc();"
     ],
     "language": "python",
     "metadata": {},
     "outputs": [
      {
       "output_type": "stream",
       "stream": "stdout",
       "text": [
        "  "
       ]
      },
      {
       "output_type": "stream",
       "stream": "stdout",
       "text": [
        "bus3  "
       ]
      },
      {
       "output_type": "stream",
       "stream": "stdout",
       "text": [
        "    0     5\n",
        "  bus8      0     5\n",
        "  bus7      5     5\n",
        " bus14      0     5\n",
        "  bus9     25    21\n",
        "  bus4     60    40\n",
        "  bus2    162   180\n",
        " bus11      0     5\n",
        " bus10     25    21\n",
        " bus12      0     5\n",
        " bus13      0     5\n",
        "  bus6    133   288\n",
        "  bus5    695   399\n",
        "  bus1  "
       ]
      },
      {
       "output_type": "stream",
       "stream": "stdout",
       "text": [
        "  338   266\n",
        "elapsed time: 0.64473124 seconds\n"
       ]
      }
     ],
     "prompt_number": 169
    },
    {
     "cell_type": "code",
     "collapsed": false,
     "input": [
      "candidates = sort(collect(values(root.candidates)))\n",
      "pretty(root, candidates, start=1, stop=5, R2=R2)\n",
      "pretty(root, candidates, start=length(candidates)-4, stop=length(candidates), R2=R2)"
     ],
     "language": "python",
     "metadata": {},
     "outputs": [
      {
       "output_type": "stream",
       "stream": "stdout",
       "text": [
        "  "
       ]
      },
      {
       "output_type": "stream",
       "stream": "stdout",
       "text": [
        "  key      p1      v1    p1_2      v2      p2    p1_5      v5      p5 \n",
        " 298.00  298.91    0.80  244.73    0.80  225.89   54.18    0.80   51.65 \n",
        " 300.00  300.14    0.80  244.73    0.80  225.89   55.41    0.90   51.29 \n",
        " 302.00  302.56    0.80  244.73    0.80  225.89   57.83    0.90   53.48 \n",
        " 304.00  304.71    0.80  246.88    0.80  227.71   57.83    0.90   53.48 \n",
        " 306.00  306.69    0.80  244.73    0.80  225.89   61.96    0.90   57.18 \n",
        "    key      p1      v1    p1_2      v2      p2    p1_5      v5      p5 \n",
        " 822.00  821.03    0.80  441.38    1.20  287.35  379.65    1.20  257.95 \n",
        " 824.00  824.88    0.80  434.37    1.20  282.02  390.51    1.10  257.95 \n",
        " 828.00  827.18    0.80  436.66    1.20  283.76  390.51    1.10  257.95 \n",
        " 832.00  831.35    0.80  451.70    1.20  295.17  379.65    1.20  257.95 \n",
        " 842.00  842.22    0.80  451.70    1.20  295.17  390.51    1.10  257.95 \n"
       ]
      }
     ],
     "prompt_number": 170
    },
    {
     "cell_type": "code",
     "collapsed": false,
     "input": [
      "c1 = candidates[end]\n",
      "print_full_solution(c1, b1, R2)"
     ],
     "language": "python",
     "metadata": {},
     "outputs": [
      {
       "output_type": "stream",
       "stream": "stdout",
       "text": [
        "  "
       ]
      },
      {
       "output_type": "stream",
       "stream": "stdout",
       "text": [
        "bus1 842.216   0.800\n",
        "  bus2 451.702   1.200 295.169\n",
        "  bus5 390.514   1.100 257.945\n",
        "  bus3 114.154   0.800  94.200\n",
        "  bus4 159.315   0.800 128.396\n",
        "  bus6 250.345   0.800 250.345\n",
        "  bus7   0.000   1.100   0.000\n",
        "  bus9  80.596   0.800  80.596\n",
        " bus10 106.402   1.200  45.122\n",
        " bus12  42.182   1.200   6.100\n",
        " bus13  90.562   1.200  13.500\n",
        "  bus8   0.000   1.100   0.000\n",
        " bus14  51.096   1.200  14.900\n",
        " bus11  41.622   0.800   9.000\n"
       ]
      }
     ],
     "prompt_number": 171
    },
    {
     "cell_type": "markdown",
     "metadata": {},
     "source": [
      "<hr style='height:6px'>"
     ]
    },
    {
     "cell_type": "code",
     "collapsed": false,
     "input": [
      "VRANGE = linspace(.8,1.2,N)\n",
      "vhat = 1.06\n",
      "sort!(VRANGE, by = x->abs(1.06-x)).'"
     ],
     "language": "python",
     "metadata": {},
     "outputs": [
      {
       "metadata": {},
       "output_type": "pyout",
       "prompt_number": 68,
       "text": [
        "1x21 Array{Float64,2}:\n",
        " 1.06  1.04  1.08  1.1  1.02  1.0  1.12  \u2026  0.9  0.88  0.86  0.84  0.82  0.8"
       ]
      }
     ],
     "prompt_number": 68
    },
    {
     "cell_type": "code",
     "collapsed": false,
     "input": [
      "#@profile run_algo(buses)\n",
      "#Profile.print()"
     ],
     "language": "python",
     "metadata": {},
     "outputs": [],
     "prompt_number": 1
    },
    {
     "cell_type": "code",
     "collapsed": false,
     "input": [
      "using IProfile"
     ],
     "language": "python",
     "metadata": {},
     "outputs": []
    },
    {
     "cell_type": "code",
     "collapsed": false,
     "input": [
      "@iprofile clear"
     ],
     "language": "python",
     "metadata": {},
     "outputs": [
      {
       "ename": "LoadError",
       "evalue": "@iprofile not defined\nat In[2]:0",
       "output_type": "pyerr",
       "traceback": [
        "@iprofile not defined\nat In[2]:0"
       ]
      }
     ],
     "prompt_number": 2
    },
    {
     "cell_type": "code",
     "collapsed": false,
     "input": [
      "@iprofile report"
     ],
     "language": "python",
     "metadata": {},
     "outputs": []
    },
    {
     "cell_type": "code",
     "collapsed": false,
     "input": [
      "@iprofile begin\n",
      "end"
     ],
     "language": "python",
     "metadata": {},
     "outputs": []
    },
    {
     "cell_type": "code",
     "collapsed": false,
     "input": [
      "gc() # garbage collection"
     ],
     "language": "python",
     "metadata": {},
     "outputs": [],
     "prompt_number": 3
    }
   ],
   "metadata": {}
  }
 ]
}