{
 "metadata": {
  "language": "Julia",
  "name": ""
 },
 "nbformat": 3,
 "nbformat_minor": 0,
 "worksheets": [
  {
   "cells": [
    {
     "cell_type": "code",
     "collapsed": false,
     "input": [
      "include(\"loadcase.jl\")\n",
      "include(\"algo.jl\")\n",
      "include(\"solution_display.jl\");"
     ],
     "language": "python",
     "metadata": {},
     "outputs": [],
     "prompt_number": 232
    },
    {
     "cell_type": "code",
     "collapsed": false,
     "input": [
      "gc()\n",
      "#root = loadcase(\"cases/case5_renumber.m\");\n",
      "#root = loadcase(\"cases/case14_tree.m\");\n",
      "#root = loadcase(\"cases/case39_tree.m\");\n",
      "root = loadcase(\"case57_tree.m\");"
     ],
     "language": "python",
     "metadata": {},
     "outputs": [],
     "prompt_number": 234
    },
    {
     "cell_type": "code",
     "collapsed": false,
     "input": [
      "N = 11\n",
      "R1 = 25.\n",
      "R2 = 50.\n",
      "vhat = .982\n",
      "tic()\n",
      "run_algo(root, N, R1, R2, vhat=vhat, verbose=true, vmin=.7, vmax=1.4)\n",
      "toc();"
     ],
     "language": "python",
     "metadata": {},
     "outputs": [
      {
       "output_type": "stream",
       "stream": "stdout",
       "text": [
        " bus21"
       ]
      },
      {
       "output_type": "stream",
       "stream": "stdout",
       "text": [
        "      0    15\n",
        " bus23      0    15\n",
        " bus22  "
       ]
      },
      {
       "output_type": "stream",
       "stream": "stdout",
       "text": [
        "  243   365\n",
        " bus57      0    15\n",
        " bus39     15    15\n",
        " bus33      0    15\n",
        " bus32    119    97\n",
        " bus34     85    50\n",
        " bus35    208   132\n",
        " bus40      0    15\n",
        " bus36    575   428\n",
        " bus37   1042   731\n",
        " bus48      0    15\n",
        " bus38  "
       ]
      },
      {
       "output_type": "stream",
       "stream": "stdout",
       "text": [
        " 1665  1226\n",
        " bus44  "
       ]
      },
      {
       "output_type": "stream",
       "stream": "stdout",
       "text": [
        "  905   507\n",
        " bus45    400   226\n",
        " bus47      0    15\n",
        " bus46     89    52\n",
        " bus14    149    86\n",
        " bus15    866   501\n",
        " bus16      0    15\n",
        "  bus5      0    15\n",
        " bus20      0    15\n",
        " bus19     44    28\n",
        " bus18     54    31\n",
        "  bus4    161    88\n",
        "  bus3    311   181\n",
        "  bus2    512   294\n",
        " bus49      0    15\n",
        " bus13     15    15\n",
        " bus50      0    15\n",
        " bus51     60    43\n",
        " bus54      0    15\n",
        " bus55     66    44\n",
        " bus56      0    15\n",
        " bus42      0    15\n",
        " bus41     91    46\n",
        " bus43     92    46\n",
        " bus11     89    49\n",
        "  bus6      0    15\n",
        " bus53      0    15\n",
        " bus52     94    66\n",
        " bus31      0    15\n",
        " bus30     44    29\n",
        " bus25    102    61\n",
        " bus24  "
       ]
      },
      {
       "output_type": "stream",
       "stream": "stdout",
       "text": [
        "   59    40\n",
        " bus26     82    54\n",
        " bus27    126    65\n",
        " bus28    227   136\n",
        " bus29  "
       ]
      },
      {
       "output_type": "stream",
       "stream": "stdout",
       "text": [
        "  603   371\n",
        "  bus7    880   456\n",
        "  bus8    975   535\n",
        "  bus9  "
       ]
      },
      {
       "output_type": "stream",
       "stream": "stdout",
       "text": [
        " 1517   827\n",
        " bus10    211   104\n",
        " bus12    239   136\n",
        " bus17 "
       ]
      },
      {
       "ename": "LoadError",
       "evalue": "assertion failed: :((length(bus.raw_flows[i])>0))\nat In[234]:6",
       "output_type": "pyerr",
       "traceback": [
        "assertion failed: :((length(bus.raw_flows[i])>0))\nat In[234]:6",
        " in f1 at /Users/srharnett/Dropbox/power/tree-power-flow/algo.jl:25",
        " in run_algo at /Users/srharnett/Dropbox/power/tree-power-flow/algo.jl:93"
       ]
      }
     ],
     "prompt_number": 234
    },
    {
     "cell_type": "code",
     "collapsed": false,
     "input": [
      "candidates = sort(collect(values(root.candidates)))\n",
      "pretty(root, candidates, start=1, stop=5, R2=R2)\n",
      "pretty(root, candidates, start=length(candidates)-4, stop=length(candidates), R2=R2)"
     ],
     "language": "python",
     "metadata": {},
     "outputs": [
      {
       "output_type": "stream",
       "stream": "stdout",
       "text": [
        "  "
       ]
      },
      {
       "output_type": "stream",
       "stream": "stdout",
       "text": [
        "  key     p31     v31   p31_6      v6      p6 \n",
        "7350.00 7336.68    1.40 7336.68    1.40 7336.68 \n",
        "7400.00 7411.82    1.40 7411.82    1.40 7411.82 \n",
        "7450.00 7456.58    1.40 7456.58    1.40 7456.58 \n",
        "7500.00 7509.29    1.40 7509.29    1.40 7509.29 \n",
        "7550.00 7525.80    1.40 7525.80    1.40 7525.80 \n",
        "    key     p31     v31   p31_6      v6      p6 \n",
        "7550.00 7525.80    1.40 7525.80    1.40 7525.80 \n",
        "7600.00 7580.43    1.40 7580.43    1.40 7580.43 \n",
        "7650.00 7655.57    1.40 7655.57    1.40 7655.57 \n",
        "7700.00 7723.65    1.40 7723.65    1.40 7723.65 \n",
        "7800.00 7780.02    1.40 7780.02    1.40 7780.02 \n"
       ]
      }
     ],
     "prompt_number": 233
    },
    {
     "cell_type": "code",
     "collapsed": false,
     "input": [
      "c1 = candidates[end]\n",
      "print_full_solution(c1, root, R2)"
     ],
     "language": "python",
     "metadata": {},
     "outputs": [
      {
       "output_type": "stream",
       "stream": "stdout",
       "text": [
        " bus31"
       ]
      },
      {
       "output_type": "stream",
       "stream": "stdout",
       "text": [
        "        -  1.40  7780.02\n",
        "  bus6  7780.02  1.40  7780.02\n",
        "  bus5   673.65  1.40   673.19\n",
        "  bus7   376.76  0.95   233.80\n",
        " bus11  6729.61  1.40  6567.34\n",
        "  bus8   673.19  0.95   544.25\n",
        " bus10  6567.34  1.40  6479.29\n",
        "  bus9    22.25  1.25     6.50\n",
        " bus32     0.00  0.80     0.00\n",
        " bus13  6479.29  1.40  6393.57\n",
        " bus12    38.94  0.80     8.53\n",
        " bus14  6354.63  1.40  6168.11\n",
        "  bus4  3673.70  1.10  3567.51\n",
        " bus15  2494.40  1.25  2425.61\n",
        "  bus3  3067.51  1.10  2961.36\n",
        " bus16  2105.61  1.25  2080.05\n",
        "  bus2  2639.36  1.25  2555.72\n",
        " bus21   274.39  1.25   274.00\n",
        " bus24   578.48  1.10   558.76\n",
        " bus17   158.23  1.25   158.11\n",
        " bus19   739.95  0.95   697.75\n",
        " bus25  1306.74  1.25  1190.26\n",
        " bus30     0.00  1.25     0.00\n",
        "  bus1  1248.98  1.25  1213.81\n",
        " bus22     0.00  1.25     0.00\n",
        " bus23   250.16  1.10   249.02\n",
        " bus18   158.11  1.25   158.00\n",
        " bus20   689.94  0.95   686.25\n",
        " bus33     7.81  0.80     0.00\n",
        " bus26   956.23  1.10   930.57\n",
        " bus37    10.03  0.95     0.00\n",
        " bus39  1116.21  1.10  1104.00\n",
        " bus35     0.00  1.10     0.00\n",
        " bus36     1.52  1.25     0.00\n",
        " bus34     6.25  0.80     0.00\n",
        " bus29   509.65  1.10   497.39\n",
        " bus27   281.93  1.10   281.00\n",
        " bus38     7.39  0.95     0.00\n",
        " bus28   206.50  1.10   206.00\n"
       ]
      }
     ],
     "prompt_number": 234
    },
    {
     "cell_type": "markdown",
     "metadata": {},
     "source": [
      "<hr style='height:6px'>"
     ]
    },
    {
     "cell_type": "code",
     "collapsed": false,
     "input": [
      "VRANGE = linspace(.8,1.2,N)\n",
      "vhat = 1.06\n",
      "sort!(VRANGE, by = x->abs(1.06-x)).'"
     ],
     "language": "python",
     "metadata": {},
     "outputs": [
      {
       "metadata": {},
       "output_type": "pyout",
       "prompt_number": 68,
       "text": [
        "1x21 Array{Float64,2}:\n",
        " 1.06  1.04  1.08  1.1  1.02  1.0  1.12  \u2026  0.9  0.88  0.86  0.84  0.82  0.8"
       ]
      }
     ],
     "prompt_number": 68
    },
    {
     "cell_type": "code",
     "collapsed": false,
     "input": [
      "#@profile run_algo(buses)\n",
      "#Profile.print()"
     ],
     "language": "python",
     "metadata": {},
     "outputs": [],
     "prompt_number": 1
    },
    {
     "cell_type": "code",
     "collapsed": false,
     "input": [
      "using IProfile"
     ],
     "language": "python",
     "metadata": {},
     "outputs": []
    },
    {
     "cell_type": "code",
     "collapsed": false,
     "input": [
      "@iprofile clear"
     ],
     "language": "python",
     "metadata": {},
     "outputs": [
      {
       "ename": "LoadError",
       "evalue": "@iprofile not defined\nat In[2]:0",
       "output_type": "pyerr",
       "traceback": [
        "@iprofile not defined\nat In[2]:0"
       ]
      }
     ],
     "prompt_number": 2
    },
    {
     "cell_type": "code",
     "collapsed": false,
     "input": [
      "@iprofile report"
     ],
     "language": "python",
     "metadata": {},
     "outputs": []
    },
    {
     "cell_type": "code",
     "collapsed": false,
     "input": [
      "@iprofile begin\n",
      "end"
     ],
     "language": "python",
     "metadata": {},
     "outputs": []
    },
    {
     "cell_type": "code",
     "collapsed": false,
     "input": [
      "gc() # garbage collection"
     ],
     "language": "python",
     "metadata": {},
     "outputs": [],
     "prompt_number": 3
    }
   ],
   "metadata": {}
  }
 ]
}