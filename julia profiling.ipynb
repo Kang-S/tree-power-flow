{
 "metadata": {
  "language": "Julia",
  "name": "",
  "signature": "sha256:636b27f9d30920871a1b2b87ea2dc70de5b84005e5bfb316a34e878caa39f985"
 },
 "nbformat": 3,
 "nbformat_minor": 0,
 "worksheets": [
  {
   "cells": [
    {
     "cell_type": "code",
     "collapsed": false,
     "input": [
      "include(\"loadcase.jl\")\n",
      "include(\"algo.jl\")\n",
      "include(\"solution_display.jl\")\n",
      "include(\"checks.jl\");"
     ],
     "language": "python",
     "metadata": {},
     "outputs": [],
     "prompt_number": 74
    },
    {
     "cell_type": "code",
     "collapsed": false,
     "input": [
      "gc()\n",
      "Profile.clear()\n",
      "#casefile = \"cases/case5_renumber_tree.m\"\n",
      "#casefile = \"cases/case14_tree.m\"\n",
      "#casefile = \"cases/case39_tree.m\"\n",
      "#casefile = \"cases/case57_tree.m\"\n",
      "casefile = \"cases/case118_tree.m\"\n",
      "#casefile = \"cases/case300_tree.m\"\n",
      "root, vhat = loadcase(casefile)\n",
      "buses = get_buses_dict(root)\n",
      "println(\"root: $root vhat: $vhat\")"
     ],
     "language": "python",
     "metadata": {},
     "outputs": [
      {
       "output_type": "stream",
       "stream": "stdout",
       "text": [
        "root: bus69 vhat: 1.035\n"
       ]
      }
     ],
     "prompt_number": 79
    },
    {
     "cell_type": "code",
     "collapsed": false,
     "input": [
      "buses[8].pmax = 100\n",
      "buses[26].pmax = 150\n",
      "buses[38].pmax = 500\n",
      "buses[49].pmax = 500\n",
      "buses[77].pmax = 500\n",
      "buses[89].pmax = 700"
     ],
     "language": "python",
     "metadata": {},
     "outputs": [
      {
       "metadata": {},
       "output_type": "pyout",
       "prompt_number": 81,
       "text": [
        "700"
       ]
      }
     ],
     "prompt_number": 81
    },
    {
     "cell_type": "code",
     "collapsed": true,
     "input": [
      "clear!(buses)\n",
      "N = 21\n",
      "R1 = 10\n",
      "R2 = 20\n",
      "vmin = .9\n",
      "vmax = 1.1\n",
      "verbose = false\n",
      "run_algo(root, N, R1, R2, vhat=vhat, verbose=verbose, vmin=vmin, vmax=vmax)\n",
      "#@profile run_algo(root, N, R1, R2, vhat=vhat, verbose=verbose, vmin=vmin, vmax=vmax)\n",
      "if check_all(root) > 1e-4 error(\"WTF\") end"
     ],
     "language": "python",
     "metadata": {},
     "outputs": [],
     "prompt_number": 82
    },
    {
     "cell_type": "code",
     "collapsed": false,
     "input": [
      "sort([c.p for c in values(buses[26].candidates)])"
     ],
     "language": "python",
     "metadata": {},
     "outputs": [
      {
       "metadata": {},
       "output_type": "pyout",
       "prompt_number": 74,
       "text": [
        "102-element Array{Any,1}:\n",
        " 111.29 \n",
        " 112.268\n",
        " 112.268\n",
        " 112.398\n",
        " 112.398\n",
        " 112.435\n",
        " 112.435\n",
        " 112.435\n",
        " 112.71 \n",
        " 112.71 \n",
        " 113.067\n",
        " 113.07 \n",
        " 113.07 \n",
        "   \u22ee    \n",
        " 148.009\n",
        " 148.009\n",
        " 148.009\n",
        " 148.009\n",
        " 148.009\n",
        " 148.636\n",
        " 148.636\n",
        " 148.636\n",
        " 148.974\n",
        " 149.733\n",
        " 149.733\n",
        " 149.733"
       ]
      }
     ],
     "prompt_number": 74
    },
    {
     "cell_type": "code",
     "collapsed": false,
     "input": [
      "run(`./visualize_graph.sh $casefile`)"
     ],
     "language": "python",
     "metadata": {},
     "outputs": [],
     "prompt_number": 54
    },
    {
     "cell_type": "code",
     "collapsed": true,
     "input": [
      "candidates = sort(collect(values(root.candidates)));"
     ],
     "language": "python",
     "metadata": {},
     "outputs": [],
     "prompt_number": 64
    },
    {
     "cell_type": "code",
     "collapsed": true,
     "input": [
      "c1 = candidates[1]\n",
      "matpower_compare(casefile, c1, root, R2)"
     ],
     "language": "python",
     "metadata": {},
     "outputs": [
      {
       "output_type": "stream",
       "stream": "stdout",
       "text": [
        "  "
       ]
      },
      {
       "output_type": "stream",
       "stream": "stdout",
       "text": [
        "fbus   tbus        fp1        fp2        tp1        tp2    fv1    fv2    tv1    tv2\n",
        "     1      2       82.0       81.2      -80.8      -80.1   1.06   1.06   1.04   1.04\n",
        "     1      5      165.2      157.5     -152.1     -145.2   1.06   1.06   1.05   0.97\n",
        "     2      3       99.1       98.4      -94.2      -94.2   1.04   1.04   1.09   1.01\n",
        "     4      5     -104.2     -101.6      107.6      103.1   1.09   0.97   1.05   0.97\n",
        "     4      7       56.4       53.8      -56.4      -53.8   1.09   0.97   0.96   1.03\n",
        "     5      6       36.9       34.5      -36.9      -34.5   1.05   0.97   1.05   1.07\n",
        "     6     11        3.5        3.5       -3.5       -3.5   1.05   1.07   1.04   1.06\n",
        "     6     12        8.5        6.1       -6.1       -6.1   1.05   1.07   0.93   1.06\n",
        "     6     13       13.7       13.6      -13.5      -13.5   1.05   1.07   1.03   1.05\n",
        "     7      8        0.0        0.0       -0.0       -0.0   0.96   1.03   0.91   1.09\n",
        "     7      9       56.4       53.8      -56.4      -53.8   0.96   1.03   0.99   1.02\n",
        "     9     10       10.3        9.0       -9.0       -9.0   0.99   1.02   1.04   1.01\n",
        "     9     14       16.6       15.2      -14.9      -14.9   0.99   1.02   1.06   0.99\n"
       ]
      }
     ],
     "prompt_number": 180
    },
    {
     "cell_type": "code",
     "collapsed": false,
     "input": [
      "pretty(root, candidates, start=1, stop=5, R2=R2)\n",
      "#pretty(root, candidates, start=length(candidates)-4, stop=length(candidates), R2=R2)"
     ],
     "language": "python",
     "metadata": {},
     "outputs": [
      {
       "output_type": "stream",
       "stream": "stdout",
       "text": [
        "  "
       ]
      },
      {
       "output_type": "stream",
       "stream": "stdout",
       "text": [
        "  key     p69     v69  p69_70     v70     p70  p69_47     v47     p47  p69_49     v49     p49  p69_68     v68     p68  p69_75     v75     p75 \n",
        " 610.00  612.90    1.03   87.29    1.01   85.14   35.30    1.06   34.00  121.92    1.09  107.26  204.84    0.94  204.84  163.55    1.09  150.60 \n",
        " 620.00  619.47    1.03   87.29    1.01   85.14   35.30    1.06   34.00  121.92    1.09  107.26  204.84    0.94  204.84  170.13    0.96  158.93 \n",
        " 630.00  627.93    1.03   87.29    1.01   85.14   35.30    1.06   34.00  121.92    1.09  107.26  204.84    0.94  204.84  178.58    0.90  164.71 \n",
        " 640.00  635.90    1.03   87.29    1.01   85.14   35.30    1.06   34.00  121.92    1.09  107.26  212.81    0.97  212.81  178.58    0.90  164.71 \n",
        " 650.00  650.97    1.03   87.29    1.01   85.14   35.30    1.06   34.00  139.28    0.93  120.86  212.81    0.97  212.81  176.28    0.91  163.09 \n"
       ]
      }
     ],
     "prompt_number": 205
    },
    {
     "cell_type": "code",
     "collapsed": false,
     "input": [
      "c1 = candidates[1]\n",
      "print_full_solution(c1, root, R2)"
     ],
     "language": "python",
     "metadata": {},
     "outputs": [
      {
       "output_type": "stream",
       "stream": "stdout",
       "text": [
        " bus69"
       ]
      },
      {
       "output_type": "stream",
       "stream": "stdout",
       "text": [
        "        -  1.03   622.37\n",
        " bus70    87.29  0.96    84.68\n",
        " bus47    35.96  1.10    34.00\n",
        " bus49   132.96  1.02   116.49\n",
        " bus68   204.88  0.95   204.88\n",
        " bus75   161.28  1.04   150.61\n",
        " bus71    18.68  0.98    18.32\n",
        " bus51    50.25  1.05    48.41\n",
        " bus50    29.30  1.01    29.08\n",
        " bus54    94.45  1.00    88.18\n",
        " bus45   105.58  0.90    97.41\n",
        " bus42   154.33  1.10   137.66\n",
        " bus66  -222.50  1.07  -231.08\n",
        " bus48    22.09  1.07    20.00\n",
        " bus81    18.81  0.93    18.64\n",
        "bus116   186.07  0.98   184.00\n",
        " bus74    68.54  1.03    68.00\n",
        "bus118    35.07  0.98    33.00\n",
        " bus72    12.16  1.00    12.00\n",
        " bus73     6.16  0.96     6.00\n",
        " bus58    12.57  1.08    12.00\n",
        " bus52    18.84  1.01    18.00\n",
        " bus57    12.08  1.01    12.00\n",
        " bus53    23.18  0.98    23.00\n",
        " bus44    35.37  0.94    34.40\n",
        " bus46     9.04  0.90     9.00\n",
        " bus41    41.66  0.95    37.00\n",
        " bus65    13.08  0.98    13.08\n",
        " bus67    28.20  1.05    28.00\n",
        " bus62    80.64  0.95    77.00\n",
        " bus80    18.64  1.01    18.64\n",
        " bus43    18.40  0.97    18.00\n",
        " bus64   202.48  0.98   201.32\n",
        " bus38   201.60  0.91   197.30\n",
        " bus79    39.61  0.97    39.00\n",
        " bus77   235.20  0.99   225.86\n",
        " bus97    15.05  1.00    15.00\n",
        " bus98    36.41  0.90    34.00\n",
        " bus96    39.37  0.91    38.00\n",
        " bus63   201.32  0.91   198.66\n",
        " bus30   -47.96  0.91   -48.09\n",
        " bus37   245.26  1.02   245.26\n",
        " bus78    71.21  0.99    71.00\n",
        " bus82    23.28  1.00    23.00\n",
        " bus76    70.37  0.99    68.00\n",
        " bus59   198.66  1.01   198.66\n",
        " bus26  -206.99  0.96  -211.14\n",
        "  bus8   -79.57  0.96   -80.25\n",
        " bus17   238.47  0.93   238.47\n",
        " bus34    92.10  1.00    90.99\n",
        " bus39    27.99  0.96    27.00\n",
        " bus35    33.20  1.03    33.00\n",
        " bus33    23.22  1.01    23.00\n",
        " bus40    68.75  0.97    66.00\n",
        " bus83   -31.00  1.03   -31.69\n",
        " bus56    90.55  0.99    84.00\n",
        " bus55    65.34  1.05    63.00\n",
        " bus61   -79.24  1.10   -81.77\n",
        " bus25   102.86  1.08   102.86\n",
        "  bus5   330.61  1.04   330.61\n",
        "  bus9  -438.86  1.05  -445.25\n",
        " bus15    91.27  0.92    90.00\n",
        " bus16    25.35  0.91    25.00\n",
        " bus18   110.85  0.95   108.60\n",
        " bus36    31.99  0.97    31.00\n",
        " bus85   -51.69  1.02   -53.02\n",
        " bus60    78.23  1.09    78.00\n",
        " bus27   141.09  1.09   135.56\n",
        " bus23   181.77  1.07   177.33\n",
        "  bus4    39.03  1.04    39.00\n",
        "  bus6    72.16  1.07    71.02\n",
        " bus11   127.16  1.05   123.71\n",
        "  bus3    92.27  1.01    90.34\n",
        " bus10  -445.25  1.09  -450.00\n",
        " bus19    48.60  1.03    45.00\n",
        " bus84    12.02  0.98    11.00\n",
        " bus86    17.15  1.00    17.00\n",
        " bus89  -106.19  1.10  -108.92\n",
        " bus28    42.28  1.10    41.92\n",
        "bus115    22.28  1.06    22.00\n",
        " bus22    42.96  1.07    42.39\n",
        " bus32   113.53  1.05   109.96\n",
        " bus24    13.84  1.03    13.00\n",
        "  bus7    19.02  1.07    19.00\n",
        " bus13    34.36  1.06    34.00\n",
        " bus12    19.35  1.06    19.14\n",
        "  bus1    51.34  1.00    51.00\n",
        " bus87    -4.00  1.00    -4.00\n",
        " bus92   275.01  1.09   268.80\n",
        " bus88    49.40  1.03    48.00\n",
        " bus90   173.67  0.93   163.00\n",
        " bus29    24.92  1.04    24.00\n",
        " bus21    32.39  1.09    32.05\n",
        "bus113     6.19  1.08     6.00\n",
        "bus114     8.14  1.03     8.00\n",
        " bus31    36.63  1.07    36.00\n",
        "bus117    22.69  0.93    20.00\n",
        "  bus2    20.41  1.03    20.00\n",
        " bus14    14.04  1.06    14.00\n",
        " bus93    12.09  1.10    12.00\n",
        " bus94   154.37  1.08   144.52\n",
        " bus91    10.04  1.09    10.00\n",
        "bus102    27.31  1.09    27.23\n",
        " bus20    18.05  1.09    18.00\n",
        " bus95    42.22  1.07    42.00\n",
        "bus100    72.30  1.07    71.50\n",
        "bus101    22.23  1.06    22.00\n",
        " bus99    42.47  1.09    42.00\n",
        "bus104   141.56  1.06   133.65\n",
        "bus103    58.43  1.05    57.87\n",
        "bus106    44.04  1.06    43.00\n",
        "bus105    95.65  1.04    94.75\n",
        "bus110    74.87  1.09    72.48\n",
        "bus107    52.51  0.93    50.00\n",
        "bus108    11.23  1.00    10.47\n",
        "bus111   -35.65  1.08   -36.00\n",
        "bus112    69.12  1.09    68.00\n",
        "bus109     8.47  0.98     8.00\n"
       ]
      }
     ],
     "prompt_number": 65
    },
    {
     "cell_type": "markdown",
     "metadata": {},
     "source": [
      "#Gadfly"
     ]
    },
    {
     "cell_type": "code",
     "collapsed": false,
     "input": [
      "Pkg.add(\"Gadfly\")"
     ],
     "language": "python",
     "metadata": {},
     "outputs": [
      {
       "output_type": "stream",
       "stream": "stderr",
       "text": [
        "INFO: Cloning cache of Blocks from git://github.com/tanmaykm/Blocks.jl.git"
       ]
      },
      {
       "output_type": "stream",
       "stream": "stderr",
       "text": [
        "\n"
       ]
      },
      {
       "output_type": "stream",
       "stream": "stderr",
       "text": [
        "INFO: Cloning cache of Codecs from git://github.com/dcjones/Codecs.jl.git"
       ]
      },
      {
       "output_type": "stream",
       "stream": "stderr",
       "text": [
        "\n"
       ]
      },
      {
       "output_type": "stream",
       "stream": "stderr",
       "text": [
        "INFO: Cloning cache of Compose from git://github.com/dcjones/Compose.jl.git"
       ]
      },
      {
       "output_type": "stream",
       "stream": "stderr",
       "text": [
        "\n"
       ]
      },
      {
       "output_type": "stream",
       "stream": "stderr",
       "text": [
        "INFO: Cloning cache of DataArrays from git://github.com/JuliaStats/DataArrays.jl.git"
       ]
      },
      {
       "output_type": "stream",
       "stream": "stderr",
       "text": [
        "\n"
       ]
      },
      {
       "output_type": "stream",
       "stream": "stderr",
       "text": [
        "INFO: Cloning cache of DataFrames from git://github.com/JuliaStats/DataFrames.jl.git"
       ]
      },
      {
       "output_type": "stream",
       "stream": "stderr",
       "text": [
        "\n"
       ]
      },
      {
       "output_type": "stream",
       "stream": "stderr",
       "text": [
        "INFO: Cloning cache of Datetime from git://github.com/karbarcca/Datetime.jl.git"
       ]
      },
      {
       "output_type": "stream",
       "stream": "stderr",
       "text": [
        "\n"
       ]
      },
      {
       "output_type": "stream",
       "stream": "stderr",
       "text": [
        "INFO: Cloning cache of Distance from git://github.com/lindahua/Distance.jl.git"
       ]
      },
      {
       "output_type": "stream",
       "stream": "stderr",
       "text": [
        "\n"
       ]
      },
      {
       "output_type": "stream",
       "stream": "stderr",
       "text": [
        "INFO: Cloning cache of Distributions from git://github.com/JuliaStats/Distributions.jl.git"
       ]
      },
      {
       "output_type": "stream",
       "stream": "stderr",
       "text": [
        "\n"
       ]
      },
      {
       "output_type": "stream",
       "stream": "stderr",
       "text": [
        "INFO: Cloning cache of GZip from git://github.com/kmsquire/GZip.jl.git"
       ]
      },
      {
       "output_type": "stream",
       "stream": "stderr",
       "text": [
        "\n"
       ]
      },
      {
       "output_type": "stream",
       "stream": "stderr",
       "text": [
        "INFO: Cloning cache of Gadfly from git://github.com/dcjones/Gadfly.jl.git"
       ]
      },
      {
       "output_type": "stream",
       "stream": "stderr",
       "text": [
        "\n"
       ]
      },
      {
       "output_type": "stream",
       "stream": "stderr",
       "text": [
        "INFO: Cloning cache of Iterators from git://github.com/JuliaLang/Iterators.jl.git"
       ]
      },
      {
       "output_type": "stream",
       "stream": "stderr",
       "text": [
        "\n"
       ]
      },
      {
       "output_type": "stream",
       "stream": "stderr",
       "text": [
        "INFO: Cloning cache of Loess from git://github.com/dcjones/Loess.jl.git"
       ]
      },
      {
       "output_type": "stream",
       "stream": "stderr",
       "text": [
        "\n"
       ]
      },
      {
       "output_type": "stream",
       "stream": "stderr",
       "text": [
        "INFO: Cloning cache of NumericExtensions from git://github.com/lindahua/NumericExtensions.jl.git"
       ]
      },
      {
       "output_type": "stream",
       "stream": "stderr",
       "text": [
        "\n"
       ]
      },
      {
       "output_type": "stream",
       "stream": "stderr",
       "text": [
        "INFO: Cloning cache of SortingAlgorithms from git://github.com/JuliaLang/SortingAlgorithms.jl.git"
       ]
      },
      {
       "output_type": "stream",
       "stream": "stderr",
       "text": [
        "\n"
       ]
      },
      {
       "output_type": "stream",
       "stream": "stderr",
       "text": [
        "INFO: Cloning cache of Stats from git://github.com/JuliaStats/Stats.jl.git"
       ]
      },
      {
       "output_type": "stream",
       "stream": "stderr",
       "text": [
        "\n"
       ]
      },
      {
       "output_type": "stream",
       "stream": "stderr",
       "text": [
        "INFO: Updating cache of Stats...\n"
       ]
      },
      {
       "ename": "LoadError",
       "evalue": "Missing package versions (possible metadata misconfiguration):  Stats v(nothing,v\"0.2.8\") [87d1c8d890962dfcfd0b45b82907464787ac7c64[1:10]]\n\nat In[84]:1",
       "output_type": "pyerr",
       "traceback": [
        "Missing package versions (possible metadata misconfiguration):  Stats v(nothing,v\"0.2.8\") [87d1c8d890962dfcfd0b45b82907464787ac7c64[1:10]]\n\nat In[84]:1",
        " in error at error.jl:21",
        " in resolve at pkg/entry.jl:350",
        " in resolve at pkg/entry.jl:316",
        " in edit at pkg/entry.jl:24",
        " in add at pkg/entry.jl:44",
        " in add at pkg/entry.jl:48",
        " in anonymous at pkg/dir.jl:25",
        " in cd at file.jl:22",
        " in cd at pkg/dir.jl:25",
        " in add at pkg.jl:19"
       ]
      }
     ],
     "prompt_number": 84
    },
    {
     "cell_type": "markdown",
     "metadata": {},
     "source": [
      "#Special matpower solution check"
     ]
    },
    {
     "cell_type": "code",
     "collapsed": false,
     "input": [
      "matpower_check_all(casefile)"
     ],
     "language": "python",
     "metadata": {},
     "outputs": [
      {
       "metadata": {},
       "output_type": "pyout",
       "prompt_number": 83,
       "text": [
        "1.0593195417443375e-5"
       ]
      }
     ],
     "prompt_number": 83
    },
    {
     "cell_type": "markdown",
     "metadata": {},
     "source": [
      "#Linear regression on potential bottlenecks to predict time"
     ]
    },
    {
     "cell_type": "code",
     "collapsed": false,
     "input": [
      "t = \"\"\"\n",
      "bus72      0     21      0    21 0.000112\n",
      " bus73      0     21      0    21 0.000118\n",
      " ...\n",
      " bus69   3943   4727    248   126 0.367441\"\"\";"
     ],
     "language": "python",
     "metadata": {},
     "outputs": [],
     "prompt_number": 160
    },
    {
     "cell_type": "code",
     "collapsed": false,
     "input": [
      "X, y = Array(Float64,118,2), Array(Float64,118,1)\n",
      "for (i,bus) in enumerate(split(t, '\\n'))\n",
      "    line = split(bus)[2:end]\n",
      "    x = map(parsefloat, line[1:2])\n",
      "    X[i,:] = x\n",
      "    y[i] = parsefloat(line[5])\n",
      "end"
     ],
     "language": "python",
     "metadata": {},
     "outputs": [],
     "prompt_number": 162
    },
    {
     "cell_type": "code",
     "collapsed": false,
     "input": [
      "X\\y"
     ],
     "language": "python",
     "metadata": {},
     "outputs": [
      {
       "metadata": {},
       "output_type": "pyout",
       "prompt_number": 163,
       "text": [
        "2x1 Array{Float64,2}:\n",
        " 5.92977e-6\n",
        " 2.20861e-5"
       ]
      }
     ],
     "prompt_number": 163
    },
    {
     "cell_type": "markdown",
     "metadata": {},
     "source": [
      "#Debugging when check > 1e-3"
     ]
    },
    {
     "cell_type": "code",
     "collapsed": false,
     "input": [
      "buses = Bus[]\n",
      "function DFS(bus)\n",
      "    for child in bus.children\n",
      "        DFS(child)\n",
      "    end\n",
      "    push!(buses, bus)\n",
      "end\n",
      "DFS(root)\n",
      "for (i, bus) in enumerate(buses)\n",
      "    println(i, ' ', bus)\n",
      "end"
     ],
     "language": "python",
     "metadata": {},
     "outputs": [
      {
       "output_type": "stream",
       "stream": "stdout",
       "text": [
        "1 "
       ]
      },
      {
       "output_type": "stream",
       "stream": "stdout",
       "text": [
        "bus72\n",
        "2 bus73\n",
        "3 bus71\n",
        "4 bus70\n",
        "5 bus47\n",
        "6 bus58\n",
        "7 bus52\n",
        "8 bus51\n",
        "9 bus57\n",
        "10 bus50\n",
        "11 bus53\n",
        "12 bus54\n",
        "13 bus43\n",
        "14 bus44\n",
        "15 bus46\n",
        "16 bus45\n",
        "17 bus41\n",
        "18 bus42\n",
        "19 bus56\n",
        "20 bus55\n",
        "21 bus60\n",
        "22 bus61\n",
        "23 bus59\n",
        "24 bus63\n",
        "25 bus64\n",
        "26 bus29\n",
        "27 bus28\n",
        "28 bus115\n",
        "29 bus27\n",
        "30 bus20\n",
        "31 bus21\n",
        "32 bus22\n",
        "33 bus113\n",
        "34 bus114\n",
        "35 bus31\n",
        "36 bus32\n",
        "37 bus24\n",
        "38 bus23\n",
        "39 bus25\n",
        "40 bus26\n",
        "41 bus4\n",
        "42 bus7\n",
        "43 bus6\n",
        "44 bus13\n",
        "45 bus117\n",
        "46 bus2\n",
        "47 bus14\n",
        "48 bus12\n",
        "49 bus11\n",
        "50 bus1\n",
        "51 bus3\n",
        "52 bus5\n",
        "53 bus10\n",
        "54 bus9\n",
        "55 bus8\n",
        "56 bus15\n",
        "57 bus16\n",
        "58 bus19\n",
        "59 bus18\n",
        "60 bus17\n",
        "61 bus30\n",
        "62 bus36\n",
        "63 bus34\n",
        "64 bus39\n",
        "65 bus35\n",
        "66 bus33\n",
        "67 bus40\n",
        "68 bus37\n",
        "69 bus38\n",
        "70 bus65\n",
        "71 bus67\n",
        "72 bus62\n",
        "73 bus66\n",
        "74 bus48\n",
        "75 bus49\n",
        "76 bus79\n",
        "77 bus78\n",
        "78 bus84\n",
        "79 bus87\n",
        "80 bus86\n",
        "81 bus93\n",
        "82 bus95\n",
        "83 bus99\n",
        "84 bus107\n",
        "85 bus109\n",
        "86 bus108\n",
        "87 bus105\n",
        "88 bus104\n",
        "89 bus111\n",
        "90 bus112\n",
        "91 bus110\n",
        "92 bus103\n",
        "93 bus106\n",
        "94 bus100\n",
        "95 bus94\n",
        "96 bus91\n",
        "97 bus101\n",
        "98 bus102\n",
        "99 bus92\n",
        "100 bus88\n",
        "101 bus90\n",
        "102 bus89\n",
        "103 bus85\n",
        "104 bus83\n",
        "105 bus82\n",
        "106 bus76\n",
        "107 bus77\n",
        "108 bus97\n",
        "109 bus98\n",
        "110 bus96\n",
        "111 bus80\n",
        "112 bus81\n",
        "113 bus116\n",
        "114 bus68\n",
        "115 bus74\n",
        "116 bus118\n",
        "117 bus75\n",
        "118 bus69\n"
       ]
      }
     ],
     "prompt_number": 4
    },
    {
     "cell_type": "code",
     "collapsed": false,
     "input": [
      "function argmax(x)\n",
      "    maxsofar = x[1]\n",
      "    argmaxsofar = 1\n",
      "    for (i,y) in enumerate(x[2:end])\n",
      "        if y>maxsofar\n",
      "            maxsofar = y\n",
      "            argmaxsofar = i+1\n",
      "        end\n",
      "    end\n",
      "    argmaxsofar\n",
      "end;"
     ],
     "language": "python",
     "metadata": {},
     "outputs": [],
     "prompt_number": 5
    },
    {
     "cell_type": "code",
     "collapsed": true,
     "input": [
      "bus = buses[107]\n",
      "errs = [check_candidate(bus, c) for c in values(bus.candidates)]\n",
      "c_index = argmax(errs)\n",
      "println(\"$bus candidate$c_index $(errs[c_index])\")"
     ],
     "language": "python",
     "metadata": {},
     "outputs": [
      {
       "output_type": "stream",
       "stream": "stdout",
       "text": [
        "bus77 candidate645 1.1890802582157212e-10\n"
       ]
      }
     ],
     "prompt_number": 6
    },
    {
     "cell_type": "code",
     "collapsed": false,
     "input": [
      "c = collect(values(bus.candidates))[c_index]\n",
      "println(check_candidate(bus, c))\n",
      "println(c)"
     ],
     "language": "python",
     "metadata": {},
     "outputs": [
      {
       "output_type": "stream",
       "stream": "stdout",
       "text": [
        "1."
       ]
      },
      {
       "output_type": "stream",
       "stream": "stdout",
       "text": [
        "688994000683641e-9\n",
        "Candidate(1,0.555321574548979,0.92,3x1 Array{Float64,2}:\n",
        " 0.555322\n",
        " 0.92    \n",
        " 0.555277)\n"
       ]
      }
     ],
     "prompt_number": 286
    },
    {
     "cell_type": "code",
     "collapsed": false,
     "input": [
      "i = 1\n",
      "g = bus.children[i].g\n",
      "b = bus.children[i].b\n",
      "vk = c.v\n",
      "pkm, vm, d = c.children[:,i];\n",
      "pm = -d;\n",
      "pkm2, t = pk_\u03b8(g=g, b=b, vk=vk, vm=vm, pm=pm)\n",
      "println(check2(g=g,b=b,pk=pkm,vk=vk,pm=pm,vm=vm,\u03b8=t))\n",
      "@printf \"%.2f %.2f %.2f %.2f %.6f\" vk vm pkm pm t"
     ],
     "language": "python",
     "metadata": {},
     "outputs": [
      {
       "output_type": "stream",
       "stream": "stdout",
       "text": [
        "(1"
       ]
      },
      {
       "output_type": "stream",
       "stream": "stdout",
       "text": [
        ".6887927335163478e-9,1.688994000683641e-9,0.555321575486802,-0.555276961541935)\n",
        "0.92 0.92 0.56 -0.56 -0.000263"
       ]
      }
     ],
     "prompt_number": 292
    },
    {
     "cell_type": "code",
     "collapsed": false,
     "input": [
      "g,b"
     ],
     "language": "python",
     "metadata": {},
     "outputs": [
      {
       "metadata": {},
       "output_type": "pyout",
       "prompt_number": 288,
       "text": [
        "(762.5986228966831,-2495.4678151038784)"
       ]
      }
     ],
     "prompt_number": 288
    },
    {
     "cell_type": "code",
     "collapsed": false,
     "input": [
      "pk(g=g,b=b,vk=vk,vm=vm,pm=pm)"
     ],
     "language": "python",
     "metadata": {},
     "outputs": [
      {
       "metadata": {},
       "output_type": "pyout",
       "prompt_number": 289,
       "text": [
        "0.555321574548979"
       ]
      }
     ],
     "prompt_number": 289
    },
    {
     "cell_type": "code",
     "collapsed": false,
     "input": [
      "disc = b^2*(-pm^2+(2*g*pm+(b^2+g^2)*vk^2)*vm^2-g^2*vm^4)\n",
      "arg = (-g*pm+g^2*vm^2+disc^.5)/((b^2+g^2)*vk*vm)"
     ],
     "language": "python",
     "metadata": {},
     "outputs": [
      {
       "metadata": {},
       "output_type": "pyout",
       "prompt_number": 294,
       "text": [
        "0.99999996544038"
       ]
      }
     ],
     "prompt_number": 294
    },
    {
     "cell_type": "code",
     "collapsed": false,
     "input": [
      "acos(arg)"
     ],
     "language": "python",
     "metadata": {},
     "outputs": [
      {
       "metadata": {},
       "output_type": "pyout",
       "prompt_number": 295,
       "text": [
        "0.00026290538318440556"
       ]
      }
     ],
     "prompt_number": 295
    },
    {
     "cell_type": "code",
     "collapsed": false,
     "input": [
      "check2(g=g,b=b,vk=vk,vm=vm,pk=pkm,pm=pm,\u03b8=-t)"
     ],
     "language": "python",
     "metadata": {},
     "outputs": [
      {
       "metadata": {},
       "output_type": "pyout",
       "prompt_number": 291,
       "text": [
        "(2.000080343702573,1.9999196593745028,-0.555276961541935,0.555321575486802)"
       ]
      }
     ],
     "prompt_number": 291
    },
    {
     "cell_type": "markdown",
     "metadata": {},
     "source": [
      "#Cutting down on solutions"
     ]
    },
    {
     "cell_type": "code",
     "collapsed": false,
     "input": [
      "bus"
     ],
     "language": "python",
     "metadata": {},
     "outputs": [
      {
       "metadata": {},
       "output_type": "pyout",
       "prompt_number": 7,
       "text": [
        "bus77"
       ]
      }
     ],
     "prompt_number": 7
    },
    {
     "cell_type": "code",
     "collapsed": false,
     "input": [
      "sum([length(v) for (k,v) in bus.raw_flows[2]])"
     ],
     "language": "python",
     "metadata": {},
     "outputs": [
      {
       "metadata": {},
       "output_type": "pyout",
       "prompt_number": 18,
       "text": [
        "4890"
       ]
      }
     ],
     "prompt_number": 18
    },
    {
     "cell_type": "code",
     "collapsed": false,
     "input": [
      "typeof([(1.,2.,3.), (4.,5.,6.)])"
     ],
     "language": "python",
     "metadata": {},
     "outputs": [
      {
       "metadata": {},
       "output_type": "pyout",
       "prompt_number": 28,
       "text": [
        "Array{(Float64,Float64,Float64),1}"
       ]
      }
     ],
     "prompt_number": 28
    },
    {
     "cell_type": "code",
     "collapsed": false,
     "input": [
      "y = Array(Float64, 4890, 3)\n",
      "i=1\n",
      "for (k,v) in bus.raw_flows[2]\n",
      "    for x in v\n",
      "        y[i,:] = [x[1] k x[2]]\n",
      "        i += 1\n",
      "    end\n",
      "end\n",
      "y[1:5, :]"
     ],
     "language": "python",
     "metadata": {},
     "outputs": [
      {
       "metadata": {},
       "output_type": "pyout",
       "prompt_number": 31,
       "text": [
        "5x3 Array{Float64,2}:\n",
        " 187.97   0.92  1.05\n",
        " 956.342  0.92  1.08\n",
        " 431.113  0.92  0.9 \n",
        " 612.92   0.92  0.96\n",
        " 235.39   0.92  0.98"
       ]
      }
     ],
     "prompt_number": 31
    },
    {
     "cell_type": "code",
     "collapsed": false,
     "input": [
      "sortrows(y)"
     ],
     "language": "python",
     "metadata": {},
     "outputs": [
      {
       "metadata": {},
       "output_type": "pyout",
       "prompt_number": 33,
       "text": [
        "4890x3 Array{Float64,2}:\n",
        "   24.839   0.93  0.94\n",
        "   25.182   1.07  1.08\n",
        "   25.6231  1.02  1.01\n",
        "   26.0114  1.06  1.07\n",
        "   26.0522  1.05  1.01\n",
        "   26.0984  1.1   1.07\n",
        "   26.1485  1.01  1.05\n",
        "   26.2162  0.98  1.01\n",
        "   26.2261  1.0   0.99\n",
        "   26.3029  1.09  1.06\n",
        "   26.327   1.04  1.04\n",
        "   26.5688  0.92  0.92\n",
        "   26.5881  0.94  0.92\n",
        "    \u22ee                 \n",
        " 1366.63    1.1   1.03\n",
        " 1368.43    1.06  1.07\n",
        " 1374.21    1.07  1.1 \n",
        " 1375.35    1.09  1.06\n",
        " 1375.41    1.08  1.09\n",
        " 1377.79    1.08  1.08\n",
        " 1381.25    1.1   1.09\n",
        " 1383.81    1.1   1.06\n",
        " 1397.65    1.1   1.08\n",
        " 1404.18    1.1   1.04\n",
        " 1420.23    1.09  1.1 \n",
        " 1421.32    1.1   1.1 "
       ]
      }
     ],
     "prompt_number": 33
    },
    {
     "cell_type": "markdown",
     "metadata": {},
     "source": [
      "<hr style='height:6px'>\n",
      "\n",
      "#Profile crap"
     ]
    },
    {
     "cell_type": "code",
     "collapsed": false,
     "input": [
      "#@profile run_algo(buses)\n",
      "#Profile.print()"
     ],
     "language": "python",
     "metadata": {},
     "outputs": [],
     "prompt_number": 1
    },
    {
     "cell_type": "code",
     "collapsed": false,
     "input": [
      "using IProfile"
     ],
     "language": "python",
     "metadata": {},
     "outputs": []
    },
    {
     "cell_type": "code",
     "collapsed": false,
     "input": [
      "@iprofile clear"
     ],
     "language": "python",
     "metadata": {},
     "outputs": [
      {
       "ename": "LoadError",
       "evalue": "@iprofile not defined\nat In[2]:0",
       "output_type": "pyerr",
       "traceback": [
        "@iprofile not defined\nat In[2]:0"
       ]
      }
     ],
     "prompt_number": 2
    },
    {
     "cell_type": "code",
     "collapsed": false,
     "input": [
      "@iprofile report"
     ],
     "language": "python",
     "metadata": {},
     "outputs": []
    },
    {
     "cell_type": "code",
     "collapsed": false,
     "input": [
      "@iprofile begin\n",
      "end"
     ],
     "language": "python",
     "metadata": {},
     "outputs": []
    },
    {
     "cell_type": "code",
     "collapsed": false,
     "input": [
      "gc() # garbage collection"
     ],
     "language": "python",
     "metadata": {},
     "outputs": [],
     "prompt_number": 3
    }
   ],
   "metadata": {}
  }
 ]
}