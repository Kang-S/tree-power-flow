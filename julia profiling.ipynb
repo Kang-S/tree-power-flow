{
 "metadata": {
  "language": "Julia",
  "name": "",
  "signature": "sha256:44113c2ffc2b6c9b8901ff72f76fd54b9a0be6fd827167657c839a02f3824786"
 },
 "nbformat": 3,
 "nbformat_minor": 0,
 "worksheets": [
  {
   "cells": [
    {
     "cell_type": "code",
     "collapsed": false,
     "input": [
      "include(\"loadcase.jl\")\n",
      "include(\"algo.jl\")\n",
      "include(\"solution_display.jl\");"
     ],
     "language": "python",
     "metadata": {},
     "outputs": [],
     "prompt_number": 176
    },
    {
     "cell_type": "code",
     "collapsed": false,
     "input": [
      "gc()\n",
      "#root, vhat = loadcase(\"cases/case_G5L_v2.m\");\n",
      "#root = loadcase(\"cases/case_G5L_2gen.m\");\n",
      "#casefile = \"cases/case5_renumber_tree.m\"\n",
      "#casefile = \"cases/case14_tree.m\"\n",
      "#casefile = \"cases/case39_tree.m\"\n",
      "#casefile = \"cases/case57_tree.m\"\n",
      "casefile = \"cases/case118_tree.m\"\n",
      "#casefile = \"cases/case300_tree.m\"\n",
      "root, vhat = loadcase(casefile)"
     ],
     "language": "python",
     "metadata": {},
     "outputs": [
      {
       "metadata": {},
       "output_type": "pyout",
       "prompt_number": 177,
       "text": [
        "(bus69,1.035)"
       ]
      }
     ],
     "prompt_number": 177
    },
    {
     "cell_type": "code",
     "collapsed": true,
     "input": [
      "N = 11\n",
      "R1 = 25\n",
      "R2 = 50\n",
      "vmin = .8\n",
      "vmax = 1.2\n",
      "verbose = false\n",
      "run_algo(root, N, R1, R2, vhat=vhat, verbose=verbose, vmin=vmin, vmax=vmax)\n",
      "check_all(root)"
     ],
     "language": "python",
     "metadata": {},
     "outputs": [
      {
       "ename": "LoadError",
       "evalue": "toc() without tic()\nat In[178]:7",
       "output_type": "pyerr",
       "traceback": [
        "toc() without tic()\nat In[178]:7",
        " in toq at util.jl:26",
        " in run_algo at /Users/srharnett/Dropbox/power/tree-power-flow/algo.jl:100"
       ]
      }
     ],
     "prompt_number": 178
    },
    {
     "cell_type": "code",
     "collapsed": false,
     "input": [
      "x = tic()"
     ],
     "language": "python",
     "metadata": {},
     "outputs": [
      {
       "metadata": {},
       "output_type": "pyout",
       "prompt_number": 176,
       "text": [
        "0x0006c559fc364236"
       ]
      }
     ],
     "prompt_number": 176
    },
    {
     "cell_type": "code",
     "collapsed": true,
     "input": [
      "candidates = sort(collect(values(root.candidates)));"
     ],
     "language": "python",
     "metadata": {},
     "outputs": [],
     "prompt_number": 155
    },
    {
     "cell_type": "code",
     "collapsed": true,
     "input": [
      "c1 = candidates[1]\n",
      "matpower_compare(casefile, c1, root, R2)"
     ],
     "language": "python",
     "metadata": {},
     "outputs": [
      {
       "output_type": "stream",
       "stream": "stdout",
       "text": [
        "  "
       ]
      },
      {
       "output_type": "stream",
       "stream": "stdout",
       "text": [
        "fbus   tbus        fp1        fp2        tp1        tp2    fv1    fv2    tv1    tv2\n",
        "     1      3      -51.0      -51.0       51.4       51.4   1.00   0.95   1.00   0.96\n",
        "     2     12      -20.0      -20.0       22.9       20.1   1.04   0.98   1.12   0.99\n",
        "     3      5      -90.4      -90.4       92.4       92.5   1.00   0.96   1.04   1.00\n",
        "     4      5      -39.0      -39.0       43.6       39.0   1.08   1.00   1.04   1.00\n",
        "     5      6       79.9       71.6      -72.6      -71.0   1.04   1.00   1.16   0.99\n",
        "     5      8     -353.6     -327.1      353.6      327.1   1.04   1.00   0.80   1.01\n",
        "     5     11      137.6      123.9     -132.4     -120.8   1.04   1.00   1.08   0.98\n",
        "     6      7       20.6       19.0      -19.0      -19.0   1.16   0.99   1.12   0.99\n",
        "     8      9     -432.6     -440.5      440.5      445.1   0.80   1.01   0.88   1.02\n",
        "     8     30       51.1       85.3      -50.6      -84.7   0.80   1.01   0.84   0.97\n",
        "     9     10     -440.5     -445.1      450.0      450.0   0.88   1.02   0.80   1.05\n",
        "    11     12       25.1       16.5      -22.4      -16.3   1.08   0.98   1.12   0.99\n",
        "    11     13       37.4       34.3      -34.0      -34.0   1.08   0.98   1.16   0.96\n",
        "    12     14       17.0       14.0      -14.0      -14.0   1.12   0.99   1.20   0.99\n",
        "    12    117       20.5       20.2      -20.0      -20.0   1.12   0.99   1.16   0.97\n",
        "    15     17      -90.0      -90.0       93.7       91.2   0.84   0.97   0.80   0.99\n",
        "    16     17      -25.0      -25.0       26.7       25.4   0.88   0.96   0.80   0.99\n",
        "    17     18      112.4      106.7     -105.8     -105.3   0.80   0.99   0.88   0.97\n",
        "    17     30     -243.8     -234.2      243.8      234.2   0.80   0.99   0.84   0.97\n",
        "    18     19       45.8       45.3      -45.0      -45.0   0.88   0.97   0.84   0.96\n",
        "    20     21      -18.0      -18.0       22.0       18.1   1.00   0.92   0.88   0.93\n",
        "    21     22      -36.0      -32.1       36.4       32.4   0.88   0.93   0.88   0.95\n",
        "    22     23      -46.4      -42.4       47.8       43.2   0.88   0.95   0.96   0.99\n",
        "    23     24       14.0       13.0      -13.0      -13.0   0.96   0.99   1.00   0.99\n",
        "    23     25     -193.6     -177.1      207.4      182.1   0.96   0.99   0.84   1.05\n",
        "    23     32      124.9      113.9     -119.5     -109.7   0.96   0.99   0.92   0.96\n",
        "    25     26     -133.4     -102.9      133.4      102.9   0.84   1.05   0.92   1.01\n",
        "    25     27      146.0      140.8     -135.6     -134.6   0.84   1.05   0.92   0.97\n",
        "    26     30      180.6      211.1     -176.8     -207.4   0.92   1.01   0.84   0.97\n",
        "    27     28       41.9       41.5      -41.5      -41.2   0.92   0.97   0.92   0.95\n",
        "    27    115       22.7       22.1      -22.0      -22.0   0.92   0.97   0.96   0.96\n",
        "    28     29       24.5       24.2      -24.0      -24.0   0.92   0.95   0.88   0.94\n",
        "    30     38      -16.4       57.8       25.5      -57.6   0.84   0.97   1.08   0.94\n",
        "    31     32      -36.0      -36.0       41.8       36.5   1.04   0.97   0.92   0.96\n",
        "    32    113       10.1        6.2       -6.0       -6.0   0.92   0.96   1.08   0.99\n",
        "    32    114        8.6        8.0       -8.0       -8.0   0.92   0.96   0.88   0.96\n",
        "    33     37      -23.0      -23.0       24.8       23.3   1.20   0.96   1.12   0.99\n",
        "    34     36       32.8       31.1      -31.0      -31.0   1.12   0.98   1.08   0.98\n",
        "    34     37      -91.8      -90.1       92.0       90.3   1.12   0.98   1.12   0.99\n",
        "    35     37      -33.0      -33.0       33.1       33.1   1.12   0.98   1.12   0.99\n",
        "    37     38     -246.0     -243.0      246.0      243.0   1.12   0.99   1.08   0.94\n",
        "    37     39       27.5       27.3      -27.0      -27.0   1.12   0.99   1.08   0.96\n",
        "    37     40       68.7       69.0      -66.0      -66.0   1.12   0.99   1.04   0.97\n",
        "    38     65     -271.6     -185.4      280.3      188.9   1.08   0.94   0.96   1.00\n",
        "    41     42      -37.0      -37.0       37.5       37.7   1.12   0.95   1.12   0.98\n",
        "    42     49     -133.5     -133.7      150.4      148.9   1.12   0.98   1.00   1.02\n",
        "    43     44      -18.0      -18.0       18.5       18.3   0.92   0.91   0.88   0.95\n",
        "    44     45      -34.5      -34.3       34.9       34.6   0.88   0.95   0.88   0.96\n",
        "    45     46       10.3        9.5       -9.0       -9.0   0.88   0.96   0.80   1.00\n",
        "    45     49      -98.2      -97.1      106.8      104.2   0.88   0.96   1.00   1.02\n",
        "    47     69      -34.0      -34.0       41.9       35.0   0.88   1.00   1.16   1.03\n",
        "    48     49      -20.0      -20.0       20.1       20.1   1.00   1.02   1.00   1.02\n",
        "    49     50       30.8       29.3      -30.5      -29.1   1.00   1.02   1.00   1.01\n",
        "    49     51       82.3       48.4      -78.5      -47.1   1.00   1.02   0.92   0.98\n",
        "    49     54       98.0       94.5      -91.0      -88.2   1.00   1.02   0.96   0.95\n",
        "    49     66     -118.8     -236.7      125.3      246.6   1.00   1.02   1.16   1.05\n",
        "    49     69     -252.6      -91.7      367.5      101.2   1.00   1.02   1.16   1.03\n",
        "    50     57       13.5       12.1      -12.0      -12.0   1.00   1.01   0.92   1.00\n",
        "    51     52       19.2       18.1      -18.0      -18.0   0.92   0.98   0.96   0.97\n",
        "    51     58       42.3       12.0      -12.0      -12.0   0.92   0.98   1.16   0.97\n",
        "    53     54      -23.0      -23.0       26.0       23.2   1.08   0.93   0.96   0.95\n",
        "    55     59      -63.0      -63.0       76.3       65.1   0.80   0.95   1.16   0.98\n",
        "    56     59      -84.0      -84.0       92.1       90.9   0.96   0.95   1.16   0.98\n",
        "    59     61      -71.7      -79.6       73.0       81.8   1.16   0.98   1.16   0.99\n",
        "    59     63     -218.6     -198.3      218.6      198.3   1.16   0.98   0.92   0.96\n",
        "    60     61      -78.0      -78.0       87.0       78.2   1.08   0.99   1.16   0.99\n",
        "    62     66      -77.0      -77.0       88.3       79.9   0.84   1.00   1.16   1.05\n",
        "    63     64     -218.6     -198.3      220.1      199.1   0.92   0.96   0.96   0.98\n",
        "    64     65     -220.1     -199.1      221.6      200.4   0.96   0.98   0.96   1.00\n",
        "    65     66     -110.8        1.7      110.8       -1.7   0.96   1.00   1.16   1.05\n",
        "    66     67       28.6       28.2      -28.0      -28.0   1.16   1.05   1.20   1.04\n",
        "    68     69     -343.0     -197.7      343.0      197.7   1.16   1.00   1.16   1.03\n",
        "    68     81      159.0       13.5     -148.0      -13.5   1.16   1.00   1.00   0.99\n",
        "    68    116      184.1      184.2     -184.0     -184.0   1.16   1.00   1.16   1.00\n",
        "    69     70      157.5       86.4     -148.8      -84.1   1.16   1.03   1.00   0.98\n",
        "    69     75      157.7      158.8     -148.7     -149.0   1.16   1.03   1.04   0.95\n",
        "    70     71       82.8       18.1      -73.3      -18.1   1.00   0.98   0.88   0.99\n",
        "    71     72       23.6       12.1      -12.0      -12.0   0.88   0.99   1.16   0.98\n",
        "    71     73       49.8        6.0       -6.0       -6.0   0.88   0.99   1.20   0.99\n",
        "    74     75      -68.0      -68.0       68.6       68.7   1.04   0.96   1.04   0.95\n",
        "    75    118       33.2       33.2      -33.0      -33.0   1.04   0.95   1.04   0.94\n",
        "    76     77      -68.0      -68.0       73.3       70.4   0.96   0.94   0.88   1.01\n",
        "    77     78       75.8       71.2      -71.0      -71.0   0.88   1.01   0.92   1.00\n",
        "    77     80     -319.1     -224.7      353.8      233.3   0.88   1.01   1.08   1.04\n",
        "    77     82      109.0       22.1     -103.5      -21.8   0.88   1.01   0.80   0.98\n",
        "    79     80      -39.0      -39.0       51.0       39.2   0.88   1.03   1.08   1.04\n",
        "    80     81     -148.0      -13.5      148.0       13.5   1.08   1.04   1.00   0.99\n",
        "    80     96       40.3       38.6      -38.0      -38.0   1.08   1.04   1.20   1.00\n",
        "    80     97       15.4       15.1      -15.0      -15.0   1.08   1.04   1.12   1.03\n",
        "    80     98       34.5       34.3      -34.0      -34.0   1.08   1.04   1.04   1.02\n",
        "    82     83       49.5      -32.2      -49.0       32.4   0.80   0.98   0.80   0.98\n",
        "    83     85       29.0      -52.4      -27.9       53.7   0.80   0.98   0.84   0.98\n",
        "    84     85      -11.0      -11.0       22.7       11.1   0.96   0.98   0.84   0.98\n",
        "    85     86       19.4       17.2      -18.7      -17.1   0.84   0.98   0.88   0.98\n",
        "    85     89      -38.2     -105.9       40.4      108.7   0.84   0.98   1.00   1.00\n",
        "    86     87       -2.3       -3.9        4.0        4.0   0.88   0.98   1.04   1.01\n",
        "    88     89      -48.0      -48.0       58.6       48.3   0.80   0.99   1.00   1.00\n",
        "    89     90      169.9      169.8     -163.0     -163.0   1.00   1.00   0.96   0.98\n",
        "    89     92      338.1      280.1     -323.2     -272.4   1.00   1.00   1.08   0.99\n",
        "    91     92      -10.0      -10.0       10.4       10.0   1.04   0.98   1.08   0.99\n",
        "    92     93       12.0       12.1      -12.0      -12.0   1.08   0.99   1.08   0.98\n",
        "    92     94      198.6      158.0     -181.9     -145.7   1.08   0.99   1.08   0.97\n",
        "    92    102       37.2       27.3      -31.8      -27.2   1.08   0.99   0.96   0.98\n",
        "    94     95       46.1       42.4      -42.0      -42.0   1.08   0.97   1.00   0.95\n",
        "    94    100      105.8       73.3     -104.0      -70.3   1.08   0.97   1.08   1.02\n",
        "    99    100      -42.0      -42.0       45.8       42.3   0.96   1.01   1.08   1.02\n",
        "   100    103       70.8       58.5      -63.2      -57.9   1.08   1.02   0.96   1.01\n",
        "   100    104      158.4      140.1     -148.6     -131.5   1.08   1.02   1.04   0.97\n",
        "   100    106       44.0       44.4      -43.0      -43.0   1.08   1.02   1.04   0.95\n",
        "   101    102      -22.0      -22.0       26.8       22.2   0.80   0.95   0.96   0.98\n",
        "   103    110       80.2       74.9      -75.2      -72.8   0.96   1.01   1.08   0.97\n",
        "   104    105      110.6       93.5      -98.1      -92.6   1.04   0.97   1.16   0.96\n",
        "   105    107       56.1       51.5      -50.0      -50.0   1.16   0.96   0.96   0.95\n",
        "   105    108       11.0       10.0      -10.0      -10.0   1.16   0.96   1.20   0.96\n",
        "   108    109        8.0        8.0       -8.0       -8.0   1.20   0.96   1.20   0.96\n",
        "   110    111      -35.4      -35.7       36.0       36.0   1.08   0.97   1.12   0.98\n",
        "   110    112       71.5       69.5      -68.0      -68.0   1.08   0.97   1.00   0.97\n"
       ]
      }
     ],
     "prompt_number": 156
    },
    {
     "cell_type": "code",
     "collapsed": false,
     "input": [
      "#pretty(root, candidates, start=1, stop=5, R2=R2)\n",
      "#pretty(root, candidates, start=length(candidates)-4, stop=length(candidates), R2=R2)"
     ],
     "language": "python",
     "metadata": {},
     "outputs": [],
     "prompt_number": 98
    },
    {
     "cell_type": "code",
     "collapsed": false,
     "input": [
      "#c1 = candidates[1]\n",
      "#print_full_solution(c1, root, R2)"
     ],
     "language": "python",
     "metadata": {},
     "outputs": [],
     "prompt_number": 79
    },
    {
     "cell_type": "code",
     "collapsed": true,
     "input": [
      "buses = Bus[]\n",
      "function DFS(bus)\n",
      "    for child in bus.children\n",
      "        DFS(child)\n",
      "    end\n",
      "    push!(buses, bus)\n",
      "end\n",
      "DFS(root)\n",
      "for (i, bus) in enumerate(buses)\n",
      "    println(i, ' ', bus)\n",
      "end"
     ],
     "language": "python",
     "metadata": {},
     "outputs": [
      {
       "output_type": "stream",
       "stream": "stdout",
       "text": [
        "1 "
       ]
      },
      {
       "output_type": "stream",
       "stream": "stdout",
       "text": [
        "bus21\n",
        "2 bus23\n",
        "3 bus22\n",
        "4 bus57\n",
        "5 bus39\n",
        "6 bus33\n",
        "7 bus32\n",
        "8 bus34\n",
        "9 bus35\n",
        "10 bus40\n",
        "11 bus36\n",
        "12 bus37\n",
        "13 bus48\n",
        "14 bus38\n",
        "15 bus44\n",
        "16 bus45\n",
        "17 bus47\n",
        "18 bus46\n",
        "19 bus14\n",
        "20 bus15\n",
        "21 bus16\n",
        "22 bus5\n",
        "23 bus20\n",
        "24 bus19\n",
        "25 bus18\n",
        "26 bus4\n",
        "27 bus3\n",
        "28 bus2\n",
        "29 bus49\n",
        "30 bus13\n",
        "31 bus50\n",
        "32 bus51\n",
        "33 bus54\n",
        "34 bus55\n",
        "35 bus56\n",
        "36 bus42\n",
        "37 bus41\n",
        "38 bus43\n",
        "39 bus11\n",
        "40 bus6\n",
        "41 bus53\n",
        "42 bus52\n",
        "43 bus31\n",
        "44 bus30\n",
        "45 bus25\n",
        "46 bus24\n",
        "47 bus26\n",
        "48 bus27\n",
        "49 bus28\n",
        "50 bus29\n",
        "51 bus7\n",
        "52 bus8\n",
        "53 bus9\n",
        "54 bus10\n",
        "55 bus12\n",
        "56 bus17\n",
        "57 bus1\n"
       ]
      }
     ],
     "prompt_number": 447
    },
    {
     "cell_type": "code",
     "collapsed": false,
     "input": [
      "function argmax(x)\n",
      "    maxsofar = x[1]\n",
      "    argmaxsofar = 1\n",
      "    for (i,y) in enumerate(x[2:end])\n",
      "        if y>maxsofar\n",
      "            maxsofar = y\n",
      "            argmaxsofar = i+1\n",
      "        end\n",
      "    end\n",
      "    argmaxsofar\n",
      "end;"
     ],
     "language": "python",
     "metadata": {},
     "outputs": [],
     "prompt_number": 460
    },
    {
     "cell_type": "code",
     "collapsed": true,
     "input": [
      "bus = buses[11]\n",
      "errs = [check_candidate(bus, c) for c in values(bus.candidates)]\n",
      "c_index = argmax(errs)\n",
      "bus, \"candidate $c_index\", errs[c_index]"
     ],
     "language": "python",
     "metadata": {},
     "outputs": [
      {
       "metadata": {},
       "output_type": "pyout",
       "prompt_number": 464,
       "text": [
        "(bus36,\"candidate 114\",1.0)"
       ]
      }
     ],
     "prompt_number": 464
    },
    {
     "cell_type": "code",
     "collapsed": false,
     "input": [
      "c = collect(values(bus.candidates))[c_index]\n",
      "println(check_candidate(bus, c))\n",
      "println(c)"
     ],
     "language": "python",
     "metadata": {},
     "outputs": [
      {
       "output_type": "stream",
       "stream": "stdout",
       "text": [
        "1.0"
       ]
      },
      {
       "output_type": "stream",
       "stream": "stdout",
       "text": [
        "\n",
        "Candidate(2,35.8575944458537,1.08,3x2 Array{Float64,2}:\n",
        " 35.8576  0.0 \n",
        "  1.08    1.08\n",
        " 35.096   0.0 )\n"
       ]
      }
     ],
     "prompt_number": 465
    },
    {
     "cell_type": "code",
     "collapsed": false,
     "input": [
      "i = 2\n",
      "g = bus.children[i].g\n",
      "b = bus.children[i].b\n",
      "vk = c.v\n",
      "pkm, vm, d = c.children[:,i];\n",
      "pm = -d;\n",
      "pkm2, t = pk_\u03b8(g=g, b=b, vk=vk, vm=vm, pm=pm)\n",
      "println(check2(g=g,b=b,pk=pkm,vk=vk,pm=pm,vm=vm,\u03b8=t))\n",
      "@printf \"%.2f %.2f %.2f %.2f %.3f\" vk vm pkm pm t"
     ],
     "language": "python",
     "metadata": {},
     "outputs": [
      {
       "output_type": "stream",
       "stream": "stdout",
       "text": [
        "(1"
       ]
      },
      {
       "output_type": "stream",
       "stream": "stdout",
       "text": [
        ".0,1.0,2.636905346047026e-5,-2.6369053026727267e-5)\n",
        "1.08 1.08 0.00 -0.00 0.000"
       ]
      }
     ],
     "prompt_number": 468
    },
    {
     "cell_type": "code",
     "collapsed": false,
     "input": [
      "g,b"
     ],
     "language": "python",
     "metadata": {},
     "outputs": [
      {
       "metadata": {},
       "output_type": "pyout",
       "prompt_number": 433,
       "text": [
        "(247.24570204554607,-3085.77969219635)"
       ]
      }
     ],
     "prompt_number": 433
    },
    {
     "cell_type": "code",
     "collapsed": false,
     "input": [
      "pk(g=g,b=b,vk=vk,vm=vm,pm=pm)"
     ],
     "language": "python",
     "metadata": {},
     "outputs": [
      {
       "metadata": {},
       "output_type": "pyout",
       "prompt_number": 434,
       "text": [
        "175.9594589056369"
       ]
      }
     ],
     "prompt_number": 434
    },
    {
     "cell_type": "code",
     "collapsed": false,
     "input": [
      "check2(g=g,b=b,vk=vk,vm=vm,pk=pkm,pm=pm,\u03b8=-t)"
     ],
     "language": "python",
     "metadata": {},
     "outputs": [
      {
       "metadata": {},
       "output_type": "pyout",
       "prompt_number": 435,
       "text": [
        "(1.146075232871605,1.0,-1204.581060365648,1380.5405192712851)"
       ]
      }
     ],
     "prompt_number": 435
    },
    {
     "cell_type": "markdown",
     "metadata": {},
     "source": [
      "<hr style='height:6px'>"
     ]
    },
    {
     "cell_type": "code",
     "collapsed": false,
     "input": [
      "#@profile run_algo(buses)\n",
      "#Profile.print()"
     ],
     "language": "python",
     "metadata": {},
     "outputs": [],
     "prompt_number": 1
    },
    {
     "cell_type": "code",
     "collapsed": false,
     "input": [
      "using IProfile"
     ],
     "language": "python",
     "metadata": {},
     "outputs": []
    },
    {
     "cell_type": "code",
     "collapsed": false,
     "input": [
      "@iprofile clear"
     ],
     "language": "python",
     "metadata": {},
     "outputs": [
      {
       "ename": "LoadError",
       "evalue": "@iprofile not defined\nat In[2]:0",
       "output_type": "pyerr",
       "traceback": [
        "@iprofile not defined\nat In[2]:0"
       ]
      }
     ],
     "prompt_number": 2
    },
    {
     "cell_type": "code",
     "collapsed": false,
     "input": [
      "@iprofile report"
     ],
     "language": "python",
     "metadata": {},
     "outputs": []
    },
    {
     "cell_type": "code",
     "collapsed": false,
     "input": [
      "@iprofile begin\n",
      "end"
     ],
     "language": "python",
     "metadata": {},
     "outputs": []
    },
    {
     "cell_type": "code",
     "collapsed": false,
     "input": [
      "gc() # garbage collection"
     ],
     "language": "python",
     "metadata": {},
     "outputs": [],
     "prompt_number": 3
    }
   ],
   "metadata": {}
  }
 ]
}