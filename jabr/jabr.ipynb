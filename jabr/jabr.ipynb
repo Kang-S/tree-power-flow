{
 "metadata": {
  "name": ""
 },
 "nbformat": 3,
 "nbformat_minor": 0,
 "worksheets": [
  {
   "cells": [
    {
     "cell_type": "code",
     "collapsed": false,
     "input": [
      "import mosek.fusion\n",
      "from mosek.fusion import *\n",
      "from mosek.array import *"
     ],
     "language": "python",
     "metadata": {},
     "outputs": [],
     "prompt_number": 30
    },
    {
     "cell_type": "code",
     "collapsed": false,
     "input": [
      "foods  = [\"bagels\", \"muffins\"]\n",
      "c = [5.,4,3] # prices\n",
      "A = DenseMatrix([ [2.,3,1], [4.,1,2], [3.,4,2] ])\n",
      "b = [5.,11,8]\n",
      "n = len(c)\n",
      "def solve():\n",
      "    with Model() as M:\n",
      "        x = M.variable(\"x\", n, Domain.greaterThan(0.0))\n",
      "        M.objective(\"cost\", ObjectiveSense.Maximize, Expr.dot(c,x))\n",
      "        M.constraint(\"ingredients\",  Expr.mul(A, x), Domain.lessThan(b)) # sum protein at least 4.0\n",
      "        #M.setLogHandler(io.open(stdout))\n",
      "        M.solve()\n",
      "        #M.getPrimalSolutionStatus(), M.getDualSolutionStatus()\n",
      "        return {'f': M.primalObjValue(), 'x': x.level()}"
     ],
     "language": "python",
     "metadata": {},
     "outputs": [],
     "prompt_number": 31
    },
    {
     "cell_type": "code",
     "collapsed": false,
     "input": [
      "solve()"
     ],
     "language": "python",
     "metadata": {},
     "outputs": [
      {
       "metadata": {},
       "output_type": "pyout",
       "prompt_number": 35,
       "text": [
        "{'f': 13.0, 'x': [1.9999999999999998, 0.0, 1.0000000000000004]}"
       ]
      }
     ],
     "prompt_number": 35
    },
    {
     "cell_type": "code",
     "collapsed": false,
     "input": [
      "securities = [ \"hardware\", \"software\", \"show-biz\", \"t-bills\" ] # Security names\n",
      "mean       = [        8.0,        9.0,       12.0,       7.0 ] # Mean returns on securities\n",
      "target     = 10.0 # Target mean return\n",
      "U = DenseMatrix([ [ 2.0       ,  1.5       , -0.5       , 0.0 ],\n",
      "                  [ 0.0       ,  1.93649167,  0.90369611, 0.0 ],\n",
      "                  [ 0.0       ,  0.0       ,  2.98886824, 0.0 ],\n",
      "                  [ 0.0       ,  0.0       ,  0.0       , 0.0 ] ])\n",
      "numsec = len(securities)\n",
      "def solve2():\n",
      "    with Model('alan') as M:\n",
      "        x = M.variable(\"x\", numsec, Domain.greaterThan(0.0))\n",
      "        t = M.variable(\"t\",      1, Domain.greaterThan(0.0))\n",
      "        M.objective(\"minvar\", ObjectiveSense.Minimize, t)\n",
      "        M.constraint(\"wealth\",  Expr.sum(x), Domain.equalsTo(1.0)) # sum securities to 1.0\n",
      "        M.constraint(\"dmean\", Expr.dot(mean, x), Domain.greaterThan(target))\n",
      "        M.constraint(\"t > ||Ux||\", Expr.vstack(Expr.constTerm(0.5), t.asExpr(),\n",
      "                    Expr.mul(U,x)), Domain.inRotatedQCone())\n",
      "        M.solve()\n",
      "        return {'f': M.primalObjValue(), 'x': x.level()}"
     ],
     "language": "python",
     "metadata": {},
     "outputs": [],
     "prompt_number": 75
    },
    {
     "cell_type": "code",
     "collapsed": false,
     "input": [
      "solve2()"
     ],
     "language": "python",
     "metadata": {},
     "outputs": [
      {
       "metadata": {},
       "output_type": "pyout",
       "prompt_number": 76,
       "text": [
        "{'f': 2.8990383677285396,\n",
        " 'x': [0.3029226642016233,\n",
        "  0.08650234150435661,\n",
        "  0.504814521689624,\n",
        "  0.10576048170629067]}"
       ]
      }
     ],
     "prompt_number": 76
    },
    {
     "cell_type": "markdown",
     "metadata": {},
     "source": [
      "#Two bus\n",
      "\n",
      "$G_0$ -- $L_1$\n",
      "\n",
      "$V_0 = 1.0$\n",
      "\n",
      "$P_1, Q_1 = 1.0, 0.0$\n",
      "\n",
      "$x,r = .02, .2$\n",
      "\n",
      "Find $\\theta_{01}$, $P_0,Q_0$, $P_{01}$"
     ]
    },
    {
     "cell_type": "code",
     "collapsed": false,
     "input": [
      "def z2y(r, x):\n",
      "    ''' converts impedance Z=R+jX to admittance Y=G+jB '''\n",
      "    return r/(r**2+x**2), -x/(r**2+x**2)\n",
      "r, x = .02, .2 # impedance and resistance, from matpower\n",
      "g, b = z2y(r, x) # convert to susceptance and conductance"
     ],
     "language": "python",
     "metadata": {},
     "outputs": [],
     "prompt_number": 39
    },
    {
     "cell_type": "markdown",
     "metadata": {},
     "source": [
      "###Jabr notation\n",
      "\n",
      "New variables\n",
      "\n",
      "$u_i = V_i^2/\\sqrt{2}$\n",
      "\n",
      "$R_{ij} = V_i V_j \\cos \\theta_{ij} $\n",
      "\n",
      "$I_{ij} = V_i V_j \\sin \\theta_{ij} $\n",
      "\n",
      "Then the power flow equations are (<span style='color:red'>there is an error in the Jabr paper</span>)\n",
      "\n",
      "$P_{ij} = G_{ij} (\\sqrt{2} u_i - R_{ij}) - B_{ij} I_{ij} $\n",
      "\n",
      "$Q_{ij} = -B_{ij} (\\sqrt{2} u_i - R_{ij}) - G_{ij} I_{ij} $\n",
      "\n",
      "$2 u_i u_j = R_{ij}^2 + I_{ij}^2$"
     ]
    },
    {
     "cell_type": "markdown",
     "metadata": {},
     "source": [
      "###Play with the matpower solution, see if it checks out"
     ]
    },
    {
     "cell_type": "code",
     "collapsed": false,
     "input": [
      "p0, q0 = 1.02183668596211, .218366859631327\n",
      "p1, q1 = -1, 0\n",
      "t0, t1 = 0, -12.0626868887798/180*pi\n",
      "t = t0-t1\n",
      "v0, v1 = 1, .957021365673087"
     ],
     "language": "python",
     "metadata": {},
     "outputs": [],
     "prompt_number": 65
    },
    {
     "cell_type": "code",
     "collapsed": false,
     "input": [
      "def u(v):\n",
      "    return v**2/sqrt(2)\n",
      "def R(v_i, v_j, t_ij):\n",
      "    return v_i*v_j*cos(t_ij)\n",
      "def I(v_i, v_j, t_ij):\n",
      "    return v_i*v_j*sin(t_ij)"
     ],
     "language": "python",
     "metadata": {},
     "outputs": [],
     "prompt_number": 176
    },
    {
     "cell_type": "code",
     "collapsed": false,
     "input": [
      "r1, i1 = R(v1, v0, -t), I(v1, v0, -t)\n",
      "2*u(v0)*u(v1), r1**2 + i1**2"
     ],
     "language": "python",
     "metadata": {},
     "outputs": [
      {
       "metadata": {},
       "output_type": "pyout",
       "prompt_number": 189,
       "text": [
        "(0.91588989435478041, 0.91588989435478063)"
       ]
      }
     ],
     "prompt_number": 189
    },
    {
     "cell_type": "code",
     "collapsed": false,
     "input": [
      "A = np.array([ [0., g*sqrt(2),-g,-b], [0, -b*sqrt(2),b,-g] ])\n",
      "x = np.array([1/sqrt(2), u(v1), r1, i1])\n",
      "A.dot(x)"
     ],
     "language": "python",
     "metadata": {},
     "outputs": [
      {
       "metadata": {},
       "output_type": "pyout",
       "prompt_number": 190,
       "text": [
        "array([ -1.00000000e+00,   1.32605038e-12])"
       ]
      }
     ],
     "prompt_number": 190
    },
    {
     "cell_type": "code",
     "collapsed": false,
     "input": [
      "g*(sqrt(2)*u(v0)-R(v0,v1,t)) - b*I(v0,v1,t)"
     ],
     "language": "python",
     "metadata": {},
     "outputs": [
      {
       "metadata": {},
       "output_type": "pyout",
       "prompt_number": 168,
       "text": [
        "1.0218366859621082"
       ]
      }
     ],
     "prompt_number": 168
    },
    {
     "cell_type": "code",
     "collapsed": false,
     "input": [
      "-b*(sqrt(2)*u(v0)-R(v0,v1,t)) - g*I(v0,v1,t)"
     ],
     "language": "python",
     "metadata": {},
     "outputs": [
      {
       "metadata": {},
       "output_type": "pyout",
       "prompt_number": 169,
       "text": [
        "0.21836685963132813"
       ]
      }
     ],
     "prompt_number": 169
    },
    {
     "cell_type": "code",
     "collapsed": false,
     "input": [
      "g*(sqrt(2)*u(v1)-R(v1,v0,t1-t0)) - b*I(v1,v0,t1-t0)"
     ],
     "language": "python",
     "metadata": {},
     "outputs": [
      {
       "metadata": {},
       "output_type": "pyout",
       "prompt_number": 170,
       "text": [
        "-0.99999999999884281"
       ]
      }
     ],
     "prompt_number": 170
    },
    {
     "cell_type": "code",
     "collapsed": false,
     "input": [
      "-b*(sqrt(2)*u(v1)-R(v1,v0,t1-t0)) - g*I(v1,v0,t1-t0)"
     ],
     "language": "python",
     "metadata": {},
     "outputs": [
      {
       "metadata": {},
       "output_type": "pyout",
       "prompt_number": 171,
       "text": [
        "1.3263556919440589e-12"
       ]
      }
     ],
     "prompt_number": 171
    },
    {
     "cell_type": "code",
     "collapsed": false,
     "input": [
      "2*u(v0)*u(v1), R(v0,v1,t)**2+I(v0,v1,t)**2"
     ],
     "language": "python",
     "metadata": {},
     "outputs": [
      {
       "metadata": {},
       "output_type": "pyout",
       "prompt_number": 172,
       "text": [
        "(0.91588989435478041, 0.91588989435478063)"
       ]
      }
     ],
     "prompt_number": 172
    },
    {
     "cell_type": "code",
     "collapsed": false,
     "input": [
      "u(v0), sqrt(sqrt(2)*u(v0)),u(v1), sqrt(sqrt(2)*u(v1))"
     ],
     "language": "python",
     "metadata": {},
     "outputs": [
      {
       "metadata": {},
       "output_type": "pyout",
       "prompt_number": 173,
       "text": [
        "(0.70710678118654746, 1.0, 0.64763195511849592, 0.95702136567308704)"
       ]
      }
     ],
     "prompt_number": 173
    },
    {
     "cell_type": "markdown",
     "metadata": {},
     "source": [
      "#Do it"
     ]
    },
    {
     "cell_type": "code",
     "collapsed": false,
     "input": [
      "A = DenseMatrix([ [0., g*sqrt(2),-g,-b], [0, -b*sqrt(2),b,-g] ])\n",
      "rhs = [-1.,0]\n",
      "def jabr():\n",
      "    with Model('jabr') as M:\n",
      "        u = M.variable(\"u\", 2, Domain.greaterThan(0.0))\n",
      "        R = M.variable(\"R\", 1, Domain.greaterThan(0.0))\n",
      "        I = M.variable(\"I\", 1, Domain.unbounded())\n",
      "        x = Expr.vstack(u,R,I)\n",
      "        M.objective(\"maxRsum\", ObjectiveSense.Maximize, Expr.sum(Expr.vstack([R.asExpr()])))\n",
      "        M.constraint(\"u0\",  u.index(0).asExpr(), Domain.equalsTo(1/sqrt(2)))\n",
      "        M.constraint(\"flow\",  Expr.mul(A, x), Domain.equalsTo(rhs))\n",
      "        M.constraint(\"cone\", x, Domain.inRotatedQCone())\n",
      "        M.solve()\n",
      "        return {'u': u.level(), 'R': R.level(), 'I': I.level()}"
     ],
     "language": "python",
     "metadata": {},
     "outputs": [],
     "prompt_number": 197
    },
    {
     "cell_type": "code",
     "collapsed": false,
     "input": [
      "ans = jabr()\n",
      "print(ans)\n",
      "sqrt(sqrt(2)*np.array(ans['u']))"
     ],
     "language": "python",
     "metadata": {},
     "outputs": [
      {
       "output_type": "stream",
       "stream": "stdout",
       "text": [
        "{'I': [-0.19999999926201242], 'R': [0.9358898990099811], 'u': [0.7071067811865475, 0.6476319610715834]}\n"
       ]
      },
      {
       "metadata": {},
       "output_type": "pyout",
       "prompt_number": 198,
       "text": [
        "array([ 1.        ,  0.95702137])"
       ]
      }
     ],
     "prompt_number": 198
    },
    {
     "cell_type": "markdown",
     "metadata": {},
     "source": [
      "#Now for the 5 bus case"
     ]
    },
    {
     "cell_type": "code",
     "collapsed": false,
     "input": [
      "r, x = .01, .1 # impedance and resistance, from matpower\n",
      "g, b = z2y(r, x) # convert to susceptance and conductance\n",
      "A1 = DenseMatrix([ [0., g*sqrt(2),-g,-b], [0, -b*sqrt(2),b,-g] ])\n",
      "A2 = DenseMatrix([ [0., 3*g*sqrt(2),-g,-b, 0,0,-g,b, 0,0,-g,b], \n",
      "                   [0.,-3*b*sqrt(2), b,-g, 0,0, b,g, 0,0, b,g] ])\n",
      "A3 = DenseMatrix([ [0., g*sqrt(2),-g,-b], [0, -b*sqrt(2),b,-g] ])\n",
      "A4 = DenseMatrix([ [0., g*sqrt(2),-g,-b], [0, -b*sqrt(2),b,-g] ])\n",
      "rhs = [-1.,0]\n",
      "def jabr():\n",
      "    with Model('jabr') as M:\n",
      "        u = M.variable(\"u\", 5, Domain.greaterThan(0.0))\n",
      "        R = M.variable(\"R\", 4, Domain.greaterThan(0.0))\n",
      "        I = M.variable(\"I\", 4, Domain.unbounded())\n",
      "        \n",
      "        x01 = Expr.vstack( Expr.vstack(u.index(0),u.index(1)), R.index(0), I.index(0))\n",
      "        x02 = Expr.vstack( Expr.vstack(u.index(0),u.index(2)), R.index(1), I.index(1))\n",
      "        x23 = Expr.vstack( Expr.vstack(u.index(2),u.index(3)), R.index(2), I.index(2))\n",
      "        x24 = Expr.vstack( Expr.vstack(u.index(2),u.index(4)), R.index(3), I.index(3))\n",
      "        \n",
      "        M.constraint(\"u0\",  u.index(0).asExpr(), Domain.equalsTo(1/sqrt(2)))\n",
      "        \n",
      "        M.constraint(\"cone01\", x01, Domain.inRotatedQCone())\n",
      "        M.constraint(\"cone02\", x02, Domain.inRotatedQCone())\n",
      "        M.constraint(\"cone23\", x23, Domain.inRotatedQCone())\n",
      "        M.constraint(\"cone24\", x24, Domain.inRotatedQCone())\n",
      "        \n",
      "        M.constraint(\"flow1\",  Expr.mul(A1, x01), Domain.equalsTo(rhs))\n",
      "        M.constraint(\"flow2\",  Expr.mul(A2, Expr.vstack(x02,x23,x24)), Domain.equalsTo(rhs))\n",
      "        M.constraint(\"flow3\",  Expr.mul(A3, x23), Domain.equalsTo(rhs))\n",
      "        M.constraint(\"flow4\",  Expr.mul(A4, x24), Domain.equalsTo(rhs))\n",
      "    \n",
      "        M.objective(\"maxRsum\", ObjectiveSense.Maximize, Expr.sum(R))\n",
      "        M.solve()\n",
      "        return {'u': u.level(), 'R': R.level(), 'I': I.level()}"
     ],
     "language": "python",
     "metadata": {},
     "outputs": [],
     "prompt_number": 255
    },
    {
     "cell_type": "code",
     "collapsed": false,
     "input": [
      "ans = jabr()"
     ],
     "language": "python",
     "metadata": {},
     "outputs": [],
     "prompt_number": 263
    },
    {
     "cell_type": "code",
     "collapsed": false,
     "input": [
      "#print(ans)\n",
      "U = np.array(ans['u'])\n",
      "V = sqrt(sqrt(2)*U)\n",
      "R, I = ans['R'], ans['I']\n",
      "t01 = arcsin(I[0]/V[0]/V[1])\n",
      "t02 = arcsin(I[1]/V[0]/V[2])\n",
      "t23 = arcsin(I[2]/V[2]/V[3])\n",
      "t24 = arcsin(I[3]/V[2]/V[4])\n",
      "print(V)\n",
      "print([round(180/pi*x,3) for x in [t01,t02,t23,t24]])\n",
      "print(2*sqrt(2)*g*U[0]-g*(R[0]+R[1])+b*(I[0]+I[1]))\n",
      "print(g*(V[0]**2-V[0]*V[1]*cos(t01)) - b*V[0]*V[1]*sin(-t01),\n",
      "      g*(V[0]**2-V[0]*V[2]*cos(t02)) - b*V[0]*V[2]*sin(-t02))"
     ],
     "language": "python",
     "metadata": {},
     "outputs": [
      {
       "output_type": "stream",
       "stream": "stdout",
       "text": [
        "[ 1.          0.98467413  0.87294854  0.85332805  0.85332805]\n",
        "[-5.829, -20.1, -7.715, -7.715]\n",
        "4.15904642316\n",
        "(1.0103137055366433, 3.1487327094883208)\n"
       ]
      }
     ],
     "prompt_number": 265
    },
    {
     "cell_type": "markdown",
     "metadata": {},
     "source": [
      "#VICTORY BITCHES!"
     ]
    },
    {
     "cell_type": "code",
     "collapsed": false,
     "input": [],
     "language": "python",
     "metadata": {},
     "outputs": []
    }
   ],
   "metadata": {}
  }
 ]
}