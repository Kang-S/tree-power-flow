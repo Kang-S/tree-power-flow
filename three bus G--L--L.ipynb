{
 "metadata": {
  "name": ""
 },
 "nbformat": 3,
 "nbformat_minor": 0,
 "worksheets": [
  {
   "cells": [
    {
     "cell_type": "markdown",
     "metadata": {},
     "source": [
      "$G_0 \\longrightarrow L_1 \\longrightarrow L_2$\n",
      "\n",
      "Generator connected to a load, which is connected to another load.\n",
      "\n",
      "**Given**\n",
      "\n",
      "   - target voltage at generator $\\hat{V}_0$\n",
      "   - range of generator outputs $[P_0^L, P_0^U]$\n",
      "   - demands $D_1, D_2$ (using the convention that $P_i$ denotes the total power injection into the grid at bus $i$, and $D_i$ represents the consumption. So a pure load at a leaf of the grid has $P_i=-D_i$)\n",
      "\n",
      "**Want**\n",
      "\n",
      "   - generator output $P_0$\n",
      "   - generator voltage $V_0$\n",
      "   - bus voltages $V_1$ and $V_2$\n",
      "   - angle differences $\\theta_{01}$ and $\\theta_{12}$\n",
      "   - minimize $(V_0-\\hat{V}_0)^2$"
     ]
    },
    {
     "cell_type": "markdown",
     "metadata": {},
     "source": [
      "**Plan 1**\n",
      "\n",
      "1. Enumerate $P_1$ and $V_1$ which implies $\\theta_{12}$ and $V_2$.\n",
      "2. Enumerate $P_0$ and $V_0$ and $\\theta_{01}$ which implies $P_1$ and $V_1$.\n",
      "3. Choose the $P_1$ and $V_1$ that minimize cost and match best with the choices from step 1?\n",
      "\n",
      "In step 3, how do we negotiate the trade-off between trying to minimize $(V_0-\\hat{V}_0)^2$ and trying to closely match the options from step 1?\n",
      "\n",
      "**Plan 2**\n",
      "\n",
      "1. Enumerate $V_2$ and $\\theta_{12}$ which implies $P_1$ and $V_1$ (this doesn't scale well)\n",
      "2. For each $(P_1, V_1)$ enumerate $\\theta_{01}$ to determine $P_0$ and $V_0$. (this doesn't scale well)\n",
      "3. Choose the $P_0$ and $V_0$ that minimize cost and satisfy constraints.\n",
      "\n",
      "**Plan 3**\n",
      "\n",
      "1. Enumerate $P_1$ and $V_1$ which implies $\\theta_{12}$ and $V_2$.\n",
      "2. For each $(P_1, V_1)$ enumerate $\\theta_{01}$ to determine $P_0$ and $V_0$. (this doesn't scale well)\n",
      "3. Choose the $P_0$ and $V_0$ that minimize cost and satisfy constraints."
     ]
    },
    {
     "cell_type": "heading",
     "level": 3,
     "metadata": {},
     "source": [
      "Thoughts"
     ]
    },
    {
     "cell_type": "markdown",
     "metadata": {},
     "source": [
      "In general with the many loads directly connected to one generator situation, you can enumerate power and voltage magnitude at the generator. Given the demands at the loads, this will imply a voltage magnitude and angle at each load, though perhaps not purely real. Only the real solutions are viable.\n",
      "\n",
      "Another weird idea for step 2: enumerate only $P_0$ and $V_0$... for each fixed $(P_1,V_1)$ this implies a theta... maybe\n",
      "\n",
      "Next step: see if weird idea checks out. Will flow equations have enough wiggle room to be feasible if all of P01 and V01 are fixed?\n",
      "\n",
      "And don't worry too hard about this, but: does the weird idea scale to the case where there are many leaves at this stage of the subtree?\n",
      "\n",
      "Extension of weird idea: only ever enumerate $\\theta$s... does this work? ... need to at least enumerate $V$ at the leaves as well..."
     ]
    },
    {
     "cell_type": "heading",
     "level": 3,
     "metadata": {},
     "source": [
      "Investigating weird idea"
     ]
    },
    {
     "cell_type": "markdown",
     "metadata": {},
     "source": [
      "$P_1$ and $V_1$ are fixed. How much flexibility do we have in our choices for $P_0$, $V_0$, and $\\theta_{01}$?\n",
      "\n",
      "Evidently I established in the \"two bus\" notebook that fixing $\\theta_{01}$ determines $P_0$ and $V_0$. I don't think this will work with multiple lines attached to the same root of the subtree though; we need to find *combinations* of $\\theta_i$s that determine $P_0$ and $V_0$... this seems tough. If fixing any $\\theta_{0i}$ determines $P_0$ and $V_0$, then all the others are locked in, if they're even feasible. How do we fairly enumerate?\n",
      "\n",
      "In summary, enumerating $\\theta$ only doesn't look promising."
     ]
    },
    {
     "cell_type": "markdown",
     "metadata": {},
     "source": [
      "**Probably won't work at scale:** $(\\theta_{01},P_1,V_1)$ all fixed. Solve for $(P_0,V_0)$.\n",
      "\n",
      "**Want, but won't work:** $(P_0,V_0,P_1,V_1)$ all fixed. Solve for $\\theta_{01}$. How crazy is this? Won't work. Fixing $(P_0,V_0,P_1)$ determines two possible choices for $V_1$. \n",
      "\n",
      "The following alternatives involve simultaneous equations which is tough.\n",
      "\n",
      "**Alternative 1:** $(P_0,P_i,V_i)$ all fixed. Solve for $V_0$ and $\\theta_{0i} \\forall i$ (i.e. enumerate only $P_0$). I think the \"tree proof\" addresses this... if $V_0$ is large enough we might be good for reasonable values of $P_0$. But I think that proof involved potentially increasing the $V_i$...\n",
      "\n",
      "**Alternative 2:** $(V_0,P_i,V_i)$ all fixed. Solve for $P_0$ and $\\theta_{0i} \\forall i$ (i.e. enumerate only $V_0$)\n",
      "\n",
      "Alternative 2 looks promising. You can solve for the individual contributions of $P_0$ to each line separately, then add them up. There are two solutions. Perhaps only one is reasonable."
     ]
    },
    {
     "cell_type": "markdown",
     "metadata": {},
     "source": [
      "$$P_1\\to \\frac{e_1 \\left(\\left(b^2+2 g^2\\right) e_1-2 g^2 e_2-b \\sqrt{b^2 e_1^2+4 g^2 e_1 e_2+4 g \\left(-g e_2^2+P_2\\right)}\\right)}{2 g},f_2\\to \\frac{b e_1-\\sqrt{b^2 e_1^2+4 g^2 e_1 e_2+4 g \\left(-g e_2^2+P_2\\right)}}{2 g}$$\n",
      "\n",
      "$$P_1\\to \\frac{e_1 \\left(\\left(b^2+2 g^2\\right) e_1-2 g^2 e_2+b \\sqrt{b^2 e_1^2+4 g^2 e_1 e_2+4 g \\left(-g e_2^2+P_2\\right)}\\right)}{2 g},f_2\\to \\frac{b e_1+\\sqrt{b^2 e_1^2+4 g^2 e_1 e_2+4 g \\left(-g e_2^2+P_2\\right)}}{2 g}$$"
     ]
    },
    {
     "cell_type": "markdown",
     "metadata": {},
     "source": [
      "Typically we work with small angles, so $f_2 = \\Im(V_2) = |V_2|\\sin(\\theta_{12})$ should be small. This suggests that maybe we want the second solution since $b$ is typically negative. Or we can just pick the solution based on the sign of $b$."
     ]
    },
    {
     "cell_type": "markdown",
     "metadata": {},
     "source": [
      "###WRONG\n",
      "\n",
      "$V_2$ is fixed, not $e_2$"
     ]
    },
    {
     "cell_type": "markdown",
     "metadata": {},
     "source": [
      "#This doesn't work, scroll down for correct version\n",
      "\n",
      "##Do it\n",
      "\n",
      "1. Enumerate $P_1, V_1$\n",
      "2. Enumerate $V_0$\n",
      "3. Choose the $V_0$ closest to $\\hat{V_0}$ which is feasible\n",
      "\n",
      "where 'feasible' means that the implied $P_0$ is within bounds, and the implied $\\theta$s are all real."
     ]
    },
    {
     "cell_type": "code",
     "collapsed": false,
     "input": [
      "from math import sqrt, cos, sin, atan2\n",
      "import numpy as np\n",
      "\n",
      "def z2y(r, x): # converts impedance Z=R+jX to admittance Y=G+jB\n",
      "    return r/(r**2+x**2), -x/(r**2+x**2)\n",
      "def v2ef(v, t): # converts magnitude v and angle t in degrees to rectangular coordinates e and f\n",
      "    return v*cos(t*pi/180), v*sin(t*pi/180)\n",
      "def ef2v(e,f): # computes magnitude v from rectangular coordinates e and f\n",
      "    return sqrt(e**2+f**2)\n",
      "def ef2t(e,f): # computes angle t from rectangular coordinates e and f\n",
      "    return atan2(f,e)*180/pi\n",
      "def p1f2(b,g,e1,e2,p2):\n",
      "    temp = sqrt(b**2*e1**2+4*g**2*e1*e2+4*g*(-g*e2**2+p2))\n",
      "    p1 = e1*((b**2+2*g**2)*e1 - 2*g**2*e2 + b*temp)/(2*g)\n",
      "    f2 = (b*e1+temp)/(2*g)\n",
      "    return p1, f2"
     ],
     "language": "python",
     "metadata": {},
     "outputs": [],
     "prompt_number": 35
    },
    {
     "cell_type": "code",
     "collapsed": false,
     "input": [
      "g, b = z2y(.01, .1)\n",
      "print g, b\n",
      "e1 = 1\n",
      "v, t = .943620264, -12.237\n",
      "e2, f2 = v2ef(v, t)\n",
      "print e2, f2\n",
      "p2 = -2.01"
     ],
     "language": "python",
     "metadata": {},
     "outputs": [
      {
       "output_type": "stream",
       "stream": "stdout",
       "text": [
        "0.990099009901 -9.90099009901\n",
        "0.92218047831 -0.200005920052\n"
       ]
      }
     ],
     "prompt_number": 50
    },
    {
     "cell_type": "code",
     "collapsed": false,
     "input": [
      "p1, f2 = p1f2(b,g,e1,e2,p2)\n",
      "print p1, f2"
     ],
     "language": "python",
     "metadata": {},
     "outputs": [
      {
       "output_type": "stream",
       "stream": "stdout",
       "text": [
        "2.05548714934 -0.199859360725\n"
       ]
      }
     ],
     "prompt_number": 39
    },
    {
     "cell_type": "markdown",
     "metadata": {},
     "source": [
      "###Where to continue\n",
      "\n",
      "In babygrid5.nb you have four solutions to the case where we correctly fix $V_2$ instead of $e_2$. They are nasty and the fact that $\\theta$ can take either sign doesn't really make sense. Work through these solutions (probably in mathematica is easiest) and try to make some sense of it"
     ]
    },
    {
     "cell_type": "markdown",
     "metadata": {},
     "source": [
      "#This is the correct version\n",
      "\n",
      "##Do it right\n",
      "\n",
      "Remember here though that there are actually multiple solutions. Only one agrees with matpower for the baby test cases, but it isn't clear that that solution will always be the correct one."
     ]
    },
    {
     "cell_type": "markdown",
     "metadata": {},
     "source": [
      "$$\\theta \\to -\\text{ArcSec}\\left[\\frac{\\left(b^2+g^2\\right) V_1 V_2}{-g P_2+g^2 V_2^2+\\sqrt{b^2 \\left(-P_2^2+\\left(2 g P_2+\\left(b^2+g^2\\right) V_1^2\\right) V_2^2-g^2 V_2^4\\right)}}\\right]$$\n",
      "\n",
      "$$P_1\\to \\frac{\\left(-b^2+g^2\\right) P_2+g^3 \\left(V_1^2-V_2^2\\right)+b^2 g \\left(V_1^2+V_2^2\\right)-2 g \\sqrt{b^2 \\left(-P_2^2+\\left(2 g P_2+\\left(b^2+g^2\\right) V_1^2\\right) V_2^2-g^2 V_2^4\\right)}}{b^2+g^2}$$"
     ]
    },
    {
     "cell_type": "code",
     "collapsed": false,
     "input": [
      "def p1t(g,b,v1,v2,p2):\n",
      "    try:\n",
      "        temp = sqrt(b**2*(-p2**2+(2*g*p2+(b**2+g**2)*v1**2)*v2**2-g**2*v2**4))\n",
      "    except ValueError:\n",
      "        return nan, nan\n",
      "    t = -arccos((-g*p2+g**2*v2**2+temp)/((b**2+g**2)*v1*v2))\n",
      "    p1 = 1/(b**2+g**2) * ((-b**2+g**2)*p2+g**3*(v1**2-v2**2)+b**2*g*(v1**2+v2**2)-2*g*temp)\n",
      "    return p1, t\n",
      "def e2f2_(b, g, p2, e1, p1):\n",
      "    try:\n",
      "        temp = sqrt(g*(-g*p1**2+(b**2+g**2)*e1**2*(p1+p2)))\n",
      "    except ValueError:\n",
      "        return np.nan, np.nan\n",
      "    A = g*(b**2+g**2)*e1**2-g**2*p1\n",
      "    B = b*temp\n",
      "    C = g*(b**2+g**2)*e1\n",
      "    e2 = (A+B)/C \n",
      "    e2 = (A-B)/C\n",
      "    A = b*p1\n",
      "    B = temp\n",
      "    C = (b**2+g**2)*e1\n",
      "    f2 = (A+B)/C \n",
      "    #f2 = (A-B)/C\n",
      "    return e2, f2\n",
      "def v2_(b, g, p2, e1, p1):\n",
      "    e2, f2 = e2f2_(b, g, p2, e1, p1)\n",
      "    return sqrt(e2**2+f2**2)"
     ],
     "language": "python",
     "metadata": {},
     "outputs": [],
     "prompt_number": 299
    },
    {
     "cell_type": "code",
     "collapsed": false,
     "input": [
      "g, b = z2y(.01, .1)\n",
      "v1 = 1\n",
      "v2 = .957021365673087\n",
      "p2 = -2.01\n",
      "p1, t = p1t(g,b,v1,v2,p2)\n",
      "p1, t*180/pi"
     ],
     "language": "python",
     "metadata": {},
     "outputs": [
      {
       "metadata": {},
       "output_type": "pyout",
       "prompt_number": 300,
       "text": [
        "(2.0541113100952173, -12.125881144971373)"
       ]
      }
     ],
     "prompt_number": 300
    },
    {
     "cell_type": "markdown",
     "metadata": {},
     "source": [
      "1. Enumerate $P_1, V_1$. Check that each enumeration gives a feasible $V_2$.\n",
      "2. Enumerate $V_0$. With $(P_1,V_1)$, check that each enumeration gives a feasible $P_0$ and $\\theta_{01}$.\n",
      "3. Choose the $V_0$ closest to $\\hat{V_0}$."
     ]
    },
    {
     "cell_type": "code",
     "collapsed": false,
     "input": [
      "g, b = z2y(.01, .1)\n",
      "d1, d2 = 1, 1\n",
      "v1hat = 1"
     ],
     "language": "python",
     "metadata": {},
     "outputs": [],
     "prompt_number": 345
    },
    {
     "cell_type": "markdown",
     "metadata": {},
     "source": [
      "Real power loss between buses $k$ and $m$:\n",
      "$$P_{km}+P_{mk} = g_{km}\\left(|V_k|-|V_m|\\right)^2$$\n",
      "Since we're probably only enumerating the $V$s from at worst .5 to 1.5, we can bound this by $g_{km}$."
     ]
    },
    {
     "cell_type": "code",
     "collapsed": false,
     "input": [
      "n = 11"
     ],
     "language": "python",
     "metadata": {},
     "outputs": [],
     "prompt_number": 346
    },
    {
     "cell_type": "heading",
     "level": 5,
     "metadata": {},
     "source": [
      "1. Enumerate $P_1, V_1$. Check that each enumeration gives a feasible $V_2$."
     ]
    },
    {
     "cell_type": "code",
     "collapsed": false,
     "input": [
      "from itertools import product #cartesian product\n",
      "p1range = linspace(d2, d2+g, n)\n",
      "v1range = linspace(.5, 1.5, n)\n",
      "#v2range = [v2_(b, g, -d2, v1, p1) for p1,v1 in product(p1range, v1range)]\n",
      "p1v1v2 = [(p1,v1,v2_(b, g, -d2, v1, p1)) for p1,v1 in product(p1range, v1range)]"
     ],
     "language": "python",
     "metadata": {},
     "outputs": [],
     "prompt_number": 347
    },
    {
     "cell_type": "heading",
     "level": 5,
     "metadata": {},
     "source": [
      "2. Enumerate $V_0$. With the feasible $(P_1,V_1)$, check that each enumeration gives a feasible $P_0$ and $\\theta_{01}$."
     ]
    },
    {
     "cell_type": "code",
     "collapsed": false,
     "input": [
      "%%time\n",
      "v0range = linspace(.5, 1.5, n)\n",
      "p1v1_list = [(-(d1+p1),v1,v2) for p1,v1,v2 in p1v1v2 if ~isnan(v2)]\n",
      "p0t = [p1t(g,b,v0,v1,p1)+(v0,p1,v1,v2) for v0, (p1,v1,v2) in product(v0range, p1v1_list)]\n",
      "ans = [(p0,v0,t,p1,v1,v2) for p0,t,v0,p1,v1,v2 in p0t if ~isnan(p0) and p0<3]"
     ],
     "language": "python",
     "metadata": {},
     "outputs": [
      {
       "output_type": "stream",
       "stream": "stdout",
       "text": [
        "CPU times: user 818 ms, sys: 61.3 ms, total: 879 ms\n",
        "Wall time: 873 ms\n"
       ]
      }
     ],
     "prompt_number": 348
    },
    {
     "cell_type": "code",
     "collapsed": false,
     "input": [
      "print('%5s %5s %5s %5s %5s %5s' % ('p0','v0','t','p1','v1','v2'))\n",
      "shuffle(ans)\n",
      "for x in ans[:10]:\n",
      "    print('%5.2f %5.2f %5.2f %5.2f %5.2f %5.2f' % x)"
     ],
     "language": "python",
     "metadata": {},
     "outputs": [
      {
       "output_type": "stream",
       "stream": "stdout",
       "text": [
        "   p0    v0     t    p1    v1    v2\n",
        " 2.13  1.30 -0.13 -2.10  1.30  1.60\n",
        " 2.24  1.10 -0.19 -2.20  1.10  1.52\n",
        " 2.87  0.80 -0.70 -2.59  0.50  1.20\n",
        " 2.55  1.20 -0.19 -2.50  1.10  1.78\n",
        " 2.46  1.10 -0.21 -2.40  1.00  1.60\n",
        " 2.58  1.20 -0.20 -2.50  1.00  1.67\n",
        " 2.71  1.00 -0.32 -2.59  0.80  1.53\n",
        " 2.34  1.40 -0.12 -2.30  1.50  2.03\n",
        " 2.64  0.60 -0.54 -2.40  0.90  1.50\n",
        " 2.69  1.30 -0.19 -2.50  0.90  1.57\n"
       ]
      }
     ],
     "prompt_number": 349
    },
    {
     "cell_type": "markdown",
     "metadata": {},
     "source": [
      "#####3. Choose the $V_0$ closest to $\\hat{V_0}$.\n",
      "\n",
      "It looks like this is way underdetermined and we get a lot of solutions, even a lot with $V_0=\\hat{V_0}$. Maybe this is okay. Next step is to verify that these are all indeed solutions."
     ]
    },
    {
     "cell_type": "code",
     "collapsed": false,
     "input": [
      "ans2 = [(p0,v0,t,p1,v1,v2) for p0,v0,t,p1,v1,v2 in ans if abs(v0-1)<1e-6]\n",
      "print(len(ans2))\n",
      "print('%5s %5s %5s %5s %5s %5s' % ('p0','v0','t','p1','v1','v2'))\n",
      "shuffle(ans2)\n",
      "for x in ans2[:10]:\n",
      "    print('%5.2f %5.2f %5.2f %5.2f %5.2f %5.2f' % x)"
     ],
     "language": "python",
     "metadata": {},
     "outputs": [
      {
       "output_type": "stream",
       "stream": "stdout",
       "text": [
        "8237\n",
        "   p0    v0     t    p1    v1    v2\n",
        " 2.85  1.00 -0.46 -2.52  0.53  1.19\n",
        " 2.67  1.00 -0.21 -2.36  1.50  2.08\n",
        " 2.61  1.00 -0.23 -2.48  1.27  1.94\n",
        " 2.92  1.00 -0.24 -2.72  1.34  2.17\n",
        " 2.47  1.00 -0.22 -2.37  1.22  1.80\n",
        " 2.78  1.00 -0.27 -2.70  1.04  1.85\n",
        " 2.82  1.00 -0.29 -2.74  0.97  1.80\n",
        " 2.74  1.00 -0.25 -2.64  1.17  1.95\n",
        " 2.18  1.00 -0.20 -2.09  1.22  1.50\n",
        " 2.76  1.00 -0.28 -2.68  0.99  1.78\n"
       ]
      }
     ],
     "prompt_number": 329
    },
    {
     "cell_type": "code",
     "collapsed": false,
     "input": [
      "def check(x):\n",
      "    p1 = -x[3]-1\n",
      "    v1 = x[4]\n",
      "    v2 = v2_(b, g, -d2, v1, p1)\n",
      "    return abs(x[5]-v2)\n",
      "def check2(x):\n",
      "    p0,v0,t,p1,v1,v2 = x\n",
      "    e0 = v0\n",
      "    e1 = v1*cos(t)\n",
      "    f1 = v1*sin(t)\n",
      "    p0_hat,p1_hat = p1p2_(b,g,e0,e1,f1)\n",
      "    return max([abs(p0-p0_hat), abs(p1-p1_hat)])\n",
      "def check3(x):\n",
      "    p0,v0,t,p1,v1,v2 = x\n",
      "    p1 = -p1-1\n",
      "    p2 = -d2\n",
      "    e1 = v1\n",
      "    e2, f2 = e2f2_(b, g, p2, e1, p1)\n",
      "    p1_hat,_ = p1f2(b,g,e1,e2,p2)\n",
      "    return abs(p1_hat-p1)\n",
      "def p1p2_(b,g,e1,e2,f2):\n",
      "    p1 = g*(e1**2-e1*e2)+b*(e1*f2)\n",
      "    p2 = g*(e2**2+f2**2-e1*e2)-b*(e1*f2)\n",
      "    return p1, p2\n",
      "def p1f2(b,g,e1,e2,p2):\n",
      "    temp = sqrt(b**2*e1**2+4*g**2*e1*e2+4*g*(-g*e2**2+p2))\n",
      "    p1 = e1*((b**2+2*g**2)*e1 - 2*g**2*e2 + b*temp)/(2*g)\n",
      "    f2 = (b*e1+temp)/(2*g)\n",
      "    return p1, f2"
     ],
     "language": "python",
     "metadata": {},
     "outputs": [],
     "prompt_number": 343
    },
    {
     "cell_type": "code",
     "collapsed": false,
     "input": [
      "max(check(x) for x in ans2), max(check2(x) for x in ans2), max(check3(x) for x in ans2)"
     ],
     "language": "python",
     "metadata": {},
     "outputs": [
      {
       "metadata": {},
       "output_type": "pyout",
       "prompt_number": 344,
       "text": [
        "(8.881784197001252e-16, 2.708944180085382e-14, 3.9745984281580604e-14)"
       ]
      }
     ],
     "prompt_number": 344
    },
    {
     "cell_type": "code",
     "collapsed": false,
     "input": [
      "ans3 = [(p0,v0,t,p1,v1,v2) for p0,v0,t,p1,v1,v2 in ans2 if p0<2.06]\n",
      "print(len(ans3))\n",
      "print('%5s %5s %5s %5s %5s %5s' % ('p0','v0','t','p1','v1','v2'))\n",
      "shuffle(ans3)\n",
      "for x in ans3[:10]:\n",
      "    print('%5.2f %5.2f %5.2f %5.2f %5.2f %5.2f' % x)"
     ],
     "language": "python",
     "metadata": {},
     "outputs": [
      {
       "output_type": "stream",
       "stream": "stdout",
       "text": [
        "7\n",
        "   p0    v0     t    p1    v1    v2\n",
        " 2.05  1.00 -0.20 -2.01  1.05  1.07\n",
        " 2.06  1.00 -0.20 -2.01  1.07  1.10\n",
        " 2.05  1.00 -0.20 -2.01  1.02  1.02\n",
        " 2.06  1.00 -0.20 -2.01  1.06  1.08\n",
        " 2.05  1.00 -0.20 -2.01  1.04  1.06\n",
        " 2.05  1.00 -0.20 -2.01  1.03  1.04\n",
        " 2.06  1.00 -0.20 -2.01  1.08  1.11\n"
       ]
      }
     ],
     "prompt_number": 336
    }
   ],
   "metadata": {}
  }
 ]
}