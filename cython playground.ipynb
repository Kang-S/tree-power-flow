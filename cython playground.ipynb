{
 "metadata": {
  "name": ""
 },
 "nbformat": 3,
 "nbformat_minor": 0,
 "worksheets": [
  {
   "cells": [
    {
     "cell_type": "code",
     "collapsed": false,
     "input": [
      "%load_ext cythonmagic"
     ],
     "language": "python",
     "metadata": {},
     "outputs": [],
     "prompt_number": 3
    },
    {
     "cell_type": "code",
     "collapsed": false,
     "input": [
      "%%cython\n",
      "cimport cython\n",
      "from libc.math cimport exp, sqrt, pow, log, erf\n",
      "\n",
      "@cython.cdivision(True)\n",
      "cdef double std_norm_cdf(double x) nogil:\n",
      "    return 0.5*(1+erf(x/sqrt(2.0)))\n",
      "\n",
      "@cython.cdivision(True)\n",
      "def black_scholes(double s, double k, double t, double v, double rf, double div, double cp):\n",
      "    cdef double d1, d2, optprice\n",
      "    with nogil:\n",
      "        d1 = (log(s/k)+(rf-div+0.5*pow(v,2))*t)/(v*sqrt(t))\n",
      "        d2 = d1 - v*sqrt(t)\n",
      "        optprice = cp*s*exp(-div*t)*std_norm_cdf(cp*d1) - \\\n",
      "            cp*k*exp(-rf*t)*std_norm_cdf(cp*d2)\n",
      "    return optprice"
     ],
     "language": "python",
     "metadata": {},
     "outputs": [],
     "prompt_number": 8
    },
    {
     "cell_type": "code",
     "collapsed": false,
     "input": [
      "from math import erf\n",
      "def std_norm_cdf(x):\n",
      "    return 0.5*(1+erf(x/sqrt(2.0)))\n",
      "\n",
      "def black_scholes2(s, k, t, v, rf, div, cp):\n",
      "    d1 = (log(s/k)+(rf-div+0.5*pow(v,2))*t)/(v*sqrt(t))\n",
      "    d2 = d1 - v*sqrt(t)\n",
      "    optprice = cp*s*exp(-div*t)*std_norm_cdf(cp*d1) - \\\n",
      "        cp*k*exp(-rf*t)*std_norm_cdf(cp*d2)\n",
      "    return optprice"
     ],
     "language": "python",
     "metadata": {},
     "outputs": [],
     "prompt_number": 12
    },
    {
     "cell_type": "code",
     "collapsed": false,
     "input": [
      "%timeit black_scholes2(100.0, 100.0, 1.0, 0.3, 0.03, 0.0, -1)"
     ],
     "language": "python",
     "metadata": {},
     "outputs": [
      {
       "output_type": "stream",
       "stream": "stdout",
       "text": [
        "10000 loops, best of 3: 43.6 \u00b5s per loop\n"
       ]
      }
     ],
     "prompt_number": 13
    },
    {
     "cell_type": "code",
     "collapsed": false,
     "input": [
      "%timeit black_scholes(100.0, 100.0, 1.0, 0.3, 0.03, 0.0, -1)"
     ],
     "language": "python",
     "metadata": {},
     "outputs": [
      {
       "output_type": "stream",
       "stream": "stdout",
       "text": [
        "1000000 loops, best of 3: 562 ns per loop\n"
       ]
      }
     ],
     "prompt_number": 14
    },
    {
     "cell_type": "markdown",
     "metadata": {},
     "source": [
      "#Poisson"
     ]
    },
    {
     "cell_type": "code",
     "collapsed": false,
     "input": [
      "from scipy.stats import poisson, norm\n",
      "from scipy.misc import factorial\n",
      "from scipy.special import gammainc, gamma\n",
      "from math import erf"
     ],
     "language": "python",
     "metadata": {},
     "outputs": [],
     "prompt_number": 134
    },
    {
     "cell_type": "code",
     "collapsed": false,
     "input": [
      "for x in rand(50)*500:\n",
      "    print(x, poisson.ppf(.999,x), poisson.ppf(.999,x)-norm.ppf(.999, loc=x, scale=x**.5))"
     ],
     "language": "python",
     "metadata": {},
     "outputs": [
      {
       "output_type": "stream",
       "stream": "stdout",
       "text": [
        "(203.11481337147259, 249.0, 1.8437043337032435)\n",
        "(475.09740112290774, 544.0, 1.5456423255187701)\n",
        "(20.480856540751546, 36.0, 1.5340560148641558)\n",
        "(458.31478682489467, 526.0, 1.5286305743522917)\n",
        "(8.2259698052524204, 18.0, 0.91094989654309089)\n",
        "(302.27223710936215, 357.0, 1.0010514592323716)\n",
        "(97.578204940526774, 129.0, 0.89596088225425774)\n",
        "(468.3462627840002, 537.0, 1.7770644573580512)\n",
        "(400.83382389368359, 464.0, 1.2971457803236603)\n",
        "(332.10544843119823, 390.0, 1.5788979902583264)\n",
        "(163.70431704773975, 205.0, 1.7570914132668349)\n",
        "(333.89853982547521, 392.0, 1.6339825588880785)\n",
        "(11.499818180956911, 23.0, 1.0207770490901105)\n",
        "(304.17085998408061, 359.0, 0.93395945060331087)\n",
        "(407.76102493846997, 472.0, 1.8376251787028082)\n",
        "(388.85400542030561, 451.0, 1.2085249143506189)\n",
        "(303.30780755445272, 359.0, 1.8735271130153706)\n",
        "(257.59402385138031, 309.0, 1.8085636310052564)\n",
        "(324.06749447963381, 381.0, 1.3025305993382403)\n",
        "(460.33616654965601, 528.0, 1.3615208265190404)\n",
        "(144.35555862232786, 183.0, 1.5159003150945125)\n",
        "(457.47434655809832, 525.0, 1.429756390165835)\n",
        "(268.78078945433617, 321.0, 1.5562877519340645)\n",
        "(245.17895170044585, 295.0, 1.4335999927518515)\n",
        "(494.52846911858688, 565.0, 1.7509570077714898)\n",
        "(251.24423193832573, 302.0, 1.7734675456460423)\n",
        "(47.365835483973775, 70.0, 1.3663076140562396)\n",
        "(136.01303931736726, 173.0, 0.94724126843499334)\n",
        "(499.80945734075289, 570.0, 1.1040153249425657)\n",
        "(179.59477174067783, 222.0, 0.99210611955260219)\n",
        "(126.7076488513395, 163.0, 1.5073081425102259)\n",
        "(75.317681628176928, 104.0, 1.8635024022899387)\n",
        "(7.7619857600740305, 18.0, 1.6285217946109363)\n",
        "(36.739237830253735, 57.0, 1.5299676464407383)\n",
        "(324.64519613229277, 382.0, 1.6752664030898927)\n",
        "(403.79691233039586, 467.0, 1.1058008343060806)\n",
        "(416.06363730337017, 480.0, 0.90292267919619462)\n",
        "(165.95285779500136, 207.0, 1.2379379798458672)\n",
        "(422.18307959240917, 487.0, 1.3216261483160565)\n",
        "(277.61469674131467, 330.0, 0.89655245751850998)\n",
        "(201.10535775532028, 246.0, 1.0715570660997571)\n",
        "(360.76146031645936, 421.0, 1.5435275728786451)"
       ]
      },
      {
       "output_type": "stream",
       "stream": "stdout",
       "text": [
        "\n",
        "(202.40910155753122, 248.0, 1.6259926361341854)\n",
        "(479.30066047534166, 548.0, 1.0450804483921274)\n",
        "(414.65780412502761, 479.0, 1.4153374892399597)\n",
        "(165.3968199629991, 207.0, 1.8607236721851734)\n",
        "(389.94627620699117, 452.0, 1.0307290443662396)\n",
        "(219.12162823505511, 266.0, 1.134412460947658)\n",
        "(300.22125303299003, 355.0, 1.2346195993556535)\n",
        "(379.06351123524985, 441.0, 1.7710457312753078)\n"
       ]
      }
     ],
     "prompt_number": 98
    },
    {
     "cell_type": "code",
     "collapsed": false,
     "input": [
      "%%timeit\n",
      "x = 50\n",
      "poisson.ppf(.999, x)"
     ],
     "language": "python",
     "metadata": {},
     "outputs": [
      {
       "output_type": "stream",
       "stream": "stdout",
       "text": [
        "1000 loops, best of 3: 251 \u00b5s per loop\n"
       ]
      }
     ],
     "prompt_number": 129
    },
    {
     "cell_type": "code",
     "collapsed": false,
     "input": [
      "norm.ppf(.999, loc=50, scale=50**.5)"
     ],
     "language": "python",
     "metadata": {},
     "outputs": [
      {
       "metadata": {},
       "output_type": "pyout",
       "prompt_number": 44,
       "text": [
        "71.851242191330044"
       ]
      }
     ],
     "prompt_number": 44
    },
    {
     "cell_type": "code",
     "collapsed": false,
     "input": [
      "%%timeit\n",
      "x = 50\n",
      "total = 0\n",
      "i = 0\n",
      "while total<.999*exp(x):\n",
      "    total += x**i/factorial(i)\n",
      "    i+=1\n",
      "i-1"
     ],
     "language": "python",
     "metadata": {},
     "outputs": [
      {
       "output_type": "stream",
       "stream": "stdout",
       "text": [
        "100 loops, best of 3: 3.94 ms per loop\n"
       ]
      }
     ],
     "prompt_number": 56
    },
    {
     "cell_type": "code",
     "collapsed": false,
     "input": [
      "def sean(x=50):\n",
      "    a, b = x, 2*x\n",
      "    #a = norm.ppf(.999,x,x**.5)\n",
      "    #b = a+3\n",
      "    m = (a+b)//2\n",
      "    while m-a>0:\n",
      "        #y = exp(-x)*sum(x**i/factorial(i) for i in range(m))\n",
      "        y = gammainc(x,m+1)\n",
      "        if y>.999:\n",
      "            b = m\n",
      "        else:\n",
      "            a = m\n",
      "        m = (a+b)//2\n",
      "    m"
     ],
     "language": "python",
     "metadata": {},
     "outputs": [],
     "prompt_number": 130
    },
    {
     "cell_type": "code",
     "collapsed": false,
     "input": [
      "def sean2(x=50):\n",
      "    m = int(norm.ppf(.999,x,x**.5))\n",
      "    y = arange(m)\n",
      "    total = sum(float(x)**y/factorial(y))\n",
      "    stop = .999*exp(x)\n",
      "    while total<stop:\n",
      "        total += x**m/factorial(m)\n",
      "        m+=1\n",
      "    return m-1"
     ],
     "language": "python",
     "metadata": {},
     "outputs": [],
     "prompt_number": 126
    },
    {
     "cell_type": "code",
     "collapsed": false,
     "input": [
      "# can cython this\n",
      "# Wilson-Hilferty gets you closer\n",
      "# think about this, it doesn't actually make sense... gaussian is approximation to the CDF, not the invCDF!\n",
      "def sean3(x=50):\n",
      "    m = int(.5*x**.5*(1+erf(.999/sqrt(2)))+x)\n",
      "    y = arange(m)\n",
      "    total = sum(float(x)**y/factorial(y))\n",
      "    stop = .999*exp(x)\n",
      "    while total<stop:\n",
      "        total += x**m/factorial(m)\n",
      "        m+=1\n",
      "    return m-1"
     ],
     "language": "python",
     "metadata": {},
     "outputs": [],
     "prompt_number": 137
    },
    {
     "cell_type": "code",
     "collapsed": false,
     "input": [
      "#%%timeit\n",
      "sean3()"
     ],
     "language": "python",
     "metadata": {},
     "outputs": [
      {
       "output_type": "stream",
       "stream": "stdout",
       "text": [
        "1000 loops, best of 3: 1 ms per loop\n"
       ]
      }
     ],
     "prompt_number": 139
    },
    {
     "cell_type": "code",
     "collapsed": false,
     "input": [
      "%%timeit\n",
      "sean2()"
     ],
     "language": "python",
     "metadata": {},
     "outputs": [
      {
       "output_type": "stream",
       "stream": "stdout",
       "text": [
        "1000 loops, best of 3: 485 \u00b5s per loop\n"
       ]
      }
     ],
     "prompt_number": 127
    },
    {
     "cell_type": "code",
     "collapsed": false,
     "input": [
      "%%timeit\n",
      "sean()"
     ],
     "language": "python",
     "metadata": {},
     "outputs": [
      {
       "output_type": "stream",
       "stream": "stdout",
       "text": [
        "10000 loops, best of 3: 42.8 \u00b5s per loop\n"
       ]
      }
     ],
     "prompt_number": 131
    }
   ],
   "metadata": {}
  }
 ]
}