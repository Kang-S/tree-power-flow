{
 "metadata": {
  "language": "Julia",
  "name": ""
 },
 "nbformat": 3,
 "nbformat_minor": 0,
 "worksheets": [
  {
   "cells": [
    {
     "cell_type": "code",
     "collapsed": false,
     "input": [
      "run(`date`)"
     ],
     "language": "python",
     "metadata": {},
     "outputs": [
      {
       "output_type": "stream",
       "stream": "stdout",
       "text": [
        "Mon Jan 27 08:45:34 EST 2014\n"
       ]
      }
     ],
     "prompt_number": 22
    },
    {
     "cell_type": "code",
     "collapsed": false,
     "input": [
      "function pk(;g=1,b=-10,vk=1,vm=1,pm=-1)\n",
      "  # solve for pk given pm,vk,vm; ignores theta\n",
      "  temp = b^2*(-pm^2+(2*g*pm+(b^2+g^2)*vk^2)*vm^2-g^2*vm^4)\n",
      "  temp < 0 ? None : 1/(b^2+g^2) * ((-b^2+g^2)*pm+g^3*(vk^2-vm^2)+b^2*g*(vk^2+vm^2)-2*g*temp^.5)\n",
      "end\n",
      "function pk_\u03b8(;g=1,b=-10,vk=1,vm=1,pm=-1)\n",
      "  # solve for pk, \u03b8km given pm,vk,vm\n",
      "  temp = b^2*(-pm^2+(2*g*pm+(b^2+g^2)*vk^2)*vm^2-g^2*vm^4)\n",
      "  if temp < 0 \n",
      "    return None, None\n",
      "  end\n",
      "  pk = 1/(b^2+g^2) * ((-b^2+g^2)*pm+g^3*(vk^2-vm^2)+b^2*g*(vk^2+vm^2)-2*g*temp^.5)\n",
      "  \u03b8 = -acos((-g*pm+g^2*vm^2+temp^.5)/((b^2+g^2)*vk*vm))\n",
      "  pk, \u03b8\n",
      "end\n",
      "function check(;g=1,b=-10,vk=1,vm=1,pk=.995,pm=-1,\u03b8=-.1)\n",
      "    # sanity check after a solution has been found\n",
      "    pk_hat = g*(vk^2-vk*vm*cos(\u03b8)) + b*vk*vm*sin(\u03b8)\n",
      "    pm_hat = g*(vm^2-vk*vm*cos(\u03b8)) - b*vk*vm*sin(\u03b8)\n",
      "    err1 = abs((pk_hat-pk)/pk_hat)\n",
      "    err2 = abs((pm_hat-pm)/pm_hat)\n",
      "    maximum([err1, err2])\n",
      "end;\n",
      "function _round(x, p)\n",
      "  # round 'to the 1/p' place... e.g. if p=5, _round(1.12) = 1.2 and _round(1.08) = 1.0\n",
      "  round(x*p)/p\n",
      "end;"
     ],
     "language": "python",
     "metadata": {},
     "outputs": []
    },
    {
     "cell_type": "code",
     "collapsed": false,
     "input": [
      "module BusModule\n",
      "type Bus\n",
      "  d::Float64; name; children; g::Float64; b::Float64; raw_flows; candidates\n",
      "  function Bus(;d=0., name=\"0\", children=[], g=1., b=-10.)\n",
      "    raw_flows = [Dict() for child in children]\n",
      "    new(d, name, children, g, b, raw_flows, Dict())\n",
      "  end\n",
      "end\n",
      "export Bus\n",
      "end\n",
      "Bus = BusModule.Bus;"
     ],
     "language": "python",
     "metadata": {},
     "outputs": [
      {
       "output_type": "stream",
       "stream": "stderr",
       "text": [
        "Warning: replacing module BusModule\n"
       ]
      }
     ]
    },
    {
     "cell_type": "markdown",
     "metadata": {},
     "source": [
      "#Candidate solution type"
     ]
    },
    {
     "cell_type": "code",
     "collapsed": false,
     "input": [
      "module CandidateModule\n",
      "type Candidate\n",
      "  n; p; v; children\n",
      "end\n",
      "function Candidate(v, n::Int)\n",
      "  p = 0\n",
      "  children = Array((Float64,Float64,Float64),n)\n",
      "  Candidate(n, p, v, children)\n",
      "end\n",
      "function Candidate(v, children)\n",
      "  p = sum([c[1] for c in children])\n",
      "  n = length(children)\n",
      "  Candidate(n, p, v, children)\n",
      "end\n",
      "export Candidate\n",
      "end\n",
      "\n",
      "Candidate = CandidateModule.Candidate\n",
      "\n",
      "import Base.isless\n",
      "isless(x::Candidate, y::Candidate) = x.p < y.p\n",
      "\n",
      "function add!(cand::Candidate, i, child)\n",
      "  cand.p = cand.p + child[1]\n",
      "  cand.children[i] = child\n",
      "end\n",
      "function add(cand::Candidate, i, child)\n",
      "  result = Candidate(cand.v, copy(cand.children))\n",
      "  result.p = cand.p + child[1]\n",
      "  result.children[i] = child\n",
      "  result\n",
      "end;"
     ],
     "language": "python",
     "metadata": {},
     "outputs": [
      {
       "output_type": "stream",
       "stream": "stderr",
       "text": [
        "Warning: replacing module CandidateModule\n"
       ]
      }
     ]
    },
    {
     "cell_type": "markdown",
     "metadata": {},
     "source": [
      "#f1"
     ]
    },
    {
     "cell_type": "code",
     "collapsed": false,
     "input": [
      "function f1(bus)\n",
      "  for vk in VRANGE\n",
      "    for (i,child) in enumerate(bus.children)\n",
      "      d, g, b = child.d, child.g, child.b\n",
      "      p(c::Candidate) = pk(g=g,b=b,vk=vk,vm=c.v,pm=-(c.p+d))\n",
      "      raw_flows = shuffle([(p(c),c.v,c.p+d) for c in values(child.candidates)])\n",
      "      round1(pkm,vm,pm) = _round(pkm, R1)\n",
      "      bus.raw_flows[i][vk] = collect(values([round1(x...)=>x for x in raw_flows])  )\n",
      "    end\n",
      "  end\n",
      "end;"
     ],
     "language": "python",
     "metadata": {},
     "outputs": []
    },
    {
     "cell_type": "markdown",
     "metadata": {},
     "source": [
      "#f2"
     ]
    },
    {
     "cell_type": "code",
     "collapsed": false,
     "input": [
      "n = 0\n",
      "product(x,y) = collect([(a,b) for a in x, b in y]);\n",
      "function f2(bus)\n",
      "  global n\n",
      "  if length(bus.children) == 0\n",
      "    bus.candidates = [(0.,vm)=>Candidate(vm, 0) for vm in VRANGE]\n",
      "    return\n",
      "  end\n",
      "  if length(bus.children) == 1\n",
      "    for (vk,raw_flows) in bus.raw_flows[1]\n",
      "      p = _round(sum([x[1] for x in raw_flows]), R2)\n",
      "      c = Candidate(vk, 1)\n",
      "      add!(c, 1, raw_flows)\n",
      "      bus.candidates[(p, vk)] = c\n",
      "    end\n",
      "    return\n",
      "  end\n",
      "  for vk in VRANGE\n",
      "    pairs = shuffle(product(bus.raw_flows[1][vk], bus.raw_flows[2][vk]))\n",
      "    round2(b1, b2) = _round(b1[1]+b2[1], R2)\n",
      "    candidates = Dict()\n",
      "    for (b1, b2) in pairs\n",
      "      c = Candidate(vk, length(bus.children))\n",
      "      add!(c, 1, b1)\n",
      "      add!(c, 2, b2)\n",
      "      candidates[(round2(b1,b2), vk)] = c\n",
      "    end\n",
      "    #candidates = [(round2(b1,b2), vk)=>Candidate(vk, [b1,b2]) for (b1, b2) in pairs]\n",
      "    the_rest = [x[vk] for x in bus.raw_flows[3:]]\n",
      "    for (i,raw_flows) in enumerate(the_rest)\n",
      "      pairs = shuffle(product(values(candidates), raw_flows))\n",
      "      candidates = Dict() # size hint?\n",
      "      #cumprods = Dict{(Float64,Float64),CumProd}()\n",
      "      for (candidate, next_bus) in pairs\n",
      "        n += 1\n",
      "        # should write a function that encapsulates the below, right now seems a little magical\n",
      "        #new = copy(cumprod)\n",
      "        #new.p += next_bus[1]\n",
      "        # we know how long predecessors will be... no need for this dynamic reallocation business\n",
      "        #push!(new.predecessors, next_bus)\n",
      "        #cumprods[(_round(new.p, R2), new.v)] = new\n",
      "        new =j tree\n",
      "        add(candidate, i+2, next_bus)\n",
      "        candidates[(_round(new.p, R2), new.v)] = new\n",
      "      end\n",
      "    end\n",
      "    merge!(bus.candidates, candidates)\n",
      "  end\n",
      "end;"
     ],
     "language": "python",
     "metadata": {},
     "outputs": []
    },
    {
     "cell_type": "markdown",
     "metadata": {},
     "source": [
      "#Test"
     ]
    },
    {
     "cell_type": "code",
     "collapsed": false,
     "input": [
      "N = 21\n",
      "R1 = 200\n",
      "R2 = 100\n",
      "VRANGE = linspace(.8,1.2,N);\n",
      "bs = [Bus(d=float(d),name=\"$d\") for d=[1,2,3,1,2,3,1,2,3]]\n",
      "#bs = [Bus(d=float(d),name=\"$d\") for d=[1,2]]\n",
      "b0 = Bus(children=bs);"
     ],
     "language": "python",
     "metadata": {},
     "outputs": [],
     "prompt_number": 6
    },
    {
     "cell_type": "code",
     "collapsed": false,
     "input": [
      "tic()\n",
      "n = 0\n",
      "for b in bs\n",
      "  f1(b)\n",
      "  f2(b)\n",
      "end\n",
      "f1(b0); \n",
      "f2(b0);\n",
      "#@profile f2(b0);\n",
      "println(length(b0.candidates))\n",
      "println(n)\n",
      "toc();"
     ],
     "language": "python",
     "metadata": {},
     "outputs": [
      {
       "ename": "LoadError",
       "evalue": "access to undefined reference\nat In[6]:8",
       "output_type": "pyerr",
       "traceback": [
        "access to undefined reference\nat In[6]:8",
        " in unsafe_copy! at array.jl:135",
        " in copy! at array.jl:51",
        " in copy at abstractarray.jl:235",
        " in add at In[0]:28",
        " in f2 at In[0]:42"
       ]
      }
     ],
     "prompt_number": 6
    },
    {
     "cell_type": "code",
     "collapsed": false,
     "input": [
      "#Profile.print(format=:flat)"
     ],
     "language": "python",
     "metadata": {},
     "outputs": [],
     "prompt_number": 4
    },
    {
     "cell_type": "code",
     "collapsed": false,
     "input": [
      "#Profile.print()"
     ],
     "language": "python",
     "metadata": {},
     "outputs": [],
     "prompt_number": 5
    },
    {
     "cell_type": "markdown",
     "metadata": {},
     "source": [
      "#Pretty"
     ]
    },
    {
     "cell_type": "code",
     "collapsed": false,
     "input": [
      "function pretty(bus, candidates)\n",
      "  name = bus.name\n",
      "  @printf \"%5s %5s \" \"p$name\" \"v$name\"\n",
      "  for child in bus.children\n",
      "    cname = child.name\n",
      "    both = @sprintf \"%s_%s\" name cname\n",
      "    @printf \"%5s %5s %5s \" \"p$both\" \"v$cname\" \"p$cname\"\n",
      "  end\n",
      "  println()\n",
      "  \n",
      "  for candidate in candidates\n",
      "    @printf \"%5.2f \" candidate.p\n",
      "    @printf \"%5.2f \" candidate.v\n",
      "    for pred in candidate.children\n",
      "      @printf \"%5.2f %5.2f %5.2f \" pred[1] pred[2] pred[3]\n",
      "    end\n",
      "  println()\n",
      "  end\n",
      "end;"
     ],
     "language": "python",
     "metadata": {},
     "outputs": [],
     "prompt_number": 5
    },
    {
     "cell_type": "code",
     "collapsed": false,
     "input": [
      "pretty(b0, sort(collect(values(b0.candidates))))"
     ],
     "language": "python",
     "metadata": {},
     "outputs": [
      {
       "output_type": "stream",
       "stream": "stdout",
       "text": [
        "  "
       ]
      },
      {
       "output_type": "stream",
       "stream": "stdout",
       "text": [
        " p0    v0  p0_1    v1    p1  p0_2    v2    p2 \n",
        " 3.07  1.00  1.02  1.10  1.00  2.05  1.10  2.00 \n",
        " 3.07  1.20  1.01  1.20  1.00  2.07  1.00  2.00 \n",
        " 3.11  0.90  1.06  1.10  1.00  2.05  0.90  2.00 \n",
        " 3.12  0.80  1.06  1.00  1.00  2.07  0.80  2.00 \n",
        " 3.14  1.10  1.10  0.80  1.00  2.04  1.20  2.00 \n",
        " 3.17  0.90  1.02  1.00  1.00  2.14  1.20  2.00 \n",
        " 3.17  1.10  1.05  0.90  1.00  2.13  0.80  2.00 \n",
        " 3.21  0.80  1.06  1.00  1.00  2.15  1.10  2.00 \n",
        " 3.21  1.20  1.09  0.90  1.00  2.12  0.90  2.00 \n",
        " 3.25  0.90  1.11  1.20  1.00  2.14  1.20  2.00 \n",
        " 3.28  1.20  1.16  0.80  1.00  2.12  0.90  2.00 \n",
        " 3.29  0.80  1.06  1.00  1.00  2.23  1.20  2.00 \n",
        " 3.36  1.20  1.16  0.80  1.00  2.19  0.80  2.00 \n",
        " 3.41  0.80  1.18  1.20  1.00  2.23  1.20  2.00 \n"
       ]
      }
     ],
     "prompt_number": 6
    }
   ],
   "metadata": {}
  }
 ]
}