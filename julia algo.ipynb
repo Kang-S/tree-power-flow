{
 "metadata": {
  "language": "Julia",
  "name": ""
 },
 "nbformat": 3,
 "nbformat_minor": 0,
 "worksheets": [
  {
   "cells": [
    {
     "cell_type": "code",
     "collapsed": false,
     "input": [
      "run(`date`)"
     ],
     "language": "python",
     "metadata": {},
     "outputs": [
      {
       "output_type": "stream",
       "stream": "stdout",
       "text": [
        "Fri Jan 31 08:21:16 EST 2014\n"
       ]
      }
     ],
     "prompt_number": 200
    },
    {
     "cell_type": "code",
     "collapsed": false,
     "input": [
      "function pk(;g=1,b=-10,vk=1,vm=1,pm=-1)\n",
      "  # solve for pk given pm,vk,vm; ignores theta\n",
      "  temp = b^2*(-pm^2+(2*g*pm+(b^2+g^2)*vk^2)*vm^2-g^2*vm^4)\n",
      "  temp < 0 ? None : 1/(b^2+g^2) * ((-b^2+g^2)*pm+g^3*(vk^2-vm^2)+b^2*g*(vk^2+vm^2)-2*g*temp^.5)\n",
      "end\n",
      "function pk_\u03b8(;g=1,b=-10,vk=1,vm=1,pm=-1)\n",
      "  # solve for pk, \u03b8km given pm,vk,vm\n",
      "  temp = b^2*(-pm^2+(2*g*pm+(b^2+g^2)*vk^2)*vm^2-g^2*vm^4)\n",
      "  if temp < 0 \n",
      "    return None, None\n",
      "  end\n",
      "  pk = 1/(b^2+g^2) * ((-b^2+g^2)*pm+g^3*(vk^2-vm^2)+b^2*g*(vk^2+vm^2)-2*g*temp^.5)\n",
      "  \u03b8 = -acos((-g*pm+g^2*vm^2+temp^.5)/((b^2+g^2)*vk*vm))\n",
      "  pk, \u03b8\n",
      "end\n",
      "function check(;g=1,b=-10,vk=1,vm=1,pk=.995,pm=-1,\u03b8=-.1)\n",
      "    # sanity check after a solution has been found\n",
      "    pk_hat = g*(vk^2-vk*vm*cos(\u03b8)) + b*vk*vm*sin(\u03b8)\n",
      "    pm_hat = g*(vm^2-vk*vm*cos(\u03b8)) - b*vk*vm*sin(\u03b8)\n",
      "    err1 = abs((pk_hat-pk)/pk_hat)\n",
      "    err2 = abs((pm_hat-pm)/pm_hat)\n",
      "    maximum([err1, err2])\n",
      "end;\n",
      "function _round(x, p)\n",
      "  # round 'to the 1/p' place... e.g. if p=5, _round(1.12) = 1.2 and _round(1.08) = 1.0\n",
      "  round(x*p)/p\n",
      "end;"
     ],
     "language": "python",
     "metadata": {},
     "outputs": [],
     "prompt_number": 200
    },
    {
     "cell_type": "markdown",
     "metadata": {},
     "source": [
      "#Bus type"
     ]
    },
    {
     "cell_type": "code",
     "collapsed": false,
     "input": [
      "module BusModule\n",
      "type Bus\n",
      "  d::Float64; name; children; g::Float64; b::Float64; raw_flows; candidates\n",
      "  function Bus(;d=0., name=\"0\", children=[], g=1., b=-10.)\n",
      "    raw_flows = [Dict() for child in children]\n",
      "    new(d, name, children, g, b, raw_flows, Dict())\n",
      "  end\n",
      "end\n",
      "export Bus\n",
      "end\n",
      "Bus = BusModule.Bus;\n",
      "import Base.print\n",
      "function print(io::IO, b::Bus)\n",
      "  name = b.name\n",
      "  print(io, \"bus$name\")\n",
      "end;\n",
      "import Base.show\n",
      "show(io::IO, b::Bus) = print(io, b);"
     ],
     "language": "python",
     "metadata": {},
     "outputs": [
      {
       "output_type": "stream",
       "stream": "stderr",
       "text": [
        "Warning: replacing module BusModule\n"
       ]
      }
     ],
     "prompt_number": 200
    },
    {
     "cell_type": "markdown",
     "metadata": {},
     "source": [
      "#Candidate solution type"
     ]
    },
    {
     "cell_type": "code",
     "collapsed": false,
     "input": [
      "module CandidateModule\n",
      "type Candidate\n",
      "  n; p; v; children\n",
      "end\n",
      "function Candidate(v, n::Int)\n",
      "  p = 0\n",
      "  children = -1*ones(3, n)\n",
      "  Candidate(n, p, v, children)\n",
      "end\n",
      "function Candidate(v, children::Array{Float64,2})\n",
      "  p = sum(children[1,:])\n",
      "  n = size(children)[2]\n",
      "  Candidate(n, p, v, children)\n",
      "end\n",
      "export Candidate\n",
      "end\n",
      "\n",
      "Candidate = CandidateModule.Candidate\n",
      "\n",
      "import Base.isless\n",
      "isless(x::Candidate, y::Candidate) = x.p < y.p\n",
      "\n",
      "function add!(cand::Candidate, i, child)\n",
      "  cand.p = cand.p + child[1]\n",
      "  cand.children[:,i] = child\n",
      "end\n",
      "function add(cand::Candidate, i, child)\n",
      "  result = Candidate(cand.v, copy(cand.children))\n",
      "  result.p = cand.p + child[1]\n",
      "  result.children[:,i] = child\n",
      "  result\n",
      "end\n",
      "function key(c)\n",
      "  _round(c.p, R2), c.v\n",
      "end\n",
      "function key(p::Float64, v::Float64)\n",
      "  _round(p, R2), v\n",
      "end;"
     ],
     "language": "python",
     "metadata": {},
     "outputs": [
      {
       "output_type": "stream",
       "stream": "stderr",
       "text": [
        "Warning: replacing module CandidateModule\n"
       ]
      }
     ],
     "prompt_number": 200
    },
    {
     "cell_type": "markdown",
     "metadata": {},
     "source": [
      "#Fake shuffle"
     ]
    },
    {
     "cell_type": "raw",
     "metadata": {},
     "source": [
      "_shuffle(x) = x;"
     ]
    },
    {
     "cell_type": "code",
     "collapsed": false,
     "input": [
      "_shuffle(x) = shuffle(x);"
     ],
     "language": "python",
     "metadata": {},
     "outputs": [],
     "prompt_number": 200
    },
    {
     "cell_type": "markdown",
     "metadata": {},
     "source": [
      "#f1"
     ]
    },
    {
     "cell_type": "code",
     "collapsed": false,
     "input": [
      "function f1(bus)\n",
      "  for vk in VRANGE\n",
      "    for (i,child) in enumerate(bus.children)\n",
      "      d, g, b = child.d, child.g, child.b\n",
      "      p(c::Candidate) = pk(g=g,b=b,vk=vk,vm=c.v,pm=-(c.p+d))\n",
      "      raw_flows = _shuffle([(p(c),c.v,c.p+d) for c in values(child.candidates)])\n",
      "      round1(pkm,vm,pm) = _round(pkm, R1)\n",
      "      bus.raw_flows[i][vk] = collect(values([round1(x...)=>x for x in raw_flows])  )\n",
      "    end\n",
      "  end\n",
      "end;"
     ],
     "language": "python",
     "metadata": {},
     "outputs": [],
     "prompt_number": 200
    },
    {
     "cell_type": "markdown",
     "metadata": {},
     "source": [
      "#f2"
     ]
    },
    {
     "cell_type": "raw",
     "metadata": {},
     "source": [
      "# dumb implementation to check against python answers\n",
      "function product(x,y)\n",
      "  z = (Any,Any)[]\n",
      "  for a in x\n",
      "    for b in y\n",
      "      push!(z, (a,b))\n",
      "    end\n",
      "  end\n",
      "  z\n",
      "end;"
     ]
    },
    {
     "cell_type": "code",
     "collapsed": false,
     "input": [
      "n = 0\n",
      "product(x,y) = collect([(a,b) for a in x, b in y]);\n",
      "function f2(bus)\n",
      "  global n\n",
      "  if length(bus.children) == 0\n",
      "    for vm in VRANGE\n",
      "      c = Candidate(vm, 0)\n",
      "      bus.candidates[key(c)] = c\n",
      "    end\n",
      "    return\n",
      "  end\n",
      "  if length(bus.children) == 1\n",
      "    for (vk,raw_flows) in bus.raw_flows[1]\n",
      "      c = Candidate(vk, 1)\n",
      "      add!(c, 1, raw_flows)\n",
      "      bus.candidates[key(c)] = c\n",
      "    end\n",
      "    return\n",
      "  end\n",
      "  for vk in VRANGE\n",
      "    pairs = _shuffle(product(bus.raw_flows[1][vk], bus.raw_flows[2][vk]))\n",
      "    candidates = Dict()\n",
      "    for (b1, b2) in pairs\n",
      "      c = Candidate(vk, length(bus.children))\n",
      "      add!(c, 1, [b1...])\n",
      "      add!(c, 2, [b2...])\n",
      "      candidates[key(c)] = c\n",
      "    end\n",
      "    the_rest = [x[vk] for x in bus.raw_flows[3:]]\n",
      "    for (i,raw_flows) in enumerate(the_rest)\n",
      "      pairs = _shuffle(product(values(candidates), raw_flows))\n",
      "      candidates = Dict()\n",
      "      for (candidate, next_bus) in pairs\n",
      "        n += 1\n",
      "        new = add(candidate, i+2, [next_bus...])\n",
      "        candidates[key(new)] = new\n",
      "      end\n",
      "    end\n",
      "    merge!(bus.candidates, candidates)\n",
      "  end\n",
      "  bus.raw_flows = [Dict() for child in bus.children]\n",
      "end;"
     ],
     "language": "python",
     "metadata": {},
     "outputs": [],
     "prompt_number": 200
    },
    {
     "cell_type": "code",
     "collapsed": false,
     "input": [
      "function f3!(bus)\n",
      "  f1(bus)\n",
      "  f2(bus);\n",
      "end;"
     ],
     "language": "python",
     "metadata": {},
     "outputs": [],
     "prompt_number": 200
    },
    {
     "cell_type": "markdown",
     "metadata": {},
     "source": [
      "##Tried and failed optimizations:\n",
      "\n",
      "1. explicitly typing 'candidates' in the inner loop\n",
      "2. giving 'candidates' a sizehint\n",
      "\n",
      "##Haven't tried yet\n",
      "\n",
      "1. Dan's ideas\n",
      "2. instead of a dictionary, use an array. This eliminates hashing, but requires a lot of bookkeeping. (f2 might only have to change in that 'candidates' isn't declared as a Dict() but an array of a particular size)"
     ]
    },
    {
     "cell_type": "markdown",
     "metadata": {},
     "source": [
      "#Test"
     ]
    },
    {
     "cell_type": "markdown",
     "metadata": {},
     "source": [
      "###Baby"
     ]
    },
    {
     "cell_type": "code",
     "collapsed": false,
     "input": [
      "N = 5\n",
      "R1 = 20\n",
      "R2 = 10\n",
      "VRANGE = linspace(.8,1.2,N);\n",
      "bs = [Bus(d=float(d),name=\"$d\") for d=[1,2,3,1]]\n",
      "b0 = Bus(children=bs);"
     ],
     "language": "python",
     "metadata": {},
     "outputs": []
    },
    {
     "cell_type": "code",
     "collapsed": false,
     "input": [
      "tic()\n",
      "n = 0\n",
      "for b in bs\n",
      "  f3!(b)\n",
      "end\n",
      "f3!(b0); \n",
      "println(length(b0.candidates))\n",
      "println(n)\n",
      "toc();"
     ],
     "language": "python",
     "metadata": {},
     "outputs": [
      {
       "output_type": "stream",
       "stream": "stdout",
       "text": [
        "23\n"
       ]
      },
      {
       "output_type": "stream",
       "stream": "stdout",
       "text": [
        "107\n",
        "elapsed time: 1.277392558 seconds\n"
       ]
      }
     ]
    },
    {
     "cell_type": "code",
     "collapsed": false,
     "input": [
      "pretty(b0, collect(values(b0.candidates)))"
     ],
     "language": "python",
     "metadata": {},
     "outputs": [
      {
       "ename": "LoadError",
       "evalue": "pretty not defined\nat In[1]:1",
       "output_type": "pyerr",
       "traceback": [
        "pretty not defined\nat In[1]:1"
       ]
      }
     ],
     "prompt_number": 1
    },
    {
     "cell_type": "markdown",
     "metadata": {},
     "source": [
      "###Pathological"
     ]
    },
    {
     "cell_type": "code",
     "collapsed": false,
     "input": [
      "N = 21\n",
      "R1 = 200\n",
      "R2 = 100\n",
      "VRANGE = linspace(.8,1.2,N);\n",
      "bs = [Bus(d=float(d),name=\"$d\") for d=[1,2,3,1,2,3,1,2,3]]\n",
      "b0 = Bus(children=bs);"
     ],
     "language": "python",
     "metadata": {},
     "outputs": [],
     "prompt_number": 1
    },
    {
     "cell_type": "code",
     "collapsed": false,
     "input": [
      "tic()\n",
      "n = 0\n",
      "for b in bs\n",
      "  f3!(b)\n",
      "end\n",
      "f3!(b0); \n",
      "#@profile f2(b0);\n",
      "println(length(b0.candidates))\n",
      "println(n)\n",
      "#Profile.print(format=:flat)\n",
      "#Profile.print()\n",
      "toc();"
     ],
     "language": "python",
     "metadata": {},
     "outputs": [
      {
       "output_type": "stream",
       "stream": "stdout",
       "text": [
        "1841"
       ]
      },
      {
       "output_type": "stream",
       "stream": "stdout",
       "text": [
        "\n",
        "102180\n",
        "elapsed time: 0.652940066 seconds\n"
       ]
      }
     ],
     "prompt_number": 1
    },
    {
     "cell_type": "markdown",
     "metadata": {},
     "source": [
      "### Classic 5-bus case"
     ]
    },
    {
     "cell_type": "code",
     "collapsed": false,
     "input": [
      "N = 21\n",
      "R1 = 200\n",
      "R2 = 100\n",
      "N = 5\n",
      "R1 = 20\n",
      "R2 = 10\n",
      "VRANGE = linspace(.8,1.2,N);\n",
      "b4 = Bus(d=1.2,name=\"4\")\n",
      "b3 = Bus(d=1.2,name=\"3\")\n",
      "b2 = Bus(d=1.2,name=\"2\",children=[b3,b4])\n",
      "b1 = Bus(d=1.2,name=\"1\")\n",
      "b0 = Bus(children=[b1,b2]);"
     ],
     "language": "python",
     "metadata": {},
     "outputs": [],
     "prompt_number": 210
    },
    {
     "cell_type": "code",
     "collapsed": false,
     "input": [
      "tic()\n",
      "for b in [b4,b3,b2,b1,b0]\n",
      "  f3!(b)\n",
      "end\n",
      "println(length(b0.candidates))\n",
      "println(n)\n",
      "toc();"
     ],
     "language": "python",
     "metadata": {},
     "outputs": [
      {
       "output_type": "stream",
       "stream": "stdout",
       "text": [
        "34\n"
       ]
      },
      {
       "output_type": "stream",
       "stream": "stdout",
       "text": [
        "0\n",
        "elapsed time: 0.097534111 seconds\n"
       ]
      }
     ],
     "prompt_number": 210
    },
    {
     "cell_type": "markdown",
     "metadata": {},
     "source": [
      "#Pretty"
     ]
    },
    {
     "cell_type": "code",
     "collapsed": false,
     "input": [
      "function pretty(bus, candidates, limit=5)\n",
      "  name = bus.name\n",
      "  @printf \"%5s %5s \" \"p$name\" \"v$name\"\n",
      "  for child in bus.children\n",
      "    cname = child.name\n",
      "    both = @sprintf \"%s_%s\" name cname\n",
      "    @printf \"%5s %5s %5s \" \"p$both\" \"v$cname\" \"p$cname\"\n",
      "  end\n",
      "  println()\n",
      "  \n",
      "  for candidate in candidates[1:limit]\n",
      "    @printf \"%5.2f \" candidate.p\n",
      "    @printf \"%5.2f \" candidate.v\n",
      "    for i = 1:candidate.n\n",
      "      child = candidate.children[:,i]\n",
      "      @printf \"%5.2f %5.2f %5.2f \" child[1] child[2] child[3]\n",
      "    end\n",
      "  println()\n",
      "  end\n",
      "end;"
     ],
     "language": "python",
     "metadata": {},
     "outputs": [],
     "prompt_number": 206
    },
    {
     "cell_type": "code",
     "collapsed": false,
     "input": [
      "function dump(bus) # to csv, for python comparison\n",
      "  m = length(bus.candidates)\n",
      "  n = 2 + 3*length(bus.children)\n",
      "  A = Array(Float64, m, n)\n",
      "  for (i,candidate) in enumerate(values(bus.candidates))\n",
      "    A[i,1] = candidate.p\n",
      "    A[i,2] = candidate.v\n",
      "    for j = 1:candidate.n\n",
      "      child = candidate.children[:,j]\n",
      "      A[i,3+3*(j-1)] = child[1]\n",
      "      A[i,4+3*(j-1)] = child[2]\n",
      "      A[i,5+3*(j-1)] = child[3]\n",
      "    end\n",
      "  end\n",
      "  writecsv(\"julia.csv\", A)\n",
      "end;"
     ],
     "language": "python",
     "metadata": {},
     "outputs": []
    },
    {
     "cell_type": "raw",
     "metadata": {},
     "source": [
      "dump(b0)"
     ]
    },
    {
     "cell_type": "code",
     "collapsed": false,
     "input": [
      "pretty(b0, sort(collect(values(b0.candidates))))"
     ],
     "language": "python",
     "metadata": {},
     "outputs": [
      {
       "output_type": "stream",
       "stream": "stdout",
       "text": [
        "  "
       ]
      },
      {
       "output_type": "stream",
       "stream": "stdout",
       "text": [
        " p0    v0  p0_1    v1    p1  p0_2    v2    p2 \n",
        " 4.93  1.20  1.21  1.20  1.20  3.72  1.20  3.62 \n",
        " 4.97  1.10  1.22  1.20  1.20  3.74  1.20  3.62 \n",
        " 5.02  1.20  1.21  1.20  1.20  3.81  1.00  3.67 \n",
        " 5.03  0.90  1.22  0.90  1.20  3.81  1.00  3.63 \n",
        " 5.04  1.00  1.23  1.10  1.20  3.81  1.00  3.67 \n"
       ]
      }
     ],
     "prompt_number": 201
    },
    {
     "cell_type": "code",
     "collapsed": false,
     "input": [
      "pretty(b2, sort(collect(values(b2.candidates))))"
     ],
     "language": "python",
     "metadata": {},
     "outputs": [
      {
       "output_type": "stream",
       "stream": "stdout",
       "text": [
        "  "
       ]
      },
      {
       "output_type": "stream",
       "stream": "stdout",
       "text": [
        " p2    v2  p2_3    v3    p3  p2_4    v4    p4 \n",
        " 2.42  1.20  1.21  1.20  1.20  1.21  1.20  1.20 \n",
        " 2.43  1.00  1.21  1.00  1.20  1.21  1.00  1.20 \n",
        " 2.44  1.10  1.22  1.20  1.20  1.21  1.10  1.20 \n",
        " 2.44  0.90  1.22  0.90  1.20  1.22  0.90  1.20 \n",
        " 2.45  0.80  1.22  0.80  1.20  1.22  0.80  1.20 \n"
       ]
      }
     ],
     "prompt_number": 202
    },
    {
     "cell_type": "markdown",
     "metadata": {},
     "source": [
      "#Check"
     ]
    },
    {
     "cell_type": "code",
     "collapsed": false,
     "input": [
      "function check_candidate(bus, candidate)\n",
      "  function check_child(i)\n",
      "    child = candidate.children[:,i]\n",
      "    g = bus.children[i].g\n",
      "    b = bus.children[i].b\n",
      "    vk = candidate.v\n",
      "    pkm, vm, d = child;\n",
      "    pkm2, \u03b8 = pk_\u03b8(g=g, b=b, vk=vk,vm=vm,pm=-d)\n",
      "    check(g=g, b=b, pk=pkm, vk=vk, pm=-d, vm=vm, \u03b8=\u03b8)\n",
      "  end\n",
      "  candidate.n == 0 ? 0 : maximum(map(check_child, 1:candidate.n))\n",
      "end\n",
      "function check_bus(bus)\n",
      "  cc(x) = check_candidate(bus, x)\n",
      "  maximum(map(cc, values(bus.candidates)))\n",
      "end\n",
      "function check_all(bus_list)\n",
      "  maximum(map(check_bus, bus_list))\n",
      "end;"
     ],
     "language": "python",
     "metadata": {},
     "outputs": [],
     "prompt_number": 224
    },
    {
     "cell_type": "code",
     "collapsed": false,
     "input": [
      "bus_list = [b0,b1,b2,b3,b4];\n",
      "tic()\n",
      "println(check_all(bus_list))\n",
      "toc();"
     ],
     "language": "python",
     "metadata": {},
     "outputs": [
      {
       "output_type": "stream",
       "stream": "stdout",
       "text": [
        "2."
       ]
      },
      {
       "output_type": "stream",
       "stream": "stdout",
       "text": [
        "8413744396637723e-14\n",
        "elapsed time: 0.060372304 seconds\n"
       ]
      }
     ],
     "prompt_number": 224
    },
    {
     "cell_type": "markdown",
     "metadata": {},
     "source": [
      "#Recover full solution\n",
      "\n",
      "input: a candidate solution at the bus\n",
      "output: corresponding flows and voltages from all buses"
     ]
    },
    {
     "cell_type": "code",
     "collapsed": false,
     "input": [
      "function print_full_solution(candidate, root)\n",
      "  # breadth first search the tree, finding the correct (p,v) at each child\n",
      "  # from the candidate of the parent\n",
      "  @printf \"%5s %5.3f %5.3f\\n\" root candidate.p candidate.v\n",
      "  q = [(candidate,root)];\n",
      "  while length(q) > 0\n",
      "    c,b = pop!(q)\n",
      "    for i=1:c.n\n",
      "      child = b.children[i]\n",
      "      d = child.d\n",
      "      p1,v,p2 = c.children[:,i]\n",
      "      candidate = child.candidates[key(p2-d,v)]\n",
      "      unshift!(q, (candidate, child))\n",
      "      @printf \"%5s %5.3f %5.3f %5.3f\\n\" child p1 v p2\n",
      "    end\n",
      "  end\n",
      "end;"
     ],
     "language": "python",
     "metadata": {},
     "outputs": [],
     "prompt_number": 64
    },
    {
     "cell_type": "code",
     "collapsed": false,
     "input": [
      "c = first(b0.candidates)[2]\n",
      "print_full_solution(c, b0)"
     ],
     "language": "python",
     "metadata": {},
     "outputs": [
      {
       "output_type": "stream",
       "stream": "stdout",
       "text": [
        " bus0"
       ]
      },
      {
       "output_type": "stream",
       "stream": "stdout",
       "text": [
        " 5.024 1.200\n",
        " bus1 1.210 1.200 1.200\n",
        " bus2 3.814 1.000 3.668\n",
        " bus3 1.215 1.000 1.200\n",
        " bus4 1.254 0.800 1.200\n"
       ]
      }
     ],
     "prompt_number": 70
    },
    {
     "cell_type": "code",
     "collapsed": true,
     "input": [
      "for (i,c) in enumerate(values(b0.candidates))\n",
      "  println(i)\n",
      "  print_full_solution(c, b0)\n",
      "  println()\n",
      "end"
     ],
     "language": "python",
     "metadata": {},
     "outputs": [
      {
       "output_type": "stream",
       "stream": "stdout",
       "text": [
        "1\n"
       ]
      },
      {
       "output_type": "stream",
       "stream": "stdout",
       "text": [
        " bus0 5.024 1.200\n",
        " bus1 1.210 1.200 1.200\n",
        " bus2 3.814 1.000 3.668\n",
        " bus3 1.215 1.000 1.200\n",
        " bus4 1.254 0.800 1.200\n",
        "\n",
        "2\n",
        " bus0 5.258 0.800\n",
        " bus1 1.390 1.200 1.200\n",
        " bus2 3.868 0.900 3.636\n",
        " bus3 1.218 0.900 1.200\n",
        " bus4 1.218 0.900 1.200\n",
        "\n",
        "3\n",
        " bus0 5.188 0.800\n",
        " bus1 1.223 0.800 1.200\n",
        " bus2 3.965 0.900 3.722\n",
        " bus3 1.261 1.100 1.200\n",
        " bus4 1.261 1.100 1.200\n",
        "\n",
        "4\n",
        " bus0 5.423 1.200\n",
        " bus1 1.210 1.200 1.200\n",
        " bus2 4.212 0.800 3.907\n",
        " bus3 1.317 1.100 1.200\n",
        " bus4 1.390 1.200 1.200\n",
        "\n",
        "5\n",
        " bus0 5.600 0.800\n",
        " bus1 1.317 1.100 1.200\n",
        " bus2 4.283 0.800 3.980\n",
        " bus3 1.390 1.200 1.200\n",
        " bus4 1.390 1.200 1.200\n",
        "\n",
        "6\n",
        " bus0 5.284 0.900\n",
        " bus1 1.313 1.200 1.200\n",
        " bus2 3.971 0.900 3.774\n",
        " bus3 1.313 1.200 1.200\n",
        " bus4 1.261 1.100 1.200\n",
        "\n",
        "7\n",
        " bus0 5.178 1.100\n",
        " bus1 1.223 1.200 1.200\n",
        " bus2 3.954 0.900 3.774\n",
        " bus3 1.313 1.200 1.200\n",
        " bus4 1.261 1.100 1.200\n",
        "\n",
        "8\n",
        " bus0 5.454 0.900\n",
        " bus1 1.218 0.900 1.200\n",
        " bus2 4.236 0.800 3.980\n",
        " bus3 1.390 1.200 1.200\n",
        " bus4 1.390 1.200 1.200\n",
        "\n",
        "9\n",
        " bus0 5.416 1.100\n",
        " bus1 1.251 0.900 1.200\n",
        " bus2 4.165 0.800 3.907\n",
        " bus3 1.317 1.100 1.200\n",
        " bus4 1.390 1.200 1.200\n",
        "\n",
        "10\n",
        " bus0 5.039 1.000\n",
        " bus1 1.226 1.100 1.200\n",
        " bus2 3.814 1.000 3.668\n",
        " bus3 1.215 1.000 1.200\n",
        " bus4 1.254 0.800 1.200\n",
        "\n",
        "11\n",
        " bus0 5.673 0.800\n",
        " bus1 1.390 1.200 1.200\n",
        " bus2 4.283 0.800 3.980\n",
        " bus3 1.390 1.200 1.200\n",
        " bus4 1.390 1.200 1.200\n",
        "\n",
        "12\n",
        " bus0 5.057 0.900\n",
        " bus1 1.218 0.900 1.200\n",
        " bus2 3.839 1.100 3.635\n",
        " bus3 1.223 1.200 1.200\n",
        " bus4 1.212 1.100 1.200\n",
        "\n",
        "13\n",
        " bus0 5.027 0.900\n",
        " bus1 1.218 0.900 1.200\n",
        " bus2 3.809 1.000 3.629\n",
        " bus3 1.215 1.000 1.200\n",
        " bus4 1.215 1.000 1.200\n",
        "\n",
        "14\n",
        " bus0 5.062 1.200\n",
        " bus1 1.248 1.000 1.200\n",
        " bus2 3.814 1.000 3.668\n",
        " bus3 1.215 1.000 1.200\n",
        " bus4 1.254 0.800 1.200\n",
        "\n",
        "15\n",
        " bus0 5.347 1.000\n",
        " bus1 1.215 1.000 1.200\n",
        " bus2 4.132 1.200 3.936\n",
        " bus3 1.368 0.800 1.200\n",
        " bus4 1.368 0.800 1.200\n",
        "\n",
        "16\n",
        " bus0 5.175 1.000\n",
        " bus1 1.226 1.100 1.200\n",
        " bus2 3.949 0.900 3.774\n",
        " bus3 1.313 1.200 1.200\n",
        " bus4 1.261 1.100 1.200\n",
        "\n",
        "17\n",
        " bus0 5.102 0.800\n",
        " bus1 1.234 0.900 1.200\n",
        " bus2 3.868 0.900 3.636\n",
        " bus3 1.218 0.900 1.200\n",
        " bus4 1.218 0.900 1.200\n",
        "\n",
        "18\n",
        " bus0 5.221 1.200\n",
        " bus1 1.298 0.900 1.200\n",
        " bus2 3.923 1.200 3.817\n",
        " bus3 1.368 0.800 1.200\n",
        " bus4 1.248 1.000 1.200\n",
        "\n",
        "19\n",
        " bus0 5.118 1.000\n",
        " bus1 1.226 1.100 1.200\n",
        " bus2 3.892 0.900 3.722\n",
        " bus3 1.261 1.100 1.200\n",
        " bus4 1.261 1.100 1.200\n",
        "\n",
        "20\n",
        " bus0 5.502 1.200\n",
        " bus1 1.210 1.200 1.200\n",
        " bus2 4.292 0.800 3.980\n",
        " bus3 1.390 1.200 1.200\n",
        " bus4 1.390 1.200 1.200\n",
        "\n",
        "21\n",
        " bus0 5.590 1.200\n",
        " bus1 1.298 0.900 1.200\n",
        " bus2 4.292 0.800 3.980\n",
        " bus3 1.390 1.200 1.200\n",
        " bus4 1.390 1.200 1.200\n",
        "\n",
        "22\n",
        " bus0 5.283 1.200\n",
        " bus1 1.298 0.900 1.200\n",
        " bus2 3.985 0.900 3.774\n",
        " bus3 1.313 1.200 1.200\n",
        " bus4 1.261 1.100 1.200\n",
        "\n",
        "23\n",
        " bus0 5.660 1.200\n",
        " bus1 1.368 0.800 1.200\n",
        " bus2 4.292 0.800 3.980\n",
        " bus3 1.390 1.200 1.200\n",
        " bus4 1.390 1.200 1.200\n",
        "\n",
        "24\n",
        " bus0 5.546 1.100\n",
        " bus1 1.301 0.800 1.200\n",
        " bus2 4.246 0.800 3.980\n",
        " bus3 1.390 1.200 1.200\n",
        " bus4 1.390 1.200 1.200\n",
        "\n",
        "25\n",
        " bus0 5.506 0.800\n",
        " bus1 1.223 0.800 1.200\n",
        " bus2 4.283 0.800 3.980\n",
        " bus3 1.390 1.200 1.200\n",
        " bus4 1.390 1.200 1.200\n",
        "\n",
        "26\n",
        " bus0 4.965 1.100\n",
        " bus1 1.223 1.200 1.200\n",
        " bus2 3.742 1.200 3.620\n",
        " bus3 1.210 1.200 1.200\n",
        " bus4 1.210 1.200 1.200\n",
        "\n",
        "27\n",
        " bus0 5.414 0.900\n",
        " bus1 1.261 1.100 1.200\n",
        " bus2 4.153 0.800 3.907\n",
        " bus3 1.317 1.100 1.200\n",
        " bus4 1.390 1.200 1.200\n",
        "\n",
        "28\n",
        " bus0 4.925 1.200\n",
        " bus1 1.210 1.200 1.200\n",
        " bus2 3.715 1.200 3.620\n",
        " bus3 1.210 1.200 1.200\n",
        " bus4 1.210 1.200 1.200\n",
        "\n",
        "29\n",
        " bus0 5.173 0.900\n",
        " bus1 1.261 1.100 1.200\n",
        " bus2 3.913 0.900 3.722\n",
        " bus3 1.261 1.100 1.200\n",
        " bus4 1.261 1.100 1.200\n",
        "\n",
        "30\n",
        " bus0 5.452 1.000\n",
        " bus1 1.226 1.100 1.200\n",
        " bus2 4.226 0.800 3.980\n",
        " bus3 1.390 1.200 1.200\n",
        " bus4 1.390 1.200 1.200\n",
        "\n",
        "31\n",
        " bus0 5.302 1.100\n",
        " bus1 1.223 1.200 1.200\n",
        " bus2 4.078 1.200 3.936\n",
        " bus3 1.368 0.800 1.200\n",
        " bus4 1.368 0.800 1.200\n",
        "\n",
        "32\n",
        " bus0 5.149 1.100\n",
        " bus1 1.251 0.900 1.200\n",
        " bus2 3.898 0.900 3.722\n",
        " bus3 1.261 1.100 1.200\n",
        " bus4 1.261 1.100 1.200\n",
        "\n",
        "33\n",
        " bus0 5.406 0.800\n",
        " bus1 1.390 1.200 1.200\n",
        " bus2 4.016 1.200 3.659\n",
        " bus3 1.210 1.200 1.200\n",
        " bus4 1.248 1.000 1.200\n",
        "\n",
        "34\n",
        " bus0 5.358 1.000\n",
        " bus1 1.226 1.100 1.200\n",
        " bus2 4.132 1.200 3.936\n",
        " bus3 1.368 0.800 1.200\n",
        " bus4 1.368 0.800 1.200\n",
        "\n"
       ]
      }
     ],
     "prompt_number": 71
    },
    {
     "cell_type": "markdown",
     "metadata": {},
     "source": [
      "#Parse matpower file\n",
      "\n",
      "Would be nice to identify and split up any cycles as a preprocessing step... find an arbitrary spanning tree"
     ]
    },
    {
     "cell_type": "code",
     "collapsed": false,
     "input": [
      "function parse_matpower(casefile)\n",
      "  # assumes the buses are numbered in order from 1 to n and 1 is the root\n",
      "  # can relax later if needed\n",
      "  lines = open(readlines, casefile)\n",
      "  i = 1\n",
      "  while ~ismatch(r\"mpc.bus = \\[\", lines[i]) i += 1 end\n",
      "  i += 1\n",
      "  demands = Float64[]\n",
      "  while ~ismatch(r\"\\];\", lines[i])\n",
      "    m = match(r\"(\\d+)\\s+\\d\\s+([\\d\\.]+)\", lines[i])\n",
      "    bus, d = m.captures\n",
      "    bus = parse_int(bus) # unused, might want it later though\n",
      "    d = parse_float(d)\n",
      "    push!(demands, d)\n",
      "    i += 1\n",
      "  end\n",
      "  i += 1\n",
      "  while ~ismatch(r\"mpc.branch = \\[\", lines[i]) i += 1 end\n",
      "  i += 1\n",
      "  admittances = {1=>()}\n",
      "  children = [i=>Int[] for i=1:length(demands)]\n",
      "  while ~ismatch(r\"\\];\", lines[i])\n",
      "    m = match(r\"(\\d+)\\s+(\\d+)\\s+([\\d\\.]+)\\s+([\\d\\.]+)\", lines[i])\n",
      "    fbus, tbus, r, x = m.captures\n",
      "    fbus, tbus = parse_int(fbus), parse_int(tbus)\n",
      "    if fbus > tbus\n",
      "      fbus, tbus = tbus, fbus\n",
      "    end\n",
      "    r, x = parse_float(r), parse_float(x)\n",
      "    g, b = r/(r^2+x^2), -x/(r^2+x^2)\n",
      "    admittances[tbus] = (fbus,g,b)\n",
      "    push!(children[fbus], tbus)\n",
      "    i += 1\n",
      "  end\n",
      "  demands, admittances, children\n",
      "end;"
     ],
     "language": "python",
     "metadata": {},
     "outputs": [],
     "prompt_number": 170
    },
    {
     "cell_type": "code",
     "collapsed": false,
     "input": [
      "#casefile = \"case14_tree.m\"\n",
      "casefile = \"case_G5L.m\"\n",
      "d, a, c = parse_matpower(casefile);"
     ],
     "language": "python",
     "metadata": {},
     "outputs": [],
     "prompt_number": 196
    },
    {
     "cell_type": "code",
     "collapsed": false,
     "input": [
      "function assemble_buses(demands, admittances, children)\n",
      "  # assumes children are always numbered higher than parents\n",
      "  buses = Array(Bus, length(demands))\n",
      "  for i=length(demands):-1:2\n",
      "    d = demands[i]\n",
      "    name = \"$i\"\n",
      "    g, b = admittances[i][2], admittances[i][3]\n",
      "    c = [buses[j] for j in children[i]]\n",
      "    buses[i] = Bus(d=d, name=name, children=c, g=g, b=b)\n",
      "  end\n",
      "  d = demands[1]\n",
      "  c = [buses[j] for j in children[1]]\n",
      "  buses[1] = Bus(d=d, name=\"1\", children=c)\n",
      "  buses\n",
      "end;"
     ],
     "language": "python",
     "metadata": {},
     "outputs": [],
     "prompt_number": 197
    },
    {
     "cell_type": "code",
     "collapsed": false,
     "input": [
      "function run_algo(buses)\n",
      "  for i=length(buses):-1:1\n",
      "    f3!(buses[i])\n",
      "  end\n",
      "end;"
     ],
     "language": "python",
     "metadata": {},
     "outputs": [],
     "prompt_number": 232
    },
    {
     "cell_type": "code",
     "collapsed": false,
     "input": [
      "buses = assemble_buses(d, a, c)\n",
      "run_algo(buses);"
     ],
     "language": "python",
     "metadata": {},
     "outputs": [],
     "prompt_number": 229
    },
    {
     "cell_type": "code",
     "collapsed": false,
     "input": [
      "b1 = buses[1]\n",
      "candidates = collect(values(b1.candidates))\n",
      "c1 = candidates[1]\n",
      "pretty(b1, candidates)"
     ],
     "language": "python",
     "metadata": {},
     "outputs": [
      {
       "output_type": "stream",
       "stream": "stdout",
       "text": [
        "  "
       ]
      },
      {
       "output_type": "stream",
       "stream": "stdout",
       "text": [
        " p1    v1  p1_2    v2    p2  p1_3    v3    p3 \n",
        " 4.20  1.20  1.05  1.00  1.00  3.16  1.20  3.09 \n",
        " 4.13  1.10  1.02  1.20  1.00  3.11  1.20  3.02 \n",
        " 4.30  1.00  1.02  0.90  1.00  3.29  0.90  3.16 \n",
        " 4.13  1.20  1.05  1.00  1.00  3.09  1.20  3.02 \n",
        " 4.41  1.00  1.02  0.90  1.00  3.39  0.80  3.22 \n"
       ]
      }
     ],
     "prompt_number": 230
    },
    {
     "cell_type": "code",
     "collapsed": false,
     "input": [
      "print_full_solution(c1, b1)"
     ],
     "language": "python",
     "metadata": {},
     "outputs": [
      {
       "output_type": "stream",
       "stream": "stdout",
       "text": [
        " bus1"
       ]
      },
      {
       "output_type": "stream",
       "stream": "stdout",
       "text": [
        " 4.205 1.200\n",
        " bus2 1.045 1.000 1.000\n",
        " bus3 3.159 1.200 3.090\n",
        " bus4 1.045 1.000 1.000\n",
        " bus5 1.045 1.000 1.000\n"
       ]
      }
     ],
     "prompt_number": 231
    },
    {
     "cell_type": "code",
     "collapsed": false,
     "input": [
      "check_all(buses)"
     ],
     "language": "python",
     "metadata": {},
     "outputs": [
      {
       "metadata": {},
       "output_type": "pyout",
       "prompt_number": 232,
       "text": [
        "6.283829785284008e-14"
       ]
      }
     ],
     "prompt_number": 232
    }
   ],
   "metadata": {}
  }
 ]
}