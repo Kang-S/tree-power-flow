{
 "metadata": {
  "name": ""
 },
 "nbformat": 3,
 "nbformat_minor": 0,
 "worksheets": [
  {
   "cells": [
    {
     "cell_type": "markdown",
     "metadata": {},
     "source": [
      "#Intro\n",
      "\n",
      "This is just a brute force enumeration starting at the leaves. It throws out infeasible solutions along the way, but otherwise blows up as expected as you add more nodes. I think the basic ideas in here, combined with the right notion of dynamic programming, should work. I'll work through the simplest non-trivial case, which involves 5 buses.\n",
      "\n",
      "#The Case\n",
      "\n",
      "At the root is a generator, which has two loads as children. One of the loads has two load children as well.\n",
      "\n",
      "    |     G0\n",
      "    |    /  \\\n",
      "    |   L1  L2\n",
      "    |      /  \\\n",
      "    |     L3  L4\n",
      "    \n",
      "The target voltage $\\hat{V_0}$ is 1.0, and each load demands 1.0 units of real power. The range of power outputs at the generator is 4.0 to 5.0. The impedance at each transmission line is $.01 + .1j$, so we have $(g,b)\\approx(.99,-9.9)$.\n",
      "    \n",
      "#Method\n",
      "\n",
      "1. Enumerate $P_{23}$ and $P_{24}$, the power injected by $L_2$ into each branch of its subtree. \n",
      "2. Enumerate $V_2$. Keep only the values which give feasible solutions for $V_3,\\theta_3,V_4,\\theta_4$. We now have a list of candidate values for $V_2$ and $P_2=-d_2+P_{23}+P_{24}$ (the total power injected into the grid at $L_2$).\n",
      "3. Enumerate $V_0$. Keep the values which give a feasible solution for $P_{02}$, the power sent from $G_0$ to $L_2$.\n",
      "4. Enumerate $P_{01}$. Keep the values which give feasible solutions for $(V_1, \\theta_1)$.\n",
      "5. We now have $P_0 = P_{01}+P_{02}$. Choose the pair $(P_0, V_0)$ with $P_0 \\in [4.0, 5.0]$ which minimizes $(V_0-1.0)^2$.\n",
      "\n",
      "###Observation on enumerating power\n",
      "The real power loss between buses $k$ and $m$ is:\n",
      "$$P_{km}+P_{mk} = g_{km}\\left(|V_k|-|V_m|\\right)^2$$\n",
      "Since we're probably only enumerating the $V$s from at worst .5 to 1.5, we can bound this by $g_{km}$. So when were enumerating the power output from node $k$ to node $m$, and the demand at node $m$ is $-P_m$, we can choose values of $P_k$ from between $P_m$ and $P_m+g$."
     ]
    },
    {
     "cell_type": "markdown",
     "metadata": {},
     "source": [
      "#Power equations needed\n",
      "\n",
      "The main power flow equation, in polar coordinates:\n",
      "\n",
      "#####Equation 1 $$ P_k = g(V_k^2-V_k V_m \\cos \\theta_{km}) - b V_k V_m \\sin \\theta_{km} $$\n",
      "\n",
      "We're actually only concerned with the difference in angle, and only that it exists and is real. We don't use the angle between buses $k$ and $m$ anywhere else, so we can set $\\theta_k=0$. In rectangular coordinates, where the complex voltage $V_k e^{\\jmath \\theta_k} = e_k + \\jmath \\hspace{1pt} f_k$, we have $f_k=0$ and this becomes:\n",
      "\n",
      "$$ P_k = g(e_k^2-e_ke_m) + be_kf_m$$\n",
      "$$ P_m = g(e_m^2+f_m^2-e_ke_m) - be_kf_m$$\n",
      "\n",
      "If $(e_k, P_k, P_m)$ are known (steps 2 and 4) we can solve for $(e_m, f_m)$:\n",
      "\n",
      "#####Equation 2\n",
      "\n",
      "$$e_m =  -\\frac{-g \\left(b^2+g^2\\right) e_k^2+g^2 P_k \\pm \\sqrt{b^2 g \\left(-g P_k^2+\\left(b^2+g^2\\right) e_k^2 \\left(P_k+P_m\\right)\\right)}}{g \\left(b^2+g^2\\right) e_k}$$\n",
      "\n",
      "$$f_m = \\frac{b^2 P_k \\pm \\sqrt{b^2 g \\left(-g P_k^2+\\left(b^2+g^2\\right) e_k^2 \\left(P_k+P_m\\right)\\right)}}{b \\left(b^2+g^2\\right) e_k}$$\n",
      "and hence $V_m$ and $\\theta_{km}$. The \"+\" solution ends up actually working.\n",
      "\n",
      "If $(V_k,V_m,P_m)$ are known (step 3) we can solve for $(P_k,\\theta_{km})$:\n",
      "\n",
      "#####Equation 3\n",
      "\n",
      "$$\\theta = -\\cos^{-1}\\left[\\frac{-g P_m+g^2 V_m^2+\\sqrt{b^2 \\left(-P_m^2+\\left(2 g P_m+\\left(b^2+g^2\\right) V_k^2\\right) V_m^2-g^2 V_m^4\\right)}}{\\left(b^2+g^2\\right) V_k V_m}\\right]$$\n",
      "\n",
      "$$P_k = \\frac{\\left(-b^2+g^2\\right) P_m+g^3 \\left(V_k^2-V_m^2\\right)+b^2 g \\left(V_k^2+V_m^2\\right)-2 g \\sqrt{b^2 \\left(-P_m^2+\\left(2 g P_m+\\left(b^2+g^2\\right) V_k^2\\right) V_m^2-g^2 V_m^4\\right)}}{b^2+g^2}$$\n",
      "\n",
      "(there are actually multiple solutions for this too, but this is the one that seems to actually work)"
     ]
    },
    {
     "cell_type": "markdown",
     "metadata": {},
     "source": [
      "#Setting up the computation\n",
      "\n",
      "Moving forward it'd probably be best to organize a lot of this stuff in a class.\n",
      "\n",
      "####Case parameters"
     ]
    },
    {
     "cell_type": "code",
     "collapsed": false,
     "input": [
      "r, x = .01, .1\n",
      "g, b = r/(r**2+x**2), -x/(r**2+x**2)\n",
      "d1, d2, d3, d4 = 1.2, 1.2, 1.2, 1.2\n",
      "v1hat = 1\n",
      "p0min, p0max = 4.8, 6\n",
      "n=21 # number of points to use in each enumeration"
     ],
     "language": "python",
     "metadata": {},
     "outputs": [],
     "prompt_number": 17
    },
    {
     "cell_type": "markdown",
     "metadata": {},
     "source": [
      "####Equations needed"
     ]
    },
    {
     "cell_type": "code",
     "collapsed": false,
     "input": [
      "from __future__ import print_function, division\n",
      "from itertools import product #cartesian product\n",
      "from math import sqrt, cos, sin, atan2\n",
      "\n",
      "def check(b,g,pk,pm,vk,vm,t,tol=1e-4):\n",
      "    ''' equation 1. Used as a sanity check after the solution has been found. '''\n",
      "    t *= pi/180\n",
      "    pk_hat = g*(vk**2-vk*vm*cos(t)) + b*vk*vm*sin(t)\n",
      "    pm_hat = g*(vm**2-vk*vm*cos(t)) - b*vk*vm*sin(t)\n",
      "    err1 = abs((pk_hat-pk)/pk_hat)\n",
      "    err2 = abs((pm_hat-pm)/pm_hat)\n",
      "    return max([err1, err2])\n",
      "def em_fm(b, g, pm, ek, pk):\n",
      "    ''' equation 2 '''\n",
      "    try:\n",
      "        temp = sqrt(g*(-g*pk**2+(b**2+g**2)*ek**2*(pk+pm)))\n",
      "    except ValueError:\n",
      "        return nan, nan\n",
      "    A = g*(b**2+g**2)*ek**2-g**2*pk\n",
      "    B = b*temp\n",
      "    C = g*(b**2+g**2)*ek\n",
      "    em = (A+B)/C \n",
      "    A = b*pk\n",
      "    B = temp\n",
      "    C = (b**2+g**2)*ek\n",
      "    fm = (A+B)/C \n",
      "    return em, fm\n",
      "def vm_t(b, g, pm, ek, pk):\n",
      "    ''' convert equation 2 solution to polar coordinates '''\n",
      "    em, fm = em_fm(b, g, pm, ek, pk)\n",
      "    return sqrt(em**2+fm**2), arctan2(fm, em)\n",
      "def pi_t(g,b,vk,vm,pm):\n",
      "    ''' equation 3 '''\n",
      "    try:\n",
      "        temp = sqrt(b**2*(-pm**2+(2*g*pm+(b**2+g**2)*vk**2)*vm**2-g**2*vm**4))\n",
      "    except ValueError:\n",
      "        return nan, nan\n",
      "    t = -arccos((-g*pm+g**2*vm**2+temp)/((b**2+g**2)*vk*vm))\n",
      "    pk = 1/(b**2+g**2) * ((-b**2+g**2)*pm+g**3*(vk**2-vm**2)+b**2*g*(vk**2+vm**2)-2*g*temp)\n",
      "    return pk, t"
     ],
     "language": "python",
     "metadata": {},
     "outputs": [],
     "prompt_number": 10
    },
    {
     "cell_type": "markdown",
     "metadata": {},
     "source": [
      "#Solve with brute force method\n",
      "\n",
      "####1. Enumerate $P_{23}$ and $P_{24}$, the power injected by $L_2$ into each branch of its subtree. "
     ]
    },
    {
     "cell_type": "code",
     "collapsed": false,
     "input": [
      "p23range = linspace(d3, d3+g, n)\n",
      "p24range = linspace(d4, d4+g, n)"
     ],
     "language": "python",
     "metadata": {},
     "outputs": [],
     "prompt_number": 11
    },
    {
     "cell_type": "markdown",
     "metadata": {},
     "source": [
      "####2. Enumerate $V_2$. Keep only the values which give feasible solutions for $V_3,\\theta_3,V_4,\\theta_4$. We now have a list of candidate values for $V_2$ and $P_2=-d_2+P_{23}+P_{24}$ (the total power injected into the grid at $L_2$)."
     ]
    },
    {
     "cell_type": "code",
     "collapsed": false,
     "input": [
      "#%%timeit\n",
      "v2range = linspace(.75, 1.25, n)\n",
      "def step2(b,g,p23,p24,v2,d3,d4):\n",
      "    v3,t3 = vm_t(b, g, -d3, v2, p23)\n",
      "    v4,t4 = vm_t(b, g, -d4, v2, p24)\n",
      "    d = {'p2':-(d2+p23+p24), 'p23': p23, 'p24': p24, 'v2':v2, 'v3':v3, 't3':180/pi*t3, \n",
      "         'v4':v4, 't4':180/pi*t4}\n",
      "    return d if ~isnan(v3) and ~isnan(v4) else None\n",
      "candidates = [step2(b,g,p23,p24,v2,d3,d4) \n",
      "              for p23,p24,v2 in product(p23range, p24range, v2range)]\n",
      "#print('Enumerated solutions:', len(candidates))\n",
      "candidates = [x for x in candidates if x is not None]\n",
      "print(len(candidates))\n",
      "#print('After filtering out infeasible ones:', len(candidates))\n",
      "#candidates[0]"
     ],
     "language": "python",
     "metadata": {},
     "outputs": [
      {
       "output_type": "stream",
       "stream": "stdout",
       "text": [
        "8400\n"
       ]
      }
     ],
     "prompt_number": 13
    },
    {
     "cell_type": "markdown",
     "metadata": {},
     "source": [
      "####3. Enumerate $V_0$. Keep the values which give a feasible solution for $P_{02}$, the power sent from $G_0$ to $L_2$.\n",
      "\n",
      "It turns out this step is unnecessary since $V_0=\\hat{V_0}=1$ produces a lot of feasible solutions."
     ]
    },
    {
     "cell_type": "code",
     "collapsed": false,
     "input": [
      "#%%time\n",
      "v0range = [1] # for this case, it isn't necessary to even enumerate V0\n",
      "def step3(v0,d):\n",
      "    v2,p2 = d['v2'], d['p2']\n",
      "    p02, t2 = pi_t(g,b,v0,v2,p2)\n",
      "    d['v0'] = v0\n",
      "    d['p02'] = p02\n",
      "    d['t2'] = 180/pi*t2\n",
      "    return d if ~isnan(p02) else None\n",
      "candidates = [step3(v0,d.copy()) for v0, d in product(v0range, candidates)]\n",
      "#print('Enumerated solutions:', len(candidates))\n",
      "candidates = [x for x in candidates if x is not None]\n",
      "print(len(candidates))\n",
      "#print('After filtering out infeasible ones:', len(candidates))\n",
      "#candidates[0]"
     ],
     "language": "python",
     "metadata": {},
     "outputs": [
      {
       "output_type": "stream",
       "stream": "stdout",
       "text": [
        "8400\n"
       ]
      }
     ],
     "prompt_number": 14
    },
    {
     "cell_type": "markdown",
     "metadata": {},
     "source": [
      "####4. Enumerate $P_{01}$. Keep the values which give feasible solutions for $(V_1, \\theta_1)$."
     ]
    },
    {
     "cell_type": "code",
     "collapsed": false,
     "input": [
      "#%%time\n",
      "p01range = linspace(d1, d1+g, n)\n",
      "def step4(p01, d):\n",
      "    v1,t1 = vm_t(b, g, -d1, d['v0'], p01)\n",
      "    d['v1'] = v1\n",
      "    d['t1'] = 180/pi*t1\n",
      "    d['p01'] = p01\n",
      "    d['p0'] = p01 + d['p02']\n",
      "    return d if ~isnan(v1) else None\n",
      "candidates = [step4(p01, d.copy()) for p01, d in product(p01range, candidates)]\n",
      "#print('Enumerated solutions:', len(candidates))\n",
      "candidates = [x for x in candidates if x is not None]\n",
      "len(candidates)\n",
      "#print('After filtering out infeasible ones:', len(candidates))\n",
      "#candidates[0]"
     ],
     "language": "python",
     "metadata": {},
     "outputs": [
      {
       "metadata": {},
       "output_type": "pyout",
       "prompt_number": 15,
       "text": [
        "168000"
       ]
      }
     ],
     "prompt_number": 15
    },
    {
     "cell_type": "markdown",
     "metadata": {},
     "source": [
      "####5. We now have $P_0 = P_{01}+P_{02}$. Choose the pair $(P_0, V_0)$ with $P_0 \\in [4.0, 5.0]$ which minimizes $(V_0-1.0)^2$.\n",
      "\n",
      "Again, since we only considered $V_0=1$ all feasible solutions are optimal."
     ]
    },
    {
     "cell_type": "code",
     "collapsed": false,
     "input": [
      "%%time\n",
      "solutions = [x for x in candidates if p0min <= x['p0'] <= p0max]\n",
      "print(len(solutions))\n",
      "#print('Total optimal solutions:', len(solutions))"
     ],
     "language": "python",
     "metadata": {},
     "outputs": [
      {
       "output_type": "stream",
       "stream": "stdout",
       "text": [
        "20709\n",
        "CPU times: user 329 ms, sys: 67.1 ms, total: 396 ms\n",
        "Wall time: 343 ms\n"
       ]
      }
     ],
     "prompt_number": 18
    },
    {
     "cell_type": "markdown",
     "metadata": {},
     "source": [
      "##Some solutions"
     ]
    },
    {
     "cell_type": "code",
     "collapsed": false,
     "input": [
      "from pandas import DataFrame\n",
      "from IPython.display import HTML\n",
      "df = DataFrame(solutions).sort(columns='p0', ascending=True).head(10)\n",
      "HTML(df.to_html(float_format=lambda x: '%.3f' % x))"
     ],
     "language": "python",
     "metadata": {},
     "outputs": [
      {
       "html": [
        "<table border=\"1\" class=\"dataframe\">\n",
        "  <thead>\n",
        "    <tr style=\"text-align: right;\">\n",
        "      <th></th>\n",
        "      <th>p0</th>\n",
        "      <th>p01</th>\n",
        "      <th>p02</th>\n",
        "      <th>p2</th>\n",
        "      <th>p23</th>\n",
        "      <th>p24</th>\n",
        "      <th>t1</th>\n",
        "      <th>t2</th>\n",
        "      <th>t3</th>\n",
        "      <th>t4</th>\n",
        "      <th>v0</th>\n",
        "      <th>v1</th>\n",
        "      <th>v2</th>\n",
        "      <th>v3</th>\n",
        "      <th>v4</th>\n",
        "    </tr>\n",
        "  </thead>\n",
        "  <tbody>\n",
        "    <tr>\n",
        "      <th>11</th>\n",
        "      <td>5.097</td>\n",
        "      <td>1.250</td>\n",
        "      <td>3.847</td>\n",
        "      <td>-3.699</td>\n",
        "      <td>1.250</td>\n",
        "      <td>1.250</td>\n",
        "      <td>-7.554</td>\n",
        "      <td>-21.978</td>\n",
        "      <td>-7.122</td>\n",
        "      <td>-7.122</td>\n",
        "      <td> 1</td>\n",
        "      <td>0.810</td>\n",
        "      <td>1.025</td>\n",
        "      <td>0.833</td>\n",
        "      <td>0.833</td>\n",
        "    </tr>\n",
        "    <tr>\n",
        "      <th>12</th>\n",
        "      <td>5.097</td>\n",
        "      <td>1.250</td>\n",
        "      <td>3.847</td>\n",
        "      <td>-3.699</td>\n",
        "      <td>1.250</td>\n",
        "      <td>1.250</td>\n",
        "      <td>-7.554</td>\n",
        "      <td>-21.581</td>\n",
        "      <td>-6.722</td>\n",
        "      <td>-6.722</td>\n",
        "      <td> 1</td>\n",
        "      <td>0.810</td>\n",
        "      <td>1.050</td>\n",
        "      <td>0.856</td>\n",
        "      <td>0.856</td>\n",
        "    </tr>\n",
        "    <tr>\n",
        "      <th>10</th>\n",
        "      <td>5.098</td>\n",
        "      <td>1.250</td>\n",
        "      <td>3.848</td>\n",
        "      <td>-3.699</td>\n",
        "      <td>1.250</td>\n",
        "      <td>1.250</td>\n",
        "      <td>-7.554</td>\n",
        "      <td>-22.405</td>\n",
        "      <td>-7.554</td>\n",
        "      <td>-7.554</td>\n",
        "      <td> 1</td>\n",
        "      <td>0.810</td>\n",
        "      <td>1.000</td>\n",
        "      <td>0.810</td>\n",
        "      <td>0.810</td>\n",
        "    </tr>\n",
        "    <tr>\n",
        "      <th>13</th>\n",
        "      <td>5.098</td>\n",
        "      <td>1.250</td>\n",
        "      <td>3.849</td>\n",
        "      <td>-3.699</td>\n",
        "      <td>1.250</td>\n",
        "      <td>1.250</td>\n",
        "      <td>-7.554</td>\n",
        "      <td>-21.211</td>\n",
        "      <td>-6.352</td>\n",
        "      <td>-6.352</td>\n",
        "      <td> 1</td>\n",
        "      <td>0.810</td>\n",
        "      <td>1.075</td>\n",
        "      <td>0.879</td>\n",
        "      <td>0.879</td>\n",
        "    </tr>\n",
        "    <tr>\n",
        "      <th>9 </th>\n",
        "      <td>5.101</td>\n",
        "      <td>1.250</td>\n",
        "      <td>3.851</td>\n",
        "      <td>-3.699</td>\n",
        "      <td>1.250</td>\n",
        "      <td>1.250</td>\n",
        "      <td>-7.554</td>\n",
        "      <td>-22.863</td>\n",
        "      <td>-8.022</td>\n",
        "      <td>-8.022</td>\n",
        "      <td> 1</td>\n",
        "      <td>0.810</td>\n",
        "      <td>0.975</td>\n",
        "      <td>0.788</td>\n",
        "      <td>0.788</td>\n",
        "    </tr>\n",
        "    <tr>\n",
        "      <th>14</th>\n",
        "      <td>5.101</td>\n",
        "      <td>1.250</td>\n",
        "      <td>3.852</td>\n",
        "      <td>-3.699</td>\n",
        "      <td>1.250</td>\n",
        "      <td>1.250</td>\n",
        "      <td>-7.554</td>\n",
        "      <td>-20.867</td>\n",
        "      <td>-6.009</td>\n",
        "      <td>-6.009</td>\n",
        "      <td> 1</td>\n",
        "      <td>0.810</td>\n",
        "      <td>1.100</td>\n",
        "      <td>0.902</td>\n",
        "      <td>0.902</td>\n",
        "    </tr>\n",
        "    <tr>\n",
        "      <th>8 </th>\n",
        "      <td>5.105</td>\n",
        "      <td>1.250</td>\n",
        "      <td>3.856</td>\n",
        "      <td>-3.699</td>\n",
        "      <td>1.250</td>\n",
        "      <td>1.250</td>\n",
        "      <td>-7.554</td>\n",
        "      <td>-23.357</td>\n",
        "      <td>-8.529</td>\n",
        "      <td>-8.529</td>\n",
        "      <td> 1</td>\n",
        "      <td>0.810</td>\n",
        "      <td>0.950</td>\n",
        "      <td>0.766</td>\n",
        "      <td>0.766</td>\n",
        "    </tr>\n",
        "    <tr>\n",
        "      <th>15</th>\n",
        "      <td>5.106</td>\n",
        "      <td>1.250</td>\n",
        "      <td>3.856</td>\n",
        "      <td>-3.699</td>\n",
        "      <td>1.250</td>\n",
        "      <td>1.250</td>\n",
        "      <td>-7.554</td>\n",
        "      <td>-20.545</td>\n",
        "      <td>-5.691</td>\n",
        "      <td>-5.691</td>\n",
        "      <td> 1</td>\n",
        "      <td>0.810</td>\n",
        "      <td>1.125</td>\n",
        "      <td>0.926</td>\n",
        "      <td>0.926</td>\n",
        "    </tr>\n",
        "    <tr>\n",
        "      <th>7 </th>\n",
        "      <td>5.111</td>\n",
        "      <td>1.250</td>\n",
        "      <td>3.861</td>\n",
        "      <td>-3.699</td>\n",
        "      <td>1.250</td>\n",
        "      <td>1.250</td>\n",
        "      <td>-7.554</td>\n",
        "      <td>-23.889</td>\n",
        "      <td>-9.079</td>\n",
        "      <td>-9.079</td>\n",
        "      <td> 1</td>\n",
        "      <td>0.810</td>\n",
        "      <td>0.925</td>\n",
        "      <td>0.744</td>\n",
        "      <td>0.744</td>\n",
        "    </tr>\n",
        "    <tr>\n",
        "      <th>16</th>\n",
        "      <td>5.111</td>\n",
        "      <td>1.250</td>\n",
        "      <td>3.862</td>\n",
        "      <td>-3.699</td>\n",
        "      <td>1.250</td>\n",
        "      <td>1.250</td>\n",
        "      <td>-7.554</td>\n",
        "      <td>-20.246</td>\n",
        "      <td>-5.395</td>\n",
        "      <td>-5.395</td>\n",
        "      <td> 1</td>\n",
        "      <td>0.810</td>\n",
        "      <td>1.150</td>\n",
        "      <td>0.949</td>\n",
        "      <td>0.949</td>\n",
        "    </tr>\n",
        "  </tbody>\n",
        "</table>"
       ],
       "metadata": {},
       "output_type": "pyout",
       "prompt_number": 19,
       "text": [
        "<IPython.core.display.HTML at 0x105b34a10>"
       ]
      }
     ],
     "prompt_number": 19
    },
    {
     "cell_type": "raw",
     "metadata": {},
     "source": [
      "The matpower solution\n",
      "(note that matlab uses one-based indexing so these are all off by one)\n",
      "\n",
      "    ================================================================================\n",
      "    |     Bus Data                                                                 |\n",
      "    ================================================================================\n",
      "     Bus      Voltage          Generation             Load        \n",
      "      #   Mag(pu) Ang(deg)   P (MW)   Q (MVAr)   P (MW)   Q (MVAr)\n",
      "    ----- ------- --------  --------  --------  --------  --------\n",
      "        1  1.000    0.000*     4.16      1.59       -         -   \n",
      "        2  0.985   -5.829       -         -        1.00      0.00 \n",
      "        3  0.873  -20.100       -         -        1.00      0.00 \n",
      "        4  0.853  -27.815       -         -        1.00      0.00 \n",
      "        5  0.853  -27.815       -         -        1.00      0.00 \n",
      "                            --------  --------  --------  --------\n",
      "                   Total:      4.16      1.59      4.00      0.00\n",
      "\n",
      "    ================================================================================\n",
      "    |     Branch Data                                                              |\n",
      "    ================================================================================\n",
      "    Brnch   From   To    From Bus Injection   To Bus Injection     Loss (I^2 * Z)  \n",
      "      #     Bus    Bus    P (MW)   Q (MVAr)   P (MW)   Q (MVAr)   P (MW)   Q (MVAr)\n",
      "    -----  -----  -----  --------  --------  --------  --------  --------  --------\n",
      "       1      1      2      1.01      0.10     -1.00     -0.00     0.010      0.10\n",
      "       2      1      3      3.15      1.49     -3.03     -0.27     0.121      1.21\n",
      "       3      3      4      1.01      0.14     -1.00      0.00     0.014      0.14\n",
      "       4      3      5      1.01      0.14     -1.00      0.00     0.014      0.14\n",
      "                                                                 --------  --------\n",
      "                                                        Total:     0.159      1.59"
     ]
    },
    {
     "cell_type": "markdown",
     "metadata": {},
     "source": [
      "##Verify correctness\n",
      "\n",
      "Check equation 1 for each line in each candidate solution."
     ]
    },
    {
     "cell_type": "code",
     "collapsed": false,
     "input": [
      "def line01(candidate):\n",
      "    pk,vk,vm,t = [candidate[k] for k in ['p01','v0','v1','t1']]\n",
      "    pm = -d1\n",
      "    return pk,pm,vk,vm,t\n",
      "def line02(candidate):\n",
      "    pk,vk,vm,t = [candidate[k] for k in ['p02','v0','v2','t2']]\n",
      "    p23 = candidate['p23']\n",
      "    p24 = candidate['p24']\n",
      "    pm = -(d2+p23+p24)\n",
      "    return pk,pm,vk,vm,t\n",
      "def line23(candidate):\n",
      "    pk,vk,vm,t = [candidate[k] for k in ['p23','v2','v3','t3']]\n",
      "    pm = -d3\n",
      "    return pk,pm,vk,vm,t\n",
      "def line24(candidate):\n",
      "    pk,vk,vm,t = [candidate[k] for k in ['p24','v2','v4','t4']]\n",
      "    pm = -d4\n",
      "    return pk,pm,vk,vm,t\n",
      "def all_lines(x): # x is a candidate solution\n",
      "    return line01(x),line02(x),line23(x),line24(x)\n",
      "def check_all_lines(candidate):\n",
      "    return max(check(b,g,*line) for line in all_lines(candidate))"
     ],
     "language": "python",
     "metadata": {},
     "outputs": [],
     "prompt_number": 16
    },
    {
     "cell_type": "markdown",
     "metadata": {},
     "source": [
      "The maximum error in equation 1 over all lines and all candidate solutions:"
     ]
    },
    {
     "cell_type": "code",
     "collapsed": false,
     "input": [
      "%%time\n",
      "max(check_all_lines(x) for x in candidates)"
     ],
     "language": "python",
     "metadata": {},
     "outputs": [
      {
       "output_type": "stream",
       "stream": "stdout",
       "text": [
        "CPU times: user 14.7 s, sys: 180 ms, total: 14.9 s\n",
        "Wall time: 14.8 s\n"
       ]
      },
      {
       "metadata": {},
       "output_type": "pyout",
       "prompt_number": 17,
       "text": [
        "3.7716429308390697e-15"
       ]
      }
     ],
     "prompt_number": 17
    },
    {
     "cell_type": "markdown",
     "metadata": {},
     "source": [
      "#Time the whole shebang"
     ]
    },
    {
     "cell_type": "code",
     "collapsed": false,
     "input": [
      "%%timeit\n",
      "p23range = linspace(d3, d3+g, n)\n",
      "p24range = linspace(d4, d4+g, n)\n",
      "\n",
      "v2range = linspace(.5, 1.5, n)\n",
      "def step2(b,g,p23,p24,v2,d3,d4):\n",
      "    v3,t3 = vm_t(b, g, -d3, v2, p23)\n",
      "    v4,t4 = vm_t(b, g, -d4, v2, p24)\n",
      "    d = {'p2':-(d2+p23+p24), 'p23': p23, 'p24': p24, 'v2':v2, 'v3':v3, 't3':180/pi*t3, \n",
      "         'v4':v4, 't4':180/pi*t4}\n",
      "    return d if ~isnan(v3) and ~isnan(v4) else None\n",
      "candidates = [step2(b,g,p23,p24,v2,d3,d4) \n",
      "              for p23,p24,v2 in product(p23range, p24range, v2range)]\n",
      "candidates = [x for x in candidates if x is not None]\n",
      "\n",
      "v0range = [1] # for this case, it isn't necessary to even enumerate V0\n",
      "def step3(v0,d):\n",
      "    v2,p2 = d['v2'], d['p2']\n",
      "    p02, t2 = pi_t(g,b,v0,v2,p2)\n",
      "    d['v0'] = v0\n",
      "    d['p02'] = p02\n",
      "    d['t2'] = 180/pi*t2\n",
      "    return d if ~isnan(p02) else None\n",
      "candidates = [step3(v0,d.copy()) for v0, d in product(v0range, candidates)]\n",
      "candidates = [x for x in candidates if x is not None]\n",
      "\n",
      "p01range = linspace(d1, d1+g, n)\n",
      "def step4(p01, d):\n",
      "    v1,t1 = vm_t(b, g, -d1, d['v0'], p01)\n",
      "    d['v1'] = v1\n",
      "    d['t1'] = 180/pi*t1\n",
      "    d['p01'] = p01\n",
      "    d['p0'] = p01 + d['p02']\n",
      "    return d if ~isnan(v1) else None\n",
      "candidates = [step4(p01, d.copy()) for p01, d in product(p01range, candidates)]\n",
      "candidates = [x for x in candidates if x is not None]\n",
      "\n",
      "solutions = [x for x in candidates if 4.0 <= x['p0'] <= 5.0]"
     ],
     "language": "python",
     "metadata": {},
     "outputs": [
      {
       "output_type": "stream",
       "stream": "stdout",
       "text": [
        "1 loops, best of 3: 7.54 s per loop\n"
       ]
      }
     ],
     "prompt_number": 20
    },
    {
     "cell_type": "code",
     "collapsed": false,
     "input": [
      "print('Total optimal solutions:', len(solutions))"
     ],
     "language": "python",
     "metadata": {},
     "outputs": [
      {
       "output_type": "stream",
       "stream": "stdout",
       "text": [
        "Total optimal solutions: 7800\n"
       ]
      }
     ],
     "prompt_number": 19
    }
   ],
   "metadata": {}
  }
 ]
}