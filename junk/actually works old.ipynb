{
 "metadata": {
  "name": ""
 },
 "nbformat": 3,
 "nbformat_minor": 0,
 "worksheets": [
  {
   "cells": [
    {
     "cell_type": "markdown",
     "metadata": {},
     "source": [
      "#Next steps\n",
      "\n",
      "1. Get a full solution... store or be able to reproduce the solution at each bus\n",
      "2. allow b,g to vary\n",
      "\n",
      "XXX get 'check' function working to make sure all is well there"
     ]
    },
    {
     "cell_type": "code",
     "collapsed": false,
     "input": [
      "from itertools import product #cartesian product\n",
      "from random import shuffle\n",
      "from case5 import pk_t, check"
     ],
     "language": "python",
     "metadata": {},
     "outputs": [],
     "prompt_number": 27
    },
    {
     "cell_type": "code",
     "collapsed": false,
     "input": [
      "%load_ext cythonmagic"
     ],
     "language": "python",
     "metadata": {},
     "outputs": [],
     "prompt_number": 2
    },
    {
     "cell_type": "markdown",
     "metadata": {},
     "source": [
      "I think doing as Dan described in a recent email ought to work:\n",
      "\n",
      "> In terms of the rounding trick, basically when you take the sum (or\n",
      "more appropriate, convolution) of two children, you just \"round\" the\n",
      "sum of their contributions to an entry for the parent.  If you do this\n",
      "on a percentage basis you can control the growth, e.g. if the max\n",
      "value for the parent is 100, then if a child is at 45.8 and another\n",
      "child at 11.02 then the 'sum' is at 56 or 57 (or both).\n",
      "\n",
      "So if a parent has 1000 children, consider them one at a time and build a 'cumulative cartesian product', rounding with the addition of each child. Only keep one term in the cartesian product per rounded quantity.\n",
      "\n",
      "There are subtleties here which you'll need to get right so you don't lose all precision, e.g. when adding together huge lists or terms of greatly different magnitude. It's possible that it won't matter.\n",
      "\n",
      "You should probably do a preprocessing step, where you go through each child node and assemble a list of *feasible* candidate solutions. Then move onto the cumulative cartesian product rounding step.\n",
      "\n",
      "#### In gorier detail\n",
      "\n",
      "    |    G0\n",
      "    |   /| \\\n",
      "    | L1 L2 L3\n",
      " \n",
      "We're considering a single enumerated voltage at $G_0$. We've enumerated 100 voltages at each load and they all give feasible flows. First consider all 10000 pairs of flows $(P_{01}, P_{02})$. Say we're approximating at the ones place. Then if $P_{01}^i+P_{02}^i = 12.6$ and $P_{01}^j+P_{02}^j = 13.2$, we'll consider them essentially equivalent and only keep one of the pairs for the next step. At this point we hopefully have something like 100 $(P_{01}, P_{02})$ pairs. Now consider the 10000 $((P_{01}, P_{02}), P_{03})$ combinations. And do the same thing.\n",
      "\n",
      "Need to check: the flows between parent and a particular child can cover quite a wide range, since we're enumerating a reasonably range of voltages. Can we reliably cut down the number of pairs in the cumulative product from 10000 to something like 100 at each step? Something that won't blow up with the number of children?\n",
      "\n",
      "Should probably randomly select which flow goes into a bucket, using the streaming lottery idea from Moat... not necessary, just shuffle once in advance.\n",
      "\n",
      "Can do even better by trimming down the 100 candidates a bit, only considering ones that are sufficiently different."
     ]
    },
    {
     "cell_type": "markdown",
     "metadata": {},
     "source": [
      "#Abstractified"
     ]
    },
    {
     "cell_type": "code",
     "collapsed": false,
     "input": [
      "%%cython\n",
      "cimport cython\n",
      "\n",
      "@cython.cdivision(True)\n",
      "cpdef long _hash(double p, int R2, double v):\n",
      "    return hash((round(p*R2), v))"
     ],
     "language": "python",
     "metadata": {},
     "outputs": [],
     "prompt_number": 3
    },
    {
     "cell_type": "code",
     "collapsed": false,
     "input": [
      "_hash(1.2,100,1.05)"
     ],
     "language": "python",
     "metadata": {},
     "outputs": [
      {
       "metadata": {},
       "output_type": "pyout",
       "prompt_number": 4,
       "text": [
        "-2931232472676189800"
       ]
      }
     ],
     "prompt_number": 4
    },
    {
     "cell_type": "code",
     "collapsed": false,
     "input": [
      "r, x = .01, .1\n",
      "G, B = r/(r**2+x**2), -x/(r**2+x**2)"
     ],
     "language": "python",
     "metadata": {},
     "outputs": [],
     "prompt_number": 5
    },
    {
     "cell_type": "markdown",
     "metadata": {},
     "source": [
      "Consider tracking $(P_0,V_0,P_1,V_1)$ for each thing... notably adding $P_1$ in there. It isn't strictly necessary since it can be solved for with the others, but it'd be nice to not have to do that. Then when you search back down the tree to recover a solution, you won't need to solve the power flow again."
     ]
    },
    {
     "cell_type": "code",
     "collapsed": false,
     "input": [
      "def _shuffle(x, r = random.RandomState(86)):\n",
      "    r.shuffle(x)\n",
      "    return x\n",
      "def _round(x, p):\n",
      "    ''' round 'to the 1/p' place... e.g. if p=5, _round(1.12) = 1.2 and _round(1.08) = 1.0 '''\n",
      "    return round(x*p)/p\n",
      "class CumProd(object):\n",
      "    def __init__(self, v, predecessors):\n",
      "        self.predecessors = predecessors\n",
      "        self.p = sum(x[0] for x in predecessors)\n",
      "        self.v = v\n",
      "    def __hash__(self):\n",
      "        #return hash((int(round(self.p*R2)), self.v))\n",
      "        return hash((round(self.p*R2), self.v))\n",
      "        #return _hash(self.p, R2, self.v)\n",
      "    def __eq__(self, other):\n",
      "        return hash(self) == hash(other)\n",
      "    def __lt__(self, other):\n",
      "        return self.v < other.v if self.v != other.v else self.p < other.p\n",
      "    def __str__(self):\n",
      "        d = dict(bucket=[_round(self.p, R2)], p=[self.p], v=[self.v])\n",
      "        for i, child in enumerate(self.predecessors):\n",
      "            d['p%d'%i] = [child[0]]\n",
      "            d['v%d'%i] = [child[1]]\n",
      "        return str(DataFrame(d))\n",
      "    def __repr__(self):\n",
      "        return 'CumProd(%r, %r)' % (self.v, self.predecessors)\n",
      "    def copy(self):\n",
      "        return CumProd(self.v, list(self.predecessors))\n",
      "    \n",
      "class Bus(object):\n",
      "    def __init__(self, d=0, children=None, b=B, g=G):\n",
      "        self.d, self.b, self.g = d, b, g\n",
      "        self.children = [] if children is None else children\n",
      "        self.pranges = [{} for child in self.children]\n",
      "        self.candidates = set()\n",
      "        self.n = 0\n",
      "        self.f1()\n",
      "    def f1(self):\n",
      "        ''' compute candidate flows to each child '''\n",
      "        if len(self.children) == 0:\n",
      "            self.candidates = {CumProd(vm, []) for vm in VRANGE}\n",
      "        for vk in VRANGE:\n",
      "            for i, child in enumerate(self.children):\n",
      "                d = child.d\n",
      "                g, b = child.g, child.b\n",
      "                prange = _shuffle([(pk_t(g,b,vk,c.v,-(c.p+d))[0],c.v) for c in child.candidates])\n",
      "                self.pranges[i][vk] = ({_round(pkm, R1): (pkm,vm) for pkm,vm in prange}).values()\n",
      "    def f2(self):\n",
      "        ''' filters down candidate flows to one per bucket '''\n",
      "        if len(self.children) == 0:\n",
      "            self.candidates = set()\n",
      "            return\n",
      "        if len(self.children) == 1:\n",
      "            self.candidates = {CumProd(vk, prange) for vk,prange in self.pranges[0].items()}\n",
      "            return\n",
      "        for vk in VRANGE:\n",
      "            pairs = _shuffle(list(product(self.pranges[0][vk], self.pranges[1][vk])))\n",
      "            cumprods = {CumProd(vk, [b0,b1]) for b0, b1 in pairs}\n",
      "            the_rest = [x[vk] for x in self.pranges[2:]]\n",
      "            for prange in the_rest:\n",
      "                pairs = _shuffle(list(product(cumprods, prange)))\n",
      "                cumprods = set()\n",
      "                for cumprod, next_bus in pairs:\n",
      "                    self.n +=1\n",
      "                    new = cumprod.copy()\n",
      "                    new.p += next_bus[0]\n",
      "                    new.predecessors.append(next_bus)\n",
      "                    cumprods.add(new)\n",
      "            self.candidates |= cumprods\n",
      "    def pretty(self):\n",
      "        data = [None]*len(self.candidates)\n",
      "        for i, x in enumerate(self.candidates):\n",
      "            data[i] = dict(bucket=_round(x.p, R2), p=x.p, v=x.v)\n",
      "            columns = ['p','v']\n",
      "            for j, child in enumerate(x.predecessors):\n",
      "                data[i]['p%d'%j] = child[0]\n",
      "                data[i]['v%d'%j] = child[1]\n",
      "                columns += ['p%d'%j, 'v%d'%j]\n",
      "        return DataFrame(data, columns=columns)"
     ],
     "language": "python",
     "metadata": {},
     "outputs": [],
     "prompt_number": 6
    },
    {
     "cell_type": "markdown",
     "metadata": {},
     "source": [
      "#Test cases"
     ]
    },
    {
     "cell_type": "markdown",
     "metadata": {},
     "source": [
      "###5-bus case\n",
      "\n",
      "    |     G0\n",
      "    |    /  \\\n",
      "    |   L1  L2\n",
      "    |      /  \\\n",
      "    |     L3  L4"
     ]
    },
    {
     "cell_type": "code",
     "collapsed": false,
     "input": [
      "r, x = .01, .1\n",
      "g, b = r/(r**2+x**2), -x/(r**2+x**2)\n",
      "d1, d2, d3, d4 = 1.2, 1.2, 1.2, 1.2\n",
      "v1hat = 1\n",
      "p0min, p0max = 4.8, 6\n",
      "N = 21\n",
      "R1 = 200\n",
      "R2 = 100\n",
      "VRANGE = linspace(.75, 1.25, N)"
     ],
     "language": "python",
     "metadata": {},
     "outputs": [],
     "prompt_number": 7
    },
    {
     "cell_type": "code",
     "collapsed": false,
     "input": [
      "%%time\n",
      "b3, b4 = Bus(d3), Bus(d4)\n",
      "b2 = Bus(d2, [b3, b4])\n",
      "b2.f2()\n",
      "b1 = Bus(d1)\n",
      "b0 = Bus(0, [b1, b2])\n",
      "b0.f2()\n",
      "for bb in [b4,b3,b2,b1,b0]:\n",
      "    print(sum((len(prange) for prange in bb.pranges)), len(bb.candidates), bb.n)"
     ],
     "language": "python",
     "metadata": {},
     "outputs": [
      {
       "output_type": "stream",
       "stream": "stdout",
       "text": [
        "0 21 0\n",
        "0 21 0\n",
        "42 610 0\n",
        "0 21 0\n",
        "42 1861 0\n",
        "CPU times: user 2.61 s, sys: 119 ms, total: 2.73 s\n",
        "Wall time: 2.64 s\n"
       ]
      }
     ],
     "prompt_number": 10
    },
    {
     "cell_type": "code",
     "collapsed": false,
     "input": [
      "df = b0.pretty()\n",
      "df[df.v==1].sort(columns=['p']).head()"
     ],
     "language": "python",
     "metadata": {},
     "outputs": [
      {
       "html": [
        "<div style=\"max-height:1000px;max-width:1500px;overflow:auto;\">\n",
        "<table border=\"1\" class=\"dataframe\">\n",
        "  <thead>\n",
        "    <tr style=\"text-align: right;\">\n",
        "      <th></th>\n",
        "      <th>p</th>\n",
        "      <th>v</th>\n",
        "      <th>p0</th>\n",
        "      <th>v0</th>\n",
        "      <th>p1</th>\n",
        "      <th>v1</th>\n",
        "    </tr>\n",
        "  </thead>\n",
        "  <tbody>\n",
        "    <tr>\n",
        "      <th>124 </th>\n",
        "      <td> 4.991539</td>\n",
        "      <td> 1</td>\n",
        "      <td> 1.216840</td>\n",
        "      <td> 0.950</td>\n",
        "      <td> 3.774699</td>\n",
        "      <td> 1.075</td>\n",
        "    </tr>\n",
        "    <tr>\n",
        "      <th>356 </th>\n",
        "      <td> 5.002886</td>\n",
        "      <td> 1</td>\n",
        "      <td> 1.216840</td>\n",
        "      <td> 0.950</td>\n",
        "      <td> 3.786046</td>\n",
        "      <td> 1.175</td>\n",
        "    </tr>\n",
        "    <tr>\n",
        "      <th>1065</th>\n",
        "      <td> 5.013935</td>\n",
        "      <td> 1</td>\n",
        "      <td> 1.236213</td>\n",
        "      <td> 0.850</td>\n",
        "      <td> 3.777722</td>\n",
        "      <td> 1.050</td>\n",
        "    </tr>\n",
        "    <tr>\n",
        "      <th>944 </th>\n",
        "      <td> 5.015506</td>\n",
        "      <td> 1</td>\n",
        "      <td> 1.244241</td>\n",
        "      <td> 0.825</td>\n",
        "      <td> 3.771265</td>\n",
        "      <td> 1.100</td>\n",
        "    </tr>\n",
        "    <tr>\n",
        "      <th>1084</th>\n",
        "      <td> 5.026115</td>\n",
        "      <td> 1</td>\n",
        "      <td> 1.225883</td>\n",
        "      <td> 1.100</td>\n",
        "      <td> 3.800232</td>\n",
        "      <td> 0.950</td>\n",
        "    </tr>\n",
        "  </tbody>\n",
        "</table>\n",
        "<p>5 rows \u00d7 6 columns</p>\n",
        "</div>"
       ],
       "metadata": {},
       "output_type": "pyout",
       "prompt_number": 11,
       "text": [
        "             p  v        p0     v0        p1     v1\n",
        "124   4.991539  1  1.216840  0.950  3.774699  1.075\n",
        "356   5.002886  1  1.216840  0.950  3.786046  1.175\n",
        "1065  5.013935  1  1.236213  0.850  3.777722  1.050\n",
        "944   5.015506  1  1.244241  0.825  3.771265  1.100\n",
        "1084  5.026115  1  1.225883  1.100  3.800232  0.950\n",
        "\n",
        "[5 rows x 6 columns]"
       ]
      }
     ],
     "prompt_number": 11
    },
    {
     "cell_type": "markdown",
     "metadata": {},
     "source": [
      "Can we verify here that a solution (p1,v1) from b0 is actually in the candidate list for b2?... yes\n",
      "\n",
      "Can we then get the components of that candidate?... yes"
     ]
    },
    {
     "cell_type": "code",
     "collapsed": false,
     "input": [
      "c = list(sorted(b0.candidates))[0]\n",
      "print(c)"
     ],
     "language": "python",
     "metadata": {},
     "outputs": [
      {
       "output_type": "stream",
       "stream": "stdout",
       "text": [
        "   bucket         p        p0        p1     v     v0     v1\n",
        "0    5.14  5.137664  1.227326  3.910338  0.75  0.775  0.925\n",
        "\n",
        "[1 rows x 7 columns]\n"
       ]
      }
     ],
     "prompt_number": 14
    },
    {
     "cell_type": "code",
     "collapsed": false,
     "input": [
      "def check_if_in_b2(c):\n",
      "    pm = c.predecessors[1][0]\n",
      "    vm = c.v\n",
      "    vk = c.predecessors[1][1]\n",
      "    pk_2,t = pk_t(G,B,vk,vm,pm)\n",
      "    pk = -(pk_2+d2)\n",
      "    return (round(-(pk_2+d2)*R2), vk) in b2.candidates\n",
      "temp = dict(zip(b2.candidates,b2.candidates))\n",
      "def stupid(c):\n",
      "    assert check_if_in_b2(c)\n",
      "    pm = c.predecessors[1][0]\n",
      "    vm = c.v\n",
      "    vk = c.predecessors[1][1]\n",
      "    pk_2,t = pk_t(G,B,vk,vm,pm)\n",
      "    return temp[(round(-(pk_2+d2)*R2), vk)]\n",
      "def convert1(c):\n",
      "    cp = c.predecessors\n",
      "    return dict(p0=c.p, v0=c.v, p01=cp[0][0], v1=cp[0][1], p02=cp[1][0], v2=cp[1][1])\n",
      "def convert2(c):\n",
      "    cp = c.predecessors\n",
      "    return dict(p23=cp[0][0], v3=cp[0][1], p24=cp[1][0], v4=cp[1][1])\n",
      "def stupid2(c):\n",
      "    d = convert1(c)\n",
      "    d.update(convert2(stupid(c)))\n",
      "    return d"
     ],
     "language": "python",
     "metadata": {},
     "outputs": [],
     "prompt_number": 19
    },
    {
     "cell_type": "code",
     "collapsed": false,
     "input": [
      "answers = DataFrame([stupid2(c) for c in list(sorted(b0.candidates))]).sort(columns='p0')"
     ],
     "language": "python",
     "metadata": {},
     "outputs": [],
     "prompt_number": 20
    },
    {
     "cell_type": "code",
     "collapsed": false,
     "input": [
      "print(len(answers))\n",
      "answers.head()"
     ],
     "language": "python",
     "metadata": {},
     "outputs": [
      {
       "output_type": "stream",
       "stream": "stdout",
       "text": [
        "1861\n"
       ]
      },
      {
       "html": [
        "<div style=\"max-height:1000px;max-width:1500px;overflow:auto;\">\n",
        "<table border=\"1\" class=\"dataframe\">\n",
        "  <thead>\n",
        "    <tr style=\"text-align: right;\">\n",
        "      <th></th>\n",
        "      <th>p0</th>\n",
        "      <th>p01</th>\n",
        "      <th>p02</th>\n",
        "      <th>p23</th>\n",
        "      <th>p24</th>\n",
        "      <th>v0</th>\n",
        "      <th>v1</th>\n",
        "      <th>v2</th>\n",
        "      <th>v3</th>\n",
        "      <th>v4</th>\n",
        "    </tr>\n",
        "  </thead>\n",
        "  <tbody>\n",
        "    <tr>\n",
        "      <th>1751</th>\n",
        "      <td> 4.918522</td>\n",
        "      <td> 1.209395</td>\n",
        "      <td> 3.709127</td>\n",
        "      <td> 1.211316</td>\n",
        "      <td> 1.209727</td>\n",
        "      <td> 1.250</td>\n",
        "      <td> 1.250</td>\n",
        "      <td> 1.250</td>\n",
        "      <td> 1.2</td>\n",
        "      <td> 1.225</td>\n",
        "    </tr>\n",
        "    <tr>\n",
        "      <th>1644</th>\n",
        "      <td> 4.923355</td>\n",
        "      <td> 1.210121</td>\n",
        "      <td> 3.713234</td>\n",
        "      <td> 1.211316</td>\n",
        "      <td> 1.209727</td>\n",
        "      <td> 1.225</td>\n",
        "      <td> 1.200</td>\n",
        "      <td> 1.250</td>\n",
        "      <td> 1.2</td>\n",
        "      <td> 1.225</td>\n",
        "    </tr>\n",
        "    <tr>\n",
        "      <th>1541</th>\n",
        "      <td> 4.928957</td>\n",
        "      <td> 1.210204</td>\n",
        "      <td> 3.718753</td>\n",
        "      <td> 1.211316</td>\n",
        "      <td> 1.209727</td>\n",
        "      <td> 1.200</td>\n",
        "      <td> 1.200</td>\n",
        "      <td> 1.250</td>\n",
        "      <td> 1.2</td>\n",
        "      <td> 1.225</td>\n",
        "    </tr>\n",
        "    <tr>\n",
        "      <th>1645</th>\n",
        "      <td> 4.931245</td>\n",
        "      <td> 1.210121</td>\n",
        "      <td> 3.721124</td>\n",
        "      <td> 1.210121</td>\n",
        "      <td> 1.218670</td>\n",
        "      <td> 1.225</td>\n",
        "      <td> 1.200</td>\n",
        "      <td> 1.225</td>\n",
        "      <td> 1.2</td>\n",
        "      <td> 1.125</td>\n",
        "    </tr>\n",
        "    <tr>\n",
        "      <th>1752</th>\n",
        "      <td> 4.932406</td>\n",
        "      <td> 1.214163</td>\n",
        "      <td> 3.718243</td>\n",
        "      <td> 1.210121</td>\n",
        "      <td> 1.218670</td>\n",
        "      <td> 1.250</td>\n",
        "      <td> 1.175</td>\n",
        "      <td> 1.225</td>\n",
        "      <td> 1.2</td>\n",
        "      <td> 1.125</td>\n",
        "    </tr>\n",
        "  </tbody>\n",
        "</table>\n",
        "<p>5 rows \u00d7 10 columns</p>\n",
        "</div>"
       ],
       "metadata": {},
       "output_type": "pyout",
       "prompt_number": 21,
       "text": [
        "            p0       p01       p02       p23       p24     v0     v1     v2  \\\n",
        "1751  4.918522  1.209395  3.709127  1.211316  1.209727  1.250  1.250  1.250   \n",
        "1644  4.923355  1.210121  3.713234  1.211316  1.209727  1.225  1.200  1.250   \n",
        "1541  4.928957  1.210204  3.718753  1.211316  1.209727  1.200  1.200  1.250   \n",
        "1645  4.931245  1.210121  3.721124  1.210121  1.218670  1.225  1.200  1.225   \n",
        "1752  4.932406  1.214163  3.718243  1.210121  1.218670  1.250  1.175  1.225   \n",
        "\n",
        "       v3     v4  \n",
        "1751  1.2  1.225  \n",
        "1644  1.2  1.225  \n",
        "1541  1.2  1.225  \n",
        "1645  1.2  1.125  \n",
        "1752  1.2  1.125  \n",
        "\n",
        "[5 rows x 10 columns]"
       ]
      }
     ],
     "prompt_number": 21
    },
    {
     "cell_type": "code",
     "collapsed": false,
     "input": [
      "x = [check_if_in_b2(c) for c in list(sorted(b0.candidates))]\n",
      "len(x), sum(x)"
     ],
     "language": "python",
     "metadata": {},
     "outputs": [
      {
       "metadata": {},
       "output_type": "pyout",
       "prompt_number": 22,
       "text": [
        "(1861, 1861)"
       ]
      }
     ],
     "prompt_number": 22
    },
    {
     "cell_type": "code",
     "collapsed": false,
     "input": [
      "df2 = b2.pretty()\n",
      "df2[df2.v == .925]"
     ],
     "language": "python",
     "metadata": {},
     "outputs": [
      {
       "html": [
        "<div style=\"max-height:1000px;max-width:1500px;overflow:auto;\">\n",
        "<table border=\"1\" class=\"dataframe\">\n",
        "  <thead>\n",
        "    <tr style=\"text-align: right;\">\n",
        "      <th></th>\n",
        "      <th>p</th>\n",
        "      <th>v</th>\n",
        "      <th>p0</th>\n",
        "      <th>v0</th>\n",
        "      <th>p1</th>\n",
        "      <th>v1</th>\n",
        "    </tr>\n",
        "  </thead>\n",
        "  <tbody>\n",
        "    <tr>\n",
        "      <th>2  </th>\n",
        "      <td> 2.587064</td>\n",
        "      <td> 0.925</td>\n",
        "      <td> 1.327439</td>\n",
        "      <td> 1.250</td>\n",
        "      <td> 1.259626</td>\n",
        "      <td> 1.125</td>\n",
        "    </tr>\n",
        "    <tr>\n",
        "      <th>12 </th>\n",
        "      <td> 2.543857</td>\n",
        "      <td> 0.925</td>\n",
        "      <td> 1.247364</td>\n",
        "      <td> 0.750</td>\n",
        "      <td> 1.296493</td>\n",
        "      <td> 1.200</td>\n",
        "    </tr>\n",
        "    <tr>\n",
        "      <th>63 </th>\n",
        "      <td> 2.509508</td>\n",
        "      <td> 0.925</td>\n",
        "      <td> 1.249883</td>\n",
        "      <td> 1.100</td>\n",
        "      <td> 1.259626</td>\n",
        "      <td> 1.125</td>\n",
        "    </tr>\n",
        "    <tr>\n",
        "      <th>70 </th>\n",
        "      <td> 2.638768</td>\n",
        "      <td> 0.925</td>\n",
        "      <td> 1.311329</td>\n",
        "      <td> 1.225</td>\n",
        "      <td> 1.327439</td>\n",
        "      <td> 1.250</td>\n",
        "    </tr>\n",
        "    <tr>\n",
        "      <th>92 </th>\n",
        "      <td> 2.449700</td>\n",
        "      <td> 0.925</td>\n",
        "      <td> 1.232367</td>\n",
        "      <td> 0.800</td>\n",
        "      <td> 1.217333</td>\n",
        "      <td> 0.925</td>\n",
        "    </tr>\n",
        "    <tr>\n",
        "      <th>95 </th>\n",
        "      <td> 2.545544</td>\n",
        "      <td> 0.925</td>\n",
        "      <td> 1.311329</td>\n",
        "      <td> 1.225</td>\n",
        "      <td> 1.234215</td>\n",
        "      <td> 1.050</td>\n",
        "    </tr>\n",
        "    <tr>\n",
        "      <th>141</th>\n",
        "      <td> 2.577321</td>\n",
        "      <td> 0.925</td>\n",
        "      <td> 1.249883</td>\n",
        "      <td> 1.100</td>\n",
        "      <td> 1.327439</td>\n",
        "      <td> 1.250</td>\n",
        "    </tr>\n",
        "    <tr>\n",
        "      <th>154</th>\n",
        "      <td> 2.458746</td>\n",
        "      <td> 0.925</td>\n",
        "      <td> 1.217333</td>\n",
        "      <td> 0.925</td>\n",
        "      <td> 1.241412</td>\n",
        "      <td> 1.075</td>\n",
        "    </tr>\n",
        "    <tr>\n",
        "      <th>162</th>\n",
        "      <td> 2.519006</td>\n",
        "      <td> 0.925</td>\n",
        "      <td> 1.222513</td>\n",
        "      <td> 0.850</td>\n",
        "      <td> 1.296493</td>\n",
        "      <td> 1.200</td>\n",
        "    </tr>\n",
        "    <tr>\n",
        "      <th>182</th>\n",
        "      <td> 2.607822</td>\n",
        "      <td> 0.925</td>\n",
        "      <td> 1.311329</td>\n",
        "      <td> 1.225</td>\n",
        "      <td> 1.296493</td>\n",
        "      <td> 1.200</td>\n",
        "    </tr>\n",
        "    <tr>\n",
        "      <th>224</th>\n",
        "      <td> 2.487917</td>\n",
        "      <td> 0.925</td>\n",
        "      <td> 1.259626</td>\n",
        "      <td> 1.125</td>\n",
        "      <td> 1.228291</td>\n",
        "      <td> 1.025</td>\n",
        "    </tr>\n",
        "    <tr>\n",
        "      <th>244</th>\n",
        "      <td> 2.436321</td>\n",
        "      <td> 0.925</td>\n",
        "      <td> 1.218161</td>\n",
        "      <td> 0.950</td>\n",
        "      <td> 1.218161</td>\n",
        "      <td> 0.950</td>\n",
        "    </tr>\n",
        "    <tr>\n",
        "      <th>286</th>\n",
        "      <td> 2.574802</td>\n",
        "      <td> 0.925</td>\n",
        "      <td> 1.327439</td>\n",
        "      <td> 1.250</td>\n",
        "      <td> 1.247364</td>\n",
        "      <td> 0.750</td>\n",
        "    </tr>\n",
        "    <tr>\n",
        "      <th>382</th>\n",
        "      <td> 2.623932</td>\n",
        "      <td> 0.925</td>\n",
        "      <td> 1.296493</td>\n",
        "      <td> 1.200</td>\n",
        "      <td> 1.327439</td>\n",
        "      <td> 1.250</td>\n",
        "    </tr>\n",
        "    <tr>\n",
        "      <th>383</th>\n",
        "      <td> 2.434666</td>\n",
        "      <td> 0.925</td>\n",
        "      <td> 1.217333</td>\n",
        "      <td> 0.925</td>\n",
        "      <td> 1.217333</td>\n",
        "      <td> 0.925</td>\n",
        "    </tr>\n",
        "    <tr>\n",
        "      <th>413</th>\n",
        "      <td> 2.504857</td>\n",
        "      <td> 0.925</td>\n",
        "      <td> 1.234215</td>\n",
        "      <td> 1.050</td>\n",
        "      <td> 1.270642</td>\n",
        "      <td> 1.150</td>\n",
        "    </tr>\n",
        "    <tr>\n",
        "      <th>422</th>\n",
        "      <td> 2.598080</td>\n",
        "      <td> 0.925</td>\n",
        "      <td> 1.327439</td>\n",
        "      <td> 1.250</td>\n",
        "      <td> 1.270642</td>\n",
        "      <td> 1.150</td>\n",
        "    </tr>\n",
        "    <tr>\n",
        "      <th>426</th>\n",
        "      <td> 2.559806</td>\n",
        "      <td> 0.925</td>\n",
        "      <td> 1.232367</td>\n",
        "      <td> 0.800</td>\n",
        "      <td> 1.327439</td>\n",
        "      <td> 1.250</td>\n",
        "    </tr>\n",
        "    <tr>\n",
        "      <th>432</th>\n",
        "      <td> 2.654877</td>\n",
        "      <td> 0.925</td>\n",
        "      <td> 1.327439</td>\n",
        "      <td> 1.250</td>\n",
        "      <td> 1.327439</td>\n",
        "      <td> 1.250</td>\n",
        "    </tr>\n",
        "    <tr>\n",
        "      <th>437</th>\n",
        "      <td> 2.472396</td>\n",
        "      <td> 0.925</td>\n",
        "      <td> 1.222513</td>\n",
        "      <td> 0.850</td>\n",
        "      <td> 1.249883</td>\n",
        "      <td> 1.100</td>\n",
        "    </tr>\n",
        "    <tr>\n",
        "      <th>448</th>\n",
        "      <td> 2.484098</td>\n",
        "      <td> 0.925</td>\n",
        "      <td> 1.234215</td>\n",
        "      <td> 1.050</td>\n",
        "      <td> 1.249883</td>\n",
        "      <td> 1.100</td>\n",
        "    </tr>\n",
        "    <tr>\n",
        "      <th>597</th>\n",
        "      <td> 2.530268</td>\n",
        "      <td> 0.925</td>\n",
        "      <td> 1.270642</td>\n",
        "      <td> 1.150</td>\n",
        "      <td> 1.259626</td>\n",
        "      <td> 1.125</td>\n",
        "    </tr>\n",
        "  </tbody>\n",
        "</table>\n",
        "<p>22 rows \u00d7 6 columns</p>\n",
        "</div>"
       ],
       "metadata": {},
       "output_type": "pyout",
       "prompt_number": 23,
       "text": [
        "            p      v        p0     v0        p1     v1\n",
        "2    2.587064  0.925  1.327439  1.250  1.259626  1.125\n",
        "12   2.543857  0.925  1.247364  0.750  1.296493  1.200\n",
        "63   2.509508  0.925  1.249883  1.100  1.259626  1.125\n",
        "70   2.638768  0.925  1.311329  1.225  1.327439  1.250\n",
        "92   2.449700  0.925  1.232367  0.800  1.217333  0.925\n",
        "95   2.545544  0.925  1.311329  1.225  1.234215  1.050\n",
        "141  2.577321  0.925  1.249883  1.100  1.327439  1.250\n",
        "154  2.458746  0.925  1.217333  0.925  1.241412  1.075\n",
        "162  2.519006  0.925  1.222513  0.850  1.296493  1.200\n",
        "182  2.607822  0.925  1.311329  1.225  1.296493  1.200\n",
        "224  2.487917  0.925  1.259626  1.125  1.228291  1.025\n",
        "244  2.436321  0.925  1.218161  0.950  1.218161  0.950\n",
        "286  2.574802  0.925  1.327439  1.250  1.247364  0.750\n",
        "382  2.623932  0.925  1.296493  1.200  1.327439  1.250\n",
        "383  2.434666  0.925  1.217333  0.925  1.217333  0.925\n",
        "413  2.504857  0.925  1.234215  1.050  1.270642  1.150\n",
        "422  2.598080  0.925  1.327439  1.250  1.270642  1.150\n",
        "426  2.559806  0.925  1.232367  0.800  1.327439  1.250\n",
        "432  2.654877  0.925  1.327439  1.250  1.327439  1.250\n",
        "437  2.472396  0.925  1.222513  0.850  1.249883  1.100\n",
        "448  2.484098  0.925  1.234215  1.050  1.249883  1.100\n",
        "597  2.530268  0.925  1.270642  1.150  1.259626  1.125\n",
        "\n",
        "[22 rows x 6 columns]"
       ]
      }
     ],
     "prompt_number": 23
    },
    {
     "cell_type": "markdown",
     "metadata": {},
     "source": [
      "####Checks"
     ]
    },
    {
     "cell_type": "code",
     "collapsed": false,
     "input": [
      "c = list(sorted(b0.candidates))[0]\n",
      "print(c)"
     ],
     "language": "python",
     "metadata": {},
     "outputs": [
      {
       "output_type": "stream",
       "stream": "stdout",
       "text": [
        "   bucket         p        p0        p1     v     v0     v1\n",
        "0    5.14  5.137664  1.227326  3.910338  0.75  0.775  0.925\n",
        "\n",
        "[1 rows x 7 columns]\n"
       ]
      }
     ],
     "prompt_number": 24
    },
    {
     "cell_type": "code",
     "collapsed": false,
     "input": [
      "pm = c.predecessors[0][0]\n",
      "vm = c.v\n",
      "vk = c.predecessors[0][1]\n",
      "print(pm,vm,vk)\n",
      "pk_2,t = pk_t(G,B,vk,vm,pm)\n",
      "print(pk_2,t)"
     ],
     "language": "python",
     "metadata": {},
     "outputs": [
      {
       "output_type": "stream",
       "stream": "stdout",
       "text": [
        "1.22732587747 0.75 0.775\n",
        "-1.2 -0.215841847944\n"
       ]
      }
     ],
     "prompt_number": 25
    },
    {
     "cell_type": "code",
     "collapsed": false,
     "input": [
      "def check_b(c):\n",
      "    pm = c.predecessors[0][0]\n",
      "    vm = c.v\n",
      "    vk = c.predecessors[0][1]\n",
      "    pk_2,t = pk_t(G,B,vk,vm,pm)\n",
      "    return check(B,G, pk_2, pm, vk, vm, -t*180/pi)\n",
      "max(check_b(c) for c in sorted(b0.candidates))"
     ],
     "language": "python",
     "metadata": {},
     "outputs": [
      {
       "metadata": {},
       "output_type": "pyout",
       "prompt_number": 28,
       "text": [
        "4.4401423103147383e-14"
       ]
      }
     ],
     "prompt_number": 28
    },
    {
     "cell_type": "code",
     "collapsed": false,
     "input": [
      "def check_b(c):\n",
      "    pm = c.predecessors[1][0]\n",
      "    vm = c.v\n",
      "    vk = c.predecessors[1][1]\n",
      "    pk_2,t = pk_t(G,B,vk,vm,pm)\n",
      "    return check(B,G, pk_2, pm, vk, vm, -t*180/pi)\n",
      "max(check_b(c) for c in sorted(b2.candidates))"
     ],
     "language": "python",
     "metadata": {},
     "outputs": [
      {
       "metadata": {},
       "output_type": "pyout",
       "prompt_number": 29,
       "text": [
        "3.4046839421839285e-14"
       ]
      }
     ],
     "prompt_number": 29
    },
    {
     "cell_type": "markdown",
     "metadata": {},
     "source": [
      "###GLLL...$L_n$ case\n",
      "\n",
      "    | L1--G0--Ln\n",
      "    |    / |\\\n",
      "    |   /  | \\\n",
      "    |  L2  L3 ..."
     ]
    },
    {
     "cell_type": "code",
     "collapsed": false,
     "input": [
      "r, x = .01, .1\n",
      "G, B = r/(r**2+x**2), -x/(r**2+x**2)\n",
      "#d1, d2, d3, d4 = 1.2, 1.2, 1.2, 1.2\n",
      "v1hat = 1\n",
      "#p0min, p0max = 4.8, 6\n",
      "N = 3\n",
      "R1 = 20\n",
      "R2 = 10\n",
      "VRANGE = linspace(.75, 1.25, N)\n",
      "VRANGE = linspace(.95, 1.05, N)\n",
      "VRANGE"
     ],
     "language": "python",
     "metadata": {},
     "outputs": [
      {
       "metadata": {},
       "output_type": "pyout",
       "prompt_number": 30,
       "text": [
        "array([ 0.95,  1.  ,  1.05])"
       ]
      }
     ],
     "prompt_number": 30
    },
    {
     "cell_type": "code",
     "collapsed": false,
     "input": [
      "bs = [Bus(x) for x in [1,2,3]*3]\n",
      "b0 = Bus(0., bs)"
     ],
     "language": "python",
     "metadata": {},
     "outputs": [],
     "prompt_number": 33
    },
    {
     "cell_type": "code",
     "collapsed": false,
     "input": [
      "%%time\n",
      "b0.f2()\n",
      "print(len(b0.candidates), b0.n)"
     ],
     "language": "python",
     "metadata": {},
     "outputs": [
      {
       "output_type": "stream",
       "stream": "stdout",
       "text": [
        "3 21\n",
        "CPU times: user 1.43 ms, sys: 305 \u00b5s, total: 1.73 ms\n",
        "Wall time: 1.47 ms\n"
       ]
      }
     ],
     "prompt_number": 34
    },
    {
     "cell_type": "code",
     "collapsed": true,
     "input": [
      "b0.pretty().head()"
     ],
     "language": "python",
     "metadata": {},
     "outputs": [
      {
       "html": [
        "<div style=\"max-height:1000px;max-width:1500px;overflow:auto;\">\n",
        "<table border=\"1\" class=\"dataframe\">\n",
        "  <thead>\n",
        "    <tr style=\"text-align: right;\">\n",
        "      <th></th>\n",
        "      <th>p</th>\n",
        "      <th>v</th>\n",
        "      <th>p0</th>\n",
        "      <th>v0</th>\n",
        "      <th>p1</th>\n",
        "      <th>v1</th>\n",
        "      <th>p2</th>\n",
        "      <th>v2</th>\n",
        "      <th>p3</th>\n",
        "      <th>v3</th>\n",
        "      <th>p4</th>\n",
        "      <th>v4</th>\n",
        "      <th>p5</th>\n",
        "      <th>v5</th>\n",
        "      <th>p6</th>\n",
        "      <th>v6</th>\n",
        "      <th>p7</th>\n",
        "      <th>v7</th>\n",
        "      <th>p8</th>\n",
        "      <th>v8</th>\n",
        "    </tr>\n",
        "  </thead>\n",
        "  <tbody>\n",
        "    <tr>\n",
        "      <th>0</th>\n",
        "      <td> 18.507097</td>\n",
        "      <td> 0.95</td>\n",
        "      <td> 1.014356</td>\n",
        "      <td> 1.00</td>\n",
        "      <td> 2.048714</td>\n",
        "      <td> 1.00</td>\n",
        "      <td> 3.107730</td>\n",
        "      <td> 1.00</td>\n",
        "      <td> 1.014356</td>\n",
        "      <td> 1.00</td>\n",
        "      <td> 2.046412</td>\n",
        "      <td> 0.95</td>\n",
        "      <td> 3.107730</td>\n",
        "      <td> 1.00</td>\n",
        "      <td> 1.011355</td>\n",
        "      <td> 0.95</td>\n",
        "      <td> 2.048714</td>\n",
        "      <td> 1.00</td>\n",
        "      <td> 3.107730</td>\n",
        "      <td> 1.00</td>\n",
        "    </tr>\n",
        "    <tr>\n",
        "      <th>1</th>\n",
        "      <td> 18.456230</td>\n",
        "      <td> 1.00</td>\n",
        "      <td> 1.012255</td>\n",
        "      <td> 0.95</td>\n",
        "      <td> 2.044225</td>\n",
        "      <td> 1.05</td>\n",
        "      <td> 3.097019</td>\n",
        "      <td> 1.05</td>\n",
        "      <td> 1.010230</td>\n",
        "      <td> 1.00</td>\n",
        "      <td> 2.044366</td>\n",
        "      <td> 0.95</td>\n",
        "      <td> 3.096173</td>\n",
        "      <td> 1.00</td>\n",
        "      <td> 1.013258</td>\n",
        "      <td> 1.05</td>\n",
        "      <td> 2.041685</td>\n",
        "      <td> 1.00</td>\n",
        "      <td> 3.097019</td>\n",
        "      <td> 1.05</td>\n",
        "    </tr>\n",
        "    <tr>\n",
        "      <th>2</th>\n",
        "      <td> 18.451361</td>\n",
        "      <td> 1.05</td>\n",
        "      <td> 1.011265</td>\n",
        "      <td> 1.00</td>\n",
        "      <td> 2.047780</td>\n",
        "      <td> 0.95</td>\n",
        "      <td> 3.086561</td>\n",
        "      <td> 1.05</td>\n",
        "      <td> 1.018306</td>\n",
        "      <td> 0.95</td>\n",
        "      <td> 2.047780</td>\n",
        "      <td> 0.95</td>\n",
        "      <td> 3.100141</td>\n",
        "      <td> 0.95</td>\n",
        "      <td> 1.011265</td>\n",
        "      <td> 1.00</td>\n",
        "      <td> 2.037662</td>\n",
        "      <td> 1.05</td>\n",
        "      <td> 3.090600</td>\n",
        "      <td> 1.00</td>\n",
        "    </tr>\n",
        "  </tbody>\n",
        "</table>\n",
        "<p>3 rows \u00d7 20 columns</p>\n",
        "</div>"
       ],
       "metadata": {},
       "output_type": "pyout",
       "prompt_number": 35,
       "text": [
        "           p     v        p0    v0        p1    v1        p2    v2        p3  \\\n",
        "0  18.507097  0.95  1.014356  1.00  2.048714  1.00  3.107730  1.00  1.014356   \n",
        "1  18.456230  1.00  1.012255  0.95  2.044225  1.05  3.097019  1.05  1.010230   \n",
        "2  18.451361  1.05  1.011265  1.00  2.047780  0.95  3.086561  1.05  1.018306   \n",
        "\n",
        "     v3        p4    v4        p5    v5        p6    v6        p7    v7  \\\n",
        "0  1.00  2.046412  0.95  3.107730  1.00  1.011355  0.95  2.048714  1.00   \n",
        "1  1.00  2.044366  0.95  3.096173  1.00  1.013258  1.05  2.041685  1.00   \n",
        "2  0.95  2.047780  0.95  3.100141  0.95  1.011265  1.00  2.037662  1.05   \n",
        "\n",
        "         p8    v8  \n",
        "0  3.107730  1.00  \n",
        "1  3.097019  1.05  \n",
        "2  3.090600  1.00  \n",
        "\n",
        "[3 rows x 20 columns]"
       ]
      }
     ],
     "prompt_number": 35
    },
    {
     "cell_type": "code",
     "collapsed": false,
     "input": [
      "bs[0].candidates"
     ],
     "language": "python",
     "metadata": {},
     "outputs": [
      {
       "metadata": {},
       "output_type": "pyout",
       "prompt_number": 36,
       "text": [
        "{CumProd(0.94999999999999996, []), CumProd(1.0, []), CumProd(1.05, [])}"
       ]
      }
     ],
     "prompt_number": 36
    },
    {
     "cell_type": "markdown",
     "metadata": {},
     "source": [
      "###Checks\n",
      "\n",
      "this doesn't work yet... make it work"
     ]
    },
    {
     "cell_type": "code",
     "collapsed": false,
     "input": [
      "def check_sol(x):\n",
      "    lines = all_lines(convert(x), d1=d1, d2=d2, d3=d3, d4=d4)\n",
      "    return max(check(b,g,*line) for line in lines)\n",
      "max(check_sol(x) for x in s)"
     ],
     "language": "python",
     "metadata": {},
     "outputs": []
    }
   ],
   "metadata": {}
  }
 ]
}