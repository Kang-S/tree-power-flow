{
 "metadata": {
  "name": ""
 },
 "nbformat": 3,
 "nbformat_minor": 0,
 "worksheets": [
  {
   "cells": [
    {
     "cell_type": "markdown",
     "metadata": {},
     "source": [
      "This two bus case should easily generalize to the \"multiple loads directly connected to one generator\" case. In the search loop, simply check that $e_2$ and $f_2$ are finite for all the loads.\n",
      "\n",
      "Next step is adding in a desired $f_1 \\neq 0$. This makes the finiteness check a little nastier, see the bottom of babygrid5.nb but still straightforward. Might as well allow for the possibility $g=0$ at this point, which is a different but easier check... actually I think the $f_1 \\neq 0$ isn't necessary. Only the difference in angle is used for adjacent buses; can assume $f_1=0$ and rotate to match reality.\n",
      "\n",
      "At this point we are prepared to give a score to the case. You give me a target $p_1,e_1,f_1$ and I will search the feasible space to find the closest triple. This won't be hard.\n",
      "\n",
      "**What will be hard**\n",
      "\n",
      "The next step: with a 'subtree' and a score, how do we tie this together into a DP framework."
     ]
    },
    {
     "cell_type": "markdown",
     "metadata": {},
     "source": [
      "**Starting at the leaves**\n",
      "\n",
      "As above, enumerate $e_1,p_1$ to find $e_2,f_2$. But in general, where do you get the range of $p_1$ to enumerate over? Could just do something like $[p_2,1.5p_2]$... how much power can really be lost in transmission over one line?\n",
      "\n",
      "Solution -- only so much real power can be lost, see bottom of this notebook.\n",
      "\n",
      "Or enumerate $e_2,f_2$ to find $e_1,p_1$. But what do you do with these, try to match them up somehow?\n",
      "\n",
      "**Starting at the root**\n",
      "\n",
      "Enumerate $e_1,p_1$ and push out power without yet knowing the demand... doesn't really make sense... but this is what Dan seems to be suggesting. Maybe it does make sense. You push down power, then recurse all the way to the leaves. Then do as above."
     ]
    },
    {
     "cell_type": "code",
     "collapsed": false,
     "input": [
      "from math import sqrt, atan2, cos, sin\n",
      "import numpy as np\n",
      "from collections import namedtuple\n",
      "\n",
      "def z2y(r, x):\n",
      "    ''' converts impedance Z=R+jX to admittance Y=G+jB '''\n",
      "    return r/(r**2+x**2), -x/(r**2+x**2)\n",
      "def v2ef(v, t):\n",
      "    ''' converts magnitude v and angle t in degrees\n",
      "        to rectangular coordinates e and f '''\n",
      "    return v*cos(t*pi/180), v*sin(t*pi/180)\n",
      "def ef2v(e,f):\n",
      "    ''' computes magnitude v from rectangular coordinates e and f '''\n",
      "    return sqrt(e**2+f**2)\n",
      "def ef2t(e,f):\n",
      "    ''' computes angle t from rectangular coordinates e and f '''\n",
      "    return atan2(f,e)*180/pi\n",
      "\n",
      "class two_bus:\n",
      "    def __init__(self, g, b, p2, v1=1, L=.9, U=1.1):\n",
      "        self.g = g\n",
      "        self.b = b\n",
      "        self.p2 = p2\n",
      "        self.v1 = v1 # I believe this is only the target voltage\n",
      "        self.v1min = .8\n",
      "        self.v1max = 1.2\n",
      "        self.L = L\n",
      "        self.U = U\n",
      "    def e1(self, e2, f2):\n",
      "        b, g, p2 = self.b, self.g, self.p2\n",
      "        return (g*(e2**2+f2**2)-p2)/(g*e2+b*f2)\n",
      "    def p1(self, e1, e2, f2):\n",
      "        b, g, p2 = self.b, self.g, self.p2\n",
      "        return g*(e1**2-e1*e2)+b*e1*f2\n",
      "    def e2(self, e1, p1):\n",
      "        b, g, p2 = self.b, self.g, self.p2\n",
      "        A = g*(b**2+g**2)*e1**2-g**2*p1\n",
      "        try:\n",
      "            B = b*sqrt(g*(-g*p1**2+(b**2+g**2)*e1**2*(p1+p2)))\n",
      "        except ValueError:\n",
      "            return np.inf, np.inf\n",
      "        C = g*(b**2+g**2)*e1\n",
      "        return (A+B)/C, (A-B)/C\n",
      "    def f2(self, e1, p1):\n",
      "        b, g, p2 = self.b, self.g, self.p2\n",
      "        A = b*p1\n",
      "        try:\n",
      "            B = sqrt(g*(-g*p1**2+(b**2+g**2)*e1**2*(p1+p2)))\n",
      "        except ValueError:\n",
      "            return np.inf, np.inf\n",
      "        C = (b**2+g**2)*e1\n",
      "        return (A+B)/C, (A-B)/C\n",
      "    def search1(self):\n",
      "        ''' NOT what we want. this enumerates at the root and pushes down '''\n",
      "        n = 100\n",
      "        p = np.empty((n,n))\n",
      "        e = np.empty((n,n))\n",
      "        cost = np.empty((n,n))\n",
      "        for i,p1 in enumerate(np.linspace(self.L,self.U,n)):\n",
      "            for j,e1 in enumerate(np.linspace(self.v1min,self.v1max,n)):\n",
      "                p[i,j] = p1\n",
      "                e[i,j] = e1\n",
      "                e2,_ = self.e2(e1,p1)\n",
      "                f2,_ = self.f2(e1,p1)\n",
      "                if np.isfinite(e2) and np.isfinite(f2):\n",
      "                    cost[i,j] = (e1-self.v1)**2\n",
      "                else:\n",
      "                    cost[i,j] = np.inf\n",
      "        i = np.unravel_index(cost.argmin(), (n,n))\n",
      "        return (p[i],e[i],cost[i])\n",
      "    def search2(self):\n",
      "        ''' according to Dan, this is what we want. start at the leaves and move up '''\n",
      "        n = 200\n",
      "        e1list = np.empty((n,n))\n",
      "        p1list = np.empty((n,n))\n",
      "        e2list = np.empty((n,n))\n",
      "        f2list = np.empty((n,n))\n",
      "        cost = np.empty((n,n))\n",
      "        for i,e2 in enumerate(np.linspace(.8,1.0,n)):\n",
      "            for j,f2 in enumerate(np.linspace(-.5,.5,n)):\n",
      "                e2list[i,j] = e2\n",
      "                f2list[i,j] = f2\n",
      "                e1 = self.e1(e2,f2)\n",
      "                e1list[i,j] = e1\n",
      "                p1list[i,j] = self.p1(e1, e2, f2)\n",
      "                cost[i,j] = (e1-self.v1)**2           \n",
      "        i = np.unravel_index(cost.argmin(), (n,n))\n",
      "        return (e1list[i], p1list[i], e2list[i],f2list[i],cost[i])\n",
      "    def sanity_check(self, e1, p1, e2, f2):\n",
      "        ''' are power flow equations close to satisfied? '''\n",
      "        b, g, p2 = self.b, self.g, self.p2\n",
      "        error1 = p1 - (g*(e1**2-e1*e2)+b*e1*f2)\n",
      "        error2 = p2 - (g*(e2**2+f2**2-e1*e2)-b*e1*f2)\n",
      "        return error1, error2"
     ],
     "language": "python",
     "metadata": {},
     "outputs": [],
     "prompt_number": 15
    },
    {
     "cell_type": "code",
     "collapsed": false,
     "input": [
      "p2, v1 = -1, 1 # demand at load; target voltage at root\n",
      "x, r = .02, .2 # impedance and resistance, from matpower\n",
      "g, b = z2y(x, r) # convert to susceptance and conductance\n",
      "T = two_bus(g, b, p2, v1)"
     ],
     "language": "python",
     "metadata": {},
     "outputs": [],
     "prompt_number": 16
    },
    {
     "cell_type": "code",
     "collapsed": false,
     "input": [
      "e1,p1,e2,f2,cost = T.search2()\n",
      "print 'V1: %f\\nP1: %f\\ne2,f2: %f, %f\\nV2, theta2: %f, %f\\nobjective: %g' % (e1,p1,e2,f2,ef2v(e2,f2), ef2t(e2,f2), cost)\n",
      "print T.sanity_check(e1,p1,e2,f2)"
     ],
     "language": "python",
     "metadata": {},
     "outputs": [
      {
       "output_type": "stream",
       "stream": "stdout",
       "text": [
        "V1: 0.999948\n",
        "P1: 1.020868\n",
        "e2,f2: 0.972864, -0.203518\n",
        "V2, theta2: 0.993924, -11.815554\n",
        "objective: 2.68282e-09\n",
        "(0.0, -1.1102230246251565e-16)\n"
       ]
      }
     ],
     "prompt_number": 19
    },
    {
     "cell_type": "code",
     "collapsed": false,
     "input": [
      "e2,e2_2 = T.e2(1,1.02183668596211)\n",
      "f2,f2_2 = T.f2(1,1.02183668596211)\n",
      "print e2, f2, sqrt(e2**2+f2**2), atan2(f2,e2)*180/pi\n",
      "print e2_2, f2_2, sqrt(e2_2**2+f2_2**2), atan2(f2_2,e2_2)*180/pi"
     ],
     "language": "python",
     "metadata": {},
     "outputs": [
      {
       "output_type": "stream",
       "stream": "stdout",
       "text": [
        "0.935889894381 -0.200000000002 0.9570213657 -12.0626868886\n",
        "1.02323663818 -0.208734674382 1.04431000283 -11.529829357\n"
       ]
      }
     ],
     "prompt_number": 81
    },
    {
     "cell_type": "code",
     "collapsed": false,
     "input": [
      "from IPython.display import Latex\n",
      "Latex(r'''\n",
      "$$e_2 = \\frac{\\pm b \\sqrt{g \\left(e_1^2 \\left(P_1+P_2\\right) \\left(b^2+g^2\\right)-g P_1^2\\right)}+e_1^2 g \\left(b^2+g^2\\right)+g^2 \\left(-P_1\\right)}{e_1 g \\left(b^2+g^2\\right)}$$\n",
      "$$f_2 = \\frac{b P_1\\pm\\sqrt{g \\left(e_1^2 \\left(P_1+P_2\\right) \\left(b^2+g^2\\right)-g P_1^2\\right)}}{e_1 \\left(b^2+g^2\\right)}$$\n",
      "''')"
     ],
     "language": "python",
     "metadata": {},
     "outputs": [
      {
       "latex": [
        "\n",
        "$$e_2 = \\frac{\\pm b \\sqrt{g \\left(e_1^2 \\left(P_1+P_2\\right) \\left(b^2+g^2\\right)-g P_1^2\\right)}+e_1^2 g \\left(b^2+g^2\\right)+g^2 \\left(-P_1\\right)}{e_1 g \\left(b^2+g^2\\right)}$$\n",
        "$$f_2 = \\frac{b P_1\\pm\\sqrt{g \\left(e_1^2 \\left(P_1+P_2\\right) \\left(b^2+g^2\\right)-g P_1^2\\right)}}{e_1 \\left(b^2+g^2\\right)}$$\n"
       ],
       "output_type": "pyout",
       "prompt_number": 6,
       "text": [
        "<IPython.core.display.Latex at 0x7f3e78ac8450>"
       ]
      }
     ],
     "prompt_number": 6
    },
    {
     "cell_type": "code",
     "collapsed": false,
     "input": [
      "Latex(r'''\n",
      "Real power loss between buses $k$ and $m$:\n",
      "$$P_{km}+P_{mk} = g_{km}\\left(|V_k|-|V_m|\\right)^2$$\n",
      "Since we're probably only enumerating the $V$s from at worst .5 to 1.5, we can bound this by $g_{km}$.\n",
      "''')"
     ],
     "language": "python",
     "metadata": {},
     "outputs": [
      {
       "latex": [
        "\n",
        "Real power loss between buses $k$ and $m$:\n",
        "$$P_{km}+P_{mk} = g_{km}\\left(|V_k|-|V_m|\\right)^2$$\n",
        "Since we're probably only enumerating the $V$s from at worst .5 to 1.5, we can bound this by $g_{km}$\n"
       ],
       "output_type": "pyout",
       "prompt_number": 12,
       "text": [
        "<IPython.core.display.Latex at 0x7f3e78ac8710>"
       ]
      }
     ],
     "prompt_number": 12
    },
    {
     "cell_type": "code",
     "collapsed": false,
     "input": [],
     "language": "python",
     "metadata": {},
     "outputs": []
    }
   ],
   "metadata": {}
  }
 ]
}