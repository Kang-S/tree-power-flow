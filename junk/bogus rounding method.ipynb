{
 "metadata": {
  "name": ""
 },
 "nbformat": 3,
 "nbformat_minor": 0,
 "worksheets": [
  {
   "cells": [
    {
     "cell_type": "code",
     "collapsed": false,
     "input": [
      "from __future__ import print_function, division\n",
      "from itertools import product #cartesian product\n",
      "from math import sqrt, cos, sin, atan2\n",
      "from pandas import DataFrame\n",
      "from IPython.display import HTML\n",
      "from case5 import *"
     ],
     "language": "python",
     "metadata": {},
     "outputs": [],
     "prompt_number": 1
    },
    {
     "cell_type": "code",
     "collapsed": false,
     "input": [
      "r, x = .01, .1\n",
      "g, b = r/(r**2+x**2), -x/(r**2+x**2)\n",
      "d1, d2, d3, d4 = 1, 1, 1, 1\n",
      "v1hat = 1\n",
      "p0min, p0max = 4, 5\n",
      "n=20 # number of points to use in each enumeration"
     ],
     "language": "python",
     "metadata": {},
     "outputs": [],
     "prompt_number": 9
    },
    {
     "cell_type": "markdown",
     "metadata": {},
     "source": [
      "To start, let's not round but just not repeat ourselves. Consider only unique $(P_2,V_2)$ pairs."
     ]
    },
    {
     "cell_type": "code",
     "collapsed": false,
     "input": [
      "#%%timeit\n",
      "p23range = linspace(d3, d3+g, n)\n",
      "p24range = linspace(d4, d4+g, n)\n",
      "\n",
      "v2range = linspace(.5, 1.5, n)\n",
      "def step2(b,g,p23,p24,v2,d3,d4):\n",
      "    v3,t3 = vm_t(b, g, -d3, v2, p23)\n",
      "    v4,t4 = vm_t(b, g, -d4, v2, p24)\n",
      "    p2 = -(d2+p23+p24)\n",
      "    d = {'p2':p2, 'p23': p23, 'p24': p24, 'v2':v2, 'v3':v3, 't3':180/pi*t3, \n",
      "         'v4':v4, 't4':180/pi*t4}\n",
      "    return ((p2,v2), d) if ~isnan(v3) and ~isnan(v4) else (None, None)\n",
      "#for p23,p24,v2 in product(p23range, p24range, v2range):\n",
      "#    for x in step2(b,g,p23,p24,v2,d3,d4):\n",
      "#        print(x)\n",
      "#    raise\n",
      "candidates = dict(step2(b,g,p23,p24,v2,d3,d4) for p23,p24,v2 in product(p23range, p24range, v2range))\n",
      "del candidates[None]\n",
      "candidates = candidates.values()\n",
      "#candidates = [x for x in candidates if x is not None]\n",
      "print(len(candidates))"
     ],
     "language": "python",
     "metadata": {},
     "outputs": [
      {
       "output_type": "stream",
       "stream": "stdout",
       "text": [
        "1220\n"
       ]
      }
     ],
     "prompt_number": 10
    },
    {
     "cell_type": "code",
     "collapsed": false,
     "input": [
      "v0range = [1] # for this case, it isn't necessary to even enumerate V0\n",
      "def step3(v0,d):\n",
      "    v2,p2 = d['v2'], d['p2']\n",
      "    p02, t2 = pi_t(g,b,v0,v2,p2)\n",
      "    d['v0'] = v0\n",
      "    d['p02'] = p02\n",
      "    d['t2'] = 180/pi*t2\n",
      "    return d if ~isnan(p02) else None\n",
      "candidates = [step3(v0,d.copy()) for v0, d in product(v0range, candidates)]\n",
      "candidates = [x for x in candidates if x is not None]\n",
      "print(len(candidates))"
     ],
     "language": "python",
     "metadata": {},
     "outputs": [
      {
       "output_type": "stream",
       "stream": "stdout",
       "text": [
        "1215\n"
       ]
      }
     ],
     "prompt_number": 11
    },
    {
     "cell_type": "code",
     "collapsed": false,
     "input": [
      "p01range = linspace(d1, d1+g, n)\n",
      "def step4(p01, d):\n",
      "    v1,t1 = vm_t(b, g, -d1, d['v0'], p01)\n",
      "    d['v1'] = v1\n",
      "    d['t1'] = 180/pi*t1\n",
      "    d['p01'] = p01\n",
      "    d['p0'] = p01 + d['p02']\n",
      "    return d if ~isnan(v1) else None\n",
      "candidates = [step4(p01, d.copy()) for p01, d in product(p01range, candidates)]\n",
      "candidates = [x for x in candidates if x is not None]\n",
      "print(len(candidates))\n",
      "\n",
      "solutions = [x for x in candidates if 4.0 <= x['p0'] <= 5.0]"
     ],
     "language": "python",
     "metadata": {},
     "outputs": [
      {
       "output_type": "stream",
       "stream": "stdout",
       "text": [
        "23085\n"
       ]
      }
     ],
     "prompt_number": 12
    },
    {
     "cell_type": "code",
     "collapsed": false,
     "input": [
      "print('Total optimal solutions:', len(solutions))"
     ],
     "language": "python",
     "metadata": {},
     "outputs": [
      {
       "output_type": "stream",
       "stream": "stdout",
       "text": [
        "Total optimal solutions: 3208\n"
       ]
      }
     ],
     "prompt_number": 13
    },
    {
     "cell_type": "code",
     "collapsed": false,
     "input": [
      "df = DataFrame(solutions).sort(columns='p0', ascending=True).head(10)\n",
      "HTML(df.to_html(float_format=lambda x: '%.3f' % x))"
     ],
     "language": "python",
     "metadata": {},
     "outputs": [
      {
       "html": [
        "<table border=\"1\" class=\"dataframe\">\n",
        "  <thead>\n",
        "    <tr style=\"text-align: right;\">\n",
        "      <th></th>\n",
        "      <th>p0</th>\n",
        "      <th>p01</th>\n",
        "      <th>p02</th>\n",
        "      <th>p2</th>\n",
        "      <th>p23</th>\n",
        "      <th>p24</th>\n",
        "      <th>t1</th>\n",
        "      <th>t2</th>\n",
        "      <th>t3</th>\n",
        "      <th>t4</th>\n",
        "      <th>v0</th>\n",
        "      <th>v1</th>\n",
        "      <th>v2</th>\n",
        "      <th>v3</th>\n",
        "      <th>v4</th>\n",
        "    </tr>\n",
        "  </thead>\n",
        "  <tbody>\n",
        "    <tr>\n",
        "      <td><strong>18 </strong></td>\n",
        "      <td>4.259</td>\n",
        "      <td>1.052</td>\n",
        "      <td>3.207</td>\n",
        "      <td>-3.104</td>\n",
        "      <td>1.052</td>\n",
        "      <td>1.052</td>\n",
        "      <td>-6.162</td>\n",
        "      <td>-18.249</td>\n",
        "      <td> -5.774</td>\n",
        "      <td> -5.774</td>\n",
        "      <td> 1</td>\n",
        "      <td>0.791</td>\n",
        "      <td>1.026</td>\n",
        "      <td>0.816</td>\n",
        "      <td>0.816</td>\n",
        "    </tr>\n",
        "    <tr>\n",
        "      <td><strong>140</strong></td>\n",
        "      <td>4.262</td>\n",
        "      <td>1.052</td>\n",
        "      <td>3.209</td>\n",
        "      <td>-3.104</td>\n",
        "      <td>1.052</td>\n",
        "      <td>1.052</td>\n",
        "      <td>-6.162</td>\n",
        "      <td>-18.953</td>\n",
        "      <td> -6.585</td>\n",
        "      <td> -6.585</td>\n",
        "      <td> 1</td>\n",
        "      <td>0.791</td>\n",
        "      <td>0.974</td>\n",
        "      <td>0.767</td>\n",
        "      <td>0.767</td>\n",
        "    </tr>\n",
        "    <tr>\n",
        "      <td><strong>458</strong></td>\n",
        "      <td>4.263</td>\n",
        "      <td>1.052</td>\n",
        "      <td>3.211</td>\n",
        "      <td>-3.104</td>\n",
        "      <td>1.052</td>\n",
        "      <td>1.052</td>\n",
        "      <td>-6.162</td>\n",
        "      <td>-17.649</td>\n",
        "      <td> -5.091</td>\n",
        "      <td> -5.091</td>\n",
        "      <td> 1</td>\n",
        "      <td>0.791</td>\n",
        "      <td>1.079</td>\n",
        "      <td>0.866</td>\n",
        "      <td>0.866</td>\n",
        "    </tr>\n",
        "    <tr>\n",
        "      <td><strong>119</strong></td>\n",
        "      <td>4.270</td>\n",
        "      <td>1.052</td>\n",
        "      <td>3.218</td>\n",
        "      <td>-3.104</td>\n",
        "      <td>1.052</td>\n",
        "      <td>1.052</td>\n",
        "      <td>-6.162</td>\n",
        "      <td>-19.780</td>\n",
        "      <td> -7.558</td>\n",
        "      <td> -7.558</td>\n",
        "      <td> 1</td>\n",
        "      <td>0.791</td>\n",
        "      <td>0.921</td>\n",
        "      <td>0.718</td>\n",
        "      <td>0.718</td>\n",
        "    </tr>\n",
        "    <tr>\n",
        "      <td><strong>183</strong></td>\n",
        "      <td>4.273</td>\n",
        "      <td>1.052</td>\n",
        "      <td>3.221</td>\n",
        "      <td>-3.104</td>\n",
        "      <td>1.052</td>\n",
        "      <td>1.052</td>\n",
        "      <td>-6.162</td>\n",
        "      <td>-17.138</td>\n",
        "      <td> -4.513</td>\n",
        "      <td> -4.513</td>\n",
        "      <td> 1</td>\n",
        "      <td>0.791</td>\n",
        "      <td>1.132</td>\n",
        "      <td>0.917</td>\n",
        "      <td>0.917</td>\n",
        "    </tr>\n",
        "    <tr>\n",
        "      <td><strong>37 </strong></td>\n",
        "      <td>4.285</td>\n",
        "      <td>1.052</td>\n",
        "      <td>3.233</td>\n",
        "      <td>-3.104</td>\n",
        "      <td>1.052</td>\n",
        "      <td>1.052</td>\n",
        "      <td>-6.162</td>\n",
        "      <td>-20.754</td>\n",
        "      <td> -8.732</td>\n",
        "      <td> -8.732</td>\n",
        "      <td> 1</td>\n",
        "      <td>0.791</td>\n",
        "      <td>0.868</td>\n",
        "      <td>0.671</td>\n",
        "      <td>0.671</td>\n",
        "    </tr>\n",
        "    <tr>\n",
        "      <td><strong>180</strong></td>\n",
        "      <td>4.289</td>\n",
        "      <td>1.052</td>\n",
        "      <td>3.237</td>\n",
        "      <td>-3.104</td>\n",
        "      <td>1.052</td>\n",
        "      <td>1.052</td>\n",
        "      <td>-6.162</td>\n",
        "      <td>-16.702</td>\n",
        "      <td> -4.020</td>\n",
        "      <td> -4.020</td>\n",
        "      <td> 1</td>\n",
        "      <td>0.791</td>\n",
        "      <td>1.184</td>\n",
        "      <td>0.967</td>\n",
        "      <td>0.967</td>\n",
        "    </tr>\n",
        "    <tr>\n",
        "      <td><strong>124</strong></td>\n",
        "      <td>4.307</td>\n",
        "      <td>1.052</td>\n",
        "      <td>3.254</td>\n",
        "      <td>-3.104</td>\n",
        "      <td>1.052</td>\n",
        "      <td>1.052</td>\n",
        "      <td>-6.162</td>\n",
        "      <td>-21.908</td>\n",
        "      <td>-10.160</td>\n",
        "      <td>-10.160</td>\n",
        "      <td> 1</td>\n",
        "      <td>0.791</td>\n",
        "      <td>0.816</td>\n",
        "      <td>0.624</td>\n",
        "      <td>0.624</td>\n",
        "    </tr>\n",
        "    <tr>\n",
        "      <td><strong>88 </strong></td>\n",
        "      <td>4.311</td>\n",
        "      <td>1.052</td>\n",
        "      <td>3.259</td>\n",
        "      <td>-3.104</td>\n",
        "      <td>1.052</td>\n",
        "      <td>1.052</td>\n",
        "      <td>-6.162</td>\n",
        "      <td>-16.332</td>\n",
        "      <td> -3.596</td>\n",
        "      <td> -3.596</td>\n",
        "      <td> 1</td>\n",
        "      <td>0.791</td>\n",
        "      <td>1.237</td>\n",
        "      <td>1.019</td>\n",
        "      <td>1.019</td>\n",
        "    </tr>\n",
        "    <tr>\n",
        "      <td><strong>496</strong></td>\n",
        "      <td>4.311</td>\n",
        "      <td>1.104</td>\n",
        "      <td>3.207</td>\n",
        "      <td>-3.104</td>\n",
        "      <td>1.052</td>\n",
        "      <td>1.052</td>\n",
        "      <td>-6.663</td>\n",
        "      <td>-18.249</td>\n",
        "      <td> -5.774</td>\n",
        "      <td> -5.774</td>\n",
        "      <td> 1</td>\n",
        "      <td>0.690</td>\n",
        "      <td>1.026</td>\n",
        "      <td>0.816</td>\n",
        "      <td>0.816</td>\n",
        "    </tr>\n",
        "  </tbody>\n",
        "</table>"
       ],
       "metadata": {},
       "output_type": "pyout",
       "prompt_number": 14,
       "text": [
        "<IPython.core.display.HTML at 0x10598aed0>"
       ]
      }
     ],
     "prompt_number": 14
    },
    {
     "cell_type": "raw",
     "metadata": {},
     "source": [
      "The matpower solution\n",
      "(note that matlab uses one-based indexing so these are all off by one)\n",
      "\n",
      "    ================================================================================\n",
      "    |     Bus Data                                                                 |\n",
      "    ================================================================================\n",
      "     Bus      Voltage          Generation             Load        \n",
      "      #   Mag(pu) Ang(deg)   P (MW)   Q (MVAr)   P (MW)   Q (MVAr)\n",
      "    ----- ------- --------  --------  --------  --------  --------\n",
      "        1  1.000    0.000*     4.16      1.59       -         -   \n",
      "        2  0.985   -5.829       -         -        1.00      0.00 \n",
      "        3  0.873  -20.100       -         -        1.00      0.00 \n",
      "        4  0.853  -27.815       -         -        1.00      0.00 \n",
      "        5  0.853  -27.815       -         -        1.00      0.00 \n",
      "                            --------  --------  --------  --------\n",
      "                   Total:      4.16      1.59      4.00      0.00\n",
      "\n",
      "    ================================================================================\n",
      "    |     Branch Data                                                              |\n",
      "    ================================================================================\n",
      "    Brnch   From   To    From Bus Injection   To Bus Injection     Loss (I^2 * Z)  \n",
      "      #     Bus    Bus    P (MW)   Q (MVAr)   P (MW)   Q (MVAr)   P (MW)   Q (MVAr)\n",
      "    -----  -----  -----  --------  --------  --------  --------  --------  --------\n",
      "       1      1      2      1.01      0.10     -1.00     -0.00     0.010      0.10\n",
      "       2      1      3      3.15      1.49     -3.03     -0.27     0.121      1.21\n",
      "       3      3      4      1.01      0.14     -1.00      0.00     0.014      0.14\n",
      "       4      3      5      1.01      0.14     -1.00      0.00     0.014      0.14\n",
      "                                                                 --------  --------\n",
      "                                                        Total:     0.159      1.59"
     ]
    },
    {
     "cell_type": "code",
     "collapsed": false,
     "input": [
      "#%%time\n",
      "max(check_all_lines(x,d1=d1,d2=d2,d3=d3,d4=d4,b=b,g=g) for x in candidates)"
     ],
     "language": "python",
     "metadata": {},
     "outputs": [
      {
       "metadata": {},
       "output_type": "pyout",
       "prompt_number": 15,
       "text": [
        "3.7716429308390697e-15"
       ]
      }
     ],
     "prompt_number": 15
    },
    {
     "cell_type": "code",
     "collapsed": false,
     "input": [
      "s, m = frexp(pi)\n",
      "print(s)\n",
      "s = round(s,6)\n",
      "print(s)\n",
      "ldexp(s,m)"
     ],
     "language": "python",
     "metadata": {},
     "outputs": [
      {
       "output_type": "stream",
       "stream": "stdout",
       "text": [
        "0.785398163397\n",
        "0.785398\n"
       ]
      },
      {
       "metadata": {},
       "output_type": "pyout",
       "prompt_number": 26,
       "text": [
        "3.1415920000000002"
       ]
      }
     ],
     "prompt_number": 26
    }
   ],
   "metadata": {}
  }
 ]
}