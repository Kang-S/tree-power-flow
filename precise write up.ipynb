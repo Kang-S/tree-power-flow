{
 "metadata": {
  "name": ""
 },
 "nbformat": 3,
 "nbformat_minor": 0,
 "worksheets": [
  {
   "cells": [
    {
     "cell_type": "markdown",
     "metadata": {},
     "source": [
      "#Tree power flow\n",
      "\n",
      "The problem reduces to solving this one:\n",
      "\n",
      "    | L1--G0--LN\n",
      "    |    / |\\\n",
      "    |   /  | \\\n",
      "    |  L2  L3 ...\n",
      "    \n",
      "A single generator is directly connected to $N$ loads. Each load has a list of $(P,V)$ pairs -- possible power consumption and bus voltage. We want to compute a list of $(P,V)$ pairs for the generator that satisfy the combinations of the $(P,V)$ from the loads. Ideally we'd have a solution for every possible combination, but for large $N$ there are too many, so we use an approximation.\n",
      "\n",
      "Once we have a list of candidate solutions for the generator, we can treat it as a load for the next level up on the tree."
     ]
    },
    {
     "cell_type": "markdown",
     "metadata": {},
     "source": [
      "##Approximation scheme\n",
      "\n",
      "To reduce the number of combinations to consider, we'll only consider $(P,V)$ pairs that are 'sufficiently different' from one another. The way I've been doing it, the $V$ are always quantities enumerated by me, so I can simply adjust that enumeration to suit the desired 'sufficiently different' criterion for $V$. Once the $V$ are enumerated, $P$ is computed using the power flow equations below. The space of possible $P$ is discretized into buckets, and for a given $V$, only one $P$ is kept per bucket.\n",
      "\n",
      "For a given voltage at the generator, if each of the $N$ loads has a list of $M$ candidate solutions, then there are $M^N$ possible combinations to consider for the generator. We could solve the flow for each of these combinations and discretize after, but to avoid the exponential amount of work, we instead discretize as we build up the combinations."
     ]
    },
    {
     "cell_type": "markdown",
     "metadata": {},
     "source": [
      "###Building the combinations\n",
      "\n",
      "We start by enumerating possible voltages at the generator. From here on we'll consider only a single voltage, call it $V_0$, but keep in mind that we repeat the entire process for each possible $V_0$. For a particular load bus $k$ and particular candidate solution from its list, we know both the power $P_k$ and the voltage $V_k$. So using the power flow equations below (bottom of this document), we can solve for $P_{0k}$, the power injected by the generator into the connecting line. This will be the quantity we discretize. The sum of these $P_{0k}$ (plus any demand at $G_0$) is what we'll use as a candidate solution when we move up the tree.\n",
      "\n",
      "For a particular $V_0$ at the generator, we consider the $M_1$ candidate solutions from $L_1$. We combine these with the $M_2$ candidates from $L_2$ to get $M_1 M_2$ combinations. For each combination, we look at the sum of the $P$ and keep only one combination per bucket before proceeding. Shuffle the combinations before adding to the buckets to eliminate any bias. Let's look at an example."
     ]
    },
    {
     "cell_type": "markdown",
     "metadata": {},
     "source": [
      "<hr>\n",
      "####Example 1\n",
      "\n",
      "    | L1-G0-L2\n",
      "    |    |\n",
      "    |    L3\n",
      "    \n",
      ">Let's consider just the first two load buses $L_1$ and $L_2$. After solving on their subtrees, they have these candidate $(P,V)$ solutions:\n",
      "\n",
      ">* $L_1$: [(-1.4,1.0), (-1.5,.95), (-1.6,.92)]\n",
      "* $L_2$: [(-2.2,.99), (-2.25,1.1)]\n",
      "\n",
      ">We enumerate possible voltages at the generator and first consider $V_0=1.05$. Solving the power flow equations, this gives the following candidate flows from $G_0$:\n",
      "\n",
      ">* $P_{01} = G_0 \\rightarrow L_1$: [1.42, 1.53, 1.64]\n",
      "* $P_{02} = G_0 \\rightarrow L_2$: [2.25, 2.30]\n",
      "\n",
      ">We have six combinations of $(P_{01},P_{02})$:\n",
      "\n",
      ">[(1.42, 2.25), (1.42, 2.3), (1.53, 2.25), (1.53, 2.3), (1.64, 2.25), (1.64, 2.3)]\n",
      "\n",
      ">with sums:\n",
      "\n",
      ">[3.67, 3.72, 3.78, 3.83, 3.89, 3.94]\n",
      "\n",
      ">If we choose to round to at the tenths place, these become:\n",
      "\n",
      ">[3.7, 3.7, 3.8, 3.8, 3.9, 3.9]\n",
      "\n",
      ">Since there are only three distinct rounded sums, we'd only keep the three corresponding $(P_{01},P_{02})$ combinations before proceeding to the next step, say [(1.42, 2.25), (1.53, 2.3), (1.64, 2.25)]."
     ]
    },
    {
     "cell_type": "code",
     "collapsed": false,
     "input": [
      "# look at all combinations of (p01, p02)\n",
      "p01_list = [1.42, 1.53, 1.64]\n",
      "p02_list = [2.25, 2.30]\n",
      "x = [{'p1': p1, 'p2': p2, 'sum': round(sum(p1+p2),3), 'rounded': (round(sum(p1+p2),1))} \n",
      "     for p1 in p01_list for p2 in p02_list]\n",
      "DataFrame(x).set_index(['p1','p2'])"
     ],
     "language": "python",
     "metadata": {},
     "outputs": [
      {
       "html": [
        "<div style=\"max-height:1000px;max-width:1500px;overflow:auto;\">\n",
        "<table border=\"1\" class=\"dataframe\">\n",
        "  <thead>\n",
        "    <tr style=\"text-align: right;\">\n",
        "      <th></th>\n",
        "      <th></th>\n",
        "      <th>rounded</th>\n",
        "      <th>sum</th>\n",
        "    </tr>\n",
        "    <tr>\n",
        "      <th>p1</th>\n",
        "      <th>p2</th>\n",
        "      <th></th>\n",
        "      <th></th>\n",
        "    </tr>\n",
        "  </thead>\n",
        "  <tbody>\n",
        "    <tr>\n",
        "      <th rowspan=\"2\" valign=\"top\">1.42</th>\n",
        "      <th>2.25</th>\n",
        "      <td> 3.7</td>\n",
        "      <td> 3.67</td>\n",
        "    </tr>\n",
        "    <tr>\n",
        "      <th>2.30</th>\n",
        "      <td> 3.7</td>\n",
        "      <td> 3.72</td>\n",
        "    </tr>\n",
        "    <tr>\n",
        "      <th rowspan=\"2\" valign=\"top\">1.53</th>\n",
        "      <th>2.25</th>\n",
        "      <td> 3.8</td>\n",
        "      <td> 3.78</td>\n",
        "    </tr>\n",
        "    <tr>\n",
        "      <th>2.30</th>\n",
        "      <td> 3.8</td>\n",
        "      <td> 3.83</td>\n",
        "    </tr>\n",
        "    <tr>\n",
        "      <th rowspan=\"2\" valign=\"top\">1.64</th>\n",
        "      <th>2.25</th>\n",
        "      <td> 3.9</td>\n",
        "      <td> 3.89</td>\n",
        "    </tr>\n",
        "    <tr>\n",
        "      <th>2.30</th>\n",
        "      <td> 3.9</td>\n",
        "      <td> 3.94</td>\n",
        "    </tr>\n",
        "  </tbody>\n",
        "</table>\n",
        "</div>"
       ],
       "metadata": {},
       "output_type": "pyout",
       "prompt_number": 1,
       "text": [
        "           rounded   sum\n",
        "p1   p2                 \n",
        "1.42 2.25      3.7  3.67\n",
        "     2.30      3.7  3.72\n",
        "1.53 2.25      3.8  3.78\n",
        "     2.30      3.8  3.83\n",
        "1.64 2.25      3.9  3.89\n",
        "     2.30      3.9  3.94"
       ]
      }
     ],
     "prompt_number": 1
    },
    {
     "cell_type": "code",
     "collapsed": false,
     "input": [
      "# filter down so we keep only one whose sum rounds to each tenths place \n",
      "r = random.RandomState(3)\n",
      "r.shuffle(x)\n",
      "sums = set()\n",
      "filtered = []\n",
      "for combo in x:\n",
      "    if combo['rounded'] not in sums:\n",
      "        sums.add(combo['rounded'])\n",
      "        filtered.append(combo)\n",
      "filtered.sort(key = lambda x: x['sum'])\n",
      "DataFrame(filtered).set_index(['p1','p2'])"
     ],
     "language": "python",
     "metadata": {},
     "outputs": [
      {
       "html": [
        "<div style=\"max-height:1000px;max-width:1500px;overflow:auto;\">\n",
        "<table border=\"1\" class=\"dataframe\">\n",
        "  <thead>\n",
        "    <tr style=\"text-align: right;\">\n",
        "      <th></th>\n",
        "      <th></th>\n",
        "      <th>rounded</th>\n",
        "      <th>sum</th>\n",
        "    </tr>\n",
        "    <tr>\n",
        "      <th>p1</th>\n",
        "      <th>p2</th>\n",
        "      <th></th>\n",
        "      <th></th>\n",
        "    </tr>\n",
        "  </thead>\n",
        "  <tbody>\n",
        "    <tr>\n",
        "      <th>1.42</th>\n",
        "      <th>2.25</th>\n",
        "      <td> 3.7</td>\n",
        "      <td> 3.67</td>\n",
        "    </tr>\n",
        "    <tr>\n",
        "      <th>1.53</th>\n",
        "      <th>2.30</th>\n",
        "      <td> 3.8</td>\n",
        "      <td> 3.83</td>\n",
        "    </tr>\n",
        "    <tr>\n",
        "      <th>1.64</th>\n",
        "      <th>2.25</th>\n",
        "      <td> 3.9</td>\n",
        "      <td> 3.89</td>\n",
        "    </tr>\n",
        "  </tbody>\n",
        "</table>\n",
        "</div>"
       ],
       "metadata": {},
       "output_type": "pyout",
       "prompt_number": 51,
       "text": [
        "           rounded   sum\n",
        "p1   p2                 \n",
        "1.42 2.25      3.7  3.67\n",
        "1.53 2.30      3.8  3.83\n",
        "1.64 2.25      3.9  3.89"
       ]
      }
     ],
     "prompt_number": 51
    },
    {
     "cell_type": "markdown",
     "metadata": {},
     "source": [
      "<hr>\n",
      "Now we combine these candidate combinations with the $M_3$ candidate solutions from $L_3$. If each $M_i$ is roughly equal to $M$, hopefully the rounding reduced the number of combinations from the first step from $M^2$ to something $\\mathcal{O}(M)$. Then in this step we again only have $\\mathcal{O}(M^2)$ combinations to consider. Getting back to the example:\n",
      "<hr>"
     ]
    },
    {
     "cell_type": "markdown",
     "metadata": {},
     "source": [
      "####Example 1 (continued)\n",
      "    \n",
      ">From the first step, we've kept three combinations of flows to $L_1$ and $L_2$: [(1.42, 2.25), (1.53, 2.3), (1.64, 2.25)]. Now suppose the possible flows from $G_0$ to $L_3$ are 3.47 and 3.59. This gives six combinations: \n",
      "\n",
      ">[(1.42, 2.25, 3.47), (1.42, 2.25, 3.59), (1.53, 2.3, 3.47), (1.53, 2.3, 3.59), (1.64, 2.25, 3.47), (1.64, 2.25, 3.59)] \n",
      "\n",
      ">with sums \n",
      "\n",
      ">[7.14, 7.26, 7.3, 7.42, 7.36, 7.48]\n",
      "\n",
      ">After rounding to the tenths place this becomes\n",
      "\n",
      ">[7.1, 7.3, 7.3, 7.4, 7.4, 7.5]\n",
      "\n",
      ">Filtering down to only one combination per unique rounded sum, we might end up with the combinations [(1.42, 2.25, 3.47), (1.42, 2.25, 3.59), (1.64, 2.25, 3.47), (1.64, 2.25, 3.59)]."
     ]
    },
    {
     "cell_type": "code",
     "collapsed": false,
     "input": [
      "# all combinations of previous step with L3 candidate solutions\n",
      "p03_list = [3.47, 3.59]\n",
      "temp = [(f['p1'],f['p2'],p3) for f in filtered for p3 in p03_list]\n",
      "x = [dict(p1=p1, p2=p2, p3=p3, sum=round(p1+p2+p3,3), rounded=round(p1+p2+p3,1)) for p1,p2,p3 in temp]\n",
      "DataFrame(x).set_index(['p1','p2','p3'])"
     ],
     "language": "python",
     "metadata": {},
     "outputs": [
      {
       "html": [
        "<div style=\"max-height:1000px;max-width:1500px;overflow:auto;\">\n",
        "<table border=\"1\" class=\"dataframe\">\n",
        "  <thead>\n",
        "    <tr style=\"text-align: right;\">\n",
        "      <th></th>\n",
        "      <th></th>\n",
        "      <th></th>\n",
        "      <th>rounded</th>\n",
        "      <th>sum</th>\n",
        "    </tr>\n",
        "    <tr>\n",
        "      <th>p1</th>\n",
        "      <th>p2</th>\n",
        "      <th>p3</th>\n",
        "      <th></th>\n",
        "      <th></th>\n",
        "    </tr>\n",
        "  </thead>\n",
        "  <tbody>\n",
        "    <tr>\n",
        "      <th rowspan=\"2\" valign=\"top\">1.42</th>\n",
        "      <th rowspan=\"2\" valign=\"top\">2.25</th>\n",
        "      <th>3.47</th>\n",
        "      <td> 7.1</td>\n",
        "      <td> 7.14</td>\n",
        "    </tr>\n",
        "    <tr>\n",
        "      <th>3.59</th>\n",
        "      <td> 7.3</td>\n",
        "      <td> 7.26</td>\n",
        "    </tr>\n",
        "    <tr>\n",
        "      <th rowspan=\"2\" valign=\"top\">1.53</th>\n",
        "      <th rowspan=\"2\" valign=\"top\">2.30</th>\n",
        "      <th>3.47</th>\n",
        "      <td> 7.3</td>\n",
        "      <td> 7.30</td>\n",
        "    </tr>\n",
        "    <tr>\n",
        "      <th>3.59</th>\n",
        "      <td> 7.4</td>\n",
        "      <td> 7.42</td>\n",
        "    </tr>\n",
        "    <tr>\n",
        "      <th rowspan=\"2\" valign=\"top\">1.64</th>\n",
        "      <th rowspan=\"2\" valign=\"top\">2.25</th>\n",
        "      <th>3.47</th>\n",
        "      <td> 7.4</td>\n",
        "      <td> 7.36</td>\n",
        "    </tr>\n",
        "    <tr>\n",
        "      <th>3.59</th>\n",
        "      <td> 7.5</td>\n",
        "      <td> 7.48</td>\n",
        "    </tr>\n",
        "  </tbody>\n",
        "</table>\n",
        "</div>"
       ],
       "metadata": {},
       "output_type": "pyout",
       "prompt_number": 53,
       "text": [
        "                rounded   sum\n",
        "p1   p2   p3                 \n",
        "1.42 2.25 3.47      7.1  7.14\n",
        "          3.59      7.3  7.26\n",
        "1.53 2.30 3.47      7.3  7.30\n",
        "          3.59      7.4  7.42\n",
        "1.64 2.25 3.47      7.4  7.36\n",
        "          3.59      7.5  7.48"
       ]
      }
     ],
     "prompt_number": 53
    },
    {
     "cell_type": "code",
     "collapsed": false,
     "input": [
      "# filtered down to only one whose sum rounds to each tenths place \n",
      "r.shuffle(x)\n",
      "sums = set()\n",
      "filtered = []\n",
      "for combo in x:\n",
      "    if combo['rounded'] not in sums:\n",
      "        sums.add(combo['rounded'])\n",
      "        filtered.append(combo)\n",
      "filtered.sort(key = lambda x: x['sum'])\n",
      "DataFrame(filtered).set_index(['p1','p2','p3'])"
     ],
     "language": "python",
     "metadata": {},
     "outputs": [
      {
       "html": [
        "<div style=\"max-height:1000px;max-width:1500px;overflow:auto;\">\n",
        "<table border=\"1\" class=\"dataframe\">\n",
        "  <thead>\n",
        "    <tr style=\"text-align: right;\">\n",
        "      <th></th>\n",
        "      <th></th>\n",
        "      <th></th>\n",
        "      <th>rounded</th>\n",
        "      <th>sum</th>\n",
        "    </tr>\n",
        "    <tr>\n",
        "      <th>p1</th>\n",
        "      <th>p2</th>\n",
        "      <th>p3</th>\n",
        "      <th></th>\n",
        "      <th></th>\n",
        "    </tr>\n",
        "  </thead>\n",
        "  <tbody>\n",
        "    <tr>\n",
        "      <th rowspan=\"2\" valign=\"top\">1.42</th>\n",
        "      <th rowspan=\"2\" valign=\"top\">2.25</th>\n",
        "      <th>3.47</th>\n",
        "      <td> 7.1</td>\n",
        "      <td> 7.14</td>\n",
        "    </tr>\n",
        "    <tr>\n",
        "      <th>3.59</th>\n",
        "      <td> 7.3</td>\n",
        "      <td> 7.26</td>\n",
        "    </tr>\n",
        "    <tr>\n",
        "      <th rowspan=\"2\" valign=\"top\">1.64</th>\n",
        "      <th rowspan=\"2\" valign=\"top\">2.25</th>\n",
        "      <th>3.47</th>\n",
        "      <td> 7.4</td>\n",
        "      <td> 7.36</td>\n",
        "    </tr>\n",
        "    <tr>\n",
        "      <th>3.59</th>\n",
        "      <td> 7.5</td>\n",
        "      <td> 7.48</td>\n",
        "    </tr>\n",
        "  </tbody>\n",
        "</table>\n",
        "</div>"
       ],
       "metadata": {},
       "output_type": "pyout",
       "prompt_number": 54,
       "text": [
        "                rounded   sum\n",
        "p1   p2   p3                 \n",
        "1.42 2.25 3.47      7.1  7.14\n",
        "          3.59      7.3  7.26\n",
        "1.64 2.25 3.47      7.4  7.36\n",
        "          3.59      7.5  7.48"
       ]
      }
     ],
     "prompt_number": 54
    },
    {
     "cell_type": "markdown",
     "metadata": {},
     "source": [
      "##Another layer of rounding\n",
      "\n",
      "Since we're rounding to the tenths place at each step, we don't really need to consider every possible candidate solution at a given load; candidates that differ only in the hundredths place are effectively the same, and will likely be placed into the same bucket after combining. We can eliminate a lot of work by rounding to the hundredths place before the combination step. This is best illustrated with an example."
     ]
    },
    {
     "cell_type": "markdown",
     "metadata": {},
     "source": [
      "####Example 2\n",
      "\n",
      ">This is the same as the first step of the previous example, but with additional candidate flows for $L_1$ that differ only in the hundredths place from the original flows. After combining with $L_2$ and rounding, we end up with three solutions again, even though we started with twice as many combinations."
     ]
    },
    {
     "cell_type": "code",
     "collapsed": false,
     "input": [
      "# look at all combinations of (p1, p2)\n",
      "L1 = [1.420, 1.421, 1.530, 1.531, 1.640, 1.641]\n",
      "L2 = [2.250, 2.300]\n",
      "x = [{'p1': p1, 'p2': p2, 'sum': round(sum(p1+p2),3), 'rounded': (round(sum(p1+p2),1))} for p1 in L1 for p2 in L2]\n",
      "DataFrame(x).set_index(['p1','p2'])"
     ],
     "language": "python",
     "metadata": {},
     "outputs": [
      {
       "html": [
        "<div style=\"max-height:1000px;max-width:1500px;overflow:auto;\">\n",
        "<table border=\"1\" class=\"dataframe\">\n",
        "  <thead>\n",
        "    <tr style=\"text-align: right;\">\n",
        "      <th></th>\n",
        "      <th></th>\n",
        "      <th>rounded</th>\n",
        "      <th>sum</th>\n",
        "    </tr>\n",
        "    <tr>\n",
        "      <th>p1</th>\n",
        "      <th>p2</th>\n",
        "      <th></th>\n",
        "      <th></th>\n",
        "    </tr>\n",
        "  </thead>\n",
        "  <tbody>\n",
        "    <tr>\n",
        "      <th rowspan=\"2\" valign=\"top\">1.420</th>\n",
        "      <th>2.25</th>\n",
        "      <td> 3.7</td>\n",
        "      <td> 3.670</td>\n",
        "    </tr>\n",
        "    <tr>\n",
        "      <th>2.30</th>\n",
        "      <td> 3.7</td>\n",
        "      <td> 3.720</td>\n",
        "    </tr>\n",
        "    <tr>\n",
        "      <th rowspan=\"2\" valign=\"top\">1.421</th>\n",
        "      <th>2.25</th>\n",
        "      <td> 3.7</td>\n",
        "      <td> 3.671</td>\n",
        "    </tr>\n",
        "    <tr>\n",
        "      <th>2.30</th>\n",
        "      <td> 3.7</td>\n",
        "      <td> 3.721</td>\n",
        "    </tr>\n",
        "    <tr>\n",
        "      <th rowspan=\"2\" valign=\"top\">1.530</th>\n",
        "      <th>2.25</th>\n",
        "      <td> 3.8</td>\n",
        "      <td> 3.780</td>\n",
        "    </tr>\n",
        "    <tr>\n",
        "      <th>2.30</th>\n",
        "      <td> 3.8</td>\n",
        "      <td> 3.830</td>\n",
        "    </tr>\n",
        "    <tr>\n",
        "      <th rowspan=\"2\" valign=\"top\">1.531</th>\n",
        "      <th>2.25</th>\n",
        "      <td> 3.8</td>\n",
        "      <td> 3.781</td>\n",
        "    </tr>\n",
        "    <tr>\n",
        "      <th>2.30</th>\n",
        "      <td> 3.8</td>\n",
        "      <td> 3.831</td>\n",
        "    </tr>\n",
        "    <tr>\n",
        "      <th rowspan=\"2\" valign=\"top\">1.640</th>\n",
        "      <th>2.25</th>\n",
        "      <td> 3.9</td>\n",
        "      <td> 3.890</td>\n",
        "    </tr>\n",
        "    <tr>\n",
        "      <th>2.30</th>\n",
        "      <td> 3.9</td>\n",
        "      <td> 3.940</td>\n",
        "    </tr>\n",
        "    <tr>\n",
        "      <th rowspan=\"2\" valign=\"top\">1.641</th>\n",
        "      <th>2.25</th>\n",
        "      <td> 3.9</td>\n",
        "      <td> 3.891</td>\n",
        "    </tr>\n",
        "    <tr>\n",
        "      <th>2.30</th>\n",
        "      <td> 3.9</td>\n",
        "      <td> 3.941</td>\n",
        "    </tr>\n",
        "  </tbody>\n",
        "</table>\n",
        "</div>"
       ],
       "metadata": {},
       "output_type": "pyout",
       "prompt_number": 62,
       "text": [
        "            rounded    sum\n",
        "p1    p2                  \n",
        "1.420 2.25      3.7  3.670\n",
        "      2.30      3.7  3.720\n",
        "1.421 2.25      3.7  3.671\n",
        "      2.30      3.7  3.721\n",
        "1.530 2.25      3.8  3.780\n",
        "      2.30      3.8  3.830\n",
        "1.531 2.25      3.8  3.781\n",
        "      2.30      3.8  3.831\n",
        "1.640 2.25      3.9  3.890\n",
        "      2.30      3.9  3.940\n",
        "1.641 2.25      3.9  3.891\n",
        "      2.30      3.9  3.941"
       ]
      }
     ],
     "prompt_number": 62
    },
    {
     "cell_type": "code",
     "collapsed": false,
     "input": [
      "r.shuffle(x)\n",
      "sums = set()\n",
      "filtered = []\n",
      "for combo in x:\n",
      "    if combo['rounded'] not in sums:\n",
      "        sums.add(combo['rounded'])\n",
      "        filtered.append(combo)\n",
      "filtered.sort(key = lambda x: x['sum'])\n",
      "DataFrame(filtered).set_index(['p1','p2'])"
     ],
     "language": "python",
     "metadata": {},
     "outputs": [
      {
       "html": [
        "<div style=\"max-height:1000px;max-width:1500px;overflow:auto;\">\n",
        "<table border=\"1\" class=\"dataframe\">\n",
        "  <thead>\n",
        "    <tr style=\"text-align: right;\">\n",
        "      <th></th>\n",
        "      <th></th>\n",
        "      <th>rounded</th>\n",
        "      <th>sum</th>\n",
        "    </tr>\n",
        "    <tr>\n",
        "      <th>p1</th>\n",
        "      <th>p2</th>\n",
        "      <th></th>\n",
        "      <th></th>\n",
        "    </tr>\n",
        "  </thead>\n",
        "  <tbody>\n",
        "    <tr>\n",
        "      <th>1.421</th>\n",
        "      <th>2.30</th>\n",
        "      <td> 3.7</td>\n",
        "      <td> 3.721</td>\n",
        "    </tr>\n",
        "    <tr>\n",
        "      <th>1.531</th>\n",
        "      <th>2.30</th>\n",
        "      <td> 3.8</td>\n",
        "      <td> 3.831</td>\n",
        "    </tr>\n",
        "    <tr>\n",
        "      <th>1.641</th>\n",
        "      <th>2.25</th>\n",
        "      <td> 3.9</td>\n",
        "      <td> 3.891</td>\n",
        "    </tr>\n",
        "  </tbody>\n",
        "</table>\n",
        "</div>"
       ],
       "metadata": {},
       "output_type": "pyout",
       "prompt_number": 63,
       "text": [
        "            rounded    sum\n",
        "p1    p2                  \n",
        "1.421 2.30      3.7  3.721\n",
        "1.531 2.30      3.8  3.831\n",
        "1.641 2.25      3.9  3.891"
       ]
      }
     ],
     "prompt_number": 63
    },
    {
     "cell_type": "markdown",
     "metadata": {},
     "source": [
      "##Keeping track of everything\n",
      "\n",
      "There is a lot of annoying bookkeeping to do in the code. To recover a full solution, we need to keep track of the power and voltage at each bus; I've only been discussing the power in the examples. It gets worse when we move up the tree, since we eventually want values for every bus. We can keep everything as we move up the tree, but this is tedious and possibly wastes space. Right now only keep the minimum amount of information needed to recover a solution. In this case, recovering the solution involves a bit of work."
     ]
    },
    {
     "cell_type": "markdown",
     "metadata": {},
     "source": [
      "<hr><hr><hr>\n",
      "#Power flow equations\n",
      "\n",
      "The main power flow equation, in polar coordinates:\n",
      "\n",
      "$$ P_k = g(V_k^2-V_k V_m \\cos \\theta_{km}) - b V_k V_m \\sin \\theta_{km} $$\n",
      "\n",
      "\n",
      "If $(V_k,V_m,P_m)$ are known we can solve for $(P_k,\\theta_{km})$:\n",
      "\n",
      "$$P_k = \\frac{\\left(-b^2+g^2\\right) P_m+g^3 \\left(V_k^2-V_m^2\\right)+b^2 g \\left(V_k^2+V_m^2\\right)-2 g \\sqrt{b^2 \\left(-P_m^2+\\left(2 g P_m+\\left(b^2+g^2\\right) V_k^2\\right) V_m^2-g^2 V_m^4\\right)}}{b^2+g^2}$$\n",
      "\n",
      "$$\\theta = -\\cos^{-1}\\left[\\frac{-g P_m+g^2 V_m^2+\\sqrt{b^2 \\left(-P_m^2+\\left(2 g P_m+\\left(b^2+g^2\\right) V_k^2\\right) V_m^2-g^2 V_m^4\\right)}}{\\left(b^2+g^2\\right) V_k V_m}\\right]$$\n",
      "\n",
      "(there are multiple solutions for this, but this is the one that seems to actually work)"
     ]
    },
    {
     "cell_type": "markdown",
     "metadata": {},
     "source": [
      "<hr><hr><hr>\n",
      "#Coming up with nice numbers for the examples"
     ]
    },
    {
     "cell_type": "code",
     "collapsed": false,
     "input": [
      "from numpy import arccos\n",
      "r, x = .01, .1\n",
      "g, b = r/(r**2+x**2), -x/(r**2+x**2)\n",
      "vk = 1.05\n",
      "def pk_t(vm,pm):\n",
      "    try:\n",
      "        temp = sqrt(b**2*(-pm**2+(2*g*pm+(b**2+g**2)*vk**2)*vm**2-g**2*vm**4))\n",
      "    except ValueError:\n",
      "        return nan, nan\n",
      "    #t = -arccos((-g*pm+g**2*vm**2+temp)/((b**2+g**2)*vk*vm))\n",
      "    pk = 1/(b**2+g**2) * ((-b**2+g**2)*pm+g**3*(vk**2-vm**2)+b**2*g*(vk**2+vm**2)-2*g*temp)\n",
      "    return pk"
     ],
     "language": "python",
     "metadata": {},
     "outputs": [],
     "prompt_number": 139
    },
    {
     "cell_type": "code",
     "collapsed": false,
     "input": [
      "L1 = [1.42, 1.53, 1.64]\n",
      "L2 = [2.25, 2.30]\n",
      "L3 = [3.47, 3.59]"
     ],
     "language": "python",
     "metadata": {},
     "outputs": [],
     "prompt_number": 140
    },
    {
     "cell_type": "code",
     "collapsed": false,
     "input": [
      "print(pk_t(1.0,-1.4))\n",
      "print(pk_t(.95,-1.5))\n",
      "print(pk_t(.92,-1.6))"
     ],
     "language": "python",
     "metadata": {},
     "outputs": [
      {
       "output_type": "stream",
       "stream": "stdout",
       "text": [
        "1.42032815155\n",
        "1.53031246891\n",
        "1.64019211879\n"
       ]
      }
     ],
     "prompt_number": 141
    },
    {
     "cell_type": "code",
     "collapsed": false,
     "input": [
      "print(pk_t(.99,-2.2))\n",
      "print(pk_t(1.1,-2.25))"
     ],
     "language": "python",
     "metadata": {},
     "outputs": [
      {
       "output_type": "stream",
       "stream": "stdout",
       "text": [
        "2.24958724765\n",
        "2.30038581828\n"
       ]
      }
     ],
     "prompt_number": 142
    },
    {
     "cell_type": "code",
     "collapsed": false,
     "input": [
      "print(pk_t(.97,-3.35))\n",
      "print(pk_t(.92,-3.45))"
     ],
     "language": "python",
     "metadata": {},
     "outputs": [
      {
       "output_type": "stream",
       "stream": "stdout",
       "text": [
        "3.46945439128\n",
        "3.5912093404\n"
       ]
      }
     ],
     "prompt_number": 172
    }
   ],
   "metadata": {}
  }
 ]
}