{
 "metadata": {
  "name": ""
 },
 "nbformat": 3,
 "nbformat_minor": 0,
 "worksheets": [
  {
   "cells": [
    {
     "cell_type": "markdown",
     "metadata": {},
     "source": [
      "#Tree power flow\n",
      "\n",
      "The problem reduces to solving this one:\n",
      "\n",
      "    | L1--G0--Ln\n",
      "    |    / |\\\n",
      "    |   /  | \\\n",
      "    |  L2  L3 ...\n",
      "    \n",
      "A single generator is directly connected to $n$ loads. Each load has a list of $(P,V)$ pairs -- possible power consumption and bus voltage. We want to compute a list of $(P,V)$ pairs for the generator that satisfy the combinations of the $(P,V)$ from the loads. Ideally we'd have a solution for every possible combination of the $(P,V)$, but for large $n$ there are too many, so we use an approximation.\n",
      "\n",
      "Once we have a list of $(P,V)$ pairs for the generator, we can treat it as a load for the next level up on the tree."
     ]
    },
    {
     "cell_type": "markdown",
     "metadata": {},
     "source": [
      "##Approximation scheme\n",
      "\n",
      "To reduce the number of combinations to consider, we'll only consider $(P,V)$ pairs that are 'sufficiently different' from one another. The way I've been doing it, the $V$ are always quantities enumerated by me, so I can simply adjust that enumeration to suit the desired 'sufficiently different' criterion for $V$. Once the $V$ are enumerated, $P$ is computed using the power flow equations below. The space of possible $P$ is discretized into buckets, and for a given $V$, only one $P$ is kept per bucket.\n",
      "\n",
      "If each of the $n$ loads has a list of $k$ candidate solutions, there are then $k^n$ possible combinations to consider for the generator. We could solve the flow for each of these combinations and discretize after, but that's an exponential amount of work. Instead we discretize as we build a particular combination."
     ]
    },
    {
     "cell_type": "markdown",
     "metadata": {},
     "source": [
      ">if the max\n",
      "value for the parent is 100, then if a child is at 45.8 and another\n",
      "child at 11.02 then the 'sum' is at 56 or 57 (or both)."
     ]
    },
    {
     "cell_type": "markdown",
     "metadata": {},
     "source": [
      "###Building a combination\n",
      "\n",
      "(I'm running out of letters; I don't like to use $i$ and $j$ to index because that gets confusing with the imaginary unit, but now I realize I'm using $k$ to mean different things. Hopefully it's clear from context now until I sort it out)\n",
      "\n",
      "We start by enumerating $V_k$ at the generator. For a particular load $m$ and particular candidate solution from its list, we know both the power $P_m$ and the voltage $V_m$. So using the power flow equations below, we can solve for $P_{km}$, the power injected into the connecting line from the generator. This will be the quantity we discretize. The sum of these $P_{km}$ (plus any demand at $G_0$) is what we'll use as a candidate solution when we move up the tree.\n",
      "\n",
      "For a particular $V$ at the generator, we consider the $k$ pairs of candidate solutions from $L_1$. We combine these with the $k$ candidates from $L_2$ to get $k^2/2$ combinations. For each combination, we look at the sum of the $P$ and keep only one combination per bucket before proceeding. Let's look at an example.\n",
      "\n",
      "Suppose the candidate flows from $G_0$ to $L_1$ are [1.42, 1.53, 1.64] and from $G_0$ to $L_2$ we have [2.25, 2.30]. This produces the six combinations [(1.42, 2.25), (1.42, 2.3), (1.53, 2.25), (1.53, 2.3), (1.64, 2.25), (1.64, 2.3)] with sums [3.67, 3.72, 3.78, 3.83, 3.89, 3.94]. If we're rounding to the first decimal place, this becomes [3.7, 3.7, 3.8, 3.8, 3.9, 3.9] and so we'd only keep three of these combinations, say [(1.42, 2.25), (1.53, 2.3), (1.64, 2.25)]."
     ]
    },
    {
     "cell_type": "code",
     "collapsed": false,
     "input": [
      "from itertools import product # cartesian product\n",
      "L1 = [1.42, 1.53, 1.64]\n",
      "L2 = [2.25, 2.30]\n",
      "x = [(round(sum(p),1), round(sum(p),3), p) for p in product(L1, L2)]\n",
      "x"
     ],
     "language": "python",
     "metadata": {},
     "outputs": [
      {
       "metadata": {},
       "output_type": "pyout",
       "prompt_number": 24,
       "text": [
        "[(3.7, 3.67, (1.42, 2.25)),\n",
        " (3.7, 3.72, (1.42, 2.3)),\n",
        " (3.8, 3.78, (1.53, 2.25)),\n",
        " (3.8, 3.83, (1.53, 2.3)),\n",
        " (3.9, 3.89, (1.64, 2.25)),\n",
        " (3.9, 3.94, (1.64, 2.3))]"
       ]
      }
     ],
     "prompt_number": 24
    },
    {
     "cell_type": "code",
     "collapsed": false,
     "input": [
      "shuffle(x)\n",
      "sums = set()\n",
      "filtered = []\n",
      "for combo in x:\n",
      "    if combo[0] not in sums:\n",
      "        sums.add(combo[0])\n",
      "        filtered.append(combo)\n",
      "filtered.sort()\n",
      "filtered"
     ],
     "language": "python",
     "metadata": {},
     "outputs": [
      {
       "metadata": {},
       "output_type": "pyout",
       "prompt_number": 28,
       "text": [
        "[(3.7, 3.67, (1.42, 2.25)),\n",
        " (3.8, 3.78, (1.53, 2.25)),\n",
        " (3.9, 3.89, (1.64, 2.25))]"
       ]
      }
     ],
     "prompt_number": 28
    },
    {
     "cell_type": "markdown",
     "metadata": {},
     "source": [
      "##Power flow equations\n",
      "\n",
      "The main power flow equation, in polar coordinates:\n",
      "\n",
      "$$ P_k = g(V_k^2-V_k V_m \\cos \\theta_{km}) - b V_k V_m \\sin \\theta_{km} $$\n",
      "\n",
      "\n",
      "If $(V_k,V_m,P_m)$ are known we can solve for $(P_k,\\theta_{km})$:\n",
      "\n",
      "$$P_k = \\frac{\\left(-b^2+g^2\\right) P_m+g^3 \\left(V_k^2-V_m^2\\right)+b^2 g \\left(V_k^2+V_m^2\\right)-2 g \\sqrt{b^2 \\left(-P_m^2+\\left(2 g P_m+\\left(b^2+g^2\\right) V_k^2\\right) V_m^2-g^2 V_m^4\\right)}}{b^2+g^2}$$\n",
      "\n",
      "$$\\theta = -\\cos^{-1}\\left[\\frac{-g P_m+g^2 V_m^2+\\sqrt{b^2 \\left(-P_m^2+\\left(2 g P_m+\\left(b^2+g^2\\right) V_k^2\\right) V_m^2-g^2 V_m^4\\right)}}{\\left(b^2+g^2\\right) V_k V_m}\\right]$$\n",
      "\n",
      "(there are multiple solutions for this, but this is the one that seems to actually work)"
     ]
    }
   ],
   "metadata": {}
  }
 ]
}