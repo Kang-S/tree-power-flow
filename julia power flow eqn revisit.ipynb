{
 "metadata": {
  "language": "Julia",
  "name": ""
 },
 "nbformat": 3,
 "nbformat_minor": 0,
 "worksheets": [
  {
   "cells": [
    {
     "cell_type": "code",
     "collapsed": false,
     "input": [
      "run(`date`)"
     ],
     "language": "python",
     "metadata": {},
     "outputs": [
      {
       "output_type": "stream",
       "stream": "stdout",
       "text": [
        "Sat Feb  1 19:25:41 EST 2014\n"
       ]
      }
     ],
     "prompt_number": 1
    },
    {
     "cell_type": "code",
     "collapsed": false,
     "input": [
      "#function f(;g=1,b=-10,vk=1,vm=1,pm=-1)\n",
      "function f(g,b,vk,vm,pm)\n",
      "    temp = b^2*(-pm^2+(2*g*pm+(b^2+g^2)*vk^2)*vm^2-g^2*vm^4)\n",
      "    if temp < 0\n",
      "        return NaN\n",
      "    end\n",
      "    x1 = (-g*pm+g^2*vm^2+temp^.5)/((b^2+g^2)*vk*vm)\n",
      "    x2 = (-g*pm+g^2*vm^2-temp^.5)/((b^2+g^2)*vk*vm)\n",
      "    x1, x2\n",
      "end;"
     ],
     "language": "python",
     "metadata": {},
     "outputs": [],
     "prompt_number": 1
    },
    {
     "cell_type": "code",
     "collapsed": false,
     "input": [
      "function rand_solution()\n",
      "    r(a,b) = (b-a)*rand() + a\n",
      "    g = r(0,20)\n",
      "    b = r(-50,50)\n",
      "    vk = r(.5,1.5)\n",
      "    vm = r(.5,1.5)\n",
      "    pm = r(-10,0)\n",
      "  return g,b,vk,vm,pm\n",
      "end;"
     ],
     "language": "python",
     "metadata": {},
     "outputs": [],
     "prompt_number": 1
    },
    {
     "cell_type": "code",
     "collapsed": false,
     "input": [
      "tic()\n",
      "n = 150000\n",
      "plus_list = Float64[]\n",
      "minus_list = Float64[]\n",
      "for i = 1:n\n",
      "    solution = f(rand_solution()...)\n",
      "    if !isnan(solution[1])\n",
      "        push!(plus_list,solution[1])\n",
      "        push!(minus_list,solution[2])\n",
      "    end\n",
      "end\n",
      "println(length(plus_list)) # the rest were infeasible\n",
      "println(\"Maximum + solution: \", maximum(plus_list))\n",
      "println(\"Minimum - solution: \", minimum(minus_list))\n",
      "toc();"
     ],
     "language": "python",
     "metadata": {},
     "outputs": [
      {
       "output_type": "stream",
       "stream": "stdout",
       "text": [
        "112339\n"
       ]
      },
      {
       "output_type": "stream",
       "stream": "stdout",
       "text": [
        "Maximum + solution: 0.999999999999786\n",
        "Minimum - solution: -0.9999999618119813\n",
        "elapsed time: 0.708785959 seconds\n"
       ]
      }
     ],
     "prompt_number": 1
    },
    {
     "cell_type": "markdown",
     "metadata": {},
     "source": [
      "#Investigation: sign of $\\theta$\n",
      "\n",
      "I've observed that $\\theta_{km}$ is pretty much always negative when power is flowing from $k$ to $m$. Does that have to be true?"
     ]
    },
    {
     "cell_type": "code",
     "collapsed": false,
     "input": [
      "function pk(;g=1,b=-10,vk=1,vm=1,pm=-1)\n",
      "  # solve for pk given pm,vk,vm; ignores theta\n",
      "  temp = b^2*(-pm^2+(2*g*pm+(b^2+g^2)*vk^2)*vm^2-g^2*vm^4)\n",
      "  temp < 0 ? NaN : 1/(b^2+g^2) * ((-b^2+g^2)*pm+g^3*(vk^2-vm^2)+b^2*g*(vk^2+vm^2)-2*g*temp^.5)\n",
      "end\n",
      "function pk_\u03b8(;g=1,b=-10,vk=1,vm=1,pm=-1)\n",
      "  # solve for pk, \u03b8km given pm,vk,vm\n",
      "  temp = b^2*(-pm^2+(2*g*pm+(b^2+g^2)*vk^2)*vm^2-g^2*vm^4)\n",
      "  if temp < 0 \n",
      "    return NaN, NaN\n",
      "  end\n",
      "  pk = 1/(b^2+g^2) * ((-b^2+g^2)*pm+g^3*(vk^2-vm^2)+b^2*g*(vk^2+vm^2)-2*g*temp^.5)\n",
      "  arg = (-g*pm+g^2*vm^2+temp^.5)/((b^2+g^2)*vk*vm)\n",
      "  num, denom = (-g*pm+g^2*vm^2+temp^.5), ((b^2+g^2)*vk*vm)\n",
      "  if arg > 1 arg = 1 end\n",
      "  if arg < -1 arg = -1 end\n",
      "    \u03b8 = abs(acos(arg))\n",
      "  pk, \u03b8\n",
      "end\n",
      "function check(;g=1,b=-10,vk=1,vm=1,pk=.995,pm=-1,\u03b8=-.1)\n",
      "    # sanity check after a solution has been found\n",
      "    pk_hat = g*(vk^2-vk*vm*cos(\u03b8)) + b*vk*vm*sin(\u03b8)\n",
      "    pm_hat = g*(vm^2-vk*vm*cos(\u03b8)) - b*vk*vm*sin(\u03b8)\n",
      "    err1 = abs((pk_hat-pk)/pk_hat)\n",
      "    err2 = abs((pm_hat-pm)/pm_hat)\n",
      "    err1, err2, pk_hat, pm_hat\n",
      "end;\n",
      "function check2(;g=1,b=-10,vk=1,vm=1,pk=.995,pm=-1,\u03b8=-.1)\n",
      "    # sanity check after a solution has been found\n",
      "    pk_hat = g*(vk^2-vk*vm*cos(\u03b8)) + b*vk*vm*sin(\u03b8)\n",
      "    pm_hat = g*(vm^2-vk*vm*cos(\u03b8)) - b*vk*vm*sin(\u03b8)\n",
      "    err1 = abs((pk_hat-pk)/pk_hat)\n",
      "    err2 = abs((pm_hat-pm)/pm_hat)\n",
      "    maximum([err1, err2])\n",
      "end;"
     ],
     "language": "python",
     "metadata": {},
     "outputs": [],
     "prompt_number": 196
    },
    {
     "cell_type": "markdown",
     "metadata": {},
     "source": [
      "##Let's spell out the cases where the sign of theta is unclear\n",
      "\n",
      "### Case 0: usual situation\n",
      "\n",
      "The rule that typically works is that $\\theta$ has the same sign as  $-P_m^2+(2g P_m + g^2 V_k^2)V_m^2 - g^2 V_m^4$"
     ]
    },
    {
     "cell_type": "code",
     "collapsed": false,
     "input": [
      "g = 1\n",
      "b = -10\n",
      "d = 1\n",
      "pm = -d\n",
      "vk = 1.\n",
      "vm = 1.;"
     ],
     "language": "python",
     "metadata": {},
     "outputs": [],
     "prompt_number": 244
    },
    {
     "cell_type": "code",
     "collapsed": false,
     "input": [
      "function f(vk)\n",
      "    p, t = pk_\u03b8(g=g,b=b,vk=vk,vm=vm,pm=pm)\n",
      "    e1 = check2(pk=p,pm=pm,vk=vk,vm=vm,g=g,b=b,\u03b8=t)\n",
      "    e2 = check2(pk=p,pm=pm,vk=vk,vm=vm,g=g,b=b,\u03b8=-t)\n",
      "    e1, e2\n",
      "end;"
     ],
     "language": "python",
     "metadata": {},
     "outputs": [],
     "prompt_number": 244
    },
    {
     "cell_type": "code",
     "collapsed": false,
     "input": [
      "@printf \"%6s %6s %6s %6s\\n\" \"vk\" \"temp\" \"e(+t)\" \"e(-t)\"\n",
      "for vk = .8:1:10.2\n",
      "    temp = -pm^2+(2*g*pm+g^2*vk^2)*vm^2-g^2*vm^4\n",
      "    (e1, e2) = f(vk)\n",
      "    @printf \"%6.4f %6.4f %6.4f %6.4f\\n\" vk temp e1 e2\n",
      "end"
     ],
     "language": "python",
     "metadata": {},
     "outputs": [
      {
       "output_type": "stream",
       "stream": "stdout",
       "text": [
        "  "
       ]
      },
      {
       "output_type": "stream",
       "stream": "stdout",
       "text": [
        "  vk   temp  e(+t)  e(-t)\n",
        "0"
       ]
      },
      {
       "output_type": "stream",
       "stream": "stdout",
       "text": [
        ".8000 -3.3600 1.7782 0.0000\n",
        "1.8000 -0.7600 0.6673 0.0000\n",
        "2.8000 3.8400 0.0000 0.6150\n",
        "3.8000 10.4400 0.0000 0.7822\n",
        "4.8000 19.0400 0.0000 0.8481\n",
        "5.8000 29.6400 0.0000 0.8834\n",
        "6.8000 42.2400 0.0000 0.9054\n",
        "7.8000 56.8400 0.0000 0.9204\n",
        "8.8000 73.4400 0.0000 0.9313\n",
        "9.8000 92.0400 0.0000 0.9395\n"
       ]
      }
     ],
     "prompt_number": 245
    },
    {
     "cell_type": "markdown",
     "metadata": {},
     "source": [
      "### Case 1: positive demand: $v_k \\gg v_m$"
     ]
    },
    {
     "cell_type": "code",
     "collapsed": false,
     "input": [
      "# vk = .92:.001:.944\n",
      "g = 140\n",
      "b = -300\n",
      "d = 15\n",
      "pm = -d\n",
      "vk = 1.2\n",
      "vm = .8;"
     ],
     "language": "python",
     "metadata": {},
     "outputs": [],
     "prompt_number": 182
    },
    {
     "cell_type": "code",
     "collapsed": false,
     "input": [
      "# vk = 1.09:.001:1.11\n",
      "g = 1\n",
      "b = -10\n",
      "d = .1\n",
      "pm = -d\n",
      "vk = 1.101\n",
      "vm = 1.;"
     ],
     "language": "python",
     "metadata": {},
     "outputs": [],
     "prompt_number": 208
    },
    {
     "cell_type": "code",
     "collapsed": false,
     "input": [
      "p, t = pk_\u03b8(g=g,b=b,vk=vk,vm=vm,pm=pm)\n",
      "println(p, ' ', t)\n",
      "println(check(pk=p,pm=pm,vk=vk,vm=vm,g=g,b=b,\u03b8=t)[1:2])\n",
      "println(check(pk=p,pm=pm,vk=vk,vm=vm,g=g,b=b,\u03b8=-t)[1:2])"
     ],
     "language": "python",
     "metadata": {},
     "outputs": [
      {
       "output_type": "stream",
       "stream": "stdout",
       "text": [
        "0.11020100908256954"
       ]
      },
      {
       "output_type": "stream",
       "stream": "stdout",
       "text": [
        " 9.0826110199955e-5\n",
        "(1.1988422493645633e-10,1.3211542972482347e-10)\n",
        "(0.017825072240054616,0.01960775596540634)\n"
       ]
      }
     ],
     "prompt_number": 209
    },
    {
     "cell_type": "code",
     "collapsed": false,
     "input": [
      "function f(vk)\n",
      "    p, t = pk_\u03b8(g=g,b=b,vk=vk,vm=vm,pm=pm)\n",
      "    e1 = check2(pk=p,pm=pm,vk=vk,vm=vm,g=g,b=b,\u03b8=t)\n",
      "    e2 = check2(pk=p,pm=pm,vk=vk,vm=vm,g=g,b=b,\u03b8=-t)\n",
      "    e1, e2\n",
      "end;"
     ],
     "language": "python",
     "metadata": {},
     "outputs": [],
     "prompt_number": 207
    },
    {
     "cell_type": "code",
     "collapsed": false,
     "input": [
      "@printf \"%6s %6s %6s %6s\\n\" \"vk\" \"temp\" \"e(+t)\" \"e(-t)\"\n",
      "#for vk = .924:.001:.944\n",
      "for vk = 1.095:.001:1.105\n",
      "    temp = -pm^2+(2*g*pm+g^2*vk^2)*vm^2-g^2*vm^4\n",
      "    (e1, e2) = f(vk)\n",
      "    @printf \"%6.4f %6.4f %6.4f %6.4f\\n\" vk temp e1 e2\n",
      "end"
     ],
     "language": "python",
     "metadata": {},
     "outputs": [
      {
       "output_type": "stream",
       "stream": "stdout",
       "text": [
        "  "
       ]
      },
      {
       "output_type": "stream",
       "stream": "stdout",
       "text": [
        "  vk   temp  e(+t)  e(-t)\n",
        "1"
       ]
      },
      {
       "output_type": "stream",
       "stream": "stdout",
       "text": [
        ".0950 -0.0110 0.1111 0.0000\n",
        "1.0960 -0.0088 0.0870 0.0000\n",
        "1.0970 -0.0066 0.0638 0.0000\n",
        "1.0980 -0.0044 0.0417 0.0000\n",
        "1.0990 -0.0022 0.0204 0.0000\n",
        "1.1000 0.0000 0.0000 0.0000\n",
        "1.1010 0.0022 0.0000 0.0196\n",
        "1.1020 0.0044 0.0000 0.0385\n",
        "1.1030 0.0066 0.0000 0.0566\n",
        "1.1040 0.0088 0.0000 0.0741\n",
        "1.1050 0.0110 0.0000 0.0909\n"
       ]
      }
     ],
     "prompt_number": 210
    },
    {
     "cell_type": "markdown",
     "metadata": {},
     "source": [
      "### Case 2: negative demand: ???"
     ]
    },
    {
     "cell_type": "code",
     "collapsed": false,
     "input": [
      "# usual rule applies; turning point at vk = 1.0958\n",
      "g = 1000\n",
      "b = -10500\n",
      "d = -125.\n",
      "pm = -d\n",
      "vk = .8\n",
      "vm = 1.2;"
     ],
     "language": "python",
     "metadata": {},
     "outputs": [],
     "prompt_number": 307
    },
    {
     "cell_type": "code",
     "collapsed": false,
     "input": [
      "# always negative\n",
      "g = 327\n",
      "b = -6393\n",
      "d = -830\n",
      "pm = -d\n",
      "vk = 1.16\n",
      "vm = 1.0;"
     ],
     "language": "python",
     "metadata": {},
     "outputs": [],
     "prompt_number": 320
    },
    {
     "cell_type": "code",
     "collapsed": false,
     "input": [
      "g = 1.1\n",
      "b = -10\n",
      "d = -.2 \n",
      "pm = -d\n",
      "vm = 1.0;"
     ],
     "language": "python",
     "metadata": {},
     "outputs": [],
     "prompt_number": 335
    },
    {
     "cell_type": "code",
     "collapsed": false,
     "input": [
      "g = 1.1\n",
      "b = -10\n",
      "d = -2 \n",
      "pm = -d\n",
      "vm = 1.0;"
     ],
     "language": "python",
     "metadata": {},
     "outputs": [],
     "prompt_number": 339
    },
    {
     "cell_type": "code",
     "collapsed": false,
     "input": [
      "function f(vk)\n",
      "    p, t = pk_\u03b8(g=g,b=b,vk=vk,vm=vm,pm=pm)\n",
      "    e1 = check2(pk=p,pm=pm,vk=vk,vm=vm,g=g,b=b,\u03b8=t)\n",
      "    e2 = check2(pk=p,pm=pm,vk=vk,vm=vm,g=g,b=b,\u03b8=-t)\n",
      "    e1, e2\n",
      "end;"
     ],
     "language": "python",
     "metadata": {},
     "outputs": [],
     "prompt_number": 339
    },
    {
     "cell_type": "code",
     "collapsed": false,
     "input": [
      "#@printf \"%6s %8s %8s %8s %8s %6s %6s\\n\" \"vk\" \"temp\" \"root2\" \"root4\" \"vm\" \"e(+t)\" \"e(-t)\"\n",
      "#for vk = 1.0958:.00001:1.0959\n",
      "for vk = .5:.1:2\n",
      "    #temp = -pm^2+(2*g*pm+g^2*vk^2)*vm^2-g^2*vm^4\n",
      "    p = Poly([g^2, 0, -(2*g*pm+(g^2)*vk^2), 0, pm^2])\n",
      "    temp = vk+2vm - sqrt(4pm/g+vk^2)\n",
      "    rmin = minimum([abs(x) for x in roots(p)])-vm\n",
      "    rmax = maximum([abs(x) for x in roots(p)])-vm\n",
      "    temp2 = sign(temp)*sign(rmin)\n",
      "    temp3 = sign(temp)*sign(rmax)\n",
      "    (e1, e2) = f(vk)\n",
      "    @printf \"%6.4f %8.2f %8.2f %6.4f %6.4f\\n\" vk temp2 temp3 e1 e2\n",
      "end"
     ],
     "language": "python",
     "metadata": {},
     "outputs": [
      {
       "output_type": "stream",
       "stream": "stdout",
       "text": [
        "0."
       ]
      },
      {
       "output_type": "stream",
       "stream": "stdout",
       "text": [
        "5000    -1.00    -1.00 0.0000 3.3413\n",
        "0.6000    -1.00    -1.00 0.0000 2.8589\n",
        "0.7000    -1.00    -1.00 0.0000 2.5424\n",
        "0.8000    -1.00    -1.00 0.0000 2.3184\n",
        "0.9000    -1.00     1.00 0.0000 2.1515\n",
        "1.0000    -1.00     1.00 0.0000 2.0222\n",
        "1.1000    -1.00     1.00 0.0000 1.9191\n",
        "1.2000    -1.00     1.00 0.0000 1.8350\n",
        "1.3000    -1.00     1.00 0.0000 1.7649\n",
        "1.4000    -1.00     1.00 0.0000 1.7058\n",
        "1.5000    -1.00     1.00 0.0000 1.6551\n",
        "1.6000    -1.00     1.00 0.0000 1.6113\n",
        "1.7000    -1.00     1.00 0.0000 1.5729\n",
        "1.8000    -1.00     1.00 0.0000 1.5391\n",
        "1.9000    -1.00     1.00 0.0000 1.5091\n",
        "2.0000    -1.00     1.00 0.0000 1.4822\n"
       ]
      }
     ],
     "prompt_number": 340
    },
    {
     "cell_type": "markdown",
     "metadata": {},
     "source": [
      "$$ P_k = g(V_k^2-V_k V_m \\cos \\theta_{km}) - b V_k V_m \\sin \\theta_{km} $$\n",
      "$$ P_m = g(V_m^2-V_k V_m \\cos \\theta_{km}) + b V_k V_m \\sin \\theta_{km} $$\n",
      "\n",
      "$$P_k = \\frac{\\left(-b^2+g^2\\right) P_m+g^3 \\left(V_k^2-V_m^2\\right)+b^2 g \\left(V_k^2+V_m^2\\right)-2 g \\sqrt{D}}{b^2+g^2}$$\n",
      "\n",
      "$$\\theta_{km} = \\pm \\cos^{-1}\\left[\\frac{-g P_m+g^2 V_m^2 + \\sqrt{D}}{\\left(b^2+g^2\\right) V_k V_m}\\right]$$\n",
      "\n",
      "$$D = b^2 \\left(-P_m^2+\\left(2 g P_m+\\left(b^2+g^2\\right) V_k^2\\right) V_m^2-g^2 V_m^4\\right)$$"
     ]
    },
    {
     "cell_type": "markdown",
     "metadata": {},
     "source": [
      "#Polynomial roots"
     ]
    },
    {
     "cell_type": "code",
     "collapsed": false,
     "input": [
      "using Polynomial"
     ],
     "language": "python",
     "metadata": {},
     "outputs": [],
     "prompt_number": 294
    },
    {
     "cell_type": "raw",
     "metadata": {},
     "source": [
      "-pm^2+(2*g*pm+(b^2+g^2)*vk^2)*vm^2-g^2*vm^4"
     ]
    },
    {
     "cell_type": "code",
     "collapsed": false,
     "input": [
      "p = Poly([-g^2, 0, (2*g*pm+(b^2+g^2)*vk^2), 0, -pm^2])"
     ],
     "language": "python",
     "metadata": {},
     "outputs": [
      {
       "metadata": {},
       "output_type": "pyout",
       "prompt_number": 302,
       "text": [
        "Poly(-1.2100000000000002x^4 + 405.28x^2 + -0.04000000000000001)"
       ]
      }
     ],
     "prompt_number": 302
    },
    {
     "cell_type": "code",
     "collapsed": false,
     "input": [
      "roots(p)"
     ],
     "language": "python",
     "metadata": {},
     "outputs": [
      {
       "metadata": {},
       "output_type": "pyout",
       "prompt_number": 303,
       "text": [
        "4-element Array{Float64,1}:\n",
        "  -0.00993465\n",
        "   0.00993465\n",
        " -18.3014    \n",
        "  18.3014    "
       ]
      }
     ],
     "prompt_number": 303
    },
    {
     "cell_type": "markdown",
     "metadata": {},
     "source": [
      "#Investigation: four solutions"
     ]
    },
    {
     "cell_type": "code",
     "collapsed": false,
     "input": [
      "function pk(;g=1,b=-10,vk=1,vm=1,pm=-1)\n",
      "    # solve for pk given pm,vk,vm; ignores theta\n",
      "    temp = b^2*(-pm^2+(2*g*pm+(b^2+g^2)*vk^2)*vm^2-g^2*vm^4)\n",
      "    s1 = 1/(b^2+g^2) * ((-b^2+g^2)*pm+g^3*(vk^2-vm^2)+b^2*g*(vk^2+vm^2)-2*g*temp^.5)\n",
      "    s2 = 1/(b^2+g^2) * ((-b^2+g^2)*pm+g^3*(vk^2-vm^2)+b^2*g*(vk^2+vm^2)+2*g*temp^.5)\n",
      "    s1, s2\n",
      "end;\n",
      "function pk_\u03b8(;g=1,b=-10,vk=1,vm=1,pm=-1)\n",
      "    # solve for pk, \u03b8km given pm,vk,vm\n",
      "    disc = b^2*(-pm^2+(2*g*pm+(b^2+g^2)*vk^2)*vm^2-g^2*vm^4)\n",
      "    if disc < 0 \n",
      "        return NaN, NaN\n",
      "    end\n",
      "    pk = 1/(b^2+g^2) * ((-b^2+g^2)*pm+g^3*(vk^2-vm^2)+b^2*g*(vk^2+vm^2)-2*g*disc^.5)\n",
      "    arg = (-g*pm+g^2*vm^2+disc^.5)/((b^2+g^2)*vk*vm)\n",
      "    println(arg)\n",
      "    if arg > 1 arg = 1 end # if it's WAY too big, should throw an exception\n",
      "    if arg < -1 arg = -1 end\n",
      "    temp = -pm^2+(2*g*pm+g^2*vk^2)*vm^2-g^2*vm^4\n",
      "    \u03b8 = sign(temp) == sign(pm) ? -acos(arg) : acos(arg)\n",
      "    pk, \u03b8\n",
      "end;"
     ],
     "language": "python",
     "metadata": {},
     "outputs": [],
     "prompt_number": 175
    },
    {
     "cell_type": "code",
     "collapsed": false,
     "input": [
      "g, b, vk, vm, pkm, d, t = 327.868852, -6393.442623, 1.160000, 1.000000, -816.235616, -830.000000, -0.118906\n",
      "pm = -d;"
     ],
     "language": "python",
     "metadata": {},
     "outputs": [],
     "prompt_number": 175
    },
    {
     "cell_type": "code",
     "collapsed": false,
     "input": [
      "_, t = pk_\u03b8(g=g,b=b,vk=vk,vm=vm,pm=pm)"
     ],
     "language": "python",
     "metadata": {},
     "outputs": [
      {
       "output_type": "stream",
       "stream": "stdout",
       "text": [
        "0.9929390643234426"
       ]
      },
      {
       "output_type": "stream",
       "stream": "stdout",
       "text": [
        "\n"
       ]
      },
      {
       "metadata": {},
       "output_type": "pyout",
       "prompt_number": 176,
       "text": [
        "(-816.2356161603803,0.11890551565811773)"
       ]
      }
     ],
     "prompt_number": 176
    },
    {
     "cell_type": "code",
     "collapsed": false,
     "input": [
      "pk(g=g,b=b,vk=vk,vm=vm,pm=pm), pm"
     ],
     "language": "python",
     "metadata": {},
     "outputs": [
      {
       "metadata": {},
       "output_type": "pyout",
       "prompt_number": 177,
       "text": [
        "((-816.2356161603803,699.6022358729053),830.0)"
       ]
      }
     ],
     "prompt_number": 177
    },
    {
     "cell_type": "code",
     "collapsed": false,
     "input": [
      "println(g*(vk^2-vk*vm*cos(t)) + b*vk*vm*sin(t))\n",
      "println(g*(vm^2-vk*vm*cos(t)) - b*vk*vm*sin(t))"
     ],
     "language": "python",
     "metadata": {},
     "outputs": [
      {
       "output_type": "stream",
       "stream": "stdout",
       "text": [
        "-816"
       ]
      },
      {
       "output_type": "stream",
       "stream": "stdout",
       "text": [
        ".2356161603755\n",
        "829.9999999999949\n"
       ]
      }
     ],
     "prompt_number": 178
    },
    {
     "cell_type": "markdown",
     "metadata": {},
     "source": [
      "###fake data"
     ]
    },
    {
     "cell_type": "code",
     "collapsed": false,
     "input": [
      "g = 1.\n",
      "b = -10.\n",
      "vk = 1.1\n",
      "vm = 1.0\n",
      "pm = 1.;"
     ],
     "language": "python",
     "metadata": {},
     "outputs": [],
     "prompt_number": 132
    },
    {
     "cell_type": "code",
     "collapsed": false,
     "input": [
      "pk_hat, t = pk_\u03b8(g=g,b=b,vk=vk,vm=vm,pm=pm)\n",
      "pk_hat, t"
     ],
     "language": "python",
     "metadata": {},
     "outputs": [
      {
       "output_type": "stream",
       "stream": "stdout",
       "text": [
        "0.9950371902099892"
       ]
      },
      {
       "output_type": "stream",
       "stream": "stdout",
       "text": [
        "\n"
       ]
      },
      {
       "metadata": {},
       "output_type": "pyout",
       "prompt_number": 133,
       "text": [
        "(-0.9790818184619764,0.09966865249116186)"
       ]
      }
     ],
     "prompt_number": 133
    },
    {
     "cell_type": "code",
     "collapsed": false,
     "input": [
      "println(g*(vk^2-vk*vm*cos(t)) + b*vk*vm*sin(t))\n",
      "println(g*(vm^2-vk*vm*cos(t)) - b*vk*vm*sin(t))"
     ],
     "language": "python",
     "metadata": {},
     "outputs": [
      {
       "output_type": "stream",
       "stream": "stdout",
       "text": [
        "-0."
       ]
      },
      {
       "output_type": "stream",
       "stream": "stdout",
       "text": [
        "9790818184619743\n",
        "0.9999999999999982\n"
       ]
      }
     ],
     "prompt_number": 135
    }
   ],
   "metadata": {}
  }
 ]
}