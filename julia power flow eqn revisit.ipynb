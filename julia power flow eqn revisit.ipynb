{
 "metadata": {
  "language": "Julia",
  "name": ""
 },
 "nbformat": 3,
 "nbformat_minor": 0,
 "worksheets": [
  {
   "cells": [
    {
     "cell_type": "code",
     "collapsed": false,
     "input": [
      "run(`date`)"
     ],
     "language": "python",
     "metadata": {},
     "outputs": [
      {
       "output_type": "stream",
       "stream": "stdout",
       "text": [
        "Mon Jan 27 08:45:51 EST 2014\n"
       ]
      }
     ],
     "prompt_number": 1
    },
    {
     "cell_type": "code",
     "collapsed": false,
     "input": [
      "#function f(;g=1,b=-10,vk=1,vm=1,pm=-1)\n",
      "function f(g::Float64,b::Float64,vk::Float64,vm::Float64,pm::Float64)\n",
      "    temp = b^2*(-pm^2+(2*g*pm+(b^2+g^2)*vk^2)*vm^2-g^2*vm^4)\n",
      "    if temp < 0\n",
      "        return None\n",
      "    end\n",
      "    x1 = (-g*pm+g^2*vm^2+temp^.5)/((b^2+g^2)*vk*vm)\n",
      "    x2 = (-g*pm+g^2*vm^2-temp^.5)/((b^2+g^2)*vk*vm)\n",
      "    x1, x2\n",
      "end;"
     ],
     "language": "python",
     "metadata": {},
     "outputs": [],
     "prompt_number": 69
    },
    {
     "cell_type": "code",
     "collapsed": false,
     "input": [
      "function rand_solution()\n",
      "    r(a,b) = (b-a)*rand() + a\n",
      "    g = r(0,20)\n",
      "    b = r(-50,50)\n",
      "    vk = r(.5,1.5)\n",
      "    vm = r(.5,1.5)\n",
      "    pm = r(-10,0)\n",
      "  return g,b,vk,vm,pm\n",
      "end;"
     ],
     "language": "python",
     "metadata": {},
     "outputs": [],
     "prompt_number": 69
    },
    {
     "cell_type": "code",
     "collapsed": false,
     "input": [
      "tic()\n",
      "n = 150000\n",
      "plus_list = Float64[]\n",
      "minus_list = Float64[]\n",
      "for i = 1:n\n",
      "    solution = f(rand_solution()...)\n",
      "    if solution != None\n",
      "        push!(plus_list,solution[1])\n",
      "        push!(minus_list,solution[2])\n",
      "    end\n",
      "end\n",
      "println(length(plus_list)) # the rest were infeasible\n",
      "println(\"Maximum + solution: \", maximum(plus_list))\n",
      "println(\"Minimum - solution: \", minimum(minus_list))\n",
      "toc();"
     ],
     "language": "python",
     "metadata": {},
     "outputs": [
      {
       "output_type": "stream",
       "stream": "stdout",
       "text": [
        "112566\n"
       ]
      },
      {
       "output_type": "stream",
       "stream": "stdout",
       "text": [
        "Maximum + solution: 0.9999999999141662\n",
        "Minimum - solution: -0.9999946853049687\n",
        "elapsed time: 0.575776258 seconds\n"
       ]
      }
     ],
     "prompt_number": 69
    }
   ],
   "metadata": {}
  }
 ]
}