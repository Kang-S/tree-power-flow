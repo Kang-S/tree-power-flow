{
 "metadata": {
  "language": "Julia",
  "name": ""
 },
 "nbformat": 3,
 "nbformat_minor": 0,
 "worksheets": [
  {
   "cells": [
    {
     "cell_type": "code",
     "collapsed": false,
     "input": [
      "run(`date`)"
     ],
     "language": "python",
     "metadata": {},
     "outputs": [
      {
       "output_type": "stream",
       "stream": "stdout",
       "text": [
        "Sat Feb  1 19:25:41 EST 2014\n"
       ]
      }
     ],
     "prompt_number": 1
    },
    {
     "cell_type": "code",
     "collapsed": false,
     "input": [
      "#function f(;g=1,b=-10,vk=1,vm=1,pm=-1)\n",
      "function f(g,b,vk,vm,pm)\n",
      "    temp = b^2*(-pm^2+(2*g*pm+(b^2+g^2)*vk^2)*vm^2-g^2*vm^4)\n",
      "    if temp < 0\n",
      "        return NaN\n",
      "    end\n",
      "    x1 = (-g*pm+g^2*vm^2+temp^.5)/((b^2+g^2)*vk*vm)\n",
      "    x2 = (-g*pm+g^2*vm^2-temp^.5)/((b^2+g^2)*vk*vm)\n",
      "    x1, x2\n",
      "end;"
     ],
     "language": "python",
     "metadata": {},
     "outputs": [],
     "prompt_number": 1
    },
    {
     "cell_type": "code",
     "collapsed": false,
     "input": [
      "function rand_solution()\n",
      "    r(a,b) = (b-a)*rand() + a\n",
      "    g = r(0,20)\n",
      "    b = r(-50,50)\n",
      "    vk = r(.5,1.5)\n",
      "    vm = r(.5,1.5)\n",
      "    pm = r(-10,0)\n",
      "  return g,b,vk,vm,pm\n",
      "end;"
     ],
     "language": "python",
     "metadata": {},
     "outputs": [],
     "prompt_number": 1
    },
    {
     "cell_type": "code",
     "collapsed": false,
     "input": [
      "tic()\n",
      "n = 150000\n",
      "plus_list = Float64[]\n",
      "minus_list = Float64[]\n",
      "for i = 1:n\n",
      "    solution = f(rand_solution()...)\n",
      "    if !isnan(solution[1])\n",
      "        push!(plus_list,solution[1])\n",
      "        push!(minus_list,solution[2])\n",
      "    end\n",
      "end\n",
      "println(length(plus_list)) # the rest were infeasible\n",
      "println(\"Maximum + solution: \", maximum(plus_list))\n",
      "println(\"Minimum - solution: \", minimum(minus_list))\n",
      "toc();"
     ],
     "language": "python",
     "metadata": {},
     "outputs": [
      {
       "output_type": "stream",
       "stream": "stdout",
       "text": [
        "112339\n"
       ]
      },
      {
       "output_type": "stream",
       "stream": "stdout",
       "text": [
        "Maximum + solution: 0.999999999999786\n",
        "Minimum - solution: -0.9999999618119813\n",
        "elapsed time: 0.708785959 seconds\n"
       ]
      }
     ],
     "prompt_number": 1
    },
    {
     "cell_type": "markdown",
     "metadata": {},
     "source": [
      "#Investigation: sign of $\\theta$\n",
      "\n",
      "I've observed that $\\theta_{km}$ is pretty much always negative when power is flowing from $k$ to $m$. Does that have to be true?"
     ]
    },
    {
     "cell_type": "code",
     "collapsed": false,
     "input": [
      "function pk(;g=1,b=-10,vk=1,vm=1,pm=-1)\n",
      "  # solve for pk given pm,vk,vm; ignores theta\n",
      "  temp = b^2*(-pm^2+(2*g*pm+(b^2+g^2)*vk^2)*vm^2-g^2*vm^4)\n",
      "  temp < 0 ? NaN : 1/(b^2+g^2) * ((-b^2+g^2)*pm+g^3*(vk^2-vm^2)+b^2*g*(vk^2+vm^2)-2*g*temp^.5)\n",
      "end\n",
      "function pk_\u03b8(;g=1,b=-10,vk=1,vm=1,pm=-1)\n",
      "  # solve for pk, \u03b8km given pm,vk,vm\n",
      "  temp = b^2*(-pm^2+(2*g*pm+(b^2+g^2)*vk^2)*vm^2-g^2*vm^4)\n",
      "  if temp < 0 \n",
      "    return NaN, NaN\n",
      "  end\n",
      "  pk = 1/(b^2+g^2) * ((-b^2+g^2)*pm+g^3*(vk^2-vm^2)+b^2*g*(vk^2+vm^2)-2*g*temp^.5)\n",
      "  arg = (-g*pm+g^2*vm^2+temp^.5)/((b^2+g^2)*vk*vm)\n",
      "  num, denom = (-g*pm+g^2*vm^2+temp^.5), ((b^2+g^2)*vk*vm)\n",
      "  temp = temp^.5\n",
      "  temp2 = -g*pm\n",
      "  temp3 = g^2*vm^2\n",
      "  #@printf \"%f %f %f %f %f %f\" arg temp num denom temp2 temp3\n",
      "  if arg > 1 arg = 1 end\n",
      "  if arg < -1 arg = -1 end\n",
      "  \u03b8 = -acos(arg)\n",
      "  pk, \u03b8\n",
      "end\n",
      "function check(;g=1,b=-10,vk=1,vm=1,pk=.995,pm=-1,\u03b8=-.1)\n",
      "    # sanity check after a solution has been found\n",
      "    pk_hat = g*(vk^2-vk*vm*cos(\u03b8)) + b*vk*vm*sin(\u03b8)\n",
      "    pm_hat = g*(vm^2-vk*vm*cos(\u03b8)) - b*vk*vm*sin(\u03b8)\n",
      "    err1 = abs((pk_hat-pk)/pk_hat)\n",
      "    err2 = abs((pm_hat-pm)/pm_hat)\n",
      "    #maximum([err1, err2])\n",
      "    err1, err2, pk_hat, pm_hat\n",
      "end;"
     ],
     "language": "python",
     "metadata": {},
     "outputs": [],
     "prompt_number": 10
    },
    {
     "cell_type": "code",
     "collapsed": false,
     "input": [
      "# vk = .92:.001:.944\n",
      "g = 140\n",
      "b = -300\n",
      "d = 15\n",
      "pm = -d\n",
      "vk = 1.2\n",
      "vm = .8;"
     ],
     "language": "python",
     "metadata": {},
     "outputs": [],
     "prompt_number": 88
    },
    {
     "cell_type": "code",
     "collapsed": false,
     "input": [
      "# vk = 1.09:.001:1.11\n",
      "g = 1\n",
      "b = -10\n",
      "d = .1\n",
      "pm = -d\n",
      "vk = 2\n",
      "vm = 1;"
     ],
     "language": "python",
     "metadata": {},
     "outputs": [],
     "prompt_number": 67
    },
    {
     "cell_type": "code",
     "collapsed": false,
     "input": [
      "p, t = pk_\u03b8(g=g,b=b,vk=vk,vm=vm,pm=pm)\n",
      "println(p, ' ', t)\n",
      "println(check(pk=p,pm=pm,vk=vk,vm=vm,g=g,b=b,\u03b8=t)[1])\n",
      "println(check(pk=p,pm=pm,vk=vk,vm=vm,g=g,b=b,\u03b8=-t)[1])"
     ],
     "language": "python",
     "metadata": {},
     "outputs": [
      {
       "output_type": "stream",
       "stream": "stdout",
       "text": [
        "38."
       ]
      },
      {
       "output_type": "stream",
       "stream": "stdout",
       "text": [
        "776767369121465 -0.10125493282480706\n",
        "0.6002395116585402\n",
        "7.879289510351025e-15\n"
       ]
      }
     ],
     "prompt_number": 89
    },
    {
     "cell_type": "code",
     "collapsed": false,
     "input": [
      "function f1(vk)\n",
      "  p, t = pk_\u03b8(g=g,b=b,vk=vk,vm=vm,pm=pm)\n",
      "  check(pk=p,pm=pm,vk=vk,vm=vm,g=g,b=b,\u03b8=t)[1]\n",
      "end;\n",
      "function f2(vk)\n",
      "  p, t = pk_\u03b8(g=g,b=b,vk=vk,vm=vm,pm=pm)\n",
      "  check(pk=p,pm=pm,vk=vk,vm=vm,g=g,b=b,\u03b8=-t)[1]\n",
      "end;"
     ],
     "language": "python",
     "metadata": {},
     "outputs": [],
     "prompt_number": 68
    },
    {
     "cell_type": "markdown",
     "metadata": {},
     "source": [
      "$$ P_k = g(V_k^2-V_k V_m \\cos \\theta_{km}) - b V_k V_m \\sin \\theta_{km} $$\n",
      "$$ P_m = g(V_m^2-V_k V_m \\cos \\theta_{km}) + b V_k V_m \\sin \\theta_{km} $$\n",
      "\n",
      "$$P_k = \\frac{\\left(-b^2+g^2\\right) P_m+g^3 \\left(V_k^2-V_m^2\\right)+b^2 g \\left(V_k^2+V_m^2\\right)-2 g \\sqrt{D}}{b^2+g^2}$$\n",
      "\n",
      "$$\\theta_{km} = \\pm \\cos^{-1}\\left[\\frac{-g P_m+g^2 V_m^2 + \\sqrt{D}}{\\left(b^2+g^2\\right) V_k V_m}\\right]$$\n",
      "\n",
      "$$D = b^2 \\left(-P_m^2+\\left(2 g P_m+\\left(b^2+g^2\\right) V_k^2\\right) V_m^2-g^2 V_m^4\\right)$$"
     ]
    },
    {
     "cell_type": "code",
     "collapsed": false,
     "input": [
      "for vk = .924:.001:.944\n",
      "#for vk = 1.09:.001:1.11\n",
      "    t = pk_\u03b8(g=g,b=b,vk=vk,vm=vm,pm=pm)[2]\n",
      "    pk_hat = g*(vk^2-vk*vm*cos(t)) + b*vk*vm*sin(t)\n",
      "    pk_hat2 = g*(vk^2-vk*vm*cos(-t)) + b*vk*vm*sin(-t)\n",
      "    temp = pm^2-(2*g*pm+g^2*vk^2)*vm^2+g^2*vm^4\n",
      "    @printf \"%6.3f %6.3f %6.3f %6.3f\\n\" vk temp f1(vk) f2(vk)\n",
      "end"
     ],
     "language": "python",
     "metadata": {},
     "outputs": [
      {
       "output_type": "stream",
       "stream": "stdout",
       "text": [
        " 0"
       ]
      },
      {
       "output_type": "stream",
       "stream": "stdout",
       "text": [
        ".924 231.394  0.000  0.149\n",
        " 0.925 208.200  0.000  0.132\n",
        " 0.926 184.981  0.000  0.115\n",
        " 0.927 161.737  0.000  0.099\n",
        " 0.928 138.468  0.000  0.083\n",
        " 0.929 115.174  0.000  0.068\n",
        " 0.930 91.854  0.000  0.053\n",
        " 0.931 68.510  0.000  0.039\n",
        " 0.932 45.141  0.000  0.025\n",
        " 0.933 21.746  0.000  0.012\n",
        " 0.934 -1.674  0.001  0.000\n",
        " 0.935 -25.118  0.013  0.000\n",
        " 0.936 -48.588  0.026  0.000\n",
        " 0.937 -72.083  0.038  0.000\n",
        " 0.938 -95.603  0.049  0.000\n",
        " 0.939 -119.148  0.060  0.000\n",
        " 0.940 -142.718  0.071  0.000\n",
        " 0.941 -166.314  0.082  0.000\n",
        " 0.942 -189.934  0.092  0.000\n",
        " 0.943 -213.579  0.102  0.000\n"
       ]
      }
     ],
     "prompt_number": 91
    }
   ],
   "metadata": {}
  }
 ]
}